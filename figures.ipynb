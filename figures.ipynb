{
 "cells": [
  {
   "cell_type": "markdown",
   "metadata": {},
   "source": [
    "# Get data\n"
   ]
  },
  {
   "cell_type": "code",
   "execution_count": 10,
   "metadata": {},
   "outputs": [],
   "source": [
    "from pathlib import Path\n",
    "import re\n",
    "\n",
    "import pandas as pd\n",
    "\n",
    "\n",
    "logs = Path(\"log\")\n",
    "data = []\n",
    "p_makespan = r\"Total elapsed time:\\s+([0-9]+\\.[0-9]+(e[+-][0-9]+)?)\"\n",
    "p_lvl_header = r\"DIAGNOSTIC,Iteration,metricValue,convergenceValue,ITERATION_TIME_INDEX,SINCE_LAST|  Elapsed time\"\n",
    "p_metric = r\"\"\n",
    "\n",
    "\n",
    "for filename in logs.glob(\"*.out\"):\n",
    "    _, sub_id, exp_id, rep_id = filename.stem.split(\"-\")\n",
    "    file_txt = filename.read_text()\n",
    "    m = re.search(p_makespan, file_txt)\n",
    "    # TODO remove condition when all data is available.\n",
    "    if m:\n",
    "        total_time = m.group(1)\n",
    "\n",
    "        iterations = []\n",
    "        for level in re.split(p_lvl_header, file_txt)[1:-1]:\n",
    "            last_row = re.split(r\"\\n\", level.strip(\"XX\").strip())[-1].split(\",\")\n",
    "            iterations.append(int(last_row[1]))\n",
    "        metric = abs(float(last_row[2]))\n",
    "\n",
    "        assert len(iterations) == 4\n",
    "        l1, l2, l3, l4 = iterations\n",
    "\n",
    "        data.append((sub_id, exp_id, rep_id, total_time, l1, l2, l3, l4, metric))\n",
    "\n",
    "data\n",
    "columns = [\"subj_id\", \"exp_id\", \"rep_id\", \"makespan\", \"l1\", \"l2\", \"l3\", \"l4\", \"metric\"]\n",
    "df = pd.DataFrame(data, columns=columns)\n",
    "df[\"makespan\"] = df[\"makespan\"].astype(float)"
   ]
  },
  {
   "cell_type": "markdown",
   "metadata": {},
   "source": [
    "# Plots"
   ]
  },
  {
   "cell_type": "code",
   "execution_count": 11,
   "metadata": {},
   "outputs": [],
   "source": [
    "import plotly.graph_objects as go\n",
    "import pandas as pd\n",
    "\n",
    "\n",
    "figure_dir = Path(\"figures\")\n",
    "figure_dir.mkdir(exist_ok=True)"
   ]
  },
  {
   "cell_type": "code",
   "execution_count": 12,
   "metadata": {},
   "outputs": [],
   "source": [
    "def get_dropdown(subjects):\n",
    "    # Buttons to toggle between subject and global average\n",
    "    buttons = [\n",
    "        dict(\n",
    "            label=\"Global Average\",\n",
    "            method=\"update\",\n",
    "            args=[\n",
    "                {\"visible\": [subject == \"Global Average\" for subject in subjects]},\n",
    "                {\"title\": \"Global Average\"},\n",
    "            ],\n",
    "        )\n",
    "    ]\n",
    "\n",
    "    # Add buttons for each subject\n",
    "    for subject in df[\"subj_id\"].unique():\n",
    "        buttons.append(\n",
    "            dict(\n",
    "                label=subject,\n",
    "                method=\"update\",\n",
    "                args=[\n",
    "                    {\"visible\": [subject == s for s in subjects]},\n",
    "                    {\"title\": f\"{subject} Average\"},\n",
    "                ],\n",
    "            )\n",
    "        )\n",
    "    \n",
    "    return buttons"
   ]
  },
  {
   "cell_type": "code",
   "execution_count": 13,
   "metadata": {},
   "outputs": [],
   "source": [
    "df[\"iter_time\"] = df[\"makespan\"] / df[[\"l1\", \"l2\", \"l3\", \"l4\"]].sum(axis=1)\n",
    "\n",
    "stat_columns = [\"makespan\", \"l1\", \"l2\", \"l3\", \"l4\", \"metric\", \"iter_time\"]\n",
    "subj_stats = (\n",
    "    df.groupby([\"subj_id\", \"exp_id\"])[stat_columns].agg([\"mean\", \"std\"]).reset_index()\n",
    ")\n",
    "global_stats = df.groupby(\"exp_id\")[stat_columns].agg([\"mean\", \"std\"]).reset_index()\n",
    "\n",
    "global_stats[\"subj_id\"] = \"Global Average\"\n",
    "\n",
    "stats = pd.concat([subj_stats, global_stats], ignore_index=True)\n",
    "stats.columns = stats.columns.map(\"_\".join).str.strip(\"_\")\n",
    "\n",
    "stats[\"highlighted_label\"] = stats[\"exp_id\"].apply(\n",
    "    lambda x: x[:-1] + \"<b style='color:red;'>\" + x[-1] + \"</b>\"\n",
    ")\n",
    "\n",
    "stats = (\n",
    "    (stats.assign(l=stats[\"exp_id\"].str.len()))\n",
    "    .sort_values(by=[\"l\", \"exp_id\"])\n",
    "    .drop(columns=[\"l\"])\n",
    ")\n",
    "\n",
    "subjects = stats[\"subj_id\"].unique()"
   ]
  },
  {
   "cell_type": "markdown",
   "metadata": {},
   "source": [
    "## Makespan\n"
   ]
  },
  {
   "cell_type": "code",
   "execution_count": 14,
   "metadata": {},
   "outputs": [
    {
     "data": {
      "application/vnd.plotly.v1+json": {
       "config": {
        "plotlyServerURL": "https://plot.ly"
       },
       "data": [
        {
         "error_y": {
          "array": [
           8.893945756024783,
           25.98090290108401,
           13.077199666255439,
           5.867112104301761
          ],
          "type": "data"
         },
         "name": "s003",
         "type": "bar",
         "visible": false,
         "x": [
          "0<b style='color:red;'>0</b>",
          "0<b style='color:red;'>1</b>",
          "1<b style='color:red;'>0</b>",
          "1<b style='color:red;'>1</b>"
         ],
         "y": [
          166.666,
          146.856,
          180.602,
          152.116
         ]
        },
        {
         "error_y": {
          "array": [
           7.837679999705141,
           31.638484151249862,
           4.706044555371617,
           4.240172952447414
          ],
          "type": "data"
         },
         "name": "s017",
         "type": "bar",
         "visible": false,
         "x": [
          "0<b style='color:red;'>0</b>",
          "0<b style='color:red;'>1</b>",
          "1<b style='color:red;'>0</b>",
          "1<b style='color:red;'>1</b>"
         ],
         "y": [
          187.42555555555555,
          141.3855,
          189.61375,
          154.6
         ]
        },
        {
         "error_y": {
          "array": [
           5.397432414275023,
           25.50446714335876,
           7.143647449929828,
           5.451490723748053
          ],
          "type": "data"
         },
         "name": "s025",
         "type": "bar",
         "visible": false,
         "x": [
          "0<b style='color:red;'>0</b>",
          "0<b style='color:red;'>1</b>",
          "1<b style='color:red;'>0</b>",
          "1<b style='color:red;'>1</b>"
         ],
         "y": [
          161.791,
          145.2876,
          163.86100000000002,
          149.252
         ]
        },
        {
         "error_y": {
          "array": [
           6.373013328786384,
           24.330256983846265,
           13.091417884332547,
           5.717275963642512
          ],
          "type": "data"
         },
         "name": "s028",
         "type": "bar",
         "visible": false,
         "x": [
          "0<b style='color:red;'>0</b>",
          "0<b style='color:red;'>1</b>",
          "1<b style='color:red;'>0</b>",
          "1<b style='color:red;'>1</b>"
         ],
         "y": [
          170.201,
          120.54069999999999,
          188.35999999999999,
          156.35999999999999
         ]
        },
        {
         "error_y": {
          "array": [
           null,
           4.829539315504121
          ],
          "type": "data"
         },
         "name": "s031",
         "type": "bar",
         "visible": false,
         "x": [
          "0<b style='color:red;'>0</b>",
          "0<b style='color:red;'>1</b>"
         ],
         "y": [
          183.12,
          65.354
         ]
        },
        {
         "error_y": {
          "array": [
           14.672638026839842,
           11.272855745846588,
           10.287426035916095,
           10.668694026085028
          ],
          "type": "data"
         },
         "name": "s036",
         "type": "bar",
         "visible": false,
         "x": [
          "0<b style='color:red;'>0</b>",
          "0<b style='color:red;'>1</b>",
          "1<b style='color:red;'>0</b>",
          "1<b style='color:red;'>1</b>"
         ],
         "y": [
          171.998,
          143.081,
          166.287,
          143.44099999999997
         ]
        },
        {
         "error_y": {
          "array": [
           12.274017935693026,
           28.9081041366998,
           14.740654665097948,
           7.93824323597289
          ],
          "type": "data"
         },
         "name": "Global Average",
         "type": "bar",
         "visible": true,
         "x": [
          "0<b style='color:red;'>0</b>",
          "0<b style='color:red;'>1</b>",
          "1<b style='color:red;'>0</b>",
          "1<b style='color:red;'>1</b>"
         ],
         "y": [
          171.5302,
          136.58107692307692,
          177.25020833333335,
          151.1538
         ]
        }
       ],
       "layout": {
        "template": {
         "data": {
          "bar": [
           {
            "error_x": {
             "color": "#2a3f5f"
            },
            "error_y": {
             "color": "#2a3f5f"
            },
            "marker": {
             "line": {
              "color": "#E5ECF6",
              "width": 0.5
             },
             "pattern": {
              "fillmode": "overlay",
              "size": 10,
              "solidity": 0.2
             }
            },
            "type": "bar"
           }
          ],
          "barpolar": [
           {
            "marker": {
             "line": {
              "color": "#E5ECF6",
              "width": 0.5
             },
             "pattern": {
              "fillmode": "overlay",
              "size": 10,
              "solidity": 0.2
             }
            },
            "type": "barpolar"
           }
          ],
          "carpet": [
           {
            "aaxis": {
             "endlinecolor": "#2a3f5f",
             "gridcolor": "white",
             "linecolor": "white",
             "minorgridcolor": "white",
             "startlinecolor": "#2a3f5f"
            },
            "baxis": {
             "endlinecolor": "#2a3f5f",
             "gridcolor": "white",
             "linecolor": "white",
             "minorgridcolor": "white",
             "startlinecolor": "#2a3f5f"
            },
            "type": "carpet"
           }
          ],
          "choropleth": [
           {
            "colorbar": {
             "outlinewidth": 0,
             "ticks": ""
            },
            "type": "choropleth"
           }
          ],
          "contour": [
           {
            "colorbar": {
             "outlinewidth": 0,
             "ticks": ""
            },
            "colorscale": [
             [
              0,
              "#0d0887"
             ],
             [
              0.1111111111111111,
              "#46039f"
             ],
             [
              0.2222222222222222,
              "#7201a8"
             ],
             [
              0.3333333333333333,
              "#9c179e"
             ],
             [
              0.4444444444444444,
              "#bd3786"
             ],
             [
              0.5555555555555556,
              "#d8576b"
             ],
             [
              0.6666666666666666,
              "#ed7953"
             ],
             [
              0.7777777777777778,
              "#fb9f3a"
             ],
             [
              0.8888888888888888,
              "#fdca26"
             ],
             [
              1,
              "#f0f921"
             ]
            ],
            "type": "contour"
           }
          ],
          "contourcarpet": [
           {
            "colorbar": {
             "outlinewidth": 0,
             "ticks": ""
            },
            "type": "contourcarpet"
           }
          ],
          "heatmap": [
           {
            "colorbar": {
             "outlinewidth": 0,
             "ticks": ""
            },
            "colorscale": [
             [
              0,
              "#0d0887"
             ],
             [
              0.1111111111111111,
              "#46039f"
             ],
             [
              0.2222222222222222,
              "#7201a8"
             ],
             [
              0.3333333333333333,
              "#9c179e"
             ],
             [
              0.4444444444444444,
              "#bd3786"
             ],
             [
              0.5555555555555556,
              "#d8576b"
             ],
             [
              0.6666666666666666,
              "#ed7953"
             ],
             [
              0.7777777777777778,
              "#fb9f3a"
             ],
             [
              0.8888888888888888,
              "#fdca26"
             ],
             [
              1,
              "#f0f921"
             ]
            ],
            "type": "heatmap"
           }
          ],
          "heatmapgl": [
           {
            "colorbar": {
             "outlinewidth": 0,
             "ticks": ""
            },
            "colorscale": [
             [
              0,
              "#0d0887"
             ],
             [
              0.1111111111111111,
              "#46039f"
             ],
             [
              0.2222222222222222,
              "#7201a8"
             ],
             [
              0.3333333333333333,
              "#9c179e"
             ],
             [
              0.4444444444444444,
              "#bd3786"
             ],
             [
              0.5555555555555556,
              "#d8576b"
             ],
             [
              0.6666666666666666,
              "#ed7953"
             ],
             [
              0.7777777777777778,
              "#fb9f3a"
             ],
             [
              0.8888888888888888,
              "#fdca26"
             ],
             [
              1,
              "#f0f921"
             ]
            ],
            "type": "heatmapgl"
           }
          ],
          "histogram": [
           {
            "marker": {
             "pattern": {
              "fillmode": "overlay",
              "size": 10,
              "solidity": 0.2
             }
            },
            "type": "histogram"
           }
          ],
          "histogram2d": [
           {
            "colorbar": {
             "outlinewidth": 0,
             "ticks": ""
            },
            "colorscale": [
             [
              0,
              "#0d0887"
             ],
             [
              0.1111111111111111,
              "#46039f"
             ],
             [
              0.2222222222222222,
              "#7201a8"
             ],
             [
              0.3333333333333333,
              "#9c179e"
             ],
             [
              0.4444444444444444,
              "#bd3786"
             ],
             [
              0.5555555555555556,
              "#d8576b"
             ],
             [
              0.6666666666666666,
              "#ed7953"
             ],
             [
              0.7777777777777778,
              "#fb9f3a"
             ],
             [
              0.8888888888888888,
              "#fdca26"
             ],
             [
              1,
              "#f0f921"
             ]
            ],
            "type": "histogram2d"
           }
          ],
          "histogram2dcontour": [
           {
            "colorbar": {
             "outlinewidth": 0,
             "ticks": ""
            },
            "colorscale": [
             [
              0,
              "#0d0887"
             ],
             [
              0.1111111111111111,
              "#46039f"
             ],
             [
              0.2222222222222222,
              "#7201a8"
             ],
             [
              0.3333333333333333,
              "#9c179e"
             ],
             [
              0.4444444444444444,
              "#bd3786"
             ],
             [
              0.5555555555555556,
              "#d8576b"
             ],
             [
              0.6666666666666666,
              "#ed7953"
             ],
             [
              0.7777777777777778,
              "#fb9f3a"
             ],
             [
              0.8888888888888888,
              "#fdca26"
             ],
             [
              1,
              "#f0f921"
             ]
            ],
            "type": "histogram2dcontour"
           }
          ],
          "mesh3d": [
           {
            "colorbar": {
             "outlinewidth": 0,
             "ticks": ""
            },
            "type": "mesh3d"
           }
          ],
          "parcoords": [
           {
            "line": {
             "colorbar": {
              "outlinewidth": 0,
              "ticks": ""
             }
            },
            "type": "parcoords"
           }
          ],
          "pie": [
           {
            "automargin": true,
            "type": "pie"
           }
          ],
          "scatter": [
           {
            "fillpattern": {
             "fillmode": "overlay",
             "size": 10,
             "solidity": 0.2
            },
            "type": "scatter"
           }
          ],
          "scatter3d": [
           {
            "line": {
             "colorbar": {
              "outlinewidth": 0,
              "ticks": ""
             }
            },
            "marker": {
             "colorbar": {
              "outlinewidth": 0,
              "ticks": ""
             }
            },
            "type": "scatter3d"
           }
          ],
          "scattercarpet": [
           {
            "marker": {
             "colorbar": {
              "outlinewidth": 0,
              "ticks": ""
             }
            },
            "type": "scattercarpet"
           }
          ],
          "scattergeo": [
           {
            "marker": {
             "colorbar": {
              "outlinewidth": 0,
              "ticks": ""
             }
            },
            "type": "scattergeo"
           }
          ],
          "scattergl": [
           {
            "marker": {
             "colorbar": {
              "outlinewidth": 0,
              "ticks": ""
             }
            },
            "type": "scattergl"
           }
          ],
          "scattermapbox": [
           {
            "marker": {
             "colorbar": {
              "outlinewidth": 0,
              "ticks": ""
             }
            },
            "type": "scattermapbox"
           }
          ],
          "scatterpolar": [
           {
            "marker": {
             "colorbar": {
              "outlinewidth": 0,
              "ticks": ""
             }
            },
            "type": "scatterpolar"
           }
          ],
          "scatterpolargl": [
           {
            "marker": {
             "colorbar": {
              "outlinewidth": 0,
              "ticks": ""
             }
            },
            "type": "scatterpolargl"
           }
          ],
          "scatterternary": [
           {
            "marker": {
             "colorbar": {
              "outlinewidth": 0,
              "ticks": ""
             }
            },
            "type": "scatterternary"
           }
          ],
          "surface": [
           {
            "colorbar": {
             "outlinewidth": 0,
             "ticks": ""
            },
            "colorscale": [
             [
              0,
              "#0d0887"
             ],
             [
              0.1111111111111111,
              "#46039f"
             ],
             [
              0.2222222222222222,
              "#7201a8"
             ],
             [
              0.3333333333333333,
              "#9c179e"
             ],
             [
              0.4444444444444444,
              "#bd3786"
             ],
             [
              0.5555555555555556,
              "#d8576b"
             ],
             [
              0.6666666666666666,
              "#ed7953"
             ],
             [
              0.7777777777777778,
              "#fb9f3a"
             ],
             [
              0.8888888888888888,
              "#fdca26"
             ],
             [
              1,
              "#f0f921"
             ]
            ],
            "type": "surface"
           }
          ],
          "table": [
           {
            "cells": {
             "fill": {
              "color": "#EBF0F8"
             },
             "line": {
              "color": "white"
             }
            },
            "header": {
             "fill": {
              "color": "#C8D4E3"
             },
             "line": {
              "color": "white"
             }
            },
            "type": "table"
           }
          ]
         },
         "layout": {
          "annotationdefaults": {
           "arrowcolor": "#2a3f5f",
           "arrowhead": 0,
           "arrowwidth": 1
          },
          "autotypenumbers": "strict",
          "coloraxis": {
           "colorbar": {
            "outlinewidth": 0,
            "ticks": ""
           }
          },
          "colorscale": {
           "diverging": [
            [
             0,
             "#8e0152"
            ],
            [
             0.1,
             "#c51b7d"
            ],
            [
             0.2,
             "#de77ae"
            ],
            [
             0.3,
             "#f1b6da"
            ],
            [
             0.4,
             "#fde0ef"
            ],
            [
             0.5,
             "#f7f7f7"
            ],
            [
             0.6,
             "#e6f5d0"
            ],
            [
             0.7,
             "#b8e186"
            ],
            [
             0.8,
             "#7fbc41"
            ],
            [
             0.9,
             "#4d9221"
            ],
            [
             1,
             "#276419"
            ]
           ],
           "sequential": [
            [
             0,
             "#0d0887"
            ],
            [
             0.1111111111111111,
             "#46039f"
            ],
            [
             0.2222222222222222,
             "#7201a8"
            ],
            [
             0.3333333333333333,
             "#9c179e"
            ],
            [
             0.4444444444444444,
             "#bd3786"
            ],
            [
             0.5555555555555556,
             "#d8576b"
            ],
            [
             0.6666666666666666,
             "#ed7953"
            ],
            [
             0.7777777777777778,
             "#fb9f3a"
            ],
            [
             0.8888888888888888,
             "#fdca26"
            ],
            [
             1,
             "#f0f921"
            ]
           ],
           "sequentialminus": [
            [
             0,
             "#0d0887"
            ],
            [
             0.1111111111111111,
             "#46039f"
            ],
            [
             0.2222222222222222,
             "#7201a8"
            ],
            [
             0.3333333333333333,
             "#9c179e"
            ],
            [
             0.4444444444444444,
             "#bd3786"
            ],
            [
             0.5555555555555556,
             "#d8576b"
            ],
            [
             0.6666666666666666,
             "#ed7953"
            ],
            [
             0.7777777777777778,
             "#fb9f3a"
            ],
            [
             0.8888888888888888,
             "#fdca26"
            ],
            [
             1,
             "#f0f921"
            ]
           ]
          },
          "colorway": [
           "#636efa",
           "#EF553B",
           "#00cc96",
           "#ab63fa",
           "#FFA15A",
           "#19d3f3",
           "#FF6692",
           "#B6E880",
           "#FF97FF",
           "#FECB52"
          ],
          "font": {
           "color": "#2a3f5f"
          },
          "geo": {
           "bgcolor": "white",
           "lakecolor": "white",
           "landcolor": "#E5ECF6",
           "showlakes": true,
           "showland": true,
           "subunitcolor": "white"
          },
          "hoverlabel": {
           "align": "left"
          },
          "hovermode": "closest",
          "mapbox": {
           "style": "light"
          },
          "paper_bgcolor": "white",
          "plot_bgcolor": "#E5ECF6",
          "polar": {
           "angularaxis": {
            "gridcolor": "white",
            "linecolor": "white",
            "ticks": ""
           },
           "bgcolor": "#E5ECF6",
           "radialaxis": {
            "gridcolor": "white",
            "linecolor": "white",
            "ticks": ""
           }
          },
          "scene": {
           "xaxis": {
            "backgroundcolor": "#E5ECF6",
            "gridcolor": "white",
            "gridwidth": 2,
            "linecolor": "white",
            "showbackground": true,
            "ticks": "",
            "zerolinecolor": "white"
           },
           "yaxis": {
            "backgroundcolor": "#E5ECF6",
            "gridcolor": "white",
            "gridwidth": 2,
            "linecolor": "white",
            "showbackground": true,
            "ticks": "",
            "zerolinecolor": "white"
           },
           "zaxis": {
            "backgroundcolor": "#E5ECF6",
            "gridcolor": "white",
            "gridwidth": 2,
            "linecolor": "white",
            "showbackground": true,
            "ticks": "",
            "zerolinecolor": "white"
           }
          },
          "shapedefaults": {
           "line": {
            "color": "#2a3f5f"
           }
          },
          "ternary": {
           "aaxis": {
            "gridcolor": "white",
            "linecolor": "white",
            "ticks": ""
           },
           "baxis": {
            "gridcolor": "white",
            "linecolor": "white",
            "ticks": ""
           },
           "bgcolor": "#E5ECF6",
           "caxis": {
            "gridcolor": "white",
            "linecolor": "white",
            "ticks": ""
           }
          },
          "title": {
           "x": 0.05
          },
          "xaxis": {
           "automargin": true,
           "gridcolor": "white",
           "linecolor": "white",
           "ticks": "",
           "title": {
            "standoff": 15
           },
           "zerolinecolor": "white",
           "zerolinewidth": 2
          },
          "yaxis": {
           "automargin": true,
           "gridcolor": "white",
           "linecolor": "white",
           "ticks": "",
           "title": {
            "standoff": 15
           },
           "zerolinecolor": "white",
           "zerolinewidth": 2
          }
         }
        },
        "title": {
         "text": "Average makespan"
        },
        "updatemenus": [
         {
          "buttons": [
           {
            "args": [
             {
              "visible": [
               false,
               false,
               false,
               false,
               false,
               false,
               true
              ]
             },
             {
              "title": "Global Average"
             }
            ],
            "label": "Global Average",
            "method": "update"
           },
           {
            "args": [
             {
              "visible": [
               false,
               false,
               false,
               false,
               false,
               true,
               false
              ]
             },
             {
              "title": "s036 Average"
             }
            ],
            "label": "s036",
            "method": "update"
           },
           {
            "args": [
             {
              "visible": [
               false,
               false,
               true,
               false,
               false,
               false,
               false
              ]
             },
             {
              "title": "s025 Average"
             }
            ],
            "label": "s025",
            "method": "update"
           },
           {
            "args": [
             {
              "visible": [
               false,
               true,
               false,
               false,
               false,
               false,
               false
              ]
             },
             {
              "title": "s017 Average"
             }
            ],
            "label": "s017",
            "method": "update"
           },
           {
            "args": [
             {
              "visible": [
               false,
               false,
               false,
               true,
               false,
               false,
               false
              ]
             },
             {
              "title": "s028 Average"
             }
            ],
            "label": "s028",
            "method": "update"
           },
           {
            "args": [
             {
              "visible": [
               true,
               false,
               false,
               false,
               false,
               false,
               false
              ]
             },
             {
              "title": "s003 Average"
             }
            ],
            "label": "s003",
            "method": "update"
           },
           {
            "args": [
             {
              "visible": [
               false,
               false,
               false,
               false,
               true,
               false,
               false
              ]
             },
             {
              "title": "s031 Average"
             }
            ],
            "label": "s031",
            "method": "update"
           }
          ],
          "showactive": true,
          "type": "dropdown"
         }
        ],
        "xaxis": {
         "title": {
          "text": "Experiment"
         }
        },
        "yaxis": {
         "range": [
          0,
          199.09443750000003
         ],
         "title": {
          "text": "Makespan (seconds)"
         }
        }
       }
      },
      "text/html": [
       "<div>                            <div id=\"9236c711-b6d5-4371-9c10-7b25c5e591c2\" class=\"plotly-graph-div\" style=\"height:525px; width:100%;\"></div>            <script type=\"text/javascript\">                require([\"plotly\"], function(Plotly) {                    window.PLOTLYENV=window.PLOTLYENV || {};                                    if (document.getElementById(\"9236c711-b6d5-4371-9c10-7b25c5e591c2\")) {                    Plotly.newPlot(                        \"9236c711-b6d5-4371-9c10-7b25c5e591c2\",                        [{\"error_y\":{\"array\":[8.893945756024783,25.98090290108401,13.077199666255439,5.867112104301761],\"type\":\"data\"},\"name\":\"s003\",\"visible\":false,\"x\":[\"0\\u003cb style='color:red;'\\u003e0\\u003c\\u002fb\\u003e\",\"0\\u003cb style='color:red;'\\u003e1\\u003c\\u002fb\\u003e\",\"1\\u003cb style='color:red;'\\u003e0\\u003c\\u002fb\\u003e\",\"1\\u003cb style='color:red;'\\u003e1\\u003c\\u002fb\\u003e\"],\"y\":[166.666,146.856,180.602,152.116],\"type\":\"bar\"},{\"error_y\":{\"array\":[7.837679999705141,31.638484151249862,4.706044555371617,4.240172952447414],\"type\":\"data\"},\"name\":\"s017\",\"visible\":false,\"x\":[\"0\\u003cb style='color:red;'\\u003e0\\u003c\\u002fb\\u003e\",\"0\\u003cb style='color:red;'\\u003e1\\u003c\\u002fb\\u003e\",\"1\\u003cb style='color:red;'\\u003e0\\u003c\\u002fb\\u003e\",\"1\\u003cb style='color:red;'\\u003e1\\u003c\\u002fb\\u003e\"],\"y\":[187.42555555555555,141.3855,189.61375,154.6],\"type\":\"bar\"},{\"error_y\":{\"array\":[5.397432414275023,25.50446714335876,7.143647449929828,5.451490723748053],\"type\":\"data\"},\"name\":\"s025\",\"visible\":false,\"x\":[\"0\\u003cb style='color:red;'\\u003e0\\u003c\\u002fb\\u003e\",\"0\\u003cb style='color:red;'\\u003e1\\u003c\\u002fb\\u003e\",\"1\\u003cb style='color:red;'\\u003e0\\u003c\\u002fb\\u003e\",\"1\\u003cb style='color:red;'\\u003e1\\u003c\\u002fb\\u003e\"],\"y\":[161.791,145.2876,163.86100000000002,149.252],\"type\":\"bar\"},{\"error_y\":{\"array\":[6.373013328786384,24.330256983846265,13.091417884332547,5.717275963642512],\"type\":\"data\"},\"name\":\"s028\",\"visible\":false,\"x\":[\"0\\u003cb style='color:red;'\\u003e0\\u003c\\u002fb\\u003e\",\"0\\u003cb style='color:red;'\\u003e1\\u003c\\u002fb\\u003e\",\"1\\u003cb style='color:red;'\\u003e0\\u003c\\u002fb\\u003e\",\"1\\u003cb style='color:red;'\\u003e1\\u003c\\u002fb\\u003e\"],\"y\":[170.201,120.54069999999999,188.35999999999999,156.35999999999999],\"type\":\"bar\"},{\"error_y\":{\"array\":[null,4.829539315504121],\"type\":\"data\"},\"name\":\"s031\",\"visible\":false,\"x\":[\"0\\u003cb style='color:red;'\\u003e0\\u003c\\u002fb\\u003e\",\"0\\u003cb style='color:red;'\\u003e1\\u003c\\u002fb\\u003e\"],\"y\":[183.12,65.354],\"type\":\"bar\"},{\"error_y\":{\"array\":[14.672638026839842,11.272855745846588,10.287426035916095,10.668694026085028],\"type\":\"data\"},\"name\":\"s036\",\"visible\":false,\"x\":[\"0\\u003cb style='color:red;'\\u003e0\\u003c\\u002fb\\u003e\",\"0\\u003cb style='color:red;'\\u003e1\\u003c\\u002fb\\u003e\",\"1\\u003cb style='color:red;'\\u003e0\\u003c\\u002fb\\u003e\",\"1\\u003cb style='color:red;'\\u003e1\\u003c\\u002fb\\u003e\"],\"y\":[171.998,143.081,166.287,143.44099999999997],\"type\":\"bar\"},{\"error_y\":{\"array\":[12.274017935693026,28.9081041366998,14.740654665097948,7.93824323597289],\"type\":\"data\"},\"name\":\"Global Average\",\"visible\":true,\"x\":[\"0\\u003cb style='color:red;'\\u003e0\\u003c\\u002fb\\u003e\",\"0\\u003cb style='color:red;'\\u003e1\\u003c\\u002fb\\u003e\",\"1\\u003cb style='color:red;'\\u003e0\\u003c\\u002fb\\u003e\",\"1\\u003cb style='color:red;'\\u003e1\\u003c\\u002fb\\u003e\"],\"y\":[171.5302,136.58107692307692,177.25020833333335,151.1538],\"type\":\"bar\"}],                        {\"template\":{\"data\":{\"histogram2dcontour\":[{\"type\":\"histogram2dcontour\",\"colorbar\":{\"outlinewidth\":0,\"ticks\":\"\"},\"colorscale\":[[0.0,\"#0d0887\"],[0.1111111111111111,\"#46039f\"],[0.2222222222222222,\"#7201a8\"],[0.3333333333333333,\"#9c179e\"],[0.4444444444444444,\"#bd3786\"],[0.5555555555555556,\"#d8576b\"],[0.6666666666666666,\"#ed7953\"],[0.7777777777777778,\"#fb9f3a\"],[0.8888888888888888,\"#fdca26\"],[1.0,\"#f0f921\"]]}],\"choropleth\":[{\"type\":\"choropleth\",\"colorbar\":{\"outlinewidth\":0,\"ticks\":\"\"}}],\"histogram2d\":[{\"type\":\"histogram2d\",\"colorbar\":{\"outlinewidth\":0,\"ticks\":\"\"},\"colorscale\":[[0.0,\"#0d0887\"],[0.1111111111111111,\"#46039f\"],[0.2222222222222222,\"#7201a8\"],[0.3333333333333333,\"#9c179e\"],[0.4444444444444444,\"#bd3786\"],[0.5555555555555556,\"#d8576b\"],[0.6666666666666666,\"#ed7953\"],[0.7777777777777778,\"#fb9f3a\"],[0.8888888888888888,\"#fdca26\"],[1.0,\"#f0f921\"]]}],\"heatmap\":[{\"type\":\"heatmap\",\"colorbar\":{\"outlinewidth\":0,\"ticks\":\"\"},\"colorscale\":[[0.0,\"#0d0887\"],[0.1111111111111111,\"#46039f\"],[0.2222222222222222,\"#7201a8\"],[0.3333333333333333,\"#9c179e\"],[0.4444444444444444,\"#bd3786\"],[0.5555555555555556,\"#d8576b\"],[0.6666666666666666,\"#ed7953\"],[0.7777777777777778,\"#fb9f3a\"],[0.8888888888888888,\"#fdca26\"],[1.0,\"#f0f921\"]]}],\"heatmapgl\":[{\"type\":\"heatmapgl\",\"colorbar\":{\"outlinewidth\":0,\"ticks\":\"\"},\"colorscale\":[[0.0,\"#0d0887\"],[0.1111111111111111,\"#46039f\"],[0.2222222222222222,\"#7201a8\"],[0.3333333333333333,\"#9c179e\"],[0.4444444444444444,\"#bd3786\"],[0.5555555555555556,\"#d8576b\"],[0.6666666666666666,\"#ed7953\"],[0.7777777777777778,\"#fb9f3a\"],[0.8888888888888888,\"#fdca26\"],[1.0,\"#f0f921\"]]}],\"contourcarpet\":[{\"type\":\"contourcarpet\",\"colorbar\":{\"outlinewidth\":0,\"ticks\":\"\"}}],\"contour\":[{\"type\":\"contour\",\"colorbar\":{\"outlinewidth\":0,\"ticks\":\"\"},\"colorscale\":[[0.0,\"#0d0887\"],[0.1111111111111111,\"#46039f\"],[0.2222222222222222,\"#7201a8\"],[0.3333333333333333,\"#9c179e\"],[0.4444444444444444,\"#bd3786\"],[0.5555555555555556,\"#d8576b\"],[0.6666666666666666,\"#ed7953\"],[0.7777777777777778,\"#fb9f3a\"],[0.8888888888888888,\"#fdca26\"],[1.0,\"#f0f921\"]]}],\"surface\":[{\"type\":\"surface\",\"colorbar\":{\"outlinewidth\":0,\"ticks\":\"\"},\"colorscale\":[[0.0,\"#0d0887\"],[0.1111111111111111,\"#46039f\"],[0.2222222222222222,\"#7201a8\"],[0.3333333333333333,\"#9c179e\"],[0.4444444444444444,\"#bd3786\"],[0.5555555555555556,\"#d8576b\"],[0.6666666666666666,\"#ed7953\"],[0.7777777777777778,\"#fb9f3a\"],[0.8888888888888888,\"#fdca26\"],[1.0,\"#f0f921\"]]}],\"mesh3d\":[{\"type\":\"mesh3d\",\"colorbar\":{\"outlinewidth\":0,\"ticks\":\"\"}}],\"scatter\":[{\"fillpattern\":{\"fillmode\":\"overlay\",\"size\":10,\"solidity\":0.2},\"type\":\"scatter\"}],\"parcoords\":[{\"type\":\"parcoords\",\"line\":{\"colorbar\":{\"outlinewidth\":0,\"ticks\":\"\"}}}],\"scatterpolargl\":[{\"type\":\"scatterpolargl\",\"marker\":{\"colorbar\":{\"outlinewidth\":0,\"ticks\":\"\"}}}],\"bar\":[{\"error_x\":{\"color\":\"#2a3f5f\"},\"error_y\":{\"color\":\"#2a3f5f\"},\"marker\":{\"line\":{\"color\":\"#E5ECF6\",\"width\":0.5},\"pattern\":{\"fillmode\":\"overlay\",\"size\":10,\"solidity\":0.2}},\"type\":\"bar\"}],\"scattergeo\":[{\"type\":\"scattergeo\",\"marker\":{\"colorbar\":{\"outlinewidth\":0,\"ticks\":\"\"}}}],\"scatterpolar\":[{\"type\":\"scatterpolar\",\"marker\":{\"colorbar\":{\"outlinewidth\":0,\"ticks\":\"\"}}}],\"histogram\":[{\"marker\":{\"pattern\":{\"fillmode\":\"overlay\",\"size\":10,\"solidity\":0.2}},\"type\":\"histogram\"}],\"scattergl\":[{\"type\":\"scattergl\",\"marker\":{\"colorbar\":{\"outlinewidth\":0,\"ticks\":\"\"}}}],\"scatter3d\":[{\"type\":\"scatter3d\",\"line\":{\"colorbar\":{\"outlinewidth\":0,\"ticks\":\"\"}},\"marker\":{\"colorbar\":{\"outlinewidth\":0,\"ticks\":\"\"}}}],\"scattermapbox\":[{\"type\":\"scattermapbox\",\"marker\":{\"colorbar\":{\"outlinewidth\":0,\"ticks\":\"\"}}}],\"scatterternary\":[{\"type\":\"scatterternary\",\"marker\":{\"colorbar\":{\"outlinewidth\":0,\"ticks\":\"\"}}}],\"scattercarpet\":[{\"type\":\"scattercarpet\",\"marker\":{\"colorbar\":{\"outlinewidth\":0,\"ticks\":\"\"}}}],\"carpet\":[{\"aaxis\":{\"endlinecolor\":\"#2a3f5f\",\"gridcolor\":\"white\",\"linecolor\":\"white\",\"minorgridcolor\":\"white\",\"startlinecolor\":\"#2a3f5f\"},\"baxis\":{\"endlinecolor\":\"#2a3f5f\",\"gridcolor\":\"white\",\"linecolor\":\"white\",\"minorgridcolor\":\"white\",\"startlinecolor\":\"#2a3f5f\"},\"type\":\"carpet\"}],\"table\":[{\"cells\":{\"fill\":{\"color\":\"#EBF0F8\"},\"line\":{\"color\":\"white\"}},\"header\":{\"fill\":{\"color\":\"#C8D4E3\"},\"line\":{\"color\":\"white\"}},\"type\":\"table\"}],\"barpolar\":[{\"marker\":{\"line\":{\"color\":\"#E5ECF6\",\"width\":0.5},\"pattern\":{\"fillmode\":\"overlay\",\"size\":10,\"solidity\":0.2}},\"type\":\"barpolar\"}],\"pie\":[{\"automargin\":true,\"type\":\"pie\"}]},\"layout\":{\"autotypenumbers\":\"strict\",\"colorway\":[\"#636efa\",\"#EF553B\",\"#00cc96\",\"#ab63fa\",\"#FFA15A\",\"#19d3f3\",\"#FF6692\",\"#B6E880\",\"#FF97FF\",\"#FECB52\"],\"font\":{\"color\":\"#2a3f5f\"},\"hovermode\":\"closest\",\"hoverlabel\":{\"align\":\"left\"},\"paper_bgcolor\":\"white\",\"plot_bgcolor\":\"#E5ECF6\",\"polar\":{\"bgcolor\":\"#E5ECF6\",\"angularaxis\":{\"gridcolor\":\"white\",\"linecolor\":\"white\",\"ticks\":\"\"},\"radialaxis\":{\"gridcolor\":\"white\",\"linecolor\":\"white\",\"ticks\":\"\"}},\"ternary\":{\"bgcolor\":\"#E5ECF6\",\"aaxis\":{\"gridcolor\":\"white\",\"linecolor\":\"white\",\"ticks\":\"\"},\"baxis\":{\"gridcolor\":\"white\",\"linecolor\":\"white\",\"ticks\":\"\"},\"caxis\":{\"gridcolor\":\"white\",\"linecolor\":\"white\",\"ticks\":\"\"}},\"coloraxis\":{\"colorbar\":{\"outlinewidth\":0,\"ticks\":\"\"}},\"colorscale\":{\"sequential\":[[0.0,\"#0d0887\"],[0.1111111111111111,\"#46039f\"],[0.2222222222222222,\"#7201a8\"],[0.3333333333333333,\"#9c179e\"],[0.4444444444444444,\"#bd3786\"],[0.5555555555555556,\"#d8576b\"],[0.6666666666666666,\"#ed7953\"],[0.7777777777777778,\"#fb9f3a\"],[0.8888888888888888,\"#fdca26\"],[1.0,\"#f0f921\"]],\"sequentialminus\":[[0.0,\"#0d0887\"],[0.1111111111111111,\"#46039f\"],[0.2222222222222222,\"#7201a8\"],[0.3333333333333333,\"#9c179e\"],[0.4444444444444444,\"#bd3786\"],[0.5555555555555556,\"#d8576b\"],[0.6666666666666666,\"#ed7953\"],[0.7777777777777778,\"#fb9f3a\"],[0.8888888888888888,\"#fdca26\"],[1.0,\"#f0f921\"]],\"diverging\":[[0,\"#8e0152\"],[0.1,\"#c51b7d\"],[0.2,\"#de77ae\"],[0.3,\"#f1b6da\"],[0.4,\"#fde0ef\"],[0.5,\"#f7f7f7\"],[0.6,\"#e6f5d0\"],[0.7,\"#b8e186\"],[0.8,\"#7fbc41\"],[0.9,\"#4d9221\"],[1,\"#276419\"]]},\"xaxis\":{\"gridcolor\":\"white\",\"linecolor\":\"white\",\"ticks\":\"\",\"title\":{\"standoff\":15},\"zerolinecolor\":\"white\",\"automargin\":true,\"zerolinewidth\":2},\"yaxis\":{\"gridcolor\":\"white\",\"linecolor\":\"white\",\"ticks\":\"\",\"title\":{\"standoff\":15},\"zerolinecolor\":\"white\",\"automargin\":true,\"zerolinewidth\":2},\"scene\":{\"xaxis\":{\"backgroundcolor\":\"#E5ECF6\",\"gridcolor\":\"white\",\"linecolor\":\"white\",\"showbackground\":true,\"ticks\":\"\",\"zerolinecolor\":\"white\",\"gridwidth\":2},\"yaxis\":{\"backgroundcolor\":\"#E5ECF6\",\"gridcolor\":\"white\",\"linecolor\":\"white\",\"showbackground\":true,\"ticks\":\"\",\"zerolinecolor\":\"white\",\"gridwidth\":2},\"zaxis\":{\"backgroundcolor\":\"#E5ECF6\",\"gridcolor\":\"white\",\"linecolor\":\"white\",\"showbackground\":true,\"ticks\":\"\",\"zerolinecolor\":\"white\",\"gridwidth\":2}},\"shapedefaults\":{\"line\":{\"color\":\"#2a3f5f\"}},\"annotationdefaults\":{\"arrowcolor\":\"#2a3f5f\",\"arrowhead\":0,\"arrowwidth\":1},\"geo\":{\"bgcolor\":\"white\",\"landcolor\":\"#E5ECF6\",\"subunitcolor\":\"white\",\"showland\":true,\"showlakes\":true,\"lakecolor\":\"white\"},\"title\":{\"x\":0.05},\"mapbox\":{\"style\":\"light\"}}},\"yaxis\":{\"title\":{\"text\":\"Makespan (seconds)\"},\"range\":[0,199.09443750000003]},\"updatemenus\":[{\"buttons\":[{\"args\":[{\"visible\":[false,false,false,false,false,false,true]},{\"title\":\"Global Average\"}],\"label\":\"Global Average\",\"method\":\"update\"},{\"args\":[{\"visible\":[false,false,false,false,false,true,false]},{\"title\":\"s036 Average\"}],\"label\":\"s036\",\"method\":\"update\"},{\"args\":[{\"visible\":[false,false,true,false,false,false,false]},{\"title\":\"s025 Average\"}],\"label\":\"s025\",\"method\":\"update\"},{\"args\":[{\"visible\":[false,true,false,false,false,false,false]},{\"title\":\"s017 Average\"}],\"label\":\"s017\",\"method\":\"update\"},{\"args\":[{\"visible\":[false,false,false,true,false,false,false]},{\"title\":\"s028 Average\"}],\"label\":\"s028\",\"method\":\"update\"},{\"args\":[{\"visible\":[true,false,false,false,false,false,false]},{\"title\":\"s003 Average\"}],\"label\":\"s003\",\"method\":\"update\"},{\"args\":[{\"visible\":[false,false,false,false,true,false,false]},{\"title\":\"s031 Average\"}],\"label\":\"s031\",\"method\":\"update\"}],\"showactive\":true,\"type\":\"dropdown\"}],\"title\":{\"text\":\"Average makespan\"},\"xaxis\":{\"title\":{\"text\":\"Experiment\"}}},                        {\"responsive\": true}                    ).then(function(){\n",
       "                            \n",
       "var gd = document.getElementById('9236c711-b6d5-4371-9c10-7b25c5e591c2');\n",
       "var x = new MutationObserver(function (mutations, observer) {{\n",
       "        var display = window.getComputedStyle(gd).display;\n",
       "        if (!display || display === 'none') {{\n",
       "            console.log([gd, 'removed!']);\n",
       "            Plotly.purge(gd);\n",
       "            observer.disconnect();\n",
       "        }}\n",
       "}});\n",
       "\n",
       "// Listen for the removal of the full notebook cells\n",
       "var notebookContainer = gd.closest('#notebook-container');\n",
       "if (notebookContainer) {{\n",
       "    x.observe(notebookContainer, {childList: true});\n",
       "}}\n",
       "\n",
       "// Listen for the clearing of the current output cell\n",
       "var outputEl = gd.closest('.output');\n",
       "if (outputEl) {{\n",
       "    x.observe(outputEl, {childList: true});\n",
       "}}\n",
       "\n",
       "                        })                };                });            </script>        </div>"
      ]
     },
     "metadata": {},
     "output_type": "display_data"
    }
   ],
   "source": [
    "fig = go.Figure()\n",
    "\n",
    "# Add traces for each subject and global average\n",
    "for subject in subjects:\n",
    "    subject_data = stats[stats[\"subj_id\"] == subject]\n",
    "    fig.add_trace(\n",
    "        go.Bar(\n",
    "            x=subject_data[\"highlighted_label\"],\n",
    "            y=subject_data[\"makespan_mean\"],\n",
    "            name=subject,\n",
    "            visible=(subject == \"Global Average\"),\n",
    "            error_y=dict(type=\"data\", array=subject_data[\"makespan_std\"]),\n",
    "        )\n",
    "    )\n",
    "\n",
    "buttons = get_dropdown(subjects)\n",
    "\n",
    "# Update layout with dropdown menu and fixed y-axis range\n",
    "fig.update_layout(\n",
    "    updatemenus=[dict(type=\"dropdown\", showactive=True, buttons=buttons)],\n",
    "    title=\"Average makespan\",\n",
    "    xaxis_title=\"Experiment\",\n",
    "    yaxis_title=\"Makespan (seconds)\",\n",
    "    yaxis=dict(range=[0, stats[\"makespan_mean\"].max() * 1.05]),\n",
    "    # height=1000,\n",
    ")\n",
    "\n",
    "fig.show()\n",
    "fig.write_html(figure_dir / \"makespan.html\")\n",
    "fig.write_image(figure_dir / \"makespan.png\")"
   ]
  },
  {
   "cell_type": "code",
   "execution_count": 15,
   "metadata": {},
   "outputs": [
    {
     "data": {
      "application/vnd.plotly.v1+json": {
       "config": {
        "plotlyServerURL": "https://plot.ly"
       },
       "data": [
        {
         "error_y": {
          "array": [
           8.893945756024783,
           25.98090290108401,
           13.077199666255439,
           5.867112104301761
          ],
          "type": "data"
         },
         "name": "s003",
         "type": "bar",
         "visible": false,
         "x": [
          "0<b style='color:red;'>0</b>",
          "0<b style='color:red;'>1</b>",
          "1<b style='color:red;'>0</b>",
          "1<b style='color:red;'>1</b>"
         ],
         "y": [
          166.666,
          146.856,
          180.602,
          152.116
         ]
        },
        {
         "error_y": {
          "array": [
           7.837679999705141,
           31.638484151249862,
           4.706044555371617,
           4.240172952447414
          ],
          "type": "data"
         },
         "name": "s017",
         "type": "bar",
         "visible": false,
         "x": [
          "0<b style='color:red;'>0</b>",
          "0<b style='color:red;'>1</b>",
          "1<b style='color:red;'>0</b>",
          "1<b style='color:red;'>1</b>"
         ],
         "y": [
          187.42555555555555,
          141.3855,
          189.61375,
          154.6
         ]
        },
        {
         "error_y": {
          "array": [
           5.397432414275023,
           25.50446714335876,
           7.143647449929828,
           5.451490723748053
          ],
          "type": "data"
         },
         "name": "s025",
         "type": "bar",
         "visible": false,
         "x": [
          "0<b style='color:red;'>0</b>",
          "0<b style='color:red;'>1</b>",
          "1<b style='color:red;'>0</b>",
          "1<b style='color:red;'>1</b>"
         ],
         "y": [
          161.791,
          145.2876,
          163.86100000000002,
          149.252
         ]
        },
        {
         "error_y": {
          "array": [
           6.373013328786384,
           24.330256983846265,
           13.091417884332547,
           5.717275963642512
          ],
          "type": "data"
         },
         "name": "s028",
         "type": "bar",
         "visible": false,
         "x": [
          "0<b style='color:red;'>0</b>",
          "0<b style='color:red;'>1</b>",
          "1<b style='color:red;'>0</b>",
          "1<b style='color:red;'>1</b>"
         ],
         "y": [
          170.201,
          120.54069999999999,
          188.35999999999999,
          156.35999999999999
         ]
        },
        {
         "error_y": {
          "array": [
           null,
           4.829539315504121
          ],
          "type": "data"
         },
         "name": "s031",
         "type": "bar",
         "visible": false,
         "x": [
          "0<b style='color:red;'>0</b>",
          "0<b style='color:red;'>1</b>"
         ],
         "y": [
          183.12,
          65.354
         ]
        },
        {
         "error_y": {
          "array": [
           14.672638026839842,
           11.272855745846588,
           10.287426035916095,
           10.668694026085028
          ],
          "type": "data"
         },
         "name": "s036",
         "type": "bar",
         "visible": false,
         "x": [
          "0<b style='color:red;'>0</b>",
          "0<b style='color:red;'>1</b>",
          "1<b style='color:red;'>0</b>",
          "1<b style='color:red;'>1</b>"
         ],
         "y": [
          171.998,
          143.081,
          166.287,
          143.44099999999997
         ]
        },
        {
         "error_y": {
          "array": [
           12.274017935693026,
           28.9081041366998,
           14.740654665097948,
           7.93824323597289
          ],
          "type": "data"
         },
         "name": "Global Average",
         "type": "bar",
         "visible": true,
         "x": [
          "0<b style='color:red;'>0</b>",
          "0<b style='color:red;'>1</b>",
          "1<b style='color:red;'>0</b>",
          "1<b style='color:red;'>1</b>"
         ],
         "y": [
          171.5302,
          136.58107692307692,
          177.25020833333335,
          151.1538
         ]
        }
       ],
       "layout": {
        "template": {
         "data": {
          "bar": [
           {
            "error_x": {
             "color": "#2a3f5f"
            },
            "error_y": {
             "color": "#2a3f5f"
            },
            "marker": {
             "line": {
              "color": "#E5ECF6",
              "width": 0.5
             },
             "pattern": {
              "fillmode": "overlay",
              "size": 10,
              "solidity": 0.2
             }
            },
            "type": "bar"
           }
          ],
          "barpolar": [
           {
            "marker": {
             "line": {
              "color": "#E5ECF6",
              "width": 0.5
             },
             "pattern": {
              "fillmode": "overlay",
              "size": 10,
              "solidity": 0.2
             }
            },
            "type": "barpolar"
           }
          ],
          "carpet": [
           {
            "aaxis": {
             "endlinecolor": "#2a3f5f",
             "gridcolor": "white",
             "linecolor": "white",
             "minorgridcolor": "white",
             "startlinecolor": "#2a3f5f"
            },
            "baxis": {
             "endlinecolor": "#2a3f5f",
             "gridcolor": "white",
             "linecolor": "white",
             "minorgridcolor": "white",
             "startlinecolor": "#2a3f5f"
            },
            "type": "carpet"
           }
          ],
          "choropleth": [
           {
            "colorbar": {
             "outlinewidth": 0,
             "ticks": ""
            },
            "type": "choropleth"
           }
          ],
          "contour": [
           {
            "colorbar": {
             "outlinewidth": 0,
             "ticks": ""
            },
            "colorscale": [
             [
              0,
              "#0d0887"
             ],
             [
              0.1111111111111111,
              "#46039f"
             ],
             [
              0.2222222222222222,
              "#7201a8"
             ],
             [
              0.3333333333333333,
              "#9c179e"
             ],
             [
              0.4444444444444444,
              "#bd3786"
             ],
             [
              0.5555555555555556,
              "#d8576b"
             ],
             [
              0.6666666666666666,
              "#ed7953"
             ],
             [
              0.7777777777777778,
              "#fb9f3a"
             ],
             [
              0.8888888888888888,
              "#fdca26"
             ],
             [
              1,
              "#f0f921"
             ]
            ],
            "type": "contour"
           }
          ],
          "contourcarpet": [
           {
            "colorbar": {
             "outlinewidth": 0,
             "ticks": ""
            },
            "type": "contourcarpet"
           }
          ],
          "heatmap": [
           {
            "colorbar": {
             "outlinewidth": 0,
             "ticks": ""
            },
            "colorscale": [
             [
              0,
              "#0d0887"
             ],
             [
              0.1111111111111111,
              "#46039f"
             ],
             [
              0.2222222222222222,
              "#7201a8"
             ],
             [
              0.3333333333333333,
              "#9c179e"
             ],
             [
              0.4444444444444444,
              "#bd3786"
             ],
             [
              0.5555555555555556,
              "#d8576b"
             ],
             [
              0.6666666666666666,
              "#ed7953"
             ],
             [
              0.7777777777777778,
              "#fb9f3a"
             ],
             [
              0.8888888888888888,
              "#fdca26"
             ],
             [
              1,
              "#f0f921"
             ]
            ],
            "type": "heatmap"
           }
          ],
          "heatmapgl": [
           {
            "colorbar": {
             "outlinewidth": 0,
             "ticks": ""
            },
            "colorscale": [
             [
              0,
              "#0d0887"
             ],
             [
              0.1111111111111111,
              "#46039f"
             ],
             [
              0.2222222222222222,
              "#7201a8"
             ],
             [
              0.3333333333333333,
              "#9c179e"
             ],
             [
              0.4444444444444444,
              "#bd3786"
             ],
             [
              0.5555555555555556,
              "#d8576b"
             ],
             [
              0.6666666666666666,
              "#ed7953"
             ],
             [
              0.7777777777777778,
              "#fb9f3a"
             ],
             [
              0.8888888888888888,
              "#fdca26"
             ],
             [
              1,
              "#f0f921"
             ]
            ],
            "type": "heatmapgl"
           }
          ],
          "histogram": [
           {
            "marker": {
             "pattern": {
              "fillmode": "overlay",
              "size": 10,
              "solidity": 0.2
             }
            },
            "type": "histogram"
           }
          ],
          "histogram2d": [
           {
            "colorbar": {
             "outlinewidth": 0,
             "ticks": ""
            },
            "colorscale": [
             [
              0,
              "#0d0887"
             ],
             [
              0.1111111111111111,
              "#46039f"
             ],
             [
              0.2222222222222222,
              "#7201a8"
             ],
             [
              0.3333333333333333,
              "#9c179e"
             ],
             [
              0.4444444444444444,
              "#bd3786"
             ],
             [
              0.5555555555555556,
              "#d8576b"
             ],
             [
              0.6666666666666666,
              "#ed7953"
             ],
             [
              0.7777777777777778,
              "#fb9f3a"
             ],
             [
              0.8888888888888888,
              "#fdca26"
             ],
             [
              1,
              "#f0f921"
             ]
            ],
            "type": "histogram2d"
           }
          ],
          "histogram2dcontour": [
           {
            "colorbar": {
             "outlinewidth": 0,
             "ticks": ""
            },
            "colorscale": [
             [
              0,
              "#0d0887"
             ],
             [
              0.1111111111111111,
              "#46039f"
             ],
             [
              0.2222222222222222,
              "#7201a8"
             ],
             [
              0.3333333333333333,
              "#9c179e"
             ],
             [
              0.4444444444444444,
              "#bd3786"
             ],
             [
              0.5555555555555556,
              "#d8576b"
             ],
             [
              0.6666666666666666,
              "#ed7953"
             ],
             [
              0.7777777777777778,
              "#fb9f3a"
             ],
             [
              0.8888888888888888,
              "#fdca26"
             ],
             [
              1,
              "#f0f921"
             ]
            ],
            "type": "histogram2dcontour"
           }
          ],
          "mesh3d": [
           {
            "colorbar": {
             "outlinewidth": 0,
             "ticks": ""
            },
            "type": "mesh3d"
           }
          ],
          "parcoords": [
           {
            "line": {
             "colorbar": {
              "outlinewidth": 0,
              "ticks": ""
             }
            },
            "type": "parcoords"
           }
          ],
          "pie": [
           {
            "automargin": true,
            "type": "pie"
           }
          ],
          "scatter": [
           {
            "fillpattern": {
             "fillmode": "overlay",
             "size": 10,
             "solidity": 0.2
            },
            "type": "scatter"
           }
          ],
          "scatter3d": [
           {
            "line": {
             "colorbar": {
              "outlinewidth": 0,
              "ticks": ""
             }
            },
            "marker": {
             "colorbar": {
              "outlinewidth": 0,
              "ticks": ""
             }
            },
            "type": "scatter3d"
           }
          ],
          "scattercarpet": [
           {
            "marker": {
             "colorbar": {
              "outlinewidth": 0,
              "ticks": ""
             }
            },
            "type": "scattercarpet"
           }
          ],
          "scattergeo": [
           {
            "marker": {
             "colorbar": {
              "outlinewidth": 0,
              "ticks": ""
             }
            },
            "type": "scattergeo"
           }
          ],
          "scattergl": [
           {
            "marker": {
             "colorbar": {
              "outlinewidth": 0,
              "ticks": ""
             }
            },
            "type": "scattergl"
           }
          ],
          "scattermapbox": [
           {
            "marker": {
             "colorbar": {
              "outlinewidth": 0,
              "ticks": ""
             }
            },
            "type": "scattermapbox"
           }
          ],
          "scatterpolar": [
           {
            "marker": {
             "colorbar": {
              "outlinewidth": 0,
              "ticks": ""
             }
            },
            "type": "scatterpolar"
           }
          ],
          "scatterpolargl": [
           {
            "marker": {
             "colorbar": {
              "outlinewidth": 0,
              "ticks": ""
             }
            },
            "type": "scatterpolargl"
           }
          ],
          "scatterternary": [
           {
            "marker": {
             "colorbar": {
              "outlinewidth": 0,
              "ticks": ""
             }
            },
            "type": "scatterternary"
           }
          ],
          "surface": [
           {
            "colorbar": {
             "outlinewidth": 0,
             "ticks": ""
            },
            "colorscale": [
             [
              0,
              "#0d0887"
             ],
             [
              0.1111111111111111,
              "#46039f"
             ],
             [
              0.2222222222222222,
              "#7201a8"
             ],
             [
              0.3333333333333333,
              "#9c179e"
             ],
             [
              0.4444444444444444,
              "#bd3786"
             ],
             [
              0.5555555555555556,
              "#d8576b"
             ],
             [
              0.6666666666666666,
              "#ed7953"
             ],
             [
              0.7777777777777778,
              "#fb9f3a"
             ],
             [
              0.8888888888888888,
              "#fdca26"
             ],
             [
              1,
              "#f0f921"
             ]
            ],
            "type": "surface"
           }
          ],
          "table": [
           {
            "cells": {
             "fill": {
              "color": "#EBF0F8"
             },
             "line": {
              "color": "white"
             }
            },
            "header": {
             "fill": {
              "color": "#C8D4E3"
             },
             "line": {
              "color": "white"
             }
            },
            "type": "table"
           }
          ]
         },
         "layout": {
          "annotationdefaults": {
           "arrowcolor": "#2a3f5f",
           "arrowhead": 0,
           "arrowwidth": 1
          },
          "autotypenumbers": "strict",
          "coloraxis": {
           "colorbar": {
            "outlinewidth": 0,
            "ticks": ""
           }
          },
          "colorscale": {
           "diverging": [
            [
             0,
             "#8e0152"
            ],
            [
             0.1,
             "#c51b7d"
            ],
            [
             0.2,
             "#de77ae"
            ],
            [
             0.3,
             "#f1b6da"
            ],
            [
             0.4,
             "#fde0ef"
            ],
            [
             0.5,
             "#f7f7f7"
            ],
            [
             0.6,
             "#e6f5d0"
            ],
            [
             0.7,
             "#b8e186"
            ],
            [
             0.8,
             "#7fbc41"
            ],
            [
             0.9,
             "#4d9221"
            ],
            [
             1,
             "#276419"
            ]
           ],
           "sequential": [
            [
             0,
             "#0d0887"
            ],
            [
             0.1111111111111111,
             "#46039f"
            ],
            [
             0.2222222222222222,
             "#7201a8"
            ],
            [
             0.3333333333333333,
             "#9c179e"
            ],
            [
             0.4444444444444444,
             "#bd3786"
            ],
            [
             0.5555555555555556,
             "#d8576b"
            ],
            [
             0.6666666666666666,
             "#ed7953"
            ],
            [
             0.7777777777777778,
             "#fb9f3a"
            ],
            [
             0.8888888888888888,
             "#fdca26"
            ],
            [
             1,
             "#f0f921"
            ]
           ],
           "sequentialminus": [
            [
             0,
             "#0d0887"
            ],
            [
             0.1111111111111111,
             "#46039f"
            ],
            [
             0.2222222222222222,
             "#7201a8"
            ],
            [
             0.3333333333333333,
             "#9c179e"
            ],
            [
             0.4444444444444444,
             "#bd3786"
            ],
            [
             0.5555555555555556,
             "#d8576b"
            ],
            [
             0.6666666666666666,
             "#ed7953"
            ],
            [
             0.7777777777777778,
             "#fb9f3a"
            ],
            [
             0.8888888888888888,
             "#fdca26"
            ],
            [
             1,
             "#f0f921"
            ]
           ]
          },
          "colorway": [
           "#636efa",
           "#EF553B",
           "#00cc96",
           "#ab63fa",
           "#FFA15A",
           "#19d3f3",
           "#FF6692",
           "#B6E880",
           "#FF97FF",
           "#FECB52"
          ],
          "font": {
           "color": "#2a3f5f"
          },
          "geo": {
           "bgcolor": "white",
           "lakecolor": "white",
           "landcolor": "#E5ECF6",
           "showlakes": true,
           "showland": true,
           "subunitcolor": "white"
          },
          "hoverlabel": {
           "align": "left"
          },
          "hovermode": "closest",
          "mapbox": {
           "style": "light"
          },
          "paper_bgcolor": "white",
          "plot_bgcolor": "#E5ECF6",
          "polar": {
           "angularaxis": {
            "gridcolor": "white",
            "linecolor": "white",
            "ticks": ""
           },
           "bgcolor": "#E5ECF6",
           "radialaxis": {
            "gridcolor": "white",
            "linecolor": "white",
            "ticks": ""
           }
          },
          "scene": {
           "xaxis": {
            "backgroundcolor": "#E5ECF6",
            "gridcolor": "white",
            "gridwidth": 2,
            "linecolor": "white",
            "showbackground": true,
            "ticks": "",
            "zerolinecolor": "white"
           },
           "yaxis": {
            "backgroundcolor": "#E5ECF6",
            "gridcolor": "white",
            "gridwidth": 2,
            "linecolor": "white",
            "showbackground": true,
            "ticks": "",
            "zerolinecolor": "white"
           },
           "zaxis": {
            "backgroundcolor": "#E5ECF6",
            "gridcolor": "white",
            "gridwidth": 2,
            "linecolor": "white",
            "showbackground": true,
            "ticks": "",
            "zerolinecolor": "white"
           }
          },
          "shapedefaults": {
           "line": {
            "color": "#2a3f5f"
           }
          },
          "ternary": {
           "aaxis": {
            "gridcolor": "white",
            "linecolor": "white",
            "ticks": ""
           },
           "baxis": {
            "gridcolor": "white",
            "linecolor": "white",
            "ticks": ""
           },
           "bgcolor": "#E5ECF6",
           "caxis": {
            "gridcolor": "white",
            "linecolor": "white",
            "ticks": ""
           }
          },
          "title": {
           "x": 0.05
          },
          "xaxis": {
           "automargin": true,
           "gridcolor": "white",
           "linecolor": "white",
           "ticks": "",
           "title": {
            "standoff": 15
           },
           "zerolinecolor": "white",
           "zerolinewidth": 2
          },
          "yaxis": {
           "automargin": true,
           "gridcolor": "white",
           "linecolor": "white",
           "ticks": "",
           "title": {
            "standoff": 15
           },
           "zerolinecolor": "white",
           "zerolinewidth": 2
          }
         }
        },
        "title": {
         "text": "Average makespan (w/o SyN)"
        },
        "updatemenus": [
         {
          "buttons": [
           {
            "args": [
             {
              "visible": [
               false,
               false,
               false,
               false,
               false,
               false,
               true
              ]
             },
             {
              "title": "Global Average"
             }
            ],
            "label": "Global Average",
            "method": "update"
           },
           {
            "args": [
             {
              "visible": [
               false,
               false,
               false,
               false,
               false,
               true,
               false
              ]
             },
             {
              "title": "s036 Average"
             }
            ],
            "label": "s036",
            "method": "update"
           },
           {
            "args": [
             {
              "visible": [
               false,
               false,
               true,
               false,
               false,
               false,
               false
              ]
             },
             {
              "title": "s025 Average"
             }
            ],
            "label": "s025",
            "method": "update"
           },
           {
            "args": [
             {
              "visible": [
               false,
               true,
               false,
               false,
               false,
               false,
               false
              ]
             },
             {
              "title": "s017 Average"
             }
            ],
            "label": "s017",
            "method": "update"
           },
           {
            "args": [
             {
              "visible": [
               false,
               false,
               false,
               true,
               false,
               false,
               false
              ]
             },
             {
              "title": "s028 Average"
             }
            ],
            "label": "s028",
            "method": "update"
           },
           {
            "args": [
             {
              "visible": [
               true,
               false,
               false,
               false,
               false,
               false,
               false
              ]
             },
             {
              "title": "s003 Average"
             }
            ],
            "label": "s003",
            "method": "update"
           },
           {
            "args": [
             {
              "visible": [
               false,
               false,
               false,
               false,
               true,
               false,
               false
              ]
             },
             {
              "title": "s031 Average"
             }
            ],
            "label": "s031",
            "method": "update"
           }
          ],
          "showactive": true,
          "type": "dropdown"
         }
        ],
        "xaxis": {
         "title": {
          "text": "Experiment"
         }
        },
        "yaxis": {
         "range": [
          0,
          199.09443750000003
         ],
         "title": {
          "text": "Makespan (seconds)"
         }
        }
       }
      },
      "text/html": [
       "<div>                            <div id=\"f1c4d674-c679-4ad4-b57e-b05d97989a5a\" class=\"plotly-graph-div\" style=\"height:525px; width:100%;\"></div>            <script type=\"text/javascript\">                require([\"plotly\"], function(Plotly) {                    window.PLOTLYENV=window.PLOTLYENV || {};                                    if (document.getElementById(\"f1c4d674-c679-4ad4-b57e-b05d97989a5a\")) {                    Plotly.newPlot(                        \"f1c4d674-c679-4ad4-b57e-b05d97989a5a\",                        [{\"error_y\":{\"array\":[8.893945756024783,25.98090290108401,13.077199666255439,5.867112104301761],\"type\":\"data\"},\"name\":\"s003\",\"visible\":false,\"x\":[\"0\\u003cb style='color:red;'\\u003e0\\u003c\\u002fb\\u003e\",\"0\\u003cb style='color:red;'\\u003e1\\u003c\\u002fb\\u003e\",\"1\\u003cb style='color:red;'\\u003e0\\u003c\\u002fb\\u003e\",\"1\\u003cb style='color:red;'\\u003e1\\u003c\\u002fb\\u003e\"],\"y\":[166.666,146.856,180.602,152.116],\"type\":\"bar\"},{\"error_y\":{\"array\":[7.837679999705141,31.638484151249862,4.706044555371617,4.240172952447414],\"type\":\"data\"},\"name\":\"s017\",\"visible\":false,\"x\":[\"0\\u003cb style='color:red;'\\u003e0\\u003c\\u002fb\\u003e\",\"0\\u003cb style='color:red;'\\u003e1\\u003c\\u002fb\\u003e\",\"1\\u003cb style='color:red;'\\u003e0\\u003c\\u002fb\\u003e\",\"1\\u003cb style='color:red;'\\u003e1\\u003c\\u002fb\\u003e\"],\"y\":[187.42555555555555,141.3855,189.61375,154.6],\"type\":\"bar\"},{\"error_y\":{\"array\":[5.397432414275023,25.50446714335876,7.143647449929828,5.451490723748053],\"type\":\"data\"},\"name\":\"s025\",\"visible\":false,\"x\":[\"0\\u003cb style='color:red;'\\u003e0\\u003c\\u002fb\\u003e\",\"0\\u003cb style='color:red;'\\u003e1\\u003c\\u002fb\\u003e\",\"1\\u003cb style='color:red;'\\u003e0\\u003c\\u002fb\\u003e\",\"1\\u003cb style='color:red;'\\u003e1\\u003c\\u002fb\\u003e\"],\"y\":[161.791,145.2876,163.86100000000002,149.252],\"type\":\"bar\"},{\"error_y\":{\"array\":[6.373013328786384,24.330256983846265,13.091417884332547,5.717275963642512],\"type\":\"data\"},\"name\":\"s028\",\"visible\":false,\"x\":[\"0\\u003cb style='color:red;'\\u003e0\\u003c\\u002fb\\u003e\",\"0\\u003cb style='color:red;'\\u003e1\\u003c\\u002fb\\u003e\",\"1\\u003cb style='color:red;'\\u003e0\\u003c\\u002fb\\u003e\",\"1\\u003cb style='color:red;'\\u003e1\\u003c\\u002fb\\u003e\"],\"y\":[170.201,120.54069999999999,188.35999999999999,156.35999999999999],\"type\":\"bar\"},{\"error_y\":{\"array\":[null,4.829539315504121],\"type\":\"data\"},\"name\":\"s031\",\"visible\":false,\"x\":[\"0\\u003cb style='color:red;'\\u003e0\\u003c\\u002fb\\u003e\",\"0\\u003cb style='color:red;'\\u003e1\\u003c\\u002fb\\u003e\"],\"y\":[183.12,65.354],\"type\":\"bar\"},{\"error_y\":{\"array\":[14.672638026839842,11.272855745846588,10.287426035916095,10.668694026085028],\"type\":\"data\"},\"name\":\"s036\",\"visible\":false,\"x\":[\"0\\u003cb style='color:red;'\\u003e0\\u003c\\u002fb\\u003e\",\"0\\u003cb style='color:red;'\\u003e1\\u003c\\u002fb\\u003e\",\"1\\u003cb style='color:red;'\\u003e0\\u003c\\u002fb\\u003e\",\"1\\u003cb style='color:red;'\\u003e1\\u003c\\u002fb\\u003e\"],\"y\":[171.998,143.081,166.287,143.44099999999997],\"type\":\"bar\"},{\"error_y\":{\"array\":[12.274017935693026,28.9081041366998,14.740654665097948,7.93824323597289],\"type\":\"data\"},\"name\":\"Global Average\",\"visible\":true,\"x\":[\"0\\u003cb style='color:red;'\\u003e0\\u003c\\u002fb\\u003e\",\"0\\u003cb style='color:red;'\\u003e1\\u003c\\u002fb\\u003e\",\"1\\u003cb style='color:red;'\\u003e0\\u003c\\u002fb\\u003e\",\"1\\u003cb style='color:red;'\\u003e1\\u003c\\u002fb\\u003e\"],\"y\":[171.5302,136.58107692307692,177.25020833333335,151.1538],\"type\":\"bar\"}],                        {\"template\":{\"data\":{\"histogram2dcontour\":[{\"type\":\"histogram2dcontour\",\"colorbar\":{\"outlinewidth\":0,\"ticks\":\"\"},\"colorscale\":[[0.0,\"#0d0887\"],[0.1111111111111111,\"#46039f\"],[0.2222222222222222,\"#7201a8\"],[0.3333333333333333,\"#9c179e\"],[0.4444444444444444,\"#bd3786\"],[0.5555555555555556,\"#d8576b\"],[0.6666666666666666,\"#ed7953\"],[0.7777777777777778,\"#fb9f3a\"],[0.8888888888888888,\"#fdca26\"],[1.0,\"#f0f921\"]]}],\"choropleth\":[{\"type\":\"choropleth\",\"colorbar\":{\"outlinewidth\":0,\"ticks\":\"\"}}],\"histogram2d\":[{\"type\":\"histogram2d\",\"colorbar\":{\"outlinewidth\":0,\"ticks\":\"\"},\"colorscale\":[[0.0,\"#0d0887\"],[0.1111111111111111,\"#46039f\"],[0.2222222222222222,\"#7201a8\"],[0.3333333333333333,\"#9c179e\"],[0.4444444444444444,\"#bd3786\"],[0.5555555555555556,\"#d8576b\"],[0.6666666666666666,\"#ed7953\"],[0.7777777777777778,\"#fb9f3a\"],[0.8888888888888888,\"#fdca26\"],[1.0,\"#f0f921\"]]}],\"heatmap\":[{\"type\":\"heatmap\",\"colorbar\":{\"outlinewidth\":0,\"ticks\":\"\"},\"colorscale\":[[0.0,\"#0d0887\"],[0.1111111111111111,\"#46039f\"],[0.2222222222222222,\"#7201a8\"],[0.3333333333333333,\"#9c179e\"],[0.4444444444444444,\"#bd3786\"],[0.5555555555555556,\"#d8576b\"],[0.6666666666666666,\"#ed7953\"],[0.7777777777777778,\"#fb9f3a\"],[0.8888888888888888,\"#fdca26\"],[1.0,\"#f0f921\"]]}],\"heatmapgl\":[{\"type\":\"heatmapgl\",\"colorbar\":{\"outlinewidth\":0,\"ticks\":\"\"},\"colorscale\":[[0.0,\"#0d0887\"],[0.1111111111111111,\"#46039f\"],[0.2222222222222222,\"#7201a8\"],[0.3333333333333333,\"#9c179e\"],[0.4444444444444444,\"#bd3786\"],[0.5555555555555556,\"#d8576b\"],[0.6666666666666666,\"#ed7953\"],[0.7777777777777778,\"#fb9f3a\"],[0.8888888888888888,\"#fdca26\"],[1.0,\"#f0f921\"]]}],\"contourcarpet\":[{\"type\":\"contourcarpet\",\"colorbar\":{\"outlinewidth\":0,\"ticks\":\"\"}}],\"contour\":[{\"type\":\"contour\",\"colorbar\":{\"outlinewidth\":0,\"ticks\":\"\"},\"colorscale\":[[0.0,\"#0d0887\"],[0.1111111111111111,\"#46039f\"],[0.2222222222222222,\"#7201a8\"],[0.3333333333333333,\"#9c179e\"],[0.4444444444444444,\"#bd3786\"],[0.5555555555555556,\"#d8576b\"],[0.6666666666666666,\"#ed7953\"],[0.7777777777777778,\"#fb9f3a\"],[0.8888888888888888,\"#fdca26\"],[1.0,\"#f0f921\"]]}],\"surface\":[{\"type\":\"surface\",\"colorbar\":{\"outlinewidth\":0,\"ticks\":\"\"},\"colorscale\":[[0.0,\"#0d0887\"],[0.1111111111111111,\"#46039f\"],[0.2222222222222222,\"#7201a8\"],[0.3333333333333333,\"#9c179e\"],[0.4444444444444444,\"#bd3786\"],[0.5555555555555556,\"#d8576b\"],[0.6666666666666666,\"#ed7953\"],[0.7777777777777778,\"#fb9f3a\"],[0.8888888888888888,\"#fdca26\"],[1.0,\"#f0f921\"]]}],\"mesh3d\":[{\"type\":\"mesh3d\",\"colorbar\":{\"outlinewidth\":0,\"ticks\":\"\"}}],\"scatter\":[{\"fillpattern\":{\"fillmode\":\"overlay\",\"size\":10,\"solidity\":0.2},\"type\":\"scatter\"}],\"parcoords\":[{\"type\":\"parcoords\",\"line\":{\"colorbar\":{\"outlinewidth\":0,\"ticks\":\"\"}}}],\"scatterpolargl\":[{\"type\":\"scatterpolargl\",\"marker\":{\"colorbar\":{\"outlinewidth\":0,\"ticks\":\"\"}}}],\"bar\":[{\"error_x\":{\"color\":\"#2a3f5f\"},\"error_y\":{\"color\":\"#2a3f5f\"},\"marker\":{\"line\":{\"color\":\"#E5ECF6\",\"width\":0.5},\"pattern\":{\"fillmode\":\"overlay\",\"size\":10,\"solidity\":0.2}},\"type\":\"bar\"}],\"scattergeo\":[{\"type\":\"scattergeo\",\"marker\":{\"colorbar\":{\"outlinewidth\":0,\"ticks\":\"\"}}}],\"scatterpolar\":[{\"type\":\"scatterpolar\",\"marker\":{\"colorbar\":{\"outlinewidth\":0,\"ticks\":\"\"}}}],\"histogram\":[{\"marker\":{\"pattern\":{\"fillmode\":\"overlay\",\"size\":10,\"solidity\":0.2}},\"type\":\"histogram\"}],\"scattergl\":[{\"type\":\"scattergl\",\"marker\":{\"colorbar\":{\"outlinewidth\":0,\"ticks\":\"\"}}}],\"scatter3d\":[{\"type\":\"scatter3d\",\"line\":{\"colorbar\":{\"outlinewidth\":0,\"ticks\":\"\"}},\"marker\":{\"colorbar\":{\"outlinewidth\":0,\"ticks\":\"\"}}}],\"scattermapbox\":[{\"type\":\"scattermapbox\",\"marker\":{\"colorbar\":{\"outlinewidth\":0,\"ticks\":\"\"}}}],\"scatterternary\":[{\"type\":\"scatterternary\",\"marker\":{\"colorbar\":{\"outlinewidth\":0,\"ticks\":\"\"}}}],\"scattercarpet\":[{\"type\":\"scattercarpet\",\"marker\":{\"colorbar\":{\"outlinewidth\":0,\"ticks\":\"\"}}}],\"carpet\":[{\"aaxis\":{\"endlinecolor\":\"#2a3f5f\",\"gridcolor\":\"white\",\"linecolor\":\"white\",\"minorgridcolor\":\"white\",\"startlinecolor\":\"#2a3f5f\"},\"baxis\":{\"endlinecolor\":\"#2a3f5f\",\"gridcolor\":\"white\",\"linecolor\":\"white\",\"minorgridcolor\":\"white\",\"startlinecolor\":\"#2a3f5f\"},\"type\":\"carpet\"}],\"table\":[{\"cells\":{\"fill\":{\"color\":\"#EBF0F8\"},\"line\":{\"color\":\"white\"}},\"header\":{\"fill\":{\"color\":\"#C8D4E3\"},\"line\":{\"color\":\"white\"}},\"type\":\"table\"}],\"barpolar\":[{\"marker\":{\"line\":{\"color\":\"#E5ECF6\",\"width\":0.5},\"pattern\":{\"fillmode\":\"overlay\",\"size\":10,\"solidity\":0.2}},\"type\":\"barpolar\"}],\"pie\":[{\"automargin\":true,\"type\":\"pie\"}]},\"layout\":{\"autotypenumbers\":\"strict\",\"colorway\":[\"#636efa\",\"#EF553B\",\"#00cc96\",\"#ab63fa\",\"#FFA15A\",\"#19d3f3\",\"#FF6692\",\"#B6E880\",\"#FF97FF\",\"#FECB52\"],\"font\":{\"color\":\"#2a3f5f\"},\"hovermode\":\"closest\",\"hoverlabel\":{\"align\":\"left\"},\"paper_bgcolor\":\"white\",\"plot_bgcolor\":\"#E5ECF6\",\"polar\":{\"bgcolor\":\"#E5ECF6\",\"angularaxis\":{\"gridcolor\":\"white\",\"linecolor\":\"white\",\"ticks\":\"\"},\"radialaxis\":{\"gridcolor\":\"white\",\"linecolor\":\"white\",\"ticks\":\"\"}},\"ternary\":{\"bgcolor\":\"#E5ECF6\",\"aaxis\":{\"gridcolor\":\"white\",\"linecolor\":\"white\",\"ticks\":\"\"},\"baxis\":{\"gridcolor\":\"white\",\"linecolor\":\"white\",\"ticks\":\"\"},\"caxis\":{\"gridcolor\":\"white\",\"linecolor\":\"white\",\"ticks\":\"\"}},\"coloraxis\":{\"colorbar\":{\"outlinewidth\":0,\"ticks\":\"\"}},\"colorscale\":{\"sequential\":[[0.0,\"#0d0887\"],[0.1111111111111111,\"#46039f\"],[0.2222222222222222,\"#7201a8\"],[0.3333333333333333,\"#9c179e\"],[0.4444444444444444,\"#bd3786\"],[0.5555555555555556,\"#d8576b\"],[0.6666666666666666,\"#ed7953\"],[0.7777777777777778,\"#fb9f3a\"],[0.8888888888888888,\"#fdca26\"],[1.0,\"#f0f921\"]],\"sequentialminus\":[[0.0,\"#0d0887\"],[0.1111111111111111,\"#46039f\"],[0.2222222222222222,\"#7201a8\"],[0.3333333333333333,\"#9c179e\"],[0.4444444444444444,\"#bd3786\"],[0.5555555555555556,\"#d8576b\"],[0.6666666666666666,\"#ed7953\"],[0.7777777777777778,\"#fb9f3a\"],[0.8888888888888888,\"#fdca26\"],[1.0,\"#f0f921\"]],\"diverging\":[[0,\"#8e0152\"],[0.1,\"#c51b7d\"],[0.2,\"#de77ae\"],[0.3,\"#f1b6da\"],[0.4,\"#fde0ef\"],[0.5,\"#f7f7f7\"],[0.6,\"#e6f5d0\"],[0.7,\"#b8e186\"],[0.8,\"#7fbc41\"],[0.9,\"#4d9221\"],[1,\"#276419\"]]},\"xaxis\":{\"gridcolor\":\"white\",\"linecolor\":\"white\",\"ticks\":\"\",\"title\":{\"standoff\":15},\"zerolinecolor\":\"white\",\"automargin\":true,\"zerolinewidth\":2},\"yaxis\":{\"gridcolor\":\"white\",\"linecolor\":\"white\",\"ticks\":\"\",\"title\":{\"standoff\":15},\"zerolinecolor\":\"white\",\"automargin\":true,\"zerolinewidth\":2},\"scene\":{\"xaxis\":{\"backgroundcolor\":\"#E5ECF6\",\"gridcolor\":\"white\",\"linecolor\":\"white\",\"showbackground\":true,\"ticks\":\"\",\"zerolinecolor\":\"white\",\"gridwidth\":2},\"yaxis\":{\"backgroundcolor\":\"#E5ECF6\",\"gridcolor\":\"white\",\"linecolor\":\"white\",\"showbackground\":true,\"ticks\":\"\",\"zerolinecolor\":\"white\",\"gridwidth\":2},\"zaxis\":{\"backgroundcolor\":\"#E5ECF6\",\"gridcolor\":\"white\",\"linecolor\":\"white\",\"showbackground\":true,\"ticks\":\"\",\"zerolinecolor\":\"white\",\"gridwidth\":2}},\"shapedefaults\":{\"line\":{\"color\":\"#2a3f5f\"}},\"annotationdefaults\":{\"arrowcolor\":\"#2a3f5f\",\"arrowhead\":0,\"arrowwidth\":1},\"geo\":{\"bgcolor\":\"white\",\"landcolor\":\"#E5ECF6\",\"subunitcolor\":\"white\",\"showland\":true,\"showlakes\":true,\"lakecolor\":\"white\"},\"title\":{\"x\":0.05},\"mapbox\":{\"style\":\"light\"}}},\"yaxis\":{\"title\":{\"text\":\"Makespan (seconds)\"},\"range\":[0,199.09443750000003]},\"updatemenus\":[{\"buttons\":[{\"args\":[{\"visible\":[false,false,false,false,false,false,true]},{\"title\":\"Global Average\"}],\"label\":\"Global Average\",\"method\":\"update\"},{\"args\":[{\"visible\":[false,false,false,false,false,true,false]},{\"title\":\"s036 Average\"}],\"label\":\"s036\",\"method\":\"update\"},{\"args\":[{\"visible\":[false,false,true,false,false,false,false]},{\"title\":\"s025 Average\"}],\"label\":\"s025\",\"method\":\"update\"},{\"args\":[{\"visible\":[false,true,false,false,false,false,false]},{\"title\":\"s017 Average\"}],\"label\":\"s017\",\"method\":\"update\"},{\"args\":[{\"visible\":[false,false,false,true,false,false,false]},{\"title\":\"s028 Average\"}],\"label\":\"s028\",\"method\":\"update\"},{\"args\":[{\"visible\":[true,false,false,false,false,false,false]},{\"title\":\"s003 Average\"}],\"label\":\"s003\",\"method\":\"update\"},{\"args\":[{\"visible\":[false,false,false,false,true,false,false]},{\"title\":\"s031 Average\"}],\"label\":\"s031\",\"method\":\"update\"}],\"showactive\":true,\"type\":\"dropdown\"}],\"title\":{\"text\":\"Average makespan (w\\u002fo SyN)\"},\"xaxis\":{\"title\":{\"text\":\"Experiment\"}}},                        {\"responsive\": true}                    ).then(function(){\n",
       "                            \n",
       "var gd = document.getElementById('f1c4d674-c679-4ad4-b57e-b05d97989a5a');\n",
       "var x = new MutationObserver(function (mutations, observer) {{\n",
       "        var display = window.getComputedStyle(gd).display;\n",
       "        if (!display || display === 'none') {{\n",
       "            console.log([gd, 'removed!']);\n",
       "            Plotly.purge(gd);\n",
       "            observer.disconnect();\n",
       "        }}\n",
       "}});\n",
       "\n",
       "// Listen for the removal of the full notebook cells\n",
       "var notebookContainer = gd.closest('#notebook-container');\n",
       "if (notebookContainer) {{\n",
       "    x.observe(notebookContainer, {childList: true});\n",
       "}}\n",
       "\n",
       "// Listen for the clearing of the current output cell\n",
       "var outputEl = gd.closest('.output');\n",
       "if (outputEl) {{\n",
       "    x.observe(outputEl, {childList: true});\n",
       "}}\n",
       "\n",
       "                        })                };                });            </script>        </div>"
      ]
     },
     "metadata": {},
     "output_type": "display_data"
    }
   ],
   "source": [
    "fig = go.Figure()\n",
    "\n",
    "# Remove SyN experiments\n",
    "zoomed_stats = stats[~stats[\"exp_id\"].str.len().eq(3)]\n",
    "\n",
    "# Add traces for each subject and global average\n",
    "subjects = zoomed_stats[\"subj_id\"].unique()\n",
    "for subject in subjects:\n",
    "    subject_data = zoomed_stats[zoomed_stats[\"subj_id\"] == subject]\n",
    "    fig.add_trace(\n",
    "        go.Bar(\n",
    "            x=subject_data[\"highlighted_label\"],\n",
    "            y=subject_data[\"makespan_mean\"],\n",
    "            name=subject,\n",
    "            visible=(subject == \"Global Average\"),\n",
    "            error_y=dict(type=\"data\", array=subject_data[\"makespan_std\"]),\n",
    "        )\n",
    "    )\n",
    "\n",
    "buttons = get_dropdown(subjects)\n",
    "\n",
    "# Update layout with dropdown menu and fixed y-axis range\n",
    "fig.update_layout(\n",
    "    updatemenus=[dict(type=\"dropdown\", showactive=True, buttons=buttons)],\n",
    "    title=\"Average makespan (w/o SyN)\",\n",
    "    xaxis_title=\"Experiment\",\n",
    "    yaxis_title=\"Makespan (seconds)\",\n",
    "    yaxis=dict(range=[0, zoomed_stats[\"makespan_mean\"].max() * 1.05]),\n",
    "    # height=1000,\n",
    ")\n",
    "\n",
    "fig.show()\n",
    "fig.write_html(figure_dir / \"makespan_wo_syn.html\")\n",
    "fig.write_image(figure_dir / \"makespan_wo_syn.png\")"
   ]
  },
  {
   "cell_type": "markdown",
   "metadata": {},
   "source": [
    "## Iterations"
   ]
  },
  {
   "cell_type": "code",
   "execution_count": 16,
   "metadata": {},
   "outputs": [
    {
     "data": {
      "application/vnd.plotly.v1+json": {
       "config": {
        "plotlyServerURL": "https://plot.ly"
       },
       "data": [
        {
         "error_y": {
          "array": [
           35.63394137304738,
           4.581363212940978,
           14.945828106123052,
           12.509551905999226
          ],
          "type": "data"
         },
         "name": "l1 (s003)",
         "type": "bar",
         "visible": false,
         "x": [
          "0<b style='color:red;'>0</b>",
          "0<b style='color:red;'>1</b>",
          "1<b style='color:red;'>0</b>",
          "1<b style='color:red;'>1</b>"
         ],
         "y": [
          74,
          20.9,
          61.6,
          27.4
         ]
        },
        {
         "error_y": {
          "array": [
           16.658664745744513,
           9.285592184789413,
           7.008724721532601,
           14.011503210655958
          ],
          "type": "data"
         },
         "name": "l2 (s003)",
         "type": "bar",
         "visible": false,
         "x": [
          "0<b style='color:red;'>0</b>",
          "0<b style='color:red;'>1</b>",
          "1<b style='color:red;'>0</b>",
          "1<b style='color:red;'>1</b>"
         ],
         "y": [
          33.8,
          24,
          27.7,
          29.1
         ]
        },
        {
         "error_y": {
          "array": [
           5.915140648276159,
           9.043720964784843,
           8.560892995995736,
           8.36991968632648
          ],
          "type": "data"
         },
         "name": "l3 (s003)",
         "type": "bar",
         "visible": false,
         "x": [
          "0<b style='color:red;'>0</b>",
          "0<b style='color:red;'>1</b>",
          "1<b style='color:red;'>0</b>",
          "1<b style='color:red;'>1</b>"
         ],
         "y": [
          28.1,
          29.7,
          32.8,
          22.5
         ]
        },
        {
         "error_y": {
          "array": [
           1.2516655570345725,
           6.380525927469546,
           2.359378449224852,
           0
          ],
          "type": "data"
         },
         "name": "l4 (s003)",
         "type": "bar",
         "visible": false,
         "x": [
          "0<b style='color:red;'>0</b>",
          "0<b style='color:red;'>1</b>",
          "1<b style='color:red;'>0</b>",
          "1<b style='color:red;'>1</b>"
         ],
         "y": [
          30.3,
          28.6,
          31.7,
          31
         ]
        },
        {
         "error_y": {
          "array": [
           5.939509893735154,
           4.347413023856832,
           6.8959097607619135,
           7.214183560490019
          ],
          "type": "data"
         },
         "name": "l1 (s017)",
         "type": "bar",
         "visible": false,
         "x": [
          "0<b style='color:red;'>0</b>",
          "0<b style='color:red;'>1</b>",
          "1<b style='color:red;'>0</b>",
          "1<b style='color:red;'>1</b>"
         ],
         "y": [
          40.44444444444444,
          22.3,
          46.875,
          29.6
         ]
        },
        {
         "error_y": {
          "array": [
           1.9999999999999998,
           4.357624225296267,
           0.9258200997725513,
           5.417051268397267
          ],
          "type": "data"
         },
         "name": "l2 (s017)",
         "type": "bar",
         "visible": false,
         "x": [
          "0<b style='color:red;'>0</b>",
          "0<b style='color:red;'>1</b>",
          "1<b style='color:red;'>0</b>",
          "1<b style='color:red;'>1</b>"
         ],
         "y": [
          32,
          17.9,
          32,
          17.3
         ]
        },
        {
         "error_y": {
          "array": [
           1.666666666666666,
           7.748835037890821,
           3.090885217631258,
           5.168279318217149
          ],
          "type": "data"
         },
         "name": "l3 (s017)",
         "type": "bar",
         "visible": false,
         "x": [
          "0<b style='color:red;'>0</b>",
          "0<b style='color:red;'>1</b>",
          "1<b style='color:red;'>0</b>",
          "1<b style='color:red;'>1</b>"
         ],
         "y": [
          31.555555555555557,
          22.4,
          33.125,
          21.6
         ]
        },
        {
         "error_y": {
          "array": [
           0.6666666666666669,
           6.669999167083073,
           0,
           0
          ],
          "type": "data"
         },
         "name": "l4 (s017)",
         "type": "bar",
         "visible": false,
         "x": [
          "0<b style='color:red;'>0</b>",
          "0<b style='color:red;'>1</b>",
          "1<b style='color:red;'>0</b>",
          "1<b style='color:red;'>1</b>"
         ],
         "y": [
          31.22222222222222,
          26.6,
          31,
          31
         ]
        },
        {
         "error_y": {
          "array": [
           4.391911757866827,
           9.008637830191395,
           13.906033862240442,
           7.880355321938219
          ],
          "type": "data"
         },
         "name": "l1 (s025)",
         "type": "bar",
         "visible": false,
         "x": [
          "0<b style='color:red;'>0</b>",
          "0<b style='color:red;'>1</b>",
          "1<b style='color:red;'>0</b>",
          "1<b style='color:red;'>1</b>"
         ],
         "y": [
          24.2,
          21.4,
          30.4,
          23.1
         ]
        },
        {
         "error_y": {
          "array": [
           7.43938468184328,
           6.254775952999615,
           4.550946177566936,
           5.250396810400778
          ],
          "type": "data"
         },
         "name": "l2 (s025)",
         "type": "bar",
         "visible": false,
         "x": [
          "0<b style='color:red;'>0</b>",
          "0<b style='color:red;'>1</b>",
          "1<b style='color:red;'>0</b>",
          "1<b style='color:red;'>1</b>"
         ],
         "y": [
          20.7,
          21.7,
          18.6,
          16.3
         ]
        },
        {
         "error_y": {
          "array": [
           4.501851470969102,
           5.181162460726786,
           5.3374983736661585,
           5.70087712549569
          ],
          "type": "data"
         },
         "name": "l3 (s025)",
         "type": "bar",
         "visible": false,
         "x": [
          "0<b style='color:red;'>0</b>",
          "0<b style='color:red;'>1</b>",
          "1<b style='color:red;'>0</b>",
          "1<b style='color:red;'>1</b>"
         ],
         "y": [
          26.6,
          22.2,
          23.4,
          22.5
         ]
        },
        {
         "error_y": {
          "array": [
           0.5163977794943226,
           5.792715732327589,
           0.6324555320336758,
           0
          ],
          "type": "data"
         },
         "name": "l4 (s025)",
         "type": "bar",
         "visible": false,
         "x": [
          "0<b style='color:red;'>0</b>",
          "0<b style='color:red;'>1</b>",
          "1<b style='color:red;'>0</b>",
          "1<b style='color:red;'>1</b>"
         ],
         "y": [
          30.4,
          29,
          30.8,
          31
         ]
        },
        {
         "error_y": {
          "array": [
           35.377488133934364,
           4.993328882953069,
           25.18376902336547,
           5.121848624601604
          ],
          "type": "data"
         },
         "name": "l1 (s028)",
         "type": "bar",
         "visible": false,
         "x": [
          "0<b style='color:red;'>0</b>",
          "0<b style='color:red;'>1</b>",
          "1<b style='color:red;'>0</b>",
          "1<b style='color:red;'>1</b>"
         ],
         "y": [
          61.3,
          18.6,
          69,
          24.7
         ]
        },
        {
         "error_y": {
          "array": [
           19.709275875981735,
           15.597720631197653,
           7.245688373094718,
           7.927448797970533
          ],
          "type": "data"
         },
         "name": "l2 (s028)",
         "type": "bar",
         "visible": false,
         "x": [
          "0<b style='color:red;'>0</b>",
          "0<b style='color:red;'>1</b>",
          "1<b style='color:red;'>0</b>",
          "1<b style='color:red;'>1</b>"
         ],
         "y": [
          35.7,
          22.8,
          33.5,
          24.2
         ]
        },
        {
         "error_y": {
          "array": [
           7.96938586787659,
           4.47337804249888,
           4.306326095924975,
           8.017342313870461
          ],
          "type": "data"
         },
         "name": "l3 (s028)",
         "type": "bar",
         "visible": false,
         "x": [
          "0<b style='color:red;'>0</b>",
          "0<b style='color:red;'>1</b>",
          "1<b style='color:red;'>0</b>",
          "1<b style='color:red;'>1</b>"
         ],
         "y": [
          27.8,
          17.3,
          32.1,
          25.5
         ]
        },
        {
         "error_y": {
          "array": [
           0.31622776601683755,
           5.420127099780759,
           1.3374935098492584,
           0
          ],
          "type": "data"
         },
         "name": "l4 (s028)",
         "type": "bar",
         "visible": false,
         "x": [
          "0<b style='color:red;'>0</b>",
          "0<b style='color:red;'>1</b>",
          "1<b style='color:red;'>0</b>",
          "1<b style='color:red;'>1</b>"
         ],
         "y": [
          30.9,
          23.4,
          31.7,
          31
         ]
        },
        {
         "error_y": {
          "array": [
           null,
           9.899494936611665
          ],
          "type": "data"
         },
         "name": "l1 (s031)",
         "type": "bar",
         "visible": false,
         "x": [
          "0<b style='color:red;'>0</b>",
          "0<b style='color:red;'>1</b>"
         ],
         "y": [
          43,
          24
         ]
        },
        {
         "error_y": {
          "array": [
           null,
           5.656854249492381
          ],
          "type": "data"
         },
         "name": "l2 (s031)",
         "type": "bar",
         "visible": false,
         "x": [
          "0<b style='color:red;'>0</b>",
          "0<b style='color:red;'>1</b>"
         ],
         "y": [
          34,
          15
         ]
        },
        {
         "error_y": {
          "array": [
           null,
           3.5355339059327378
          ],
          "type": "data"
         },
         "name": "l3 (s031)",
         "type": "bar",
         "visible": false,
         "x": [
          "0<b style='color:red;'>0</b>",
          "0<b style='color:red;'>1</b>"
         ],
         "y": [
          31,
          16.5
         ]
        },
        {
         "error_y": {
          "array": [
           null,
           1.4142135623730951
          ],
          "type": "data"
         },
         "name": "l4 (s031)",
         "type": "bar",
         "visible": false,
         "x": [
          "0<b style='color:red;'>0</b>",
          "0<b style='color:red;'>1</b>"
         ],
         "y": [
          31,
          14
         ]
        },
        {
         "error_y": {
          "array": [
           7.863417408056967,
           4.624812308503869,
           9.600925881277169,
           7.055336829505575
          ],
          "type": "data"
         },
         "name": "l1 (s036)",
         "type": "bar",
         "visible": false,
         "x": [
          "0<b style='color:red;'>0</b>",
          "0<b style='color:red;'>1</b>",
          "1<b style='color:red;'>0</b>",
          "1<b style='color:red;'>1</b>"
         ],
         "y": [
          44.5,
          29.5,
          51.2,
          35
         ]
        },
        {
         "error_y": {
          "array": [
           3.2659863237109055,
           4.243949942107129,
           5.79271573232759,
           4.853406592853679
          ],
          "type": "data"
         },
         "name": "l2 (s036)",
         "type": "bar",
         "visible": false,
         "x": [
          "0<b style='color:red;'>0</b>",
          "0<b style='color:red;'>1</b>",
          "1<b style='color:red;'>0</b>",
          "1<b style='color:red;'>1</b>"
         ],
         "y": [
          33,
          18.3,
          31,
          18
         ]
        },
        {
         "error_y": {
          "array": [
           0.42163702135578385,
           8.080154013933699,
           5.1693541397569405,
           6.390965845976994
          ],
          "type": "data"
         },
         "name": "l3 (s036)",
         "type": "bar",
         "visible": false,
         "x": [
          "0<b style='color:red;'>0</b>",
          "0<b style='color:red;'>1</b>",
          "1<b style='color:red;'>0</b>",
          "1<b style='color:red;'>1</b>"
         ],
         "y": [
          31.2,
          22.2,
          30.5,
          22.8
         ]
        },
        {
         "error_y": {
          "array": [
           1.8973665961010278,
           0.6749485577105528,
           0.47140452079103157,
           0
          ],
          "type": "data"
         },
         "name": "l4 (s036)",
         "type": "bar",
         "visible": false,
         "x": [
          "0<b style='color:red;'>0</b>",
          "0<b style='color:red;'>1</b>",
          "1<b style='color:red;'>0</b>",
          "1<b style='color:red;'>1</b>"
         ],
         "y": [
          31.6,
          30.7,
          31,
          31
         ]
        },
        {
         "error_y": {
          "array": [
           28.03598998954518,
           6.698725706693352,
           20.272074475645045,
           9.021425743693708
          ],
          "type": "data"
         },
         "name": "l1 (Global Average)",
         "type": "bar",
         "visible": true,
         "x": [
          "0<b style='color:red;'>0</b>",
          "0<b style='color:red;'>1</b>",
          "1<b style='color:red;'>0</b>",
          "1<b style='color:red;'>1</b>"
         ],
         "y": [
          48.94,
          22.596153846153847,
          52.020833333333336,
          27.96
         ]
        },
        {
         "error_y": {
          "array": [
           12.807587037154413,
           8.907666974020769,
           7.726256238372692,
           9.327357173215503
          ],
          "type": "data"
         },
         "name": "l2 (Global Average)",
         "type": "bar",
         "visible": true,
         "x": [
          "0<b style='color:red;'>0</b>",
          "0<b style='color:red;'>1</b>",
          "1<b style='color:red;'>0</b>",
          "1<b style='color:red;'>1</b>"
         ],
         "y": [
          31.08,
          20.71153846153846,
          28.416666666666668,
          20.98
         ]
        },
        {
         "error_y": {
          "array": [
           5.118832775115029,
           7.872738728228968,
           6.564701167489631,
           6.695993319188143
          ],
          "type": "data"
         },
         "name": "l3 (Global Average)",
         "type": "bar",
         "visible": true,
         "x": [
          "0<b style='color:red;'>0</b>",
          "0<b style='color:red;'>1</b>",
          "1<b style='color:red;'>0</b>",
          "1<b style='color:red;'>1</b>"
         ],
         "y": [
          29.04,
          22.51923076923077,
          30.270833333333332,
          22.98
         ]
        },
        {
         "error_y": {
          "array": [
           1.1542291358128087,
           6.277969092596887,
           1.2964764031133718,
           0
          ],
          "type": "data"
         },
         "name": "l4 (Global Average)",
         "type": "bar",
         "visible": true,
         "x": [
          "0<b style='color:red;'>0</b>",
          "0<b style='color:red;'>1</b>",
          "1<b style='color:red;'>0</b>",
          "1<b style='color:red;'>1</b>"
         ],
         "y": [
          30.88,
          27.134615384615383,
          31.25,
          31
         ]
        }
       ],
       "layout": {
        "barmode": "stack",
        "template": {
         "data": {
          "bar": [
           {
            "error_x": {
             "color": "#2a3f5f"
            },
            "error_y": {
             "color": "#2a3f5f"
            },
            "marker": {
             "line": {
              "color": "#E5ECF6",
              "width": 0.5
             },
             "pattern": {
              "fillmode": "overlay",
              "size": 10,
              "solidity": 0.2
             }
            },
            "type": "bar"
           }
          ],
          "barpolar": [
           {
            "marker": {
             "line": {
              "color": "#E5ECF6",
              "width": 0.5
             },
             "pattern": {
              "fillmode": "overlay",
              "size": 10,
              "solidity": 0.2
             }
            },
            "type": "barpolar"
           }
          ],
          "carpet": [
           {
            "aaxis": {
             "endlinecolor": "#2a3f5f",
             "gridcolor": "white",
             "linecolor": "white",
             "minorgridcolor": "white",
             "startlinecolor": "#2a3f5f"
            },
            "baxis": {
             "endlinecolor": "#2a3f5f",
             "gridcolor": "white",
             "linecolor": "white",
             "minorgridcolor": "white",
             "startlinecolor": "#2a3f5f"
            },
            "type": "carpet"
           }
          ],
          "choropleth": [
           {
            "colorbar": {
             "outlinewidth": 0,
             "ticks": ""
            },
            "type": "choropleth"
           }
          ],
          "contour": [
           {
            "colorbar": {
             "outlinewidth": 0,
             "ticks": ""
            },
            "colorscale": [
             [
              0,
              "#0d0887"
             ],
             [
              0.1111111111111111,
              "#46039f"
             ],
             [
              0.2222222222222222,
              "#7201a8"
             ],
             [
              0.3333333333333333,
              "#9c179e"
             ],
             [
              0.4444444444444444,
              "#bd3786"
             ],
             [
              0.5555555555555556,
              "#d8576b"
             ],
             [
              0.6666666666666666,
              "#ed7953"
             ],
             [
              0.7777777777777778,
              "#fb9f3a"
             ],
             [
              0.8888888888888888,
              "#fdca26"
             ],
             [
              1,
              "#f0f921"
             ]
            ],
            "type": "contour"
           }
          ],
          "contourcarpet": [
           {
            "colorbar": {
             "outlinewidth": 0,
             "ticks": ""
            },
            "type": "contourcarpet"
           }
          ],
          "heatmap": [
           {
            "colorbar": {
             "outlinewidth": 0,
             "ticks": ""
            },
            "colorscale": [
             [
              0,
              "#0d0887"
             ],
             [
              0.1111111111111111,
              "#46039f"
             ],
             [
              0.2222222222222222,
              "#7201a8"
             ],
             [
              0.3333333333333333,
              "#9c179e"
             ],
             [
              0.4444444444444444,
              "#bd3786"
             ],
             [
              0.5555555555555556,
              "#d8576b"
             ],
             [
              0.6666666666666666,
              "#ed7953"
             ],
             [
              0.7777777777777778,
              "#fb9f3a"
             ],
             [
              0.8888888888888888,
              "#fdca26"
             ],
             [
              1,
              "#f0f921"
             ]
            ],
            "type": "heatmap"
           }
          ],
          "heatmapgl": [
           {
            "colorbar": {
             "outlinewidth": 0,
             "ticks": ""
            },
            "colorscale": [
             [
              0,
              "#0d0887"
             ],
             [
              0.1111111111111111,
              "#46039f"
             ],
             [
              0.2222222222222222,
              "#7201a8"
             ],
             [
              0.3333333333333333,
              "#9c179e"
             ],
             [
              0.4444444444444444,
              "#bd3786"
             ],
             [
              0.5555555555555556,
              "#d8576b"
             ],
             [
              0.6666666666666666,
              "#ed7953"
             ],
             [
              0.7777777777777778,
              "#fb9f3a"
             ],
             [
              0.8888888888888888,
              "#fdca26"
             ],
             [
              1,
              "#f0f921"
             ]
            ],
            "type": "heatmapgl"
           }
          ],
          "histogram": [
           {
            "marker": {
             "pattern": {
              "fillmode": "overlay",
              "size": 10,
              "solidity": 0.2
             }
            },
            "type": "histogram"
           }
          ],
          "histogram2d": [
           {
            "colorbar": {
             "outlinewidth": 0,
             "ticks": ""
            },
            "colorscale": [
             [
              0,
              "#0d0887"
             ],
             [
              0.1111111111111111,
              "#46039f"
             ],
             [
              0.2222222222222222,
              "#7201a8"
             ],
             [
              0.3333333333333333,
              "#9c179e"
             ],
             [
              0.4444444444444444,
              "#bd3786"
             ],
             [
              0.5555555555555556,
              "#d8576b"
             ],
             [
              0.6666666666666666,
              "#ed7953"
             ],
             [
              0.7777777777777778,
              "#fb9f3a"
             ],
             [
              0.8888888888888888,
              "#fdca26"
             ],
             [
              1,
              "#f0f921"
             ]
            ],
            "type": "histogram2d"
           }
          ],
          "histogram2dcontour": [
           {
            "colorbar": {
             "outlinewidth": 0,
             "ticks": ""
            },
            "colorscale": [
             [
              0,
              "#0d0887"
             ],
             [
              0.1111111111111111,
              "#46039f"
             ],
             [
              0.2222222222222222,
              "#7201a8"
             ],
             [
              0.3333333333333333,
              "#9c179e"
             ],
             [
              0.4444444444444444,
              "#bd3786"
             ],
             [
              0.5555555555555556,
              "#d8576b"
             ],
             [
              0.6666666666666666,
              "#ed7953"
             ],
             [
              0.7777777777777778,
              "#fb9f3a"
             ],
             [
              0.8888888888888888,
              "#fdca26"
             ],
             [
              1,
              "#f0f921"
             ]
            ],
            "type": "histogram2dcontour"
           }
          ],
          "mesh3d": [
           {
            "colorbar": {
             "outlinewidth": 0,
             "ticks": ""
            },
            "type": "mesh3d"
           }
          ],
          "parcoords": [
           {
            "line": {
             "colorbar": {
              "outlinewidth": 0,
              "ticks": ""
             }
            },
            "type": "parcoords"
           }
          ],
          "pie": [
           {
            "automargin": true,
            "type": "pie"
           }
          ],
          "scatter": [
           {
            "fillpattern": {
             "fillmode": "overlay",
             "size": 10,
             "solidity": 0.2
            },
            "type": "scatter"
           }
          ],
          "scatter3d": [
           {
            "line": {
             "colorbar": {
              "outlinewidth": 0,
              "ticks": ""
             }
            },
            "marker": {
             "colorbar": {
              "outlinewidth": 0,
              "ticks": ""
             }
            },
            "type": "scatter3d"
           }
          ],
          "scattercarpet": [
           {
            "marker": {
             "colorbar": {
              "outlinewidth": 0,
              "ticks": ""
             }
            },
            "type": "scattercarpet"
           }
          ],
          "scattergeo": [
           {
            "marker": {
             "colorbar": {
              "outlinewidth": 0,
              "ticks": ""
             }
            },
            "type": "scattergeo"
           }
          ],
          "scattergl": [
           {
            "marker": {
             "colorbar": {
              "outlinewidth": 0,
              "ticks": ""
             }
            },
            "type": "scattergl"
           }
          ],
          "scattermapbox": [
           {
            "marker": {
             "colorbar": {
              "outlinewidth": 0,
              "ticks": ""
             }
            },
            "type": "scattermapbox"
           }
          ],
          "scatterpolar": [
           {
            "marker": {
             "colorbar": {
              "outlinewidth": 0,
              "ticks": ""
             }
            },
            "type": "scatterpolar"
           }
          ],
          "scatterpolargl": [
           {
            "marker": {
             "colorbar": {
              "outlinewidth": 0,
              "ticks": ""
             }
            },
            "type": "scatterpolargl"
           }
          ],
          "scatterternary": [
           {
            "marker": {
             "colorbar": {
              "outlinewidth": 0,
              "ticks": ""
             }
            },
            "type": "scatterternary"
           }
          ],
          "surface": [
           {
            "colorbar": {
             "outlinewidth": 0,
             "ticks": ""
            },
            "colorscale": [
             [
              0,
              "#0d0887"
             ],
             [
              0.1111111111111111,
              "#46039f"
             ],
             [
              0.2222222222222222,
              "#7201a8"
             ],
             [
              0.3333333333333333,
              "#9c179e"
             ],
             [
              0.4444444444444444,
              "#bd3786"
             ],
             [
              0.5555555555555556,
              "#d8576b"
             ],
             [
              0.6666666666666666,
              "#ed7953"
             ],
             [
              0.7777777777777778,
              "#fb9f3a"
             ],
             [
              0.8888888888888888,
              "#fdca26"
             ],
             [
              1,
              "#f0f921"
             ]
            ],
            "type": "surface"
           }
          ],
          "table": [
           {
            "cells": {
             "fill": {
              "color": "#EBF0F8"
             },
             "line": {
              "color": "white"
             }
            },
            "header": {
             "fill": {
              "color": "#C8D4E3"
             },
             "line": {
              "color": "white"
             }
            },
            "type": "table"
           }
          ]
         },
         "layout": {
          "annotationdefaults": {
           "arrowcolor": "#2a3f5f",
           "arrowhead": 0,
           "arrowwidth": 1
          },
          "autotypenumbers": "strict",
          "coloraxis": {
           "colorbar": {
            "outlinewidth": 0,
            "ticks": ""
           }
          },
          "colorscale": {
           "diverging": [
            [
             0,
             "#8e0152"
            ],
            [
             0.1,
             "#c51b7d"
            ],
            [
             0.2,
             "#de77ae"
            ],
            [
             0.3,
             "#f1b6da"
            ],
            [
             0.4,
             "#fde0ef"
            ],
            [
             0.5,
             "#f7f7f7"
            ],
            [
             0.6,
             "#e6f5d0"
            ],
            [
             0.7,
             "#b8e186"
            ],
            [
             0.8,
             "#7fbc41"
            ],
            [
             0.9,
             "#4d9221"
            ],
            [
             1,
             "#276419"
            ]
           ],
           "sequential": [
            [
             0,
             "#0d0887"
            ],
            [
             0.1111111111111111,
             "#46039f"
            ],
            [
             0.2222222222222222,
             "#7201a8"
            ],
            [
             0.3333333333333333,
             "#9c179e"
            ],
            [
             0.4444444444444444,
             "#bd3786"
            ],
            [
             0.5555555555555556,
             "#d8576b"
            ],
            [
             0.6666666666666666,
             "#ed7953"
            ],
            [
             0.7777777777777778,
             "#fb9f3a"
            ],
            [
             0.8888888888888888,
             "#fdca26"
            ],
            [
             1,
             "#f0f921"
            ]
           ],
           "sequentialminus": [
            [
             0,
             "#0d0887"
            ],
            [
             0.1111111111111111,
             "#46039f"
            ],
            [
             0.2222222222222222,
             "#7201a8"
            ],
            [
             0.3333333333333333,
             "#9c179e"
            ],
            [
             0.4444444444444444,
             "#bd3786"
            ],
            [
             0.5555555555555556,
             "#d8576b"
            ],
            [
             0.6666666666666666,
             "#ed7953"
            ],
            [
             0.7777777777777778,
             "#fb9f3a"
            ],
            [
             0.8888888888888888,
             "#fdca26"
            ],
            [
             1,
             "#f0f921"
            ]
           ]
          },
          "colorway": [
           "#636efa",
           "#EF553B",
           "#00cc96",
           "#ab63fa",
           "#FFA15A",
           "#19d3f3",
           "#FF6692",
           "#B6E880",
           "#FF97FF",
           "#FECB52"
          ],
          "font": {
           "color": "#2a3f5f"
          },
          "geo": {
           "bgcolor": "white",
           "lakecolor": "white",
           "landcolor": "#E5ECF6",
           "showlakes": true,
           "showland": true,
           "subunitcolor": "white"
          },
          "hoverlabel": {
           "align": "left"
          },
          "hovermode": "closest",
          "mapbox": {
           "style": "light"
          },
          "paper_bgcolor": "white",
          "plot_bgcolor": "#E5ECF6",
          "polar": {
           "angularaxis": {
            "gridcolor": "white",
            "linecolor": "white",
            "ticks": ""
           },
           "bgcolor": "#E5ECF6",
           "radialaxis": {
            "gridcolor": "white",
            "linecolor": "white",
            "ticks": ""
           }
          },
          "scene": {
           "xaxis": {
            "backgroundcolor": "#E5ECF6",
            "gridcolor": "white",
            "gridwidth": 2,
            "linecolor": "white",
            "showbackground": true,
            "ticks": "",
            "zerolinecolor": "white"
           },
           "yaxis": {
            "backgroundcolor": "#E5ECF6",
            "gridcolor": "white",
            "gridwidth": 2,
            "linecolor": "white",
            "showbackground": true,
            "ticks": "",
            "zerolinecolor": "white"
           },
           "zaxis": {
            "backgroundcolor": "#E5ECF6",
            "gridcolor": "white",
            "gridwidth": 2,
            "linecolor": "white",
            "showbackground": true,
            "ticks": "",
            "zerolinecolor": "white"
           }
          },
          "shapedefaults": {
           "line": {
            "color": "#2a3f5f"
           }
          },
          "ternary": {
           "aaxis": {
            "gridcolor": "white",
            "linecolor": "white",
            "ticks": ""
           },
           "baxis": {
            "gridcolor": "white",
            "linecolor": "white",
            "ticks": ""
           },
           "bgcolor": "#E5ECF6",
           "caxis": {
            "gridcolor": "white",
            "linecolor": "white",
            "ticks": ""
           }
          },
          "title": {
           "x": 0.05
          },
          "xaxis": {
           "automargin": true,
           "gridcolor": "white",
           "linecolor": "white",
           "ticks": "",
           "title": {
            "standoff": 15
           },
           "zerolinecolor": "white",
           "zerolinewidth": 2
          },
          "yaxis": {
           "automargin": true,
           "gridcolor": "white",
           "linecolor": "white",
           "ticks": "",
           "title": {
            "standoff": 15
           },
           "zerolinecolor": "white",
           "zerolinewidth": 2
          }
         }
        },
        "title": {
         "text": "Average number of iterations for each level"
        },
        "updatemenus": [
         {
          "buttons": [
           {
            "args": [
             {
              "visible": [
               false,
               false,
               false,
               false,
               false,
               false,
               true
              ]
             },
             {
              "title": "Global Average"
             }
            ],
            "label": "Global Average",
            "method": "update"
           },
           {
            "args": [
             {
              "visible": [
               false,
               false,
               false,
               false,
               false,
               true,
               false
              ]
             },
             {
              "title": "s036 Average"
             }
            ],
            "label": "s036",
            "method": "update"
           },
           {
            "args": [
             {
              "visible": [
               false,
               false,
               true,
               false,
               false,
               false,
               false
              ]
             },
             {
              "title": "s025 Average"
             }
            ],
            "label": "s025",
            "method": "update"
           },
           {
            "args": [
             {
              "visible": [
               false,
               true,
               false,
               false,
               false,
               false,
               false
              ]
             },
             {
              "title": "s017 Average"
             }
            ],
            "label": "s017",
            "method": "update"
           },
           {
            "args": [
             {
              "visible": [
               false,
               false,
               false,
               true,
               false,
               false,
               false
              ]
             },
             {
              "title": "s028 Average"
             }
            ],
            "label": "s028",
            "method": "update"
           },
           {
            "args": [
             {
              "visible": [
               true,
               false,
               false,
               false,
               false,
               false,
               false
              ]
             },
             {
              "title": "s003 Average"
             }
            ],
            "label": "s003",
            "method": "update"
           },
           {
            "args": [
             {
              "visible": [
               false,
               false,
               false,
               false,
               true,
               false,
               false
              ]
             },
             {
              "title": "s031 Average"
             }
            ],
            "label": "s031",
            "method": "update"
           }
          ],
          "showactive": true,
          "type": "dropdown"
         }
        ],
        "xaxis": {
         "title": {
          "text": "Experiment ID"
         }
        },
        "yaxis": {
         "range": [
          0,
          149.09270833333335
         ],
         "title": {
          "text": "Number of Iterations"
         }
        }
       }
      },
      "text/html": [
       "<div>                            <div id=\"33ab3aec-0873-4e9f-8c2d-9c79ad7eec78\" class=\"plotly-graph-div\" style=\"height:525px; width:100%;\"></div>            <script type=\"text/javascript\">                require([\"plotly\"], function(Plotly) {                    window.PLOTLYENV=window.PLOTLYENV || {};                                    if (document.getElementById(\"33ab3aec-0873-4e9f-8c2d-9c79ad7eec78\")) {                    Plotly.newPlot(                        \"33ab3aec-0873-4e9f-8c2d-9c79ad7eec78\",                        [{\"error_y\":{\"array\":[35.63394137304738,4.581363212940978,14.945828106123052,12.509551905999226],\"type\":\"data\"},\"name\":\"l1 (s003)\",\"visible\":false,\"x\":[\"0\\u003cb style='color:red;'\\u003e0\\u003c\\u002fb\\u003e\",\"0\\u003cb style='color:red;'\\u003e1\\u003c\\u002fb\\u003e\",\"1\\u003cb style='color:red;'\\u003e0\\u003c\\u002fb\\u003e\",\"1\\u003cb style='color:red;'\\u003e1\\u003c\\u002fb\\u003e\"],\"y\":[74.0,20.9,61.6,27.4],\"type\":\"bar\"},{\"error_y\":{\"array\":[16.658664745744513,9.285592184789413,7.008724721532601,14.011503210655958],\"type\":\"data\"},\"name\":\"l2 (s003)\",\"visible\":false,\"x\":[\"0\\u003cb style='color:red;'\\u003e0\\u003c\\u002fb\\u003e\",\"0\\u003cb style='color:red;'\\u003e1\\u003c\\u002fb\\u003e\",\"1\\u003cb style='color:red;'\\u003e0\\u003c\\u002fb\\u003e\",\"1\\u003cb style='color:red;'\\u003e1\\u003c\\u002fb\\u003e\"],\"y\":[33.8,24.0,27.7,29.1],\"type\":\"bar\"},{\"error_y\":{\"array\":[5.915140648276159,9.043720964784843,8.560892995995736,8.36991968632648],\"type\":\"data\"},\"name\":\"l3 (s003)\",\"visible\":false,\"x\":[\"0\\u003cb style='color:red;'\\u003e0\\u003c\\u002fb\\u003e\",\"0\\u003cb style='color:red;'\\u003e1\\u003c\\u002fb\\u003e\",\"1\\u003cb style='color:red;'\\u003e0\\u003c\\u002fb\\u003e\",\"1\\u003cb style='color:red;'\\u003e1\\u003c\\u002fb\\u003e\"],\"y\":[28.1,29.7,32.8,22.5],\"type\":\"bar\"},{\"error_y\":{\"array\":[1.2516655570345725,6.380525927469546,2.359378449224852,0.0],\"type\":\"data\"},\"name\":\"l4 (s003)\",\"visible\":false,\"x\":[\"0\\u003cb style='color:red;'\\u003e0\\u003c\\u002fb\\u003e\",\"0\\u003cb style='color:red;'\\u003e1\\u003c\\u002fb\\u003e\",\"1\\u003cb style='color:red;'\\u003e0\\u003c\\u002fb\\u003e\",\"1\\u003cb style='color:red;'\\u003e1\\u003c\\u002fb\\u003e\"],\"y\":[30.3,28.6,31.7,31.0],\"type\":\"bar\"},{\"error_y\":{\"array\":[5.939509893735154,4.347413023856832,6.8959097607619135,7.214183560490019],\"type\":\"data\"},\"name\":\"l1 (s017)\",\"visible\":false,\"x\":[\"0\\u003cb style='color:red;'\\u003e0\\u003c\\u002fb\\u003e\",\"0\\u003cb style='color:red;'\\u003e1\\u003c\\u002fb\\u003e\",\"1\\u003cb style='color:red;'\\u003e0\\u003c\\u002fb\\u003e\",\"1\\u003cb style='color:red;'\\u003e1\\u003c\\u002fb\\u003e\"],\"y\":[40.44444444444444,22.3,46.875,29.6],\"type\":\"bar\"},{\"error_y\":{\"array\":[1.9999999999999998,4.357624225296267,0.9258200997725513,5.417051268397267],\"type\":\"data\"},\"name\":\"l2 (s017)\",\"visible\":false,\"x\":[\"0\\u003cb style='color:red;'\\u003e0\\u003c\\u002fb\\u003e\",\"0\\u003cb style='color:red;'\\u003e1\\u003c\\u002fb\\u003e\",\"1\\u003cb style='color:red;'\\u003e0\\u003c\\u002fb\\u003e\",\"1\\u003cb style='color:red;'\\u003e1\\u003c\\u002fb\\u003e\"],\"y\":[32.0,17.9,32.0,17.3],\"type\":\"bar\"},{\"error_y\":{\"array\":[1.666666666666666,7.748835037890821,3.090885217631258,5.168279318217149],\"type\":\"data\"},\"name\":\"l3 (s017)\",\"visible\":false,\"x\":[\"0\\u003cb style='color:red;'\\u003e0\\u003c\\u002fb\\u003e\",\"0\\u003cb style='color:red;'\\u003e1\\u003c\\u002fb\\u003e\",\"1\\u003cb style='color:red;'\\u003e0\\u003c\\u002fb\\u003e\",\"1\\u003cb style='color:red;'\\u003e1\\u003c\\u002fb\\u003e\"],\"y\":[31.555555555555557,22.4,33.125,21.6],\"type\":\"bar\"},{\"error_y\":{\"array\":[0.6666666666666669,6.669999167083073,0.0,0.0],\"type\":\"data\"},\"name\":\"l4 (s017)\",\"visible\":false,\"x\":[\"0\\u003cb style='color:red;'\\u003e0\\u003c\\u002fb\\u003e\",\"0\\u003cb style='color:red;'\\u003e1\\u003c\\u002fb\\u003e\",\"1\\u003cb style='color:red;'\\u003e0\\u003c\\u002fb\\u003e\",\"1\\u003cb style='color:red;'\\u003e1\\u003c\\u002fb\\u003e\"],\"y\":[31.22222222222222,26.6,31.0,31.0],\"type\":\"bar\"},{\"error_y\":{\"array\":[4.391911757866827,9.008637830191395,13.906033862240442,7.880355321938219],\"type\":\"data\"},\"name\":\"l1 (s025)\",\"visible\":false,\"x\":[\"0\\u003cb style='color:red;'\\u003e0\\u003c\\u002fb\\u003e\",\"0\\u003cb style='color:red;'\\u003e1\\u003c\\u002fb\\u003e\",\"1\\u003cb style='color:red;'\\u003e0\\u003c\\u002fb\\u003e\",\"1\\u003cb style='color:red;'\\u003e1\\u003c\\u002fb\\u003e\"],\"y\":[24.2,21.4,30.4,23.1],\"type\":\"bar\"},{\"error_y\":{\"array\":[7.43938468184328,6.254775952999615,4.550946177566936,5.250396810400778],\"type\":\"data\"},\"name\":\"l2 (s025)\",\"visible\":false,\"x\":[\"0\\u003cb style='color:red;'\\u003e0\\u003c\\u002fb\\u003e\",\"0\\u003cb style='color:red;'\\u003e1\\u003c\\u002fb\\u003e\",\"1\\u003cb style='color:red;'\\u003e0\\u003c\\u002fb\\u003e\",\"1\\u003cb style='color:red;'\\u003e1\\u003c\\u002fb\\u003e\"],\"y\":[20.7,21.7,18.6,16.3],\"type\":\"bar\"},{\"error_y\":{\"array\":[4.501851470969102,5.181162460726786,5.3374983736661585,5.70087712549569],\"type\":\"data\"},\"name\":\"l3 (s025)\",\"visible\":false,\"x\":[\"0\\u003cb style='color:red;'\\u003e0\\u003c\\u002fb\\u003e\",\"0\\u003cb style='color:red;'\\u003e1\\u003c\\u002fb\\u003e\",\"1\\u003cb style='color:red;'\\u003e0\\u003c\\u002fb\\u003e\",\"1\\u003cb style='color:red;'\\u003e1\\u003c\\u002fb\\u003e\"],\"y\":[26.6,22.2,23.4,22.5],\"type\":\"bar\"},{\"error_y\":{\"array\":[0.5163977794943226,5.792715732327589,0.6324555320336758,0.0],\"type\":\"data\"},\"name\":\"l4 (s025)\",\"visible\":false,\"x\":[\"0\\u003cb style='color:red;'\\u003e0\\u003c\\u002fb\\u003e\",\"0\\u003cb style='color:red;'\\u003e1\\u003c\\u002fb\\u003e\",\"1\\u003cb style='color:red;'\\u003e0\\u003c\\u002fb\\u003e\",\"1\\u003cb style='color:red;'\\u003e1\\u003c\\u002fb\\u003e\"],\"y\":[30.4,29.0,30.8,31.0],\"type\":\"bar\"},{\"error_y\":{\"array\":[35.377488133934364,4.993328882953069,25.18376902336547,5.121848624601604],\"type\":\"data\"},\"name\":\"l1 (s028)\",\"visible\":false,\"x\":[\"0\\u003cb style='color:red;'\\u003e0\\u003c\\u002fb\\u003e\",\"0\\u003cb style='color:red;'\\u003e1\\u003c\\u002fb\\u003e\",\"1\\u003cb style='color:red;'\\u003e0\\u003c\\u002fb\\u003e\",\"1\\u003cb style='color:red;'\\u003e1\\u003c\\u002fb\\u003e\"],\"y\":[61.3,18.6,69.0,24.7],\"type\":\"bar\"},{\"error_y\":{\"array\":[19.709275875981735,15.597720631197653,7.245688373094718,7.927448797970533],\"type\":\"data\"},\"name\":\"l2 (s028)\",\"visible\":false,\"x\":[\"0\\u003cb style='color:red;'\\u003e0\\u003c\\u002fb\\u003e\",\"0\\u003cb style='color:red;'\\u003e1\\u003c\\u002fb\\u003e\",\"1\\u003cb style='color:red;'\\u003e0\\u003c\\u002fb\\u003e\",\"1\\u003cb style='color:red;'\\u003e1\\u003c\\u002fb\\u003e\"],\"y\":[35.7,22.8,33.5,24.2],\"type\":\"bar\"},{\"error_y\":{\"array\":[7.96938586787659,4.47337804249888,4.306326095924975,8.017342313870461],\"type\":\"data\"},\"name\":\"l3 (s028)\",\"visible\":false,\"x\":[\"0\\u003cb style='color:red;'\\u003e0\\u003c\\u002fb\\u003e\",\"0\\u003cb style='color:red;'\\u003e1\\u003c\\u002fb\\u003e\",\"1\\u003cb style='color:red;'\\u003e0\\u003c\\u002fb\\u003e\",\"1\\u003cb style='color:red;'\\u003e1\\u003c\\u002fb\\u003e\"],\"y\":[27.8,17.3,32.1,25.5],\"type\":\"bar\"},{\"error_y\":{\"array\":[0.31622776601683755,5.420127099780759,1.3374935098492584,0.0],\"type\":\"data\"},\"name\":\"l4 (s028)\",\"visible\":false,\"x\":[\"0\\u003cb style='color:red;'\\u003e0\\u003c\\u002fb\\u003e\",\"0\\u003cb style='color:red;'\\u003e1\\u003c\\u002fb\\u003e\",\"1\\u003cb style='color:red;'\\u003e0\\u003c\\u002fb\\u003e\",\"1\\u003cb style='color:red;'\\u003e1\\u003c\\u002fb\\u003e\"],\"y\":[30.9,23.4,31.7,31.0],\"type\":\"bar\"},{\"error_y\":{\"array\":[null,9.899494936611665],\"type\":\"data\"},\"name\":\"l1 (s031)\",\"visible\":false,\"x\":[\"0\\u003cb style='color:red;'\\u003e0\\u003c\\u002fb\\u003e\",\"0\\u003cb style='color:red;'\\u003e1\\u003c\\u002fb\\u003e\"],\"y\":[43.0,24.0],\"type\":\"bar\"},{\"error_y\":{\"array\":[null,5.656854249492381],\"type\":\"data\"},\"name\":\"l2 (s031)\",\"visible\":false,\"x\":[\"0\\u003cb style='color:red;'\\u003e0\\u003c\\u002fb\\u003e\",\"0\\u003cb style='color:red;'\\u003e1\\u003c\\u002fb\\u003e\"],\"y\":[34.0,15.0],\"type\":\"bar\"},{\"error_y\":{\"array\":[null,3.5355339059327378],\"type\":\"data\"},\"name\":\"l3 (s031)\",\"visible\":false,\"x\":[\"0\\u003cb style='color:red;'\\u003e0\\u003c\\u002fb\\u003e\",\"0\\u003cb style='color:red;'\\u003e1\\u003c\\u002fb\\u003e\"],\"y\":[31.0,16.5],\"type\":\"bar\"},{\"error_y\":{\"array\":[null,1.4142135623730951],\"type\":\"data\"},\"name\":\"l4 (s031)\",\"visible\":false,\"x\":[\"0\\u003cb style='color:red;'\\u003e0\\u003c\\u002fb\\u003e\",\"0\\u003cb style='color:red;'\\u003e1\\u003c\\u002fb\\u003e\"],\"y\":[31.0,14.0],\"type\":\"bar\"},{\"error_y\":{\"array\":[7.863417408056967,4.624812308503869,9.600925881277169,7.055336829505575],\"type\":\"data\"},\"name\":\"l1 (s036)\",\"visible\":false,\"x\":[\"0\\u003cb style='color:red;'\\u003e0\\u003c\\u002fb\\u003e\",\"0\\u003cb style='color:red;'\\u003e1\\u003c\\u002fb\\u003e\",\"1\\u003cb style='color:red;'\\u003e0\\u003c\\u002fb\\u003e\",\"1\\u003cb style='color:red;'\\u003e1\\u003c\\u002fb\\u003e\"],\"y\":[44.5,29.5,51.2,35.0],\"type\":\"bar\"},{\"error_y\":{\"array\":[3.2659863237109055,4.243949942107129,5.79271573232759,4.853406592853679],\"type\":\"data\"},\"name\":\"l2 (s036)\",\"visible\":false,\"x\":[\"0\\u003cb style='color:red;'\\u003e0\\u003c\\u002fb\\u003e\",\"0\\u003cb style='color:red;'\\u003e1\\u003c\\u002fb\\u003e\",\"1\\u003cb style='color:red;'\\u003e0\\u003c\\u002fb\\u003e\",\"1\\u003cb style='color:red;'\\u003e1\\u003c\\u002fb\\u003e\"],\"y\":[33.0,18.3,31.0,18.0],\"type\":\"bar\"},{\"error_y\":{\"array\":[0.42163702135578385,8.080154013933699,5.1693541397569405,6.390965845976994],\"type\":\"data\"},\"name\":\"l3 (s036)\",\"visible\":false,\"x\":[\"0\\u003cb style='color:red;'\\u003e0\\u003c\\u002fb\\u003e\",\"0\\u003cb style='color:red;'\\u003e1\\u003c\\u002fb\\u003e\",\"1\\u003cb style='color:red;'\\u003e0\\u003c\\u002fb\\u003e\",\"1\\u003cb style='color:red;'\\u003e1\\u003c\\u002fb\\u003e\"],\"y\":[31.2,22.2,30.5,22.8],\"type\":\"bar\"},{\"error_y\":{\"array\":[1.8973665961010278,0.6749485577105528,0.47140452079103157,0.0],\"type\":\"data\"},\"name\":\"l4 (s036)\",\"visible\":false,\"x\":[\"0\\u003cb style='color:red;'\\u003e0\\u003c\\u002fb\\u003e\",\"0\\u003cb style='color:red;'\\u003e1\\u003c\\u002fb\\u003e\",\"1\\u003cb style='color:red;'\\u003e0\\u003c\\u002fb\\u003e\",\"1\\u003cb style='color:red;'\\u003e1\\u003c\\u002fb\\u003e\"],\"y\":[31.6,30.7,31.0,31.0],\"type\":\"bar\"},{\"error_y\":{\"array\":[28.03598998954518,6.698725706693352,20.272074475645045,9.021425743693708],\"type\":\"data\"},\"name\":\"l1 (Global Average)\",\"visible\":true,\"x\":[\"0\\u003cb style='color:red;'\\u003e0\\u003c\\u002fb\\u003e\",\"0\\u003cb style='color:red;'\\u003e1\\u003c\\u002fb\\u003e\",\"1\\u003cb style='color:red;'\\u003e0\\u003c\\u002fb\\u003e\",\"1\\u003cb style='color:red;'\\u003e1\\u003c\\u002fb\\u003e\"],\"y\":[48.94,22.596153846153847,52.020833333333336,27.96],\"type\":\"bar\"},{\"error_y\":{\"array\":[12.807587037154413,8.907666974020769,7.726256238372692,9.327357173215503],\"type\":\"data\"},\"name\":\"l2 (Global Average)\",\"visible\":true,\"x\":[\"0\\u003cb style='color:red;'\\u003e0\\u003c\\u002fb\\u003e\",\"0\\u003cb style='color:red;'\\u003e1\\u003c\\u002fb\\u003e\",\"1\\u003cb style='color:red;'\\u003e0\\u003c\\u002fb\\u003e\",\"1\\u003cb style='color:red;'\\u003e1\\u003c\\u002fb\\u003e\"],\"y\":[31.08,20.71153846153846,28.416666666666668,20.98],\"type\":\"bar\"},{\"error_y\":{\"array\":[5.118832775115029,7.872738728228968,6.564701167489631,6.695993319188143],\"type\":\"data\"},\"name\":\"l3 (Global Average)\",\"visible\":true,\"x\":[\"0\\u003cb style='color:red;'\\u003e0\\u003c\\u002fb\\u003e\",\"0\\u003cb style='color:red;'\\u003e1\\u003c\\u002fb\\u003e\",\"1\\u003cb style='color:red;'\\u003e0\\u003c\\u002fb\\u003e\",\"1\\u003cb style='color:red;'\\u003e1\\u003c\\u002fb\\u003e\"],\"y\":[29.04,22.51923076923077,30.270833333333332,22.98],\"type\":\"bar\"},{\"error_y\":{\"array\":[1.1542291358128087,6.277969092596887,1.2964764031133718,0.0],\"type\":\"data\"},\"name\":\"l4 (Global Average)\",\"visible\":true,\"x\":[\"0\\u003cb style='color:red;'\\u003e0\\u003c\\u002fb\\u003e\",\"0\\u003cb style='color:red;'\\u003e1\\u003c\\u002fb\\u003e\",\"1\\u003cb style='color:red;'\\u003e0\\u003c\\u002fb\\u003e\",\"1\\u003cb style='color:red;'\\u003e1\\u003c\\u002fb\\u003e\"],\"y\":[30.88,27.134615384615383,31.25,31.0],\"type\":\"bar\"}],                        {\"template\":{\"data\":{\"histogram2dcontour\":[{\"type\":\"histogram2dcontour\",\"colorbar\":{\"outlinewidth\":0,\"ticks\":\"\"},\"colorscale\":[[0.0,\"#0d0887\"],[0.1111111111111111,\"#46039f\"],[0.2222222222222222,\"#7201a8\"],[0.3333333333333333,\"#9c179e\"],[0.4444444444444444,\"#bd3786\"],[0.5555555555555556,\"#d8576b\"],[0.6666666666666666,\"#ed7953\"],[0.7777777777777778,\"#fb9f3a\"],[0.8888888888888888,\"#fdca26\"],[1.0,\"#f0f921\"]]}],\"choropleth\":[{\"type\":\"choropleth\",\"colorbar\":{\"outlinewidth\":0,\"ticks\":\"\"}}],\"histogram2d\":[{\"type\":\"histogram2d\",\"colorbar\":{\"outlinewidth\":0,\"ticks\":\"\"},\"colorscale\":[[0.0,\"#0d0887\"],[0.1111111111111111,\"#46039f\"],[0.2222222222222222,\"#7201a8\"],[0.3333333333333333,\"#9c179e\"],[0.4444444444444444,\"#bd3786\"],[0.5555555555555556,\"#d8576b\"],[0.6666666666666666,\"#ed7953\"],[0.7777777777777778,\"#fb9f3a\"],[0.8888888888888888,\"#fdca26\"],[1.0,\"#f0f921\"]]}],\"heatmap\":[{\"type\":\"heatmap\",\"colorbar\":{\"outlinewidth\":0,\"ticks\":\"\"},\"colorscale\":[[0.0,\"#0d0887\"],[0.1111111111111111,\"#46039f\"],[0.2222222222222222,\"#7201a8\"],[0.3333333333333333,\"#9c179e\"],[0.4444444444444444,\"#bd3786\"],[0.5555555555555556,\"#d8576b\"],[0.6666666666666666,\"#ed7953\"],[0.7777777777777778,\"#fb9f3a\"],[0.8888888888888888,\"#fdca26\"],[1.0,\"#f0f921\"]]}],\"heatmapgl\":[{\"type\":\"heatmapgl\",\"colorbar\":{\"outlinewidth\":0,\"ticks\":\"\"},\"colorscale\":[[0.0,\"#0d0887\"],[0.1111111111111111,\"#46039f\"],[0.2222222222222222,\"#7201a8\"],[0.3333333333333333,\"#9c179e\"],[0.4444444444444444,\"#bd3786\"],[0.5555555555555556,\"#d8576b\"],[0.6666666666666666,\"#ed7953\"],[0.7777777777777778,\"#fb9f3a\"],[0.8888888888888888,\"#fdca26\"],[1.0,\"#f0f921\"]]}],\"contourcarpet\":[{\"type\":\"contourcarpet\",\"colorbar\":{\"outlinewidth\":0,\"ticks\":\"\"}}],\"contour\":[{\"type\":\"contour\",\"colorbar\":{\"outlinewidth\":0,\"ticks\":\"\"},\"colorscale\":[[0.0,\"#0d0887\"],[0.1111111111111111,\"#46039f\"],[0.2222222222222222,\"#7201a8\"],[0.3333333333333333,\"#9c179e\"],[0.4444444444444444,\"#bd3786\"],[0.5555555555555556,\"#d8576b\"],[0.6666666666666666,\"#ed7953\"],[0.7777777777777778,\"#fb9f3a\"],[0.8888888888888888,\"#fdca26\"],[1.0,\"#f0f921\"]]}],\"surface\":[{\"type\":\"surface\",\"colorbar\":{\"outlinewidth\":0,\"ticks\":\"\"},\"colorscale\":[[0.0,\"#0d0887\"],[0.1111111111111111,\"#46039f\"],[0.2222222222222222,\"#7201a8\"],[0.3333333333333333,\"#9c179e\"],[0.4444444444444444,\"#bd3786\"],[0.5555555555555556,\"#d8576b\"],[0.6666666666666666,\"#ed7953\"],[0.7777777777777778,\"#fb9f3a\"],[0.8888888888888888,\"#fdca26\"],[1.0,\"#f0f921\"]]}],\"mesh3d\":[{\"type\":\"mesh3d\",\"colorbar\":{\"outlinewidth\":0,\"ticks\":\"\"}}],\"scatter\":[{\"fillpattern\":{\"fillmode\":\"overlay\",\"size\":10,\"solidity\":0.2},\"type\":\"scatter\"}],\"parcoords\":[{\"type\":\"parcoords\",\"line\":{\"colorbar\":{\"outlinewidth\":0,\"ticks\":\"\"}}}],\"scatterpolargl\":[{\"type\":\"scatterpolargl\",\"marker\":{\"colorbar\":{\"outlinewidth\":0,\"ticks\":\"\"}}}],\"bar\":[{\"error_x\":{\"color\":\"#2a3f5f\"},\"error_y\":{\"color\":\"#2a3f5f\"},\"marker\":{\"line\":{\"color\":\"#E5ECF6\",\"width\":0.5},\"pattern\":{\"fillmode\":\"overlay\",\"size\":10,\"solidity\":0.2}},\"type\":\"bar\"}],\"scattergeo\":[{\"type\":\"scattergeo\",\"marker\":{\"colorbar\":{\"outlinewidth\":0,\"ticks\":\"\"}}}],\"scatterpolar\":[{\"type\":\"scatterpolar\",\"marker\":{\"colorbar\":{\"outlinewidth\":0,\"ticks\":\"\"}}}],\"histogram\":[{\"marker\":{\"pattern\":{\"fillmode\":\"overlay\",\"size\":10,\"solidity\":0.2}},\"type\":\"histogram\"}],\"scattergl\":[{\"type\":\"scattergl\",\"marker\":{\"colorbar\":{\"outlinewidth\":0,\"ticks\":\"\"}}}],\"scatter3d\":[{\"type\":\"scatter3d\",\"line\":{\"colorbar\":{\"outlinewidth\":0,\"ticks\":\"\"}},\"marker\":{\"colorbar\":{\"outlinewidth\":0,\"ticks\":\"\"}}}],\"scattermapbox\":[{\"type\":\"scattermapbox\",\"marker\":{\"colorbar\":{\"outlinewidth\":0,\"ticks\":\"\"}}}],\"scatterternary\":[{\"type\":\"scatterternary\",\"marker\":{\"colorbar\":{\"outlinewidth\":0,\"ticks\":\"\"}}}],\"scattercarpet\":[{\"type\":\"scattercarpet\",\"marker\":{\"colorbar\":{\"outlinewidth\":0,\"ticks\":\"\"}}}],\"carpet\":[{\"aaxis\":{\"endlinecolor\":\"#2a3f5f\",\"gridcolor\":\"white\",\"linecolor\":\"white\",\"minorgridcolor\":\"white\",\"startlinecolor\":\"#2a3f5f\"},\"baxis\":{\"endlinecolor\":\"#2a3f5f\",\"gridcolor\":\"white\",\"linecolor\":\"white\",\"minorgridcolor\":\"white\",\"startlinecolor\":\"#2a3f5f\"},\"type\":\"carpet\"}],\"table\":[{\"cells\":{\"fill\":{\"color\":\"#EBF0F8\"},\"line\":{\"color\":\"white\"}},\"header\":{\"fill\":{\"color\":\"#C8D4E3\"},\"line\":{\"color\":\"white\"}},\"type\":\"table\"}],\"barpolar\":[{\"marker\":{\"line\":{\"color\":\"#E5ECF6\",\"width\":0.5},\"pattern\":{\"fillmode\":\"overlay\",\"size\":10,\"solidity\":0.2}},\"type\":\"barpolar\"}],\"pie\":[{\"automargin\":true,\"type\":\"pie\"}]},\"layout\":{\"autotypenumbers\":\"strict\",\"colorway\":[\"#636efa\",\"#EF553B\",\"#00cc96\",\"#ab63fa\",\"#FFA15A\",\"#19d3f3\",\"#FF6692\",\"#B6E880\",\"#FF97FF\",\"#FECB52\"],\"font\":{\"color\":\"#2a3f5f\"},\"hovermode\":\"closest\",\"hoverlabel\":{\"align\":\"left\"},\"paper_bgcolor\":\"white\",\"plot_bgcolor\":\"#E5ECF6\",\"polar\":{\"bgcolor\":\"#E5ECF6\",\"angularaxis\":{\"gridcolor\":\"white\",\"linecolor\":\"white\",\"ticks\":\"\"},\"radialaxis\":{\"gridcolor\":\"white\",\"linecolor\":\"white\",\"ticks\":\"\"}},\"ternary\":{\"bgcolor\":\"#E5ECF6\",\"aaxis\":{\"gridcolor\":\"white\",\"linecolor\":\"white\",\"ticks\":\"\"},\"baxis\":{\"gridcolor\":\"white\",\"linecolor\":\"white\",\"ticks\":\"\"},\"caxis\":{\"gridcolor\":\"white\",\"linecolor\":\"white\",\"ticks\":\"\"}},\"coloraxis\":{\"colorbar\":{\"outlinewidth\":0,\"ticks\":\"\"}},\"colorscale\":{\"sequential\":[[0.0,\"#0d0887\"],[0.1111111111111111,\"#46039f\"],[0.2222222222222222,\"#7201a8\"],[0.3333333333333333,\"#9c179e\"],[0.4444444444444444,\"#bd3786\"],[0.5555555555555556,\"#d8576b\"],[0.6666666666666666,\"#ed7953\"],[0.7777777777777778,\"#fb9f3a\"],[0.8888888888888888,\"#fdca26\"],[1.0,\"#f0f921\"]],\"sequentialminus\":[[0.0,\"#0d0887\"],[0.1111111111111111,\"#46039f\"],[0.2222222222222222,\"#7201a8\"],[0.3333333333333333,\"#9c179e\"],[0.4444444444444444,\"#bd3786\"],[0.5555555555555556,\"#d8576b\"],[0.6666666666666666,\"#ed7953\"],[0.7777777777777778,\"#fb9f3a\"],[0.8888888888888888,\"#fdca26\"],[1.0,\"#f0f921\"]],\"diverging\":[[0,\"#8e0152\"],[0.1,\"#c51b7d\"],[0.2,\"#de77ae\"],[0.3,\"#f1b6da\"],[0.4,\"#fde0ef\"],[0.5,\"#f7f7f7\"],[0.6,\"#e6f5d0\"],[0.7,\"#b8e186\"],[0.8,\"#7fbc41\"],[0.9,\"#4d9221\"],[1,\"#276419\"]]},\"xaxis\":{\"gridcolor\":\"white\",\"linecolor\":\"white\",\"ticks\":\"\",\"title\":{\"standoff\":15},\"zerolinecolor\":\"white\",\"automargin\":true,\"zerolinewidth\":2},\"yaxis\":{\"gridcolor\":\"white\",\"linecolor\":\"white\",\"ticks\":\"\",\"title\":{\"standoff\":15},\"zerolinecolor\":\"white\",\"automargin\":true,\"zerolinewidth\":2},\"scene\":{\"xaxis\":{\"backgroundcolor\":\"#E5ECF6\",\"gridcolor\":\"white\",\"linecolor\":\"white\",\"showbackground\":true,\"ticks\":\"\",\"zerolinecolor\":\"white\",\"gridwidth\":2},\"yaxis\":{\"backgroundcolor\":\"#E5ECF6\",\"gridcolor\":\"white\",\"linecolor\":\"white\",\"showbackground\":true,\"ticks\":\"\",\"zerolinecolor\":\"white\",\"gridwidth\":2},\"zaxis\":{\"backgroundcolor\":\"#E5ECF6\",\"gridcolor\":\"white\",\"linecolor\":\"white\",\"showbackground\":true,\"ticks\":\"\",\"zerolinecolor\":\"white\",\"gridwidth\":2}},\"shapedefaults\":{\"line\":{\"color\":\"#2a3f5f\"}},\"annotationdefaults\":{\"arrowcolor\":\"#2a3f5f\",\"arrowhead\":0,\"arrowwidth\":1},\"geo\":{\"bgcolor\":\"white\",\"landcolor\":\"#E5ECF6\",\"subunitcolor\":\"white\",\"showland\":true,\"showlakes\":true,\"lakecolor\":\"white\"},\"title\":{\"x\":0.05},\"mapbox\":{\"style\":\"light\"}}},\"yaxis\":{\"title\":{\"text\":\"Number of Iterations\"},\"range\":[0,149.09270833333335]},\"updatemenus\":[{\"buttons\":[{\"args\":[{\"visible\":[false,false,false,false,false,false,true]},{\"title\":\"Global Average\"}],\"label\":\"Global Average\",\"method\":\"update\"},{\"args\":[{\"visible\":[false,false,false,false,false,true,false]},{\"title\":\"s036 Average\"}],\"label\":\"s036\",\"method\":\"update\"},{\"args\":[{\"visible\":[false,false,true,false,false,false,false]},{\"title\":\"s025 Average\"}],\"label\":\"s025\",\"method\":\"update\"},{\"args\":[{\"visible\":[false,true,false,false,false,false,false]},{\"title\":\"s017 Average\"}],\"label\":\"s017\",\"method\":\"update\"},{\"args\":[{\"visible\":[false,false,false,true,false,false,false]},{\"title\":\"s028 Average\"}],\"label\":\"s028\",\"method\":\"update\"},{\"args\":[{\"visible\":[true,false,false,false,false,false,false]},{\"title\":\"s003 Average\"}],\"label\":\"s003\",\"method\":\"update\"},{\"args\":[{\"visible\":[false,false,false,false,true,false,false]},{\"title\":\"s031 Average\"}],\"label\":\"s031\",\"method\":\"update\"}],\"showactive\":true,\"type\":\"dropdown\"}],\"barmode\":\"stack\",\"title\":{\"text\":\"Average number of iterations for each level\"},\"xaxis\":{\"title\":{\"text\":\"Experiment ID\"}}},                        {\"responsive\": true}                    ).then(function(){\n",
       "                            \n",
       "var gd = document.getElementById('33ab3aec-0873-4e9f-8c2d-9c79ad7eec78');\n",
       "var x = new MutationObserver(function (mutations, observer) {{\n",
       "        var display = window.getComputedStyle(gd).display;\n",
       "        if (!display || display === 'none') {{\n",
       "            console.log([gd, 'removed!']);\n",
       "            Plotly.purge(gd);\n",
       "            observer.disconnect();\n",
       "        }}\n",
       "}});\n",
       "\n",
       "// Listen for the removal of the full notebook cells\n",
       "var notebookContainer = gd.closest('#notebook-container');\n",
       "if (notebookContainer) {{\n",
       "    x.observe(notebookContainer, {childList: true});\n",
       "}}\n",
       "\n",
       "// Listen for the clearing of the current output cell\n",
       "var outputEl = gd.closest('.output');\n",
       "if (outputEl) {{\n",
       "    x.observe(outputEl, {childList: true});\n",
       "}}\n",
       "\n",
       "                        })                };                });            </script>        </div>"
      ]
     },
     "metadata": {},
     "output_type": "display_data"
    }
   ],
   "source": [
    "fig = go.Figure()\n",
    "\n",
    "# Add traces for each level and each subject\n",
    "for subject in subjects:\n",
    "    subject_data = stats[stats[\"subj_id\"] == subject]\n",
    "    fig.add_trace(\n",
    "        go.Bar(\n",
    "            x=subject_data[\"highlighted_label\"],\n",
    "            y=subject_data[\"l1_mean\"],\n",
    "            name=f\"l1 ({subject})\",\n",
    "            visible=(subject == \"Global Average\"),\n",
    "            error_y=dict(type=\"data\", array=subject_data[\"l1_std\"]),\n",
    "        )\n",
    "    )\n",
    "    fig.add_trace(\n",
    "        go.Bar(\n",
    "            x=subject_data[\"highlighted_label\"],\n",
    "            y=subject_data[\"l2_mean\"],\n",
    "            name=f\"l2 ({subject})\",\n",
    "            visible=(subject == \"Global Average\"),\n",
    "            error_y=dict(type=\"data\", array=subject_data[\"l2_std\"]),\n",
    "        )\n",
    "    )\n",
    "    fig.add_trace(\n",
    "        go.Bar(\n",
    "            x=subject_data[\"highlighted_label\"],\n",
    "            y=subject_data[\"l3_mean\"],\n",
    "            name=f\"l3 ({subject})\",\n",
    "            visible=(subject == \"Global Average\"),\n",
    "            error_y=dict(type=\"data\", array=subject_data[\"l3_std\"]),\n",
    "        )\n",
    "    )\n",
    "    fig.add_trace(\n",
    "        go.Bar(\n",
    "            x=subject_data[\"highlighted_label\"],\n",
    "            y=subject_data[\"l4_mean\"],\n",
    "            name=f\"l4 ({subject})\",\n",
    "            visible=(subject == \"Global Average\"),\n",
    "            error_y=dict(type=\"data\", array=subject_data[\"l4_std\"]),\n",
    "        )\n",
    "    )\n",
    "\n",
    "buttons = get_dropdown(subjects)\n",
    "\n",
    "# Update layout with dropdown menu and stack bars\n",
    "y_max = (\n",
    "    stats.groupby(\"exp_id\")[[\"l1_mean\", \"l2_mean\", \"l3_mean\", \"l4_mean\"]]\n",
    "    .mean()\n",
    "    .sum(axis=1)\n",
    "    .max()\n",
    ")\n",
    "fig.update_layout(\n",
    "    updatemenus=[dict(type=\"dropdown\", showactive=True, buttons=buttons)],\n",
    "    barmode=\"stack\",\n",
    "    title=\"Average number of iterations for each level\",\n",
    "    xaxis_title=\"Experiment ID\",\n",
    "    yaxis_title=\"Number of Iterations\",\n",
    "    yaxis=dict(\n",
    "        range=[\n",
    "            0,\n",
    "            y_max * 1.05,\n",
    "        ]\n",
    "    ),\n",
    ")\n",
    "\n",
    "fig.show()\n",
    "fig.write_html(figure_dir / \"iterations.html\")\n",
    "fig.write_image(figure_dir / \"iterations.png\")"
   ]
  },
  {
   "cell_type": "code",
   "execution_count": 17,
   "metadata": {},
   "outputs": [
    {
     "data": {
      "application/vnd.plotly.v1+json": {
       "config": {
        "plotlyServerURL": "https://plot.ly"
       },
       "data": [
        {
         "error_y": {
          "array": [
           0.19795632560713416,
           0.20632915578041852,
           0.19675299410763028,
           0.2228552266214702
          ],
          "type": "data"
         },
         "name": "s003",
         "type": "bar",
         "visible": false,
         "x": [
          "0<b style='color:red;'>0</b>",
          "0<b style='color:red;'>1</b>",
          "1<b style='color:red;'>0</b>",
          "1<b style='color:red;'>1</b>"
         ],
         "y": [
          1.0388087800600758,
          1.4285601562286012,
          1.1981600028777386,
          1.4149504872794307
         ]
        },
        {
         "error_y": {
          "array": [
           0.09232277619119202,
           0.2575016347741473,
           0.052960574708908505,
           0.17733822604875812
          ],
          "type": "data"
         },
         "name": "s017",
         "type": "bar",
         "visible": false,
         "x": [
          "0<b style='color:red;'>0</b>",
          "0<b style='color:red;'>1</b>",
          "1<b style='color:red;'>0</b>",
          "1<b style='color:red;'>1</b>"
         ],
         "y": [
          1.3892278836657426,
          1.5748001437617205,
          1.3278796199105733,
          1.5717618044063968
         ]
        },
        {
         "error_y": {
          "array": [
           0.07842681259321703,
           0.20839809102129558,
           0.22505602884347442,
           0.12946070765909296
          ],
          "type": "data"
         },
         "name": "s025",
         "type": "bar",
         "visible": false,
         "x": [
          "0<b style='color:red;'>0</b>",
          "0<b style='color:red;'>1</b>",
          "1<b style='color:red;'>0</b>",
          "1<b style='color:red;'>1</b>"
         ],
         "y": [
          1.5901178390748574,
          1.5431042224359857,
          1.6140191114095486,
          1.6147268538641426
         ]
        },
        {
         "error_y": {
          "array": [
           0.39654421592628797,
           0.3205628938265293,
           0.19968371526569054,
           0.16497631295266002
          ],
          "type": "data"
         },
         "name": "s028",
         "type": "bar",
         "visible": false,
         "x": [
          "0<b style='color:red;'>0</b>",
          "0<b style='color:red;'>1</b>",
          "1<b style='color:red;'>0</b>",
          "1<b style='color:red;'>1</b>"
         ],
         "y": [
          1.2032568173936207,
          1.490842433114054,
          1.1586281217417036,
          1.5027857705351682
         ]
        },
        {
         "error_y": {
          "array": [
           null,
           0.04080700345785836
          ],
          "type": "data"
         },
         "name": "s031",
         "type": "bar",
         "visible": false,
         "x": [
          "0<b style='color:red;'>0</b>",
          "0<b style='color:red;'>1</b>"
         ],
         "y": [
          1.317410071942446,
          0.9397225559237781
         ]
        },
        {
         "error_y": {
          "array": [
           0.13905251992306716,
           0.216227380925634,
           0.09399282448970601,
           0.14274806603641454
          ],
          "type": "data"
         },
         "name": "s036",
         "type": "bar",
         "visible": false,
         "x": [
          "0<b style='color:red;'>0</b>",
          "0<b style='color:red;'>1</b>",
          "1<b style='color:red;'>0</b>",
          "1<b style='color:red;'>1</b>"
         ],
         "y": [
          1.231179920338604,
          1.4384150143558936,
          1.160042653949305,
          1.3503299212415374
         ]
        },
        {
         "error_y": {
          "array": [
           0.2783447969124451,
           0.26101184540659816,
           0.24186536495706407,
           0.19084242797098694
          ],
          "type": "data"
         },
         "name": "Global Average",
         "type": "bar",
         "visible": true,
         "x": [
          "0<b style='color:red;'>0</b>",
          "0<b style='color:red;'>1</b>",
          "1<b style='color:red;'>0</b>",
          "1<b style='color:red;'>1</b>"
         ],
         "y": [
          1.289081891872114,
          1.4737820155925019,
          1.2902403303972405,
          1.4909109674653351
         ]
        }
       ],
       "layout": {
        "template": {
         "data": {
          "bar": [
           {
            "error_x": {
             "color": "#2a3f5f"
            },
            "error_y": {
             "color": "#2a3f5f"
            },
            "marker": {
             "line": {
              "color": "#E5ECF6",
              "width": 0.5
             },
             "pattern": {
              "fillmode": "overlay",
              "size": 10,
              "solidity": 0.2
             }
            },
            "type": "bar"
           }
          ],
          "barpolar": [
           {
            "marker": {
             "line": {
              "color": "#E5ECF6",
              "width": 0.5
             },
             "pattern": {
              "fillmode": "overlay",
              "size": 10,
              "solidity": 0.2
             }
            },
            "type": "barpolar"
           }
          ],
          "carpet": [
           {
            "aaxis": {
             "endlinecolor": "#2a3f5f",
             "gridcolor": "white",
             "linecolor": "white",
             "minorgridcolor": "white",
             "startlinecolor": "#2a3f5f"
            },
            "baxis": {
             "endlinecolor": "#2a3f5f",
             "gridcolor": "white",
             "linecolor": "white",
             "minorgridcolor": "white",
             "startlinecolor": "#2a3f5f"
            },
            "type": "carpet"
           }
          ],
          "choropleth": [
           {
            "colorbar": {
             "outlinewidth": 0,
             "ticks": ""
            },
            "type": "choropleth"
           }
          ],
          "contour": [
           {
            "colorbar": {
             "outlinewidth": 0,
             "ticks": ""
            },
            "colorscale": [
             [
              0,
              "#0d0887"
             ],
             [
              0.1111111111111111,
              "#46039f"
             ],
             [
              0.2222222222222222,
              "#7201a8"
             ],
             [
              0.3333333333333333,
              "#9c179e"
             ],
             [
              0.4444444444444444,
              "#bd3786"
             ],
             [
              0.5555555555555556,
              "#d8576b"
             ],
             [
              0.6666666666666666,
              "#ed7953"
             ],
             [
              0.7777777777777778,
              "#fb9f3a"
             ],
             [
              0.8888888888888888,
              "#fdca26"
             ],
             [
              1,
              "#f0f921"
             ]
            ],
            "type": "contour"
           }
          ],
          "contourcarpet": [
           {
            "colorbar": {
             "outlinewidth": 0,
             "ticks": ""
            },
            "type": "contourcarpet"
           }
          ],
          "heatmap": [
           {
            "colorbar": {
             "outlinewidth": 0,
             "ticks": ""
            },
            "colorscale": [
             [
              0,
              "#0d0887"
             ],
             [
              0.1111111111111111,
              "#46039f"
             ],
             [
              0.2222222222222222,
              "#7201a8"
             ],
             [
              0.3333333333333333,
              "#9c179e"
             ],
             [
              0.4444444444444444,
              "#bd3786"
             ],
             [
              0.5555555555555556,
              "#d8576b"
             ],
             [
              0.6666666666666666,
              "#ed7953"
             ],
             [
              0.7777777777777778,
              "#fb9f3a"
             ],
             [
              0.8888888888888888,
              "#fdca26"
             ],
             [
              1,
              "#f0f921"
             ]
            ],
            "type": "heatmap"
           }
          ],
          "heatmapgl": [
           {
            "colorbar": {
             "outlinewidth": 0,
             "ticks": ""
            },
            "colorscale": [
             [
              0,
              "#0d0887"
             ],
             [
              0.1111111111111111,
              "#46039f"
             ],
             [
              0.2222222222222222,
              "#7201a8"
             ],
             [
              0.3333333333333333,
              "#9c179e"
             ],
             [
              0.4444444444444444,
              "#bd3786"
             ],
             [
              0.5555555555555556,
              "#d8576b"
             ],
             [
              0.6666666666666666,
              "#ed7953"
             ],
             [
              0.7777777777777778,
              "#fb9f3a"
             ],
             [
              0.8888888888888888,
              "#fdca26"
             ],
             [
              1,
              "#f0f921"
             ]
            ],
            "type": "heatmapgl"
           }
          ],
          "histogram": [
           {
            "marker": {
             "pattern": {
              "fillmode": "overlay",
              "size": 10,
              "solidity": 0.2
             }
            },
            "type": "histogram"
           }
          ],
          "histogram2d": [
           {
            "colorbar": {
             "outlinewidth": 0,
             "ticks": ""
            },
            "colorscale": [
             [
              0,
              "#0d0887"
             ],
             [
              0.1111111111111111,
              "#46039f"
             ],
             [
              0.2222222222222222,
              "#7201a8"
             ],
             [
              0.3333333333333333,
              "#9c179e"
             ],
             [
              0.4444444444444444,
              "#bd3786"
             ],
             [
              0.5555555555555556,
              "#d8576b"
             ],
             [
              0.6666666666666666,
              "#ed7953"
             ],
             [
              0.7777777777777778,
              "#fb9f3a"
             ],
             [
              0.8888888888888888,
              "#fdca26"
             ],
             [
              1,
              "#f0f921"
             ]
            ],
            "type": "histogram2d"
           }
          ],
          "histogram2dcontour": [
           {
            "colorbar": {
             "outlinewidth": 0,
             "ticks": ""
            },
            "colorscale": [
             [
              0,
              "#0d0887"
             ],
             [
              0.1111111111111111,
              "#46039f"
             ],
             [
              0.2222222222222222,
              "#7201a8"
             ],
             [
              0.3333333333333333,
              "#9c179e"
             ],
             [
              0.4444444444444444,
              "#bd3786"
             ],
             [
              0.5555555555555556,
              "#d8576b"
             ],
             [
              0.6666666666666666,
              "#ed7953"
             ],
             [
              0.7777777777777778,
              "#fb9f3a"
             ],
             [
              0.8888888888888888,
              "#fdca26"
             ],
             [
              1,
              "#f0f921"
             ]
            ],
            "type": "histogram2dcontour"
           }
          ],
          "mesh3d": [
           {
            "colorbar": {
             "outlinewidth": 0,
             "ticks": ""
            },
            "type": "mesh3d"
           }
          ],
          "parcoords": [
           {
            "line": {
             "colorbar": {
              "outlinewidth": 0,
              "ticks": ""
             }
            },
            "type": "parcoords"
           }
          ],
          "pie": [
           {
            "automargin": true,
            "type": "pie"
           }
          ],
          "scatter": [
           {
            "fillpattern": {
             "fillmode": "overlay",
             "size": 10,
             "solidity": 0.2
            },
            "type": "scatter"
           }
          ],
          "scatter3d": [
           {
            "line": {
             "colorbar": {
              "outlinewidth": 0,
              "ticks": ""
             }
            },
            "marker": {
             "colorbar": {
              "outlinewidth": 0,
              "ticks": ""
             }
            },
            "type": "scatter3d"
           }
          ],
          "scattercarpet": [
           {
            "marker": {
             "colorbar": {
              "outlinewidth": 0,
              "ticks": ""
             }
            },
            "type": "scattercarpet"
           }
          ],
          "scattergeo": [
           {
            "marker": {
             "colorbar": {
              "outlinewidth": 0,
              "ticks": ""
             }
            },
            "type": "scattergeo"
           }
          ],
          "scattergl": [
           {
            "marker": {
             "colorbar": {
              "outlinewidth": 0,
              "ticks": ""
             }
            },
            "type": "scattergl"
           }
          ],
          "scattermapbox": [
           {
            "marker": {
             "colorbar": {
              "outlinewidth": 0,
              "ticks": ""
             }
            },
            "type": "scattermapbox"
           }
          ],
          "scatterpolar": [
           {
            "marker": {
             "colorbar": {
              "outlinewidth": 0,
              "ticks": ""
             }
            },
            "type": "scatterpolar"
           }
          ],
          "scatterpolargl": [
           {
            "marker": {
             "colorbar": {
              "outlinewidth": 0,
              "ticks": ""
             }
            },
            "type": "scatterpolargl"
           }
          ],
          "scatterternary": [
           {
            "marker": {
             "colorbar": {
              "outlinewidth": 0,
              "ticks": ""
             }
            },
            "type": "scatterternary"
           }
          ],
          "surface": [
           {
            "colorbar": {
             "outlinewidth": 0,
             "ticks": ""
            },
            "colorscale": [
             [
              0,
              "#0d0887"
             ],
             [
              0.1111111111111111,
              "#46039f"
             ],
             [
              0.2222222222222222,
              "#7201a8"
             ],
             [
              0.3333333333333333,
              "#9c179e"
             ],
             [
              0.4444444444444444,
              "#bd3786"
             ],
             [
              0.5555555555555556,
              "#d8576b"
             ],
             [
              0.6666666666666666,
              "#ed7953"
             ],
             [
              0.7777777777777778,
              "#fb9f3a"
             ],
             [
              0.8888888888888888,
              "#fdca26"
             ],
             [
              1,
              "#f0f921"
             ]
            ],
            "type": "surface"
           }
          ],
          "table": [
           {
            "cells": {
             "fill": {
              "color": "#EBF0F8"
             },
             "line": {
              "color": "white"
             }
            },
            "header": {
             "fill": {
              "color": "#C8D4E3"
             },
             "line": {
              "color": "white"
             }
            },
            "type": "table"
           }
          ]
         },
         "layout": {
          "annotationdefaults": {
           "arrowcolor": "#2a3f5f",
           "arrowhead": 0,
           "arrowwidth": 1
          },
          "autotypenumbers": "strict",
          "coloraxis": {
           "colorbar": {
            "outlinewidth": 0,
            "ticks": ""
           }
          },
          "colorscale": {
           "diverging": [
            [
             0,
             "#8e0152"
            ],
            [
             0.1,
             "#c51b7d"
            ],
            [
             0.2,
             "#de77ae"
            ],
            [
             0.3,
             "#f1b6da"
            ],
            [
             0.4,
             "#fde0ef"
            ],
            [
             0.5,
             "#f7f7f7"
            ],
            [
             0.6,
             "#e6f5d0"
            ],
            [
             0.7,
             "#b8e186"
            ],
            [
             0.8,
             "#7fbc41"
            ],
            [
             0.9,
             "#4d9221"
            ],
            [
             1,
             "#276419"
            ]
           ],
           "sequential": [
            [
             0,
             "#0d0887"
            ],
            [
             0.1111111111111111,
             "#46039f"
            ],
            [
             0.2222222222222222,
             "#7201a8"
            ],
            [
             0.3333333333333333,
             "#9c179e"
            ],
            [
             0.4444444444444444,
             "#bd3786"
            ],
            [
             0.5555555555555556,
             "#d8576b"
            ],
            [
             0.6666666666666666,
             "#ed7953"
            ],
            [
             0.7777777777777778,
             "#fb9f3a"
            ],
            [
             0.8888888888888888,
             "#fdca26"
            ],
            [
             1,
             "#f0f921"
            ]
           ],
           "sequentialminus": [
            [
             0,
             "#0d0887"
            ],
            [
             0.1111111111111111,
             "#46039f"
            ],
            [
             0.2222222222222222,
             "#7201a8"
            ],
            [
             0.3333333333333333,
             "#9c179e"
            ],
            [
             0.4444444444444444,
             "#bd3786"
            ],
            [
             0.5555555555555556,
             "#d8576b"
            ],
            [
             0.6666666666666666,
             "#ed7953"
            ],
            [
             0.7777777777777778,
             "#fb9f3a"
            ],
            [
             0.8888888888888888,
             "#fdca26"
            ],
            [
             1,
             "#f0f921"
            ]
           ]
          },
          "colorway": [
           "#636efa",
           "#EF553B",
           "#00cc96",
           "#ab63fa",
           "#FFA15A",
           "#19d3f3",
           "#FF6692",
           "#B6E880",
           "#FF97FF",
           "#FECB52"
          ],
          "font": {
           "color": "#2a3f5f"
          },
          "geo": {
           "bgcolor": "white",
           "lakecolor": "white",
           "landcolor": "#E5ECF6",
           "showlakes": true,
           "showland": true,
           "subunitcolor": "white"
          },
          "hoverlabel": {
           "align": "left"
          },
          "hovermode": "closest",
          "mapbox": {
           "style": "light"
          },
          "paper_bgcolor": "white",
          "plot_bgcolor": "#E5ECF6",
          "polar": {
           "angularaxis": {
            "gridcolor": "white",
            "linecolor": "white",
            "ticks": ""
           },
           "bgcolor": "#E5ECF6",
           "radialaxis": {
            "gridcolor": "white",
            "linecolor": "white",
            "ticks": ""
           }
          },
          "scene": {
           "xaxis": {
            "backgroundcolor": "#E5ECF6",
            "gridcolor": "white",
            "gridwidth": 2,
            "linecolor": "white",
            "showbackground": true,
            "ticks": "",
            "zerolinecolor": "white"
           },
           "yaxis": {
            "backgroundcolor": "#E5ECF6",
            "gridcolor": "white",
            "gridwidth": 2,
            "linecolor": "white",
            "showbackground": true,
            "ticks": "",
            "zerolinecolor": "white"
           },
           "zaxis": {
            "backgroundcolor": "#E5ECF6",
            "gridcolor": "white",
            "gridwidth": 2,
            "linecolor": "white",
            "showbackground": true,
            "ticks": "",
            "zerolinecolor": "white"
           }
          },
          "shapedefaults": {
           "line": {
            "color": "#2a3f5f"
           }
          },
          "ternary": {
           "aaxis": {
            "gridcolor": "white",
            "linecolor": "white",
            "ticks": ""
           },
           "baxis": {
            "gridcolor": "white",
            "linecolor": "white",
            "ticks": ""
           },
           "bgcolor": "#E5ECF6",
           "caxis": {
            "gridcolor": "white",
            "linecolor": "white",
            "ticks": ""
           }
          },
          "title": {
           "x": 0.05
          },
          "xaxis": {
           "automargin": true,
           "gridcolor": "white",
           "linecolor": "white",
           "ticks": "",
           "title": {
            "standoff": 15
           },
           "zerolinecolor": "white",
           "zerolinewidth": 2
          },
          "yaxis": {
           "automargin": true,
           "gridcolor": "white",
           "linecolor": "white",
           "ticks": "",
           "title": {
            "standoff": 15
           },
           "zerolinecolor": "white",
           "zerolinewidth": 2
          }
         }
        },
        "title": {
         "text": "Average iteration time"
        },
        "updatemenus": [
         {
          "buttons": [
           {
            "args": [
             {
              "visible": [
               false,
               false,
               false,
               false,
               false,
               false,
               true
              ]
             },
             {
              "title": "Global Average"
             }
            ],
            "label": "Global Average",
            "method": "update"
           },
           {
            "args": [
             {
              "visible": [
               false,
               false,
               false,
               false,
               false,
               true,
               false
              ]
             },
             {
              "title": "s036 Average"
             }
            ],
            "label": "s036",
            "method": "update"
           },
           {
            "args": [
             {
              "visible": [
               false,
               false,
               true,
               false,
               false,
               false,
               false
              ]
             },
             {
              "title": "s025 Average"
             }
            ],
            "label": "s025",
            "method": "update"
           },
           {
            "args": [
             {
              "visible": [
               false,
               true,
               false,
               false,
               false,
               false,
               false
              ]
             },
             {
              "title": "s017 Average"
             }
            ],
            "label": "s017",
            "method": "update"
           },
           {
            "args": [
             {
              "visible": [
               false,
               false,
               false,
               true,
               false,
               false,
               false
              ]
             },
             {
              "title": "s028 Average"
             }
            ],
            "label": "s028",
            "method": "update"
           },
           {
            "args": [
             {
              "visible": [
               true,
               false,
               false,
               false,
               false,
               false,
               false
              ]
             },
             {
              "title": "s003 Average"
             }
            ],
            "label": "s003",
            "method": "update"
           },
           {
            "args": [
             {
              "visible": [
               false,
               false,
               false,
               false,
               true,
               false,
               false
              ]
             },
             {
              "title": "s031 Average"
             }
            ],
            "label": "s031",
            "method": "update"
           }
          ],
          "showactive": true,
          "type": "dropdown"
         }
        ],
        "xaxis": {
         "title": {
          "text": "Experiment"
         }
        },
        "yaxis": {
         "range": [
          0,
          1.69546319655735
         ],
         "title": {
          "text": "Iteration time (seconds)"
         }
        }
       }
      },
      "text/html": [
       "<div>                            <div id=\"9ac6264e-f094-4081-a797-59a94331dbfa\" class=\"plotly-graph-div\" style=\"height:525px; width:100%;\"></div>            <script type=\"text/javascript\">                require([\"plotly\"], function(Plotly) {                    window.PLOTLYENV=window.PLOTLYENV || {};                                    if (document.getElementById(\"9ac6264e-f094-4081-a797-59a94331dbfa\")) {                    Plotly.newPlot(                        \"9ac6264e-f094-4081-a797-59a94331dbfa\",                        [{\"error_y\":{\"array\":[0.19795632560713416,0.20632915578041852,0.19675299410763028,0.2228552266214702],\"type\":\"data\"},\"name\":\"s003\",\"visible\":false,\"x\":[\"0\\u003cb style='color:red;'\\u003e0\\u003c\\u002fb\\u003e\",\"0\\u003cb style='color:red;'\\u003e1\\u003c\\u002fb\\u003e\",\"1\\u003cb style='color:red;'\\u003e0\\u003c\\u002fb\\u003e\",\"1\\u003cb style='color:red;'\\u003e1\\u003c\\u002fb\\u003e\"],\"y\":[1.0388087800600758,1.4285601562286012,1.1981600028777386,1.4149504872794307],\"type\":\"bar\"},{\"error_y\":{\"array\":[0.09232277619119202,0.2575016347741473,0.052960574708908505,0.17733822604875812],\"type\":\"data\"},\"name\":\"s017\",\"visible\":false,\"x\":[\"0\\u003cb style='color:red;'\\u003e0\\u003c\\u002fb\\u003e\",\"0\\u003cb style='color:red;'\\u003e1\\u003c\\u002fb\\u003e\",\"1\\u003cb style='color:red;'\\u003e0\\u003c\\u002fb\\u003e\",\"1\\u003cb style='color:red;'\\u003e1\\u003c\\u002fb\\u003e\"],\"y\":[1.3892278836657426,1.5748001437617205,1.3278796199105733,1.5717618044063968],\"type\":\"bar\"},{\"error_y\":{\"array\":[0.07842681259321703,0.20839809102129558,0.22505602884347442,0.12946070765909296],\"type\":\"data\"},\"name\":\"s025\",\"visible\":false,\"x\":[\"0\\u003cb style='color:red;'\\u003e0\\u003c\\u002fb\\u003e\",\"0\\u003cb style='color:red;'\\u003e1\\u003c\\u002fb\\u003e\",\"1\\u003cb style='color:red;'\\u003e0\\u003c\\u002fb\\u003e\",\"1\\u003cb style='color:red;'\\u003e1\\u003c\\u002fb\\u003e\"],\"y\":[1.5901178390748574,1.5431042224359857,1.6140191114095486,1.6147268538641426],\"type\":\"bar\"},{\"error_y\":{\"array\":[0.39654421592628797,0.3205628938265293,0.19968371526569054,0.16497631295266002],\"type\":\"data\"},\"name\":\"s028\",\"visible\":false,\"x\":[\"0\\u003cb style='color:red;'\\u003e0\\u003c\\u002fb\\u003e\",\"0\\u003cb style='color:red;'\\u003e1\\u003c\\u002fb\\u003e\",\"1\\u003cb style='color:red;'\\u003e0\\u003c\\u002fb\\u003e\",\"1\\u003cb style='color:red;'\\u003e1\\u003c\\u002fb\\u003e\"],\"y\":[1.2032568173936207,1.490842433114054,1.1586281217417036,1.5027857705351682],\"type\":\"bar\"},{\"error_y\":{\"array\":[null,0.04080700345785836],\"type\":\"data\"},\"name\":\"s031\",\"visible\":false,\"x\":[\"0\\u003cb style='color:red;'\\u003e0\\u003c\\u002fb\\u003e\",\"0\\u003cb style='color:red;'\\u003e1\\u003c\\u002fb\\u003e\"],\"y\":[1.317410071942446,0.9397225559237781],\"type\":\"bar\"},{\"error_y\":{\"array\":[0.13905251992306716,0.216227380925634,0.09399282448970601,0.14274806603641454],\"type\":\"data\"},\"name\":\"s036\",\"visible\":false,\"x\":[\"0\\u003cb style='color:red;'\\u003e0\\u003c\\u002fb\\u003e\",\"0\\u003cb style='color:red;'\\u003e1\\u003c\\u002fb\\u003e\",\"1\\u003cb style='color:red;'\\u003e0\\u003c\\u002fb\\u003e\",\"1\\u003cb style='color:red;'\\u003e1\\u003c\\u002fb\\u003e\"],\"y\":[1.231179920338604,1.4384150143558936,1.160042653949305,1.3503299212415374],\"type\":\"bar\"},{\"error_y\":{\"array\":[0.2783447969124451,0.26101184540659816,0.24186536495706407,0.19084242797098694],\"type\":\"data\"},\"name\":\"Global Average\",\"visible\":true,\"x\":[\"0\\u003cb style='color:red;'\\u003e0\\u003c\\u002fb\\u003e\",\"0\\u003cb style='color:red;'\\u003e1\\u003c\\u002fb\\u003e\",\"1\\u003cb style='color:red;'\\u003e0\\u003c\\u002fb\\u003e\",\"1\\u003cb style='color:red;'\\u003e1\\u003c\\u002fb\\u003e\"],\"y\":[1.289081891872114,1.4737820155925019,1.2902403303972405,1.4909109674653351],\"type\":\"bar\"}],                        {\"template\":{\"data\":{\"histogram2dcontour\":[{\"type\":\"histogram2dcontour\",\"colorbar\":{\"outlinewidth\":0,\"ticks\":\"\"},\"colorscale\":[[0.0,\"#0d0887\"],[0.1111111111111111,\"#46039f\"],[0.2222222222222222,\"#7201a8\"],[0.3333333333333333,\"#9c179e\"],[0.4444444444444444,\"#bd3786\"],[0.5555555555555556,\"#d8576b\"],[0.6666666666666666,\"#ed7953\"],[0.7777777777777778,\"#fb9f3a\"],[0.8888888888888888,\"#fdca26\"],[1.0,\"#f0f921\"]]}],\"choropleth\":[{\"type\":\"choropleth\",\"colorbar\":{\"outlinewidth\":0,\"ticks\":\"\"}}],\"histogram2d\":[{\"type\":\"histogram2d\",\"colorbar\":{\"outlinewidth\":0,\"ticks\":\"\"},\"colorscale\":[[0.0,\"#0d0887\"],[0.1111111111111111,\"#46039f\"],[0.2222222222222222,\"#7201a8\"],[0.3333333333333333,\"#9c179e\"],[0.4444444444444444,\"#bd3786\"],[0.5555555555555556,\"#d8576b\"],[0.6666666666666666,\"#ed7953\"],[0.7777777777777778,\"#fb9f3a\"],[0.8888888888888888,\"#fdca26\"],[1.0,\"#f0f921\"]]}],\"heatmap\":[{\"type\":\"heatmap\",\"colorbar\":{\"outlinewidth\":0,\"ticks\":\"\"},\"colorscale\":[[0.0,\"#0d0887\"],[0.1111111111111111,\"#46039f\"],[0.2222222222222222,\"#7201a8\"],[0.3333333333333333,\"#9c179e\"],[0.4444444444444444,\"#bd3786\"],[0.5555555555555556,\"#d8576b\"],[0.6666666666666666,\"#ed7953\"],[0.7777777777777778,\"#fb9f3a\"],[0.8888888888888888,\"#fdca26\"],[1.0,\"#f0f921\"]]}],\"heatmapgl\":[{\"type\":\"heatmapgl\",\"colorbar\":{\"outlinewidth\":0,\"ticks\":\"\"},\"colorscale\":[[0.0,\"#0d0887\"],[0.1111111111111111,\"#46039f\"],[0.2222222222222222,\"#7201a8\"],[0.3333333333333333,\"#9c179e\"],[0.4444444444444444,\"#bd3786\"],[0.5555555555555556,\"#d8576b\"],[0.6666666666666666,\"#ed7953\"],[0.7777777777777778,\"#fb9f3a\"],[0.8888888888888888,\"#fdca26\"],[1.0,\"#f0f921\"]]}],\"contourcarpet\":[{\"type\":\"contourcarpet\",\"colorbar\":{\"outlinewidth\":0,\"ticks\":\"\"}}],\"contour\":[{\"type\":\"contour\",\"colorbar\":{\"outlinewidth\":0,\"ticks\":\"\"},\"colorscale\":[[0.0,\"#0d0887\"],[0.1111111111111111,\"#46039f\"],[0.2222222222222222,\"#7201a8\"],[0.3333333333333333,\"#9c179e\"],[0.4444444444444444,\"#bd3786\"],[0.5555555555555556,\"#d8576b\"],[0.6666666666666666,\"#ed7953\"],[0.7777777777777778,\"#fb9f3a\"],[0.8888888888888888,\"#fdca26\"],[1.0,\"#f0f921\"]]}],\"surface\":[{\"type\":\"surface\",\"colorbar\":{\"outlinewidth\":0,\"ticks\":\"\"},\"colorscale\":[[0.0,\"#0d0887\"],[0.1111111111111111,\"#46039f\"],[0.2222222222222222,\"#7201a8\"],[0.3333333333333333,\"#9c179e\"],[0.4444444444444444,\"#bd3786\"],[0.5555555555555556,\"#d8576b\"],[0.6666666666666666,\"#ed7953\"],[0.7777777777777778,\"#fb9f3a\"],[0.8888888888888888,\"#fdca26\"],[1.0,\"#f0f921\"]]}],\"mesh3d\":[{\"type\":\"mesh3d\",\"colorbar\":{\"outlinewidth\":0,\"ticks\":\"\"}}],\"scatter\":[{\"fillpattern\":{\"fillmode\":\"overlay\",\"size\":10,\"solidity\":0.2},\"type\":\"scatter\"}],\"parcoords\":[{\"type\":\"parcoords\",\"line\":{\"colorbar\":{\"outlinewidth\":0,\"ticks\":\"\"}}}],\"scatterpolargl\":[{\"type\":\"scatterpolargl\",\"marker\":{\"colorbar\":{\"outlinewidth\":0,\"ticks\":\"\"}}}],\"bar\":[{\"error_x\":{\"color\":\"#2a3f5f\"},\"error_y\":{\"color\":\"#2a3f5f\"},\"marker\":{\"line\":{\"color\":\"#E5ECF6\",\"width\":0.5},\"pattern\":{\"fillmode\":\"overlay\",\"size\":10,\"solidity\":0.2}},\"type\":\"bar\"}],\"scattergeo\":[{\"type\":\"scattergeo\",\"marker\":{\"colorbar\":{\"outlinewidth\":0,\"ticks\":\"\"}}}],\"scatterpolar\":[{\"type\":\"scatterpolar\",\"marker\":{\"colorbar\":{\"outlinewidth\":0,\"ticks\":\"\"}}}],\"histogram\":[{\"marker\":{\"pattern\":{\"fillmode\":\"overlay\",\"size\":10,\"solidity\":0.2}},\"type\":\"histogram\"}],\"scattergl\":[{\"type\":\"scattergl\",\"marker\":{\"colorbar\":{\"outlinewidth\":0,\"ticks\":\"\"}}}],\"scatter3d\":[{\"type\":\"scatter3d\",\"line\":{\"colorbar\":{\"outlinewidth\":0,\"ticks\":\"\"}},\"marker\":{\"colorbar\":{\"outlinewidth\":0,\"ticks\":\"\"}}}],\"scattermapbox\":[{\"type\":\"scattermapbox\",\"marker\":{\"colorbar\":{\"outlinewidth\":0,\"ticks\":\"\"}}}],\"scatterternary\":[{\"type\":\"scatterternary\",\"marker\":{\"colorbar\":{\"outlinewidth\":0,\"ticks\":\"\"}}}],\"scattercarpet\":[{\"type\":\"scattercarpet\",\"marker\":{\"colorbar\":{\"outlinewidth\":0,\"ticks\":\"\"}}}],\"carpet\":[{\"aaxis\":{\"endlinecolor\":\"#2a3f5f\",\"gridcolor\":\"white\",\"linecolor\":\"white\",\"minorgridcolor\":\"white\",\"startlinecolor\":\"#2a3f5f\"},\"baxis\":{\"endlinecolor\":\"#2a3f5f\",\"gridcolor\":\"white\",\"linecolor\":\"white\",\"minorgridcolor\":\"white\",\"startlinecolor\":\"#2a3f5f\"},\"type\":\"carpet\"}],\"table\":[{\"cells\":{\"fill\":{\"color\":\"#EBF0F8\"},\"line\":{\"color\":\"white\"}},\"header\":{\"fill\":{\"color\":\"#C8D4E3\"},\"line\":{\"color\":\"white\"}},\"type\":\"table\"}],\"barpolar\":[{\"marker\":{\"line\":{\"color\":\"#E5ECF6\",\"width\":0.5},\"pattern\":{\"fillmode\":\"overlay\",\"size\":10,\"solidity\":0.2}},\"type\":\"barpolar\"}],\"pie\":[{\"automargin\":true,\"type\":\"pie\"}]},\"layout\":{\"autotypenumbers\":\"strict\",\"colorway\":[\"#636efa\",\"#EF553B\",\"#00cc96\",\"#ab63fa\",\"#FFA15A\",\"#19d3f3\",\"#FF6692\",\"#B6E880\",\"#FF97FF\",\"#FECB52\"],\"font\":{\"color\":\"#2a3f5f\"},\"hovermode\":\"closest\",\"hoverlabel\":{\"align\":\"left\"},\"paper_bgcolor\":\"white\",\"plot_bgcolor\":\"#E5ECF6\",\"polar\":{\"bgcolor\":\"#E5ECF6\",\"angularaxis\":{\"gridcolor\":\"white\",\"linecolor\":\"white\",\"ticks\":\"\"},\"radialaxis\":{\"gridcolor\":\"white\",\"linecolor\":\"white\",\"ticks\":\"\"}},\"ternary\":{\"bgcolor\":\"#E5ECF6\",\"aaxis\":{\"gridcolor\":\"white\",\"linecolor\":\"white\",\"ticks\":\"\"},\"baxis\":{\"gridcolor\":\"white\",\"linecolor\":\"white\",\"ticks\":\"\"},\"caxis\":{\"gridcolor\":\"white\",\"linecolor\":\"white\",\"ticks\":\"\"}},\"coloraxis\":{\"colorbar\":{\"outlinewidth\":0,\"ticks\":\"\"}},\"colorscale\":{\"sequential\":[[0.0,\"#0d0887\"],[0.1111111111111111,\"#46039f\"],[0.2222222222222222,\"#7201a8\"],[0.3333333333333333,\"#9c179e\"],[0.4444444444444444,\"#bd3786\"],[0.5555555555555556,\"#d8576b\"],[0.6666666666666666,\"#ed7953\"],[0.7777777777777778,\"#fb9f3a\"],[0.8888888888888888,\"#fdca26\"],[1.0,\"#f0f921\"]],\"sequentialminus\":[[0.0,\"#0d0887\"],[0.1111111111111111,\"#46039f\"],[0.2222222222222222,\"#7201a8\"],[0.3333333333333333,\"#9c179e\"],[0.4444444444444444,\"#bd3786\"],[0.5555555555555556,\"#d8576b\"],[0.6666666666666666,\"#ed7953\"],[0.7777777777777778,\"#fb9f3a\"],[0.8888888888888888,\"#fdca26\"],[1.0,\"#f0f921\"]],\"diverging\":[[0,\"#8e0152\"],[0.1,\"#c51b7d\"],[0.2,\"#de77ae\"],[0.3,\"#f1b6da\"],[0.4,\"#fde0ef\"],[0.5,\"#f7f7f7\"],[0.6,\"#e6f5d0\"],[0.7,\"#b8e186\"],[0.8,\"#7fbc41\"],[0.9,\"#4d9221\"],[1,\"#276419\"]]},\"xaxis\":{\"gridcolor\":\"white\",\"linecolor\":\"white\",\"ticks\":\"\",\"title\":{\"standoff\":15},\"zerolinecolor\":\"white\",\"automargin\":true,\"zerolinewidth\":2},\"yaxis\":{\"gridcolor\":\"white\",\"linecolor\":\"white\",\"ticks\":\"\",\"title\":{\"standoff\":15},\"zerolinecolor\":\"white\",\"automargin\":true,\"zerolinewidth\":2},\"scene\":{\"xaxis\":{\"backgroundcolor\":\"#E5ECF6\",\"gridcolor\":\"white\",\"linecolor\":\"white\",\"showbackground\":true,\"ticks\":\"\",\"zerolinecolor\":\"white\",\"gridwidth\":2},\"yaxis\":{\"backgroundcolor\":\"#E5ECF6\",\"gridcolor\":\"white\",\"linecolor\":\"white\",\"showbackground\":true,\"ticks\":\"\",\"zerolinecolor\":\"white\",\"gridwidth\":2},\"zaxis\":{\"backgroundcolor\":\"#E5ECF6\",\"gridcolor\":\"white\",\"linecolor\":\"white\",\"showbackground\":true,\"ticks\":\"\",\"zerolinecolor\":\"white\",\"gridwidth\":2}},\"shapedefaults\":{\"line\":{\"color\":\"#2a3f5f\"}},\"annotationdefaults\":{\"arrowcolor\":\"#2a3f5f\",\"arrowhead\":0,\"arrowwidth\":1},\"geo\":{\"bgcolor\":\"white\",\"landcolor\":\"#E5ECF6\",\"subunitcolor\":\"white\",\"showland\":true,\"showlakes\":true,\"lakecolor\":\"white\"},\"title\":{\"x\":0.05},\"mapbox\":{\"style\":\"light\"}}},\"yaxis\":{\"title\":{\"text\":\"Iteration time (seconds)\"},\"range\":[0,1.69546319655735]},\"updatemenus\":[{\"buttons\":[{\"args\":[{\"visible\":[false,false,false,false,false,false,true]},{\"title\":\"Global Average\"}],\"label\":\"Global Average\",\"method\":\"update\"},{\"args\":[{\"visible\":[false,false,false,false,false,true,false]},{\"title\":\"s036 Average\"}],\"label\":\"s036\",\"method\":\"update\"},{\"args\":[{\"visible\":[false,false,true,false,false,false,false]},{\"title\":\"s025 Average\"}],\"label\":\"s025\",\"method\":\"update\"},{\"args\":[{\"visible\":[false,true,false,false,false,false,false]},{\"title\":\"s017 Average\"}],\"label\":\"s017\",\"method\":\"update\"},{\"args\":[{\"visible\":[false,false,false,true,false,false,false]},{\"title\":\"s028 Average\"}],\"label\":\"s028\",\"method\":\"update\"},{\"args\":[{\"visible\":[true,false,false,false,false,false,false]},{\"title\":\"s003 Average\"}],\"label\":\"s003\",\"method\":\"update\"},{\"args\":[{\"visible\":[false,false,false,false,true,false,false]},{\"title\":\"s031 Average\"}],\"label\":\"s031\",\"method\":\"update\"}],\"showactive\":true,\"type\":\"dropdown\"}],\"title\":{\"text\":\"Average iteration time\"},\"xaxis\":{\"title\":{\"text\":\"Experiment\"}}},                        {\"responsive\": true}                    ).then(function(){\n",
       "                            \n",
       "var gd = document.getElementById('9ac6264e-f094-4081-a797-59a94331dbfa');\n",
       "var x = new MutationObserver(function (mutations, observer) {{\n",
       "        var display = window.getComputedStyle(gd).display;\n",
       "        if (!display || display === 'none') {{\n",
       "            console.log([gd, 'removed!']);\n",
       "            Plotly.purge(gd);\n",
       "            observer.disconnect();\n",
       "        }}\n",
       "}});\n",
       "\n",
       "// Listen for the removal of the full notebook cells\n",
       "var notebookContainer = gd.closest('#notebook-container');\n",
       "if (notebookContainer) {{\n",
       "    x.observe(notebookContainer, {childList: true});\n",
       "}}\n",
       "\n",
       "// Listen for the clearing of the current output cell\n",
       "var outputEl = gd.closest('.output');\n",
       "if (outputEl) {{\n",
       "    x.observe(outputEl, {childList: true});\n",
       "}}\n",
       "\n",
       "                        })                };                });            </script>        </div>"
      ]
     },
     "metadata": {},
     "output_type": "display_data"
    }
   ],
   "source": [
    "fig = go.Figure()\n",
    "\n",
    "# Add traces for each subject and global average\n",
    "for subject in subjects:\n",
    "    subject_data = stats[stats[\"subj_id\"] == subject]\n",
    "    fig.add_trace(\n",
    "        go.Bar(\n",
    "            x=subject_data[\"highlighted_label\"],\n",
    "            y=subject_data[\"iter_time_mean\"],\n",
    "            name=subject,\n",
    "            visible=(subject == \"Global Average\"),\n",
    "            error_y=dict(type=\"data\", array=subject_data[\"iter_time_std\"]),\n",
    "        )\n",
    "    )\n",
    "\n",
    "buttons = get_dropdown(subjects)\n",
    "\n",
    "# Update layout with dropdown menu and fixed y-axis range\n",
    "fig.update_layout(\n",
    "    updatemenus=[dict(type=\"dropdown\", showactive=True, buttons=buttons)],\n",
    "    title=\"Average iteration time\",\n",
    "    xaxis_title=\"Experiment\",\n",
    "    yaxis_title=\"Iteration time (seconds)\",\n",
    "    yaxis=dict(range=[0, stats[\"iter_time_mean\"].max() * 1.05]),\n",
    "    # height=1000,\n",
    ")\n",
    "\n",
    "fig.show()\n",
    "fig.write_html(figure_dir / \"iter_time.html\")\n",
    "fig.write_image(figure_dir / \"iter_time.png\")"
   ]
  },
  {
   "cell_type": "markdown",
   "metadata": {},
   "source": [
    "## Metric Value"
   ]
  },
  {
   "cell_type": "code",
   "execution_count": 18,
   "metadata": {},
   "outputs": [
    {
     "data": {
      "application/vnd.plotly.v1+json": {
       "config": {
        "plotlyServerURL": "https://plot.ly"
       },
       "data": [
        {
         "error_y": {
          "array": [
           0.004614818584623085,
           0.005986230109048982,
           0.0067004505255564804,
           0.005183917815823074
          ],
          "type": "data"
         },
         "name": "s003",
         "type": "bar",
         "visible": false,
         "x": [
          "0<b style='color:red;'>0</b>",
          "0<b style='color:red;'>1</b>",
          "1<b style='color:red;'>0</b>",
          "1<b style='color:red;'>1</b>"
         ],
         "y": [
          0.48586165016672,
          0.47108769712432,
          0.47380771778422004,
          0.43883755692896004
         ]
        },
        {
         "error_y": {
          "array": [
           0.00018746338070782173,
           0.0001762297409852746,
           0.0003237936898861626,
           0.000831342843916985
          ],
          "type": "data"
         },
         "name": "s017",
         "type": "bar",
         "visible": false,
         "x": [
          "0<b style='color:red;'>0</b>",
          "0<b style='color:red;'>1</b>",
          "1<b style='color:red;'>0</b>",
          "1<b style='color:red;'>1</b>"
         ],
         "y": [
          0.5529587983944111,
          0.5269633259098601,
          0.542585556220075,
          0.5069195583754
         ]
        },
        {
         "error_y": {
          "array": [
           0.0004047571877883468,
           0.00029287398080219686,
           0.00034130615937271196,
           0.0009804212032289471
          ],
          "type": "data"
         },
         "name": "s025",
         "type": "bar",
         "visible": false,
         "x": [
          "0<b style='color:red;'>0</b>",
          "0<b style='color:red;'>1</b>",
          "1<b style='color:red;'>0</b>",
          "1<b style='color:red;'>1</b>"
         ],
         "y": [
          0.53897599525233,
          0.51641412156199,
          0.5300332024418399,
          0.49546256739982003
         ]
        },
        {
         "error_y": {
          "array": [
           0.009175402596967875,
           0.0048357262837256795,
           0.0020444453268099417,
           0.0027311672248318854
          ],
          "type": "data"
         },
         "name": "s028",
         "type": "bar",
         "visible": false,
         "x": [
          "0<b style='color:red;'>0</b>",
          "0<b style='color:red;'>1</b>",
          "1<b style='color:red;'>0</b>",
          "1<b style='color:red;'>1</b>"
         ],
         "y": [
          0.50240124121903,
          0.47195068973269,
          0.49551157251704003,
          0.45902836584232
         ]
        },
        {
         "error_y": {
          "array": [
           null,
           0.00009416459390804591
          ],
          "type": "data"
         },
         "name": "s031",
         "type": "bar",
         "visible": false,
         "x": [
          "0<b style='color:red;'>0</b>",
          "0<b style='color:red;'>1</b>"
         ],
         "y": [
          0.5546546222949,
          0.5279661133519999
         ]
        },
        {
         "error_y": {
          "array": [
           0.00008597022932529739,
           0.00024367373836881698,
           0.00048706953383342107,
           0.0005972634807610495
          ],
          "type": "data"
         },
         "name": "s036",
         "type": "bar",
         "visible": false,
         "x": [
          "0<b style='color:red;'>0</b>",
          "0<b style='color:red;'>1</b>",
          "1<b style='color:red;'>0</b>",
          "1<b style='color:red;'>1</b>"
         ],
         "y": [
          0.55244489510912,
          0.5259385203564699,
          0.54233767452171,
          0.5052341674184999
         ]
        },
        {
         "error_y": {
          "array": [
           0.028086753388379758,
           0.025970829759932385,
           0.028058964024374824,
           0.027706071176781442
          ],
          "type": "data"
         },
         "name": "Global Average",
         "type": "bar",
         "visible": true,
         "x": [
          "0<b style='color:red;'>0</b>",
          "0<b style='color:red;'>1</b>",
          "1<b style='color:red;'>0</b>",
          "1<b style='color:red;'>1</b>"
         ],
         "y": [
          0.5265624325063321,
          0.5034514571837942,
          0.515783044216848,
          0.48109644319300005
         ]
        }
       ],
       "layout": {
        "template": {
         "data": {
          "bar": [
           {
            "error_x": {
             "color": "#2a3f5f"
            },
            "error_y": {
             "color": "#2a3f5f"
            },
            "marker": {
             "line": {
              "color": "#E5ECF6",
              "width": 0.5
             },
             "pattern": {
              "fillmode": "overlay",
              "size": 10,
              "solidity": 0.2
             }
            },
            "type": "bar"
           }
          ],
          "barpolar": [
           {
            "marker": {
             "line": {
              "color": "#E5ECF6",
              "width": 0.5
             },
             "pattern": {
              "fillmode": "overlay",
              "size": 10,
              "solidity": 0.2
             }
            },
            "type": "barpolar"
           }
          ],
          "carpet": [
           {
            "aaxis": {
             "endlinecolor": "#2a3f5f",
             "gridcolor": "white",
             "linecolor": "white",
             "minorgridcolor": "white",
             "startlinecolor": "#2a3f5f"
            },
            "baxis": {
             "endlinecolor": "#2a3f5f",
             "gridcolor": "white",
             "linecolor": "white",
             "minorgridcolor": "white",
             "startlinecolor": "#2a3f5f"
            },
            "type": "carpet"
           }
          ],
          "choropleth": [
           {
            "colorbar": {
             "outlinewidth": 0,
             "ticks": ""
            },
            "type": "choropleth"
           }
          ],
          "contour": [
           {
            "colorbar": {
             "outlinewidth": 0,
             "ticks": ""
            },
            "colorscale": [
             [
              0,
              "#0d0887"
             ],
             [
              0.1111111111111111,
              "#46039f"
             ],
             [
              0.2222222222222222,
              "#7201a8"
             ],
             [
              0.3333333333333333,
              "#9c179e"
             ],
             [
              0.4444444444444444,
              "#bd3786"
             ],
             [
              0.5555555555555556,
              "#d8576b"
             ],
             [
              0.6666666666666666,
              "#ed7953"
             ],
             [
              0.7777777777777778,
              "#fb9f3a"
             ],
             [
              0.8888888888888888,
              "#fdca26"
             ],
             [
              1,
              "#f0f921"
             ]
            ],
            "type": "contour"
           }
          ],
          "contourcarpet": [
           {
            "colorbar": {
             "outlinewidth": 0,
             "ticks": ""
            },
            "type": "contourcarpet"
           }
          ],
          "heatmap": [
           {
            "colorbar": {
             "outlinewidth": 0,
             "ticks": ""
            },
            "colorscale": [
             [
              0,
              "#0d0887"
             ],
             [
              0.1111111111111111,
              "#46039f"
             ],
             [
              0.2222222222222222,
              "#7201a8"
             ],
             [
              0.3333333333333333,
              "#9c179e"
             ],
             [
              0.4444444444444444,
              "#bd3786"
             ],
             [
              0.5555555555555556,
              "#d8576b"
             ],
             [
              0.6666666666666666,
              "#ed7953"
             ],
             [
              0.7777777777777778,
              "#fb9f3a"
             ],
             [
              0.8888888888888888,
              "#fdca26"
             ],
             [
              1,
              "#f0f921"
             ]
            ],
            "type": "heatmap"
           }
          ],
          "heatmapgl": [
           {
            "colorbar": {
             "outlinewidth": 0,
             "ticks": ""
            },
            "colorscale": [
             [
              0,
              "#0d0887"
             ],
             [
              0.1111111111111111,
              "#46039f"
             ],
             [
              0.2222222222222222,
              "#7201a8"
             ],
             [
              0.3333333333333333,
              "#9c179e"
             ],
             [
              0.4444444444444444,
              "#bd3786"
             ],
             [
              0.5555555555555556,
              "#d8576b"
             ],
             [
              0.6666666666666666,
              "#ed7953"
             ],
             [
              0.7777777777777778,
              "#fb9f3a"
             ],
             [
              0.8888888888888888,
              "#fdca26"
             ],
             [
              1,
              "#f0f921"
             ]
            ],
            "type": "heatmapgl"
           }
          ],
          "histogram": [
           {
            "marker": {
             "pattern": {
              "fillmode": "overlay",
              "size": 10,
              "solidity": 0.2
             }
            },
            "type": "histogram"
           }
          ],
          "histogram2d": [
           {
            "colorbar": {
             "outlinewidth": 0,
             "ticks": ""
            },
            "colorscale": [
             [
              0,
              "#0d0887"
             ],
             [
              0.1111111111111111,
              "#46039f"
             ],
             [
              0.2222222222222222,
              "#7201a8"
             ],
             [
              0.3333333333333333,
              "#9c179e"
             ],
             [
              0.4444444444444444,
              "#bd3786"
             ],
             [
              0.5555555555555556,
              "#d8576b"
             ],
             [
              0.6666666666666666,
              "#ed7953"
             ],
             [
              0.7777777777777778,
              "#fb9f3a"
             ],
             [
              0.8888888888888888,
              "#fdca26"
             ],
             [
              1,
              "#f0f921"
             ]
            ],
            "type": "histogram2d"
           }
          ],
          "histogram2dcontour": [
           {
            "colorbar": {
             "outlinewidth": 0,
             "ticks": ""
            },
            "colorscale": [
             [
              0,
              "#0d0887"
             ],
             [
              0.1111111111111111,
              "#46039f"
             ],
             [
              0.2222222222222222,
              "#7201a8"
             ],
             [
              0.3333333333333333,
              "#9c179e"
             ],
             [
              0.4444444444444444,
              "#bd3786"
             ],
             [
              0.5555555555555556,
              "#d8576b"
             ],
             [
              0.6666666666666666,
              "#ed7953"
             ],
             [
              0.7777777777777778,
              "#fb9f3a"
             ],
             [
              0.8888888888888888,
              "#fdca26"
             ],
             [
              1,
              "#f0f921"
             ]
            ],
            "type": "histogram2dcontour"
           }
          ],
          "mesh3d": [
           {
            "colorbar": {
             "outlinewidth": 0,
             "ticks": ""
            },
            "type": "mesh3d"
           }
          ],
          "parcoords": [
           {
            "line": {
             "colorbar": {
              "outlinewidth": 0,
              "ticks": ""
             }
            },
            "type": "parcoords"
           }
          ],
          "pie": [
           {
            "automargin": true,
            "type": "pie"
           }
          ],
          "scatter": [
           {
            "fillpattern": {
             "fillmode": "overlay",
             "size": 10,
             "solidity": 0.2
            },
            "type": "scatter"
           }
          ],
          "scatter3d": [
           {
            "line": {
             "colorbar": {
              "outlinewidth": 0,
              "ticks": ""
             }
            },
            "marker": {
             "colorbar": {
              "outlinewidth": 0,
              "ticks": ""
             }
            },
            "type": "scatter3d"
           }
          ],
          "scattercarpet": [
           {
            "marker": {
             "colorbar": {
              "outlinewidth": 0,
              "ticks": ""
             }
            },
            "type": "scattercarpet"
           }
          ],
          "scattergeo": [
           {
            "marker": {
             "colorbar": {
              "outlinewidth": 0,
              "ticks": ""
             }
            },
            "type": "scattergeo"
           }
          ],
          "scattergl": [
           {
            "marker": {
             "colorbar": {
              "outlinewidth": 0,
              "ticks": ""
             }
            },
            "type": "scattergl"
           }
          ],
          "scattermapbox": [
           {
            "marker": {
             "colorbar": {
              "outlinewidth": 0,
              "ticks": ""
             }
            },
            "type": "scattermapbox"
           }
          ],
          "scatterpolar": [
           {
            "marker": {
             "colorbar": {
              "outlinewidth": 0,
              "ticks": ""
             }
            },
            "type": "scatterpolar"
           }
          ],
          "scatterpolargl": [
           {
            "marker": {
             "colorbar": {
              "outlinewidth": 0,
              "ticks": ""
             }
            },
            "type": "scatterpolargl"
           }
          ],
          "scatterternary": [
           {
            "marker": {
             "colorbar": {
              "outlinewidth": 0,
              "ticks": ""
             }
            },
            "type": "scatterternary"
           }
          ],
          "surface": [
           {
            "colorbar": {
             "outlinewidth": 0,
             "ticks": ""
            },
            "colorscale": [
             [
              0,
              "#0d0887"
             ],
             [
              0.1111111111111111,
              "#46039f"
             ],
             [
              0.2222222222222222,
              "#7201a8"
             ],
             [
              0.3333333333333333,
              "#9c179e"
             ],
             [
              0.4444444444444444,
              "#bd3786"
             ],
             [
              0.5555555555555556,
              "#d8576b"
             ],
             [
              0.6666666666666666,
              "#ed7953"
             ],
             [
              0.7777777777777778,
              "#fb9f3a"
             ],
             [
              0.8888888888888888,
              "#fdca26"
             ],
             [
              1,
              "#f0f921"
             ]
            ],
            "type": "surface"
           }
          ],
          "table": [
           {
            "cells": {
             "fill": {
              "color": "#EBF0F8"
             },
             "line": {
              "color": "white"
             }
            },
            "header": {
             "fill": {
              "color": "#C8D4E3"
             },
             "line": {
              "color": "white"
             }
            },
            "type": "table"
           }
          ]
         },
         "layout": {
          "annotationdefaults": {
           "arrowcolor": "#2a3f5f",
           "arrowhead": 0,
           "arrowwidth": 1
          },
          "autotypenumbers": "strict",
          "coloraxis": {
           "colorbar": {
            "outlinewidth": 0,
            "ticks": ""
           }
          },
          "colorscale": {
           "diverging": [
            [
             0,
             "#8e0152"
            ],
            [
             0.1,
             "#c51b7d"
            ],
            [
             0.2,
             "#de77ae"
            ],
            [
             0.3,
             "#f1b6da"
            ],
            [
             0.4,
             "#fde0ef"
            ],
            [
             0.5,
             "#f7f7f7"
            ],
            [
             0.6,
             "#e6f5d0"
            ],
            [
             0.7,
             "#b8e186"
            ],
            [
             0.8,
             "#7fbc41"
            ],
            [
             0.9,
             "#4d9221"
            ],
            [
             1,
             "#276419"
            ]
           ],
           "sequential": [
            [
             0,
             "#0d0887"
            ],
            [
             0.1111111111111111,
             "#46039f"
            ],
            [
             0.2222222222222222,
             "#7201a8"
            ],
            [
             0.3333333333333333,
             "#9c179e"
            ],
            [
             0.4444444444444444,
             "#bd3786"
            ],
            [
             0.5555555555555556,
             "#d8576b"
            ],
            [
             0.6666666666666666,
             "#ed7953"
            ],
            [
             0.7777777777777778,
             "#fb9f3a"
            ],
            [
             0.8888888888888888,
             "#fdca26"
            ],
            [
             1,
             "#f0f921"
            ]
           ],
           "sequentialminus": [
            [
             0,
             "#0d0887"
            ],
            [
             0.1111111111111111,
             "#46039f"
            ],
            [
             0.2222222222222222,
             "#7201a8"
            ],
            [
             0.3333333333333333,
             "#9c179e"
            ],
            [
             0.4444444444444444,
             "#bd3786"
            ],
            [
             0.5555555555555556,
             "#d8576b"
            ],
            [
             0.6666666666666666,
             "#ed7953"
            ],
            [
             0.7777777777777778,
             "#fb9f3a"
            ],
            [
             0.8888888888888888,
             "#fdca26"
            ],
            [
             1,
             "#f0f921"
            ]
           ]
          },
          "colorway": [
           "#636efa",
           "#EF553B",
           "#00cc96",
           "#ab63fa",
           "#FFA15A",
           "#19d3f3",
           "#FF6692",
           "#B6E880",
           "#FF97FF",
           "#FECB52"
          ],
          "font": {
           "color": "#2a3f5f"
          },
          "geo": {
           "bgcolor": "white",
           "lakecolor": "white",
           "landcolor": "#E5ECF6",
           "showlakes": true,
           "showland": true,
           "subunitcolor": "white"
          },
          "hoverlabel": {
           "align": "left"
          },
          "hovermode": "closest",
          "mapbox": {
           "style": "light"
          },
          "paper_bgcolor": "white",
          "plot_bgcolor": "#E5ECF6",
          "polar": {
           "angularaxis": {
            "gridcolor": "white",
            "linecolor": "white",
            "ticks": ""
           },
           "bgcolor": "#E5ECF6",
           "radialaxis": {
            "gridcolor": "white",
            "linecolor": "white",
            "ticks": ""
           }
          },
          "scene": {
           "xaxis": {
            "backgroundcolor": "#E5ECF6",
            "gridcolor": "white",
            "gridwidth": 2,
            "linecolor": "white",
            "showbackground": true,
            "ticks": "",
            "zerolinecolor": "white"
           },
           "yaxis": {
            "backgroundcolor": "#E5ECF6",
            "gridcolor": "white",
            "gridwidth": 2,
            "linecolor": "white",
            "showbackground": true,
            "ticks": "",
            "zerolinecolor": "white"
           },
           "zaxis": {
            "backgroundcolor": "#E5ECF6",
            "gridcolor": "white",
            "gridwidth": 2,
            "linecolor": "white",
            "showbackground": true,
            "ticks": "",
            "zerolinecolor": "white"
           }
          },
          "shapedefaults": {
           "line": {
            "color": "#2a3f5f"
           }
          },
          "ternary": {
           "aaxis": {
            "gridcolor": "white",
            "linecolor": "white",
            "ticks": ""
           },
           "baxis": {
            "gridcolor": "white",
            "linecolor": "white",
            "ticks": ""
           },
           "bgcolor": "#E5ECF6",
           "caxis": {
            "gridcolor": "white",
            "linecolor": "white",
            "ticks": ""
           }
          },
          "title": {
           "x": 0.05
          },
          "xaxis": {
           "automargin": true,
           "gridcolor": "white",
           "linecolor": "white",
           "ticks": "",
           "title": {
            "standoff": 15
           },
           "zerolinecolor": "white",
           "zerolinewidth": 2
          },
          "yaxis": {
           "automargin": true,
           "gridcolor": "white",
           "linecolor": "white",
           "ticks": "",
           "title": {
            "standoff": 15
           },
           "zerolinecolor": "white",
           "zerolinewidth": 2
          }
         }
        },
        "title": {
         "text": "Average metric value"
        },
        "updatemenus": [
         {
          "buttons": [
           {
            "args": [
             {
              "visible": [
               false,
               false,
               false,
               false,
               false,
               false,
               true
              ]
             },
             {
              "title": "Global Average"
             }
            ],
            "label": "Global Average",
            "method": "update"
           },
           {
            "args": [
             {
              "visible": [
               false,
               false,
               false,
               false,
               false,
               true,
               false
              ]
             },
             {
              "title": "s036 Average"
             }
            ],
            "label": "s036",
            "method": "update"
           },
           {
            "args": [
             {
              "visible": [
               false,
               false,
               true,
               false,
               false,
               false,
               false
              ]
             },
             {
              "title": "s025 Average"
             }
            ],
            "label": "s025",
            "method": "update"
           },
           {
            "args": [
             {
              "visible": [
               false,
               true,
               false,
               false,
               false,
               false,
               false
              ]
             },
             {
              "title": "s017 Average"
             }
            ],
            "label": "s017",
            "method": "update"
           },
           {
            "args": [
             {
              "visible": [
               false,
               false,
               false,
               true,
               false,
               false,
               false
              ]
             },
             {
              "title": "s028 Average"
             }
            ],
            "label": "s028",
            "method": "update"
           },
           {
            "args": [
             {
              "visible": [
               true,
               false,
               false,
               false,
               false,
               false,
               false
              ]
             },
             {
              "title": "s003 Average"
             }
            ],
            "label": "s003",
            "method": "update"
           },
           {
            "args": [
             {
              "visible": [
               false,
               false,
               false,
               false,
               true,
               false,
               false
              ]
             },
             {
              "title": "s031 Average"
             }
            ],
            "label": "s031",
            "method": "update"
           }
          ],
          "showactive": true,
          "type": "dropdown"
         }
        ],
        "xaxis": {
         "title": {
          "text": "Experiment"
         }
        },
        "yaxis": {
         "range": [
          0,
          0.5823873534096451
         ],
         "title": {
          "text": "Metric value"
         }
        }
       }
      },
      "text/html": [
       "<div>                            <div id=\"b2f4060f-18aa-47bb-956f-41304146ba70\" class=\"plotly-graph-div\" style=\"height:525px; width:100%;\"></div>            <script type=\"text/javascript\">                require([\"plotly\"], function(Plotly) {                    window.PLOTLYENV=window.PLOTLYENV || {};                                    if (document.getElementById(\"b2f4060f-18aa-47bb-956f-41304146ba70\")) {                    Plotly.newPlot(                        \"b2f4060f-18aa-47bb-956f-41304146ba70\",                        [{\"error_y\":{\"array\":[0.004614818584623085,0.005986230109048982,0.0067004505255564804,0.005183917815823074],\"type\":\"data\"},\"name\":\"s003\",\"visible\":false,\"x\":[\"0\\u003cb style='color:red;'\\u003e0\\u003c\\u002fb\\u003e\",\"0\\u003cb style='color:red;'\\u003e1\\u003c\\u002fb\\u003e\",\"1\\u003cb style='color:red;'\\u003e0\\u003c\\u002fb\\u003e\",\"1\\u003cb style='color:red;'\\u003e1\\u003c\\u002fb\\u003e\"],\"y\":[0.48586165016672,0.47108769712432,0.47380771778422004,0.43883755692896004],\"type\":\"bar\"},{\"error_y\":{\"array\":[0.00018746338070782173,0.0001762297409852746,0.0003237936898861626,0.000831342843916985],\"type\":\"data\"},\"name\":\"s017\",\"visible\":false,\"x\":[\"0\\u003cb style='color:red;'\\u003e0\\u003c\\u002fb\\u003e\",\"0\\u003cb style='color:red;'\\u003e1\\u003c\\u002fb\\u003e\",\"1\\u003cb style='color:red;'\\u003e0\\u003c\\u002fb\\u003e\",\"1\\u003cb style='color:red;'\\u003e1\\u003c\\u002fb\\u003e\"],\"y\":[0.5529587983944111,0.5269633259098601,0.542585556220075,0.5069195583754],\"type\":\"bar\"},{\"error_y\":{\"array\":[0.0004047571877883468,0.00029287398080219686,0.00034130615937271196,0.0009804212032289471],\"type\":\"data\"},\"name\":\"s025\",\"visible\":false,\"x\":[\"0\\u003cb style='color:red;'\\u003e0\\u003c\\u002fb\\u003e\",\"0\\u003cb style='color:red;'\\u003e1\\u003c\\u002fb\\u003e\",\"1\\u003cb style='color:red;'\\u003e0\\u003c\\u002fb\\u003e\",\"1\\u003cb style='color:red;'\\u003e1\\u003c\\u002fb\\u003e\"],\"y\":[0.53897599525233,0.51641412156199,0.5300332024418399,0.49546256739982003],\"type\":\"bar\"},{\"error_y\":{\"array\":[0.009175402596967875,0.0048357262837256795,0.0020444453268099417,0.0027311672248318854],\"type\":\"data\"},\"name\":\"s028\",\"visible\":false,\"x\":[\"0\\u003cb style='color:red;'\\u003e0\\u003c\\u002fb\\u003e\",\"0\\u003cb style='color:red;'\\u003e1\\u003c\\u002fb\\u003e\",\"1\\u003cb style='color:red;'\\u003e0\\u003c\\u002fb\\u003e\",\"1\\u003cb style='color:red;'\\u003e1\\u003c\\u002fb\\u003e\"],\"y\":[0.50240124121903,0.47195068973269,0.49551157251704003,0.45902836584232],\"type\":\"bar\"},{\"error_y\":{\"array\":[null,9.416459390804591e-05],\"type\":\"data\"},\"name\":\"s031\",\"visible\":false,\"x\":[\"0\\u003cb style='color:red;'\\u003e0\\u003c\\u002fb\\u003e\",\"0\\u003cb style='color:red;'\\u003e1\\u003c\\u002fb\\u003e\"],\"y\":[0.5546546222949,0.5279661133519999],\"type\":\"bar\"},{\"error_y\":{\"array\":[8.597022932529739e-05,0.00024367373836881698,0.00048706953383342107,0.0005972634807610495],\"type\":\"data\"},\"name\":\"s036\",\"visible\":false,\"x\":[\"0\\u003cb style='color:red;'\\u003e0\\u003c\\u002fb\\u003e\",\"0\\u003cb style='color:red;'\\u003e1\\u003c\\u002fb\\u003e\",\"1\\u003cb style='color:red;'\\u003e0\\u003c\\u002fb\\u003e\",\"1\\u003cb style='color:red;'\\u003e1\\u003c\\u002fb\\u003e\"],\"y\":[0.55244489510912,0.5259385203564699,0.54233767452171,0.5052341674184999],\"type\":\"bar\"},{\"error_y\":{\"array\":[0.028086753388379758,0.025970829759932385,0.028058964024374824,0.027706071176781442],\"type\":\"data\"},\"name\":\"Global Average\",\"visible\":true,\"x\":[\"0\\u003cb style='color:red;'\\u003e0\\u003c\\u002fb\\u003e\",\"0\\u003cb style='color:red;'\\u003e1\\u003c\\u002fb\\u003e\",\"1\\u003cb style='color:red;'\\u003e0\\u003c\\u002fb\\u003e\",\"1\\u003cb style='color:red;'\\u003e1\\u003c\\u002fb\\u003e\"],\"y\":[0.5265624325063321,0.5034514571837942,0.515783044216848,0.48109644319300005],\"type\":\"bar\"}],                        {\"template\":{\"data\":{\"histogram2dcontour\":[{\"type\":\"histogram2dcontour\",\"colorbar\":{\"outlinewidth\":0,\"ticks\":\"\"},\"colorscale\":[[0.0,\"#0d0887\"],[0.1111111111111111,\"#46039f\"],[0.2222222222222222,\"#7201a8\"],[0.3333333333333333,\"#9c179e\"],[0.4444444444444444,\"#bd3786\"],[0.5555555555555556,\"#d8576b\"],[0.6666666666666666,\"#ed7953\"],[0.7777777777777778,\"#fb9f3a\"],[0.8888888888888888,\"#fdca26\"],[1.0,\"#f0f921\"]]}],\"choropleth\":[{\"type\":\"choropleth\",\"colorbar\":{\"outlinewidth\":0,\"ticks\":\"\"}}],\"histogram2d\":[{\"type\":\"histogram2d\",\"colorbar\":{\"outlinewidth\":0,\"ticks\":\"\"},\"colorscale\":[[0.0,\"#0d0887\"],[0.1111111111111111,\"#46039f\"],[0.2222222222222222,\"#7201a8\"],[0.3333333333333333,\"#9c179e\"],[0.4444444444444444,\"#bd3786\"],[0.5555555555555556,\"#d8576b\"],[0.6666666666666666,\"#ed7953\"],[0.7777777777777778,\"#fb9f3a\"],[0.8888888888888888,\"#fdca26\"],[1.0,\"#f0f921\"]]}],\"heatmap\":[{\"type\":\"heatmap\",\"colorbar\":{\"outlinewidth\":0,\"ticks\":\"\"},\"colorscale\":[[0.0,\"#0d0887\"],[0.1111111111111111,\"#46039f\"],[0.2222222222222222,\"#7201a8\"],[0.3333333333333333,\"#9c179e\"],[0.4444444444444444,\"#bd3786\"],[0.5555555555555556,\"#d8576b\"],[0.6666666666666666,\"#ed7953\"],[0.7777777777777778,\"#fb9f3a\"],[0.8888888888888888,\"#fdca26\"],[1.0,\"#f0f921\"]]}],\"heatmapgl\":[{\"type\":\"heatmapgl\",\"colorbar\":{\"outlinewidth\":0,\"ticks\":\"\"},\"colorscale\":[[0.0,\"#0d0887\"],[0.1111111111111111,\"#46039f\"],[0.2222222222222222,\"#7201a8\"],[0.3333333333333333,\"#9c179e\"],[0.4444444444444444,\"#bd3786\"],[0.5555555555555556,\"#d8576b\"],[0.6666666666666666,\"#ed7953\"],[0.7777777777777778,\"#fb9f3a\"],[0.8888888888888888,\"#fdca26\"],[1.0,\"#f0f921\"]]}],\"contourcarpet\":[{\"type\":\"contourcarpet\",\"colorbar\":{\"outlinewidth\":0,\"ticks\":\"\"}}],\"contour\":[{\"type\":\"contour\",\"colorbar\":{\"outlinewidth\":0,\"ticks\":\"\"},\"colorscale\":[[0.0,\"#0d0887\"],[0.1111111111111111,\"#46039f\"],[0.2222222222222222,\"#7201a8\"],[0.3333333333333333,\"#9c179e\"],[0.4444444444444444,\"#bd3786\"],[0.5555555555555556,\"#d8576b\"],[0.6666666666666666,\"#ed7953\"],[0.7777777777777778,\"#fb9f3a\"],[0.8888888888888888,\"#fdca26\"],[1.0,\"#f0f921\"]]}],\"surface\":[{\"type\":\"surface\",\"colorbar\":{\"outlinewidth\":0,\"ticks\":\"\"},\"colorscale\":[[0.0,\"#0d0887\"],[0.1111111111111111,\"#46039f\"],[0.2222222222222222,\"#7201a8\"],[0.3333333333333333,\"#9c179e\"],[0.4444444444444444,\"#bd3786\"],[0.5555555555555556,\"#d8576b\"],[0.6666666666666666,\"#ed7953\"],[0.7777777777777778,\"#fb9f3a\"],[0.8888888888888888,\"#fdca26\"],[1.0,\"#f0f921\"]]}],\"mesh3d\":[{\"type\":\"mesh3d\",\"colorbar\":{\"outlinewidth\":0,\"ticks\":\"\"}}],\"scatter\":[{\"fillpattern\":{\"fillmode\":\"overlay\",\"size\":10,\"solidity\":0.2},\"type\":\"scatter\"}],\"parcoords\":[{\"type\":\"parcoords\",\"line\":{\"colorbar\":{\"outlinewidth\":0,\"ticks\":\"\"}}}],\"scatterpolargl\":[{\"type\":\"scatterpolargl\",\"marker\":{\"colorbar\":{\"outlinewidth\":0,\"ticks\":\"\"}}}],\"bar\":[{\"error_x\":{\"color\":\"#2a3f5f\"},\"error_y\":{\"color\":\"#2a3f5f\"},\"marker\":{\"line\":{\"color\":\"#E5ECF6\",\"width\":0.5},\"pattern\":{\"fillmode\":\"overlay\",\"size\":10,\"solidity\":0.2}},\"type\":\"bar\"}],\"scattergeo\":[{\"type\":\"scattergeo\",\"marker\":{\"colorbar\":{\"outlinewidth\":0,\"ticks\":\"\"}}}],\"scatterpolar\":[{\"type\":\"scatterpolar\",\"marker\":{\"colorbar\":{\"outlinewidth\":0,\"ticks\":\"\"}}}],\"histogram\":[{\"marker\":{\"pattern\":{\"fillmode\":\"overlay\",\"size\":10,\"solidity\":0.2}},\"type\":\"histogram\"}],\"scattergl\":[{\"type\":\"scattergl\",\"marker\":{\"colorbar\":{\"outlinewidth\":0,\"ticks\":\"\"}}}],\"scatter3d\":[{\"type\":\"scatter3d\",\"line\":{\"colorbar\":{\"outlinewidth\":0,\"ticks\":\"\"}},\"marker\":{\"colorbar\":{\"outlinewidth\":0,\"ticks\":\"\"}}}],\"scattermapbox\":[{\"type\":\"scattermapbox\",\"marker\":{\"colorbar\":{\"outlinewidth\":0,\"ticks\":\"\"}}}],\"scatterternary\":[{\"type\":\"scatterternary\",\"marker\":{\"colorbar\":{\"outlinewidth\":0,\"ticks\":\"\"}}}],\"scattercarpet\":[{\"type\":\"scattercarpet\",\"marker\":{\"colorbar\":{\"outlinewidth\":0,\"ticks\":\"\"}}}],\"carpet\":[{\"aaxis\":{\"endlinecolor\":\"#2a3f5f\",\"gridcolor\":\"white\",\"linecolor\":\"white\",\"minorgridcolor\":\"white\",\"startlinecolor\":\"#2a3f5f\"},\"baxis\":{\"endlinecolor\":\"#2a3f5f\",\"gridcolor\":\"white\",\"linecolor\":\"white\",\"minorgridcolor\":\"white\",\"startlinecolor\":\"#2a3f5f\"},\"type\":\"carpet\"}],\"table\":[{\"cells\":{\"fill\":{\"color\":\"#EBF0F8\"},\"line\":{\"color\":\"white\"}},\"header\":{\"fill\":{\"color\":\"#C8D4E3\"},\"line\":{\"color\":\"white\"}},\"type\":\"table\"}],\"barpolar\":[{\"marker\":{\"line\":{\"color\":\"#E5ECF6\",\"width\":0.5},\"pattern\":{\"fillmode\":\"overlay\",\"size\":10,\"solidity\":0.2}},\"type\":\"barpolar\"}],\"pie\":[{\"automargin\":true,\"type\":\"pie\"}]},\"layout\":{\"autotypenumbers\":\"strict\",\"colorway\":[\"#636efa\",\"#EF553B\",\"#00cc96\",\"#ab63fa\",\"#FFA15A\",\"#19d3f3\",\"#FF6692\",\"#B6E880\",\"#FF97FF\",\"#FECB52\"],\"font\":{\"color\":\"#2a3f5f\"},\"hovermode\":\"closest\",\"hoverlabel\":{\"align\":\"left\"},\"paper_bgcolor\":\"white\",\"plot_bgcolor\":\"#E5ECF6\",\"polar\":{\"bgcolor\":\"#E5ECF6\",\"angularaxis\":{\"gridcolor\":\"white\",\"linecolor\":\"white\",\"ticks\":\"\"},\"radialaxis\":{\"gridcolor\":\"white\",\"linecolor\":\"white\",\"ticks\":\"\"}},\"ternary\":{\"bgcolor\":\"#E5ECF6\",\"aaxis\":{\"gridcolor\":\"white\",\"linecolor\":\"white\",\"ticks\":\"\"},\"baxis\":{\"gridcolor\":\"white\",\"linecolor\":\"white\",\"ticks\":\"\"},\"caxis\":{\"gridcolor\":\"white\",\"linecolor\":\"white\",\"ticks\":\"\"}},\"coloraxis\":{\"colorbar\":{\"outlinewidth\":0,\"ticks\":\"\"}},\"colorscale\":{\"sequential\":[[0.0,\"#0d0887\"],[0.1111111111111111,\"#46039f\"],[0.2222222222222222,\"#7201a8\"],[0.3333333333333333,\"#9c179e\"],[0.4444444444444444,\"#bd3786\"],[0.5555555555555556,\"#d8576b\"],[0.6666666666666666,\"#ed7953\"],[0.7777777777777778,\"#fb9f3a\"],[0.8888888888888888,\"#fdca26\"],[1.0,\"#f0f921\"]],\"sequentialminus\":[[0.0,\"#0d0887\"],[0.1111111111111111,\"#46039f\"],[0.2222222222222222,\"#7201a8\"],[0.3333333333333333,\"#9c179e\"],[0.4444444444444444,\"#bd3786\"],[0.5555555555555556,\"#d8576b\"],[0.6666666666666666,\"#ed7953\"],[0.7777777777777778,\"#fb9f3a\"],[0.8888888888888888,\"#fdca26\"],[1.0,\"#f0f921\"]],\"diverging\":[[0,\"#8e0152\"],[0.1,\"#c51b7d\"],[0.2,\"#de77ae\"],[0.3,\"#f1b6da\"],[0.4,\"#fde0ef\"],[0.5,\"#f7f7f7\"],[0.6,\"#e6f5d0\"],[0.7,\"#b8e186\"],[0.8,\"#7fbc41\"],[0.9,\"#4d9221\"],[1,\"#276419\"]]},\"xaxis\":{\"gridcolor\":\"white\",\"linecolor\":\"white\",\"ticks\":\"\",\"title\":{\"standoff\":15},\"zerolinecolor\":\"white\",\"automargin\":true,\"zerolinewidth\":2},\"yaxis\":{\"gridcolor\":\"white\",\"linecolor\":\"white\",\"ticks\":\"\",\"title\":{\"standoff\":15},\"zerolinecolor\":\"white\",\"automargin\":true,\"zerolinewidth\":2},\"scene\":{\"xaxis\":{\"backgroundcolor\":\"#E5ECF6\",\"gridcolor\":\"white\",\"linecolor\":\"white\",\"showbackground\":true,\"ticks\":\"\",\"zerolinecolor\":\"white\",\"gridwidth\":2},\"yaxis\":{\"backgroundcolor\":\"#E5ECF6\",\"gridcolor\":\"white\",\"linecolor\":\"white\",\"showbackground\":true,\"ticks\":\"\",\"zerolinecolor\":\"white\",\"gridwidth\":2},\"zaxis\":{\"backgroundcolor\":\"#E5ECF6\",\"gridcolor\":\"white\",\"linecolor\":\"white\",\"showbackground\":true,\"ticks\":\"\",\"zerolinecolor\":\"white\",\"gridwidth\":2}},\"shapedefaults\":{\"line\":{\"color\":\"#2a3f5f\"}},\"annotationdefaults\":{\"arrowcolor\":\"#2a3f5f\",\"arrowhead\":0,\"arrowwidth\":1},\"geo\":{\"bgcolor\":\"white\",\"landcolor\":\"#E5ECF6\",\"subunitcolor\":\"white\",\"showland\":true,\"showlakes\":true,\"lakecolor\":\"white\"},\"title\":{\"x\":0.05},\"mapbox\":{\"style\":\"light\"}}},\"yaxis\":{\"title\":{\"text\":\"Metric value\"},\"range\":[0,0.5823873534096451]},\"updatemenus\":[{\"buttons\":[{\"args\":[{\"visible\":[false,false,false,false,false,false,true]},{\"title\":\"Global Average\"}],\"label\":\"Global Average\",\"method\":\"update\"},{\"args\":[{\"visible\":[false,false,false,false,false,true,false]},{\"title\":\"s036 Average\"}],\"label\":\"s036\",\"method\":\"update\"},{\"args\":[{\"visible\":[false,false,true,false,false,false,false]},{\"title\":\"s025 Average\"}],\"label\":\"s025\",\"method\":\"update\"},{\"args\":[{\"visible\":[false,true,false,false,false,false,false]},{\"title\":\"s017 Average\"}],\"label\":\"s017\",\"method\":\"update\"},{\"args\":[{\"visible\":[false,false,false,true,false,false,false]},{\"title\":\"s028 Average\"}],\"label\":\"s028\",\"method\":\"update\"},{\"args\":[{\"visible\":[true,false,false,false,false,false,false]},{\"title\":\"s003 Average\"}],\"label\":\"s003\",\"method\":\"update\"},{\"args\":[{\"visible\":[false,false,false,false,true,false,false]},{\"title\":\"s031 Average\"}],\"label\":\"s031\",\"method\":\"update\"}],\"showactive\":true,\"type\":\"dropdown\"}],\"title\":{\"text\":\"Average metric value\"},\"xaxis\":{\"title\":{\"text\":\"Experiment\"}}},                        {\"responsive\": true}                    ).then(function(){\n",
       "                            \n",
       "var gd = document.getElementById('b2f4060f-18aa-47bb-956f-41304146ba70');\n",
       "var x = new MutationObserver(function (mutations, observer) {{\n",
       "        var display = window.getComputedStyle(gd).display;\n",
       "        if (!display || display === 'none') {{\n",
       "            console.log([gd, 'removed!']);\n",
       "            Plotly.purge(gd);\n",
       "            observer.disconnect();\n",
       "        }}\n",
       "}});\n",
       "\n",
       "// Listen for the removal of the full notebook cells\n",
       "var notebookContainer = gd.closest('#notebook-container');\n",
       "if (notebookContainer) {{\n",
       "    x.observe(notebookContainer, {childList: true});\n",
       "}}\n",
       "\n",
       "// Listen for the clearing of the current output cell\n",
       "var outputEl = gd.closest('.output');\n",
       "if (outputEl) {{\n",
       "    x.observe(outputEl, {childList: true});\n",
       "}}\n",
       "\n",
       "                        })                };                });            </script>        </div>"
      ]
     },
     "metadata": {},
     "output_type": "display_data"
    }
   ],
   "source": [
    "fig = go.Figure()\n",
    "\n",
    "# Add traces for each subject and global average\n",
    "for subject in subjects:\n",
    "    subject_data = stats[stats[\"subj_id\"] == subject]\n",
    "    fig.add_trace(\n",
    "        go.Bar(\n",
    "            x=subject_data[\"highlighted_label\"],\n",
    "            y=subject_data[\"metric_mean\"],\n",
    "            name=subject,\n",
    "            visible=(subject == \"Global Average\"),\n",
    "            error_y=dict(type=\"data\", array=subject_data[\"metric_std\"]),\n",
    "        )\n",
    "    )\n",
    "\n",
    "buttons = get_dropdown(subjects)\n",
    "\n",
    "# Update layout with dropdown menu and fixed y-axis range\n",
    "fig.update_layout(\n",
    "    updatemenus=[dict(type=\"dropdown\", showactive=True, buttons=buttons)],\n",
    "    title=\"Average metric value\",\n",
    "    xaxis_title=\"Experiment\",\n",
    "    yaxis_title=\"Metric value\",\n",
    "    yaxis=dict(range=[0, stats[\"metric_mean\"].max()*1.05]),\n",
    "    # height=1000,\n",
    ")\n",
    "\n",
    "fig.show()\n",
    "fig.write_html(figure_dir / \"metrics.html\")\n",
    "fig.write_image(figure_dir / \"metrics.png\")"
   ]
  },
  {
   "cell_type": "code",
   "execution_count": null,
   "metadata": {},
   "outputs": [],
   "source": []
  }
 ],
 "metadata": {
  "kernelspec": {
   "display_name": "fast-interpolate",
   "language": "python",
   "name": "python3"
  },
  "language_info": {
   "codemirror_mode": {
    "name": "ipython",
    "version": 3
   },
   "file_extension": ".py",
   "mimetype": "text/x-python",
   "name": "python",
   "nbconvert_exporter": "python",
   "pygments_lexer": "ipython3",
   "version": "3.12.0"
  }
 },
 "nbformat": 4,
 "nbformat_minor": 2
}
