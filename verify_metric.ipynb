{
 "cells": [
  {
   "cell_type": "code",
   "execution_count": 24,
   "metadata": {},
   "outputs": [],
   "source": [
    "import nibabel as nib\n",
    "import numpy as np\n",
    "\n",
    "fixed_nib = nib.load(\"/home/mathdugre/.cache/templateflow/tpl-MNI152NLin2009cAsym/tpl-MNI152NLin2009cAsym_res-01_desc-brain_T1w.nii.gz\").get_fdata()\n",
    "nib.Nifti1Image(np.zeros(fixed_nib.shape), np.eye(4)).to_filename(\"blank.nii.gz\")\n",
    "nib.Nifti1Image(np.full(fixed_nib.shape, np.finfo(np.float64).max), np.eye(4)).to_filename(\"full.nii.gz\")"
   ]
  },
  {
   "cell_type": "code",
   "execution_count": 28,
   "metadata": {},
   "outputs": [],
   "source": [
    "def mutual_information(hgram):\n",
    "    \"\"\" Mutual information for joint histogram\n",
    "    \"\"\"\n",
    "    # Convert bins counts to probability values\n",
    "    pxy = hgram / float(np.sum(hgram))\n",
    "    px = np.sum(pxy, axis=1) # marginal for x over y\n",
    "    py = np.sum(pxy, axis=0) # marginal for y over x\n",
    "    px_py = px[:, None] * py[None, :] # Broadcast to multiply marginals\n",
    "    # Now we can do the calculation using the pxy, px_py 2D arrays\n",
    "    nzs = pxy > 0 # Only non-zero pxy values contribute to the sum\n",
    "    return np.sum(pxy[nzs] * np.log(pxy[nzs] / px_py[nzs]))"
   ]
  },
  {
   "cell_type": "code",
   "execution_count": 2,
   "metadata": {},
   "outputs": [],
   "source": [
    "import itk\n",
    "\n",
    "fixed_itk = itk.imread(\"/home/mathdugre/.cache/templateflow/tpl-MNI152NLin2009cAsym/tpl-MNI152NLin2009cAsym_res-01_desc-brain_T1w.nii.gz\", itk.D)\n",
    "blank_itk = itk.imread(\"blank.nii.gz\", itk.D)\n",
    "full_itk = itk.imread(\"full.nii.gz\", itk.D)\n",
    "sanity_itk = itk.imread(\"/home/mathdugre/papers/fast-interpolate/dataset/ds004513/derivatives/flint/antsRegistration/binary64/sub-s003/Warped.nii.gz\", itk.D)"
   ]
  },
  {
   "cell_type": "code",
   "execution_count": null,
   "metadata": {},
   "outputs": [
    {
     "ename": "",
     "evalue": "",
     "output_type": "error",
     "traceback": [
      "\u001b[1;31mThe Kernel crashed while executing code in the current cell or a previous cell. \n",
      "\u001b[1;31mPlease review the code in the cell(s) to identify a possible cause of the failure. \n",
      "\u001b[1;31mClick <a href='https://aka.ms/vscodeJupyterKernelCrash'>here</a> for more info. \n",
      "\u001b[1;31mView Jupyter <a href='command:jupyter.viewOutput'>log</a> for further details."
     ]
    }
   ],
   "source": [
    "import itk.itkMutualInformationImageToImageMetricPython\n",
    "\n",
    "TransformType = itk.TranslationTransform[itk.D, 3]\n",
    "transform = TransformType.New()\n",
    "\n",
    "MetricType = itk.MutualInformationImageToImageMetric[\n",
    "    type(fixed_itk), type(blank_itk)\n",
    "]\n",
    "metric = MetricType.New()\n",
    "metric.SetFixedImage(fixed_itk)\n",
    "metric.SetMovingImage(blank_itk)\n",
    "\n",
    "metric.SetNumberOfSpatialSamples(100)\n",
    "metric.SetFixedImageStandardDeviation(0.4)\n",
    "metric.SetMovingImageStandardDeviation(0.4)\n",
    "\n",
    "# Initialize the metric\n",
    "# metric.Initialize()\n",
    "\n",
    "# Compute the similarity value\n",
    "similarity_value = metric.GetValue(transform.GetParameters())\n",
    "print(f\"Similarity Value: {similarity_value:.16e}\")\n"
   ]
  },
  {
   "cell_type": "code",
   "execution_count": 27,
   "metadata": {},
   "outputs": [
    {
     "name": "stdout",
     "output_type": "stream",
     "text": [
      "Similarity Value: -1.0000000000000000e+00\n"
     ]
    }
   ],
   "source": [
    "MetricType = itk.ANTSNeighborhoodCorrelationImageToImageMetricv4[\n",
    "    type(fixed_itk), type(full_itk)\n",
    "]\n",
    "metric = MetricType.New()\n",
    "metric.SetFixedImage(fixed_itk)\n",
    "metric.SetMovingImage(full_itk)\n",
    "\n",
    "# Initialize the metric\n",
    "metric.Initialize()\n",
    "\n",
    "# Compute the similarity value\n",
    "similarity_value = metric.GetValue()\n",
    "print(f\"Similarity Value: {similarity_value:.16e}\")\n"
   ]
  },
  {
   "cell_type": "code",
   "execution_count": 36,
   "metadata": {},
   "outputs": [
    {
     "name": "stdout",
     "output_type": "stream",
     "text": [
      "Similarity Value: -8.6242698995606148e-01\n"
     ]
    }
   ],
   "source": [
    "MetricType = itk.ANTSNeighborhoodCorrelationImageToImageMetricv4[\n",
    "    type(fixed_itk), type(sanity_itk)\n",
    "]\n",
    "metric = MetricType.New()\n",
    "metric.SetFixedImage(fixed_itk)\n",
    "metric.SetMovingImage(sanity_itk)\n",
    "\n",
    "# Initialize the metric\n",
    "metric.Initialize()\n",
    "\n",
    "# Compute the similarity value\n",
    "similarity_value = metric.GetValue()\n",
    "print(f\"Similarity Value: {similarity_value:.16e}\")\n"
   ]
  },
  {
   "cell_type": "code",
   "execution_count": 39,
   "metadata": {},
   "outputs": [],
   "source": [
    "blank_nib = nib.load(\"blank.nii.gz\").get_fdata()\n",
    "full_nib = nib.load(\"full.nii.gz\").get_fdata()\n",
    "sanity_nib = nib.load(\"/home/mathdugre/papers/fast-interpolate/dataset/ds004513/derivatives/flint/antsRegistration/binary64/sub-s003/Warped.nii.gz\").get_fdata()"
   ]
  },
  {
   "cell_type": "code",
   "execution_count": 32,
   "metadata": {},
   "outputs": [
    {
     "data": {
      "text/plain": [
       "np.float64(-3.0741979043401205e-16)"
      ]
     },
     "execution_count": 32,
     "metadata": {},
     "output_type": "execute_result"
    }
   ],
   "source": [
    "hist_2d, x_edges, y_edges = np.histogram2d(\n",
    "    fixed_nib.ravel(),\n",
    "    blank_nib.ravel(),\n",
    "    bins=32\n",
    ")\n",
    "mutual_information(hist_2d)"
   ]
  },
  {
   "cell_type": "code",
   "execution_count": 33,
   "metadata": {},
   "outputs": [
    {
     "data": {
      "text/plain": [
       "np.float64(-3.0741979043401205e-16)"
      ]
     },
     "execution_count": 33,
     "metadata": {},
     "output_type": "execute_result"
    }
   ],
   "source": [
    "hist_2d, x_edges, y_edges = np.histogram2d(\n",
    "    fixed_nib.ravel(),\n",
    "    full_nib.ravel(),\n",
    "    bins=32\n",
    ")\n",
    "mutual_information(hist_2d)"
   ]
  },
  {
   "cell_type": "code",
   "execution_count": 37,
   "metadata": {},
   "outputs": [
    {
     "data": {
      "text/plain": [
       "np.float64(1.0)"
      ]
     },
     "execution_count": 37,
     "metadata": {},
     "output_type": "execute_result"
    }
   ],
   "source": [
    "import skimage as ski\n",
    "\n",
    "ski.metrics.normalized_mutual_information(fixed_nib, blank_nib, bins=32)"
   ]
  },
  {
   "cell_type": "code",
   "execution_count": 38,
   "metadata": {},
   "outputs": [
    {
     "name": "stderr",
     "output_type": "stream",
     "text": [
      "divide by zero encountered in divide\n",
      "invalid value encountered in divide\n"
     ]
    },
    {
     "data": {
      "text/plain": [
       "np.float64(nan)"
      ]
     },
     "execution_count": 38,
     "metadata": {},
     "output_type": "execute_result"
    }
   ],
   "source": [
    "ski.metrics.normalized_mutual_information(fixed_nib, full_nib, bins=32)"
   ]
  },
  {
   "cell_type": "code",
   "execution_count": 41,
   "metadata": {},
   "outputs": [
    {
     "data": {
      "text/plain": [
       "np.float64(-0.3580196755123446)"
      ]
     },
     "execution_count": 41,
     "metadata": {},
     "output_type": "execute_result"
    }
   ],
   "source": [
    "-(ski.metrics.normalized_mutual_information(fixed_nib, sanity_nib, bins=32) - 1)"
   ]
  },
  {
   "cell_type": "code",
   "execution_count": null,
   "metadata": {},
   "outputs": [],
   "source": []
  }
 ],
 "metadata": {
  "kernelspec": {
   "display_name": "fast-interpolate",
   "language": "python",
   "name": "python3"
  },
  "language_info": {
   "codemirror_mode": {
    "name": "ipython",
    "version": 3
   },
   "file_extension": ".py",
   "mimetype": "text/x-python",
   "name": "python",
   "nbconvert_exporter": "python",
   "pygments_lexer": "ipython3",
   "version": "3.12.0"
  }
 },
 "nbformat": 4,
 "nbformat_minor": 2
}
