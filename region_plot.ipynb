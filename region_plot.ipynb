{
 "cells": [
  {
   "cell_type": "markdown",
   "metadata": {},
   "source": [
    "# Utils"
   ]
  },
  {
   "cell_type": "code",
   "execution_count": 11,
   "metadata": {},
   "outputs": [],
   "source": [
    "import numpy as np\n",
    "import plotly.graph_objects as go\n",
    "\n",
    "\n",
    "def plot_failure(data):\n",
    "    # Extract x, y, and intensity values\n",
    "    x = sorted({key for subdict in data.values() for key in subdict.keys()})\n",
    "    y = sorted(data.keys())\n",
    "    z = np.zeros((len(y), len(x)))\n",
    "\n",
    "    # Populate the intensity grid\n",
    "    for yi, y_key in enumerate(y):\n",
    "        for xi, x_key in enumerate(x):\n",
    "            z[yi, xi] = data[y_key].get(x_key, 0)\n",
    "\n",
    "    # Define custom colorscale\n",
    "    colorscale = [\n",
    "        [0, \"green\"],\n",
    "        [0.01, \"white\"],\n",
    "        [0.33, \"orange\"],\n",
    "        [0.66, \"orangered\"],\n",
    "        [1, \"red\"],\n",
    "    ]\n",
    "\n",
    "    # Create heatmap\n",
    "    fig = go.Figure(\n",
    "        data=go.Heatmap(\n",
    "            z=z,\n",
    "            x=x,\n",
    "            y=y,\n",
    "            colorscale=colorscale,\n",
    "            colorbar=dict(title=\"Failed\"),\n",
    "            texttemplate=\"%{z:.2f}\"\n",
    "        )\n",
    "    )\n",
    "\n",
    "    # Style & Layout\n",
    "    fig.update_layout(\n",
    "        title=\"Execution failed across VPREC formats\",\n",
    "        xaxis=dict(title=\"Precision\", tickvals=x, ticks=\"outside\"),\n",
    "        yaxis=dict(title=\"Range\", tickvals=y, ticks=\"outside\"),\n",
    "    )\n",
    "\n",
    "    fig.show()"
   ]
  },
  {
   "cell_type": "code",
   "execution_count": 119,
   "metadata": {},
   "outputs": [],
   "source": [
    "import numpy as np\n",
    "import plotly.graph_objects as go\n",
    "\n",
    "\n",
    "def plot_metric_diff(failures: dict[dict[int]], metrics: dict[float], *, n_subjects: int, metric_name: str, exp_metrics: dict[float]=None,):\n",
    "    # Extract x, y, and intensity values\n",
    "    failures = failures.copy()\n",
    "    x = sorted({key for subdict in failures.values() for key in subdict.keys()})\n",
    "    y = sorted(failures.keys())\n",
    "    z = np.zeros((len(y), len(x)))\n",
    "\n",
    "    # Populate the intensity grid\n",
    "    for yi, y_key in enumerate(y):\n",
    "        for xi, x_key in enumerate(x):\n",
    "            z[yi, xi] = metrics.get(f\"r{y_key}-p{x_key}\", np.nan)\n",
    "\n",
    "    # Difference between binary64\n",
    "    delta = z - metrics[\"binary64\"]\n",
    "    m = np.nanmin(delta)\n",
    "    M = np.nanmax(delta)\n",
    "    norm_pivot = (0 - m) / (M - m)\n",
    "\n",
    "    \n",
    "    # Convert NaN to 1 to display with colorscale\n",
    "    masked_failed = np.where(np.isnan(delta), 1, np.nan)\n",
    "    delta = np.where(np.isnan(delta), np.nan, delta)\n",
    "\n",
    "\n",
    "    if exp_metrics:\n",
    "        std_delta = np.zeros((len(y), len(x)))\n",
    "        for yi, y_key in enumerate(y):\n",
    "            for xi, x_key in enumerate(x):\n",
    "                std_delta[yi, xi] = np.nanstd(\n",
    "                    np.asarray(exp_metrics.get(f\"r{y_key}-p{x_key}\", np.nan)) - np.asarray(exp_metrics[\"binary64\"])\n",
    "                )\n",
    "\n",
    "        formatter = np.vectorize(lambda d, s: f\"{d:.3f} ± {s:.3f}\")\n",
    "        formatted = formatter(delta, std_delta)\n",
    "    else:\n",
    "        formatter = np.vectorize(lambda d: f\"{d:.3f}\")\n",
    "        formatted = formatter(delta)\n",
    "\n",
    "\n",
    "    text_labels = np.where(delta < 1, formatted, f\"⚠ Err: {n_subjects}/{n_subjects}\")\n",
    "\n",
    "    # Define custom colorscale\n",
    "    colorscale = [\n",
    "        [0, \"green\"],\n",
    "        [norm_pivot, \"white\"],\n",
    "        [1, \"red\"],\n",
    "    ]\n",
    "\n",
    "    # Create heatmap\n",
    "    normal_trace = go.Heatmap(\n",
    "        z=delta,\n",
    "        x=x,\n",
    "        y=y,\n",
    "        colorscale=colorscale,\n",
    "        zmin=m,\n",
    "        zmax=M,\n",
    "        colorbar=dict(title=\"Metric\"),\n",
    "        text=text_labels,\n",
    "        texttemplate=\"%{text}\",\n",
    "    )\n",
    "    failed_trace = go.Heatmap(\n",
    "        z=masked_failed,\n",
    "        x=x,\n",
    "        y=y,\n",
    "        colorscale=[[0, \"grey\"], [1, \"grey\"]],\n",
    "        showscale=False,\n",
    "    )\n",
    "    fig = go.Figure(data=[failed_trace, normal_trace])\n",
    "\n",
    "    # Annotate failures\n",
    "    for i in y:\n",
    "        for j in x:\n",
    "            cell_value = failures[i][j]\n",
    "\n",
    "            if cell_value > 0 and cell_value < n_subjects:\n",
    "                fig.add_annotation(\n",
    "                x=j,\n",
    "                y=i - 0.4,         # Place the star at the top edge of the cell\n",
    "                text=f\"⚠ Err: {cell_value}/{n_subjects}\",          # Star symbol\n",
    "                showarrow=False,\n",
    "                font=dict(color=\"black\"),\n",
    "                xanchor=\"center\",\n",
    "                yanchor=\"bottom\"   # Align the bottom of the text with the coordinate\n",
    "            )\n",
    "\n",
    "    # Style & Layout\n",
    "    fig.update_layout(\n",
    "        title=f\"Metric's difference with binary64 - ({metric_name.capitalize()})\",\n",
    "        xaxis=dict(title=\"Precision\", tickvals=x, ticks=\"outside\"),\n",
    "        yaxis=dict(title=\"Range\", tickvals=y, ticks=\"outside\"),\n",
    "    )\n",
    "\n",
    "    fig.show()"
   ]
  },
  {
   "cell_type": "code",
   "execution_count": 127,
   "metadata": {},
   "outputs": [],
   "source": [
    "import numpy as np\n",
    "import plotly.graph_objects as go\n",
    "\n",
    "\n",
    "def plot_metric_rel(failures: dict[dict[int]], metrics: dict[float], *, n_subjects: int, metric_name: str, exp_metrics: dict[float]=None,):\n",
    "    # Extract x, y, and intensity values\n",
    "    failures = failures.copy()\n",
    "    x = sorted({key for subdict in failures.values() for key in subdict.keys()})\n",
    "    y = sorted(failures.keys())\n",
    "    z = np.zeros((len(y), len(x)))\n",
    "\n",
    "    # Populate the intensity grid\n",
    "    for yi, y_key in enumerate(y):\n",
    "        for xi, x_key in enumerate(x):\n",
    "            z[yi, xi] = metrics.get(f\"r{y_key}-p{x_key}\", np.nan)\n",
    "\n",
    "    # Difference between binary64\n",
    "    # delta = np.abs(z - metrics[\"binary64\"]) / np.abs(metrics[\"binary64\"])\n",
    "    delta = (z - metrics[\"binary64\"]) / np.abs(metrics[\"binary64\"])\n",
    "    m = np.nanmin(delta)\n",
    "    M = np.nanmax(delta)\n",
    "    norm_pivot = (0 - m) / (M - m)\n",
    "\n",
    "    # Convert NaN to 1 to display with colorscale\n",
    "    masked_failed = np.where(np.isnan(delta), 1, np.nan)\n",
    "    delta = np.where(np.isnan(delta), np.nan, delta)\n",
    "\n",
    "\n",
    "    if exp_metrics:\n",
    "        std_delta = np.zeros((len(y), len(x)))\n",
    "        for yi, y_key in enumerate(y):\n",
    "            for xi, x_key in enumerate(x):\n",
    "                std_delta[yi, xi] = np.nanstd(np.abs(\n",
    "                    np.asarray(exp_metrics.get(f\"r{y_key}-p{x_key}\", np.nan)) - np.asarray(exp_metrics[\"binary64\"])\n",
    "                ) / np.abs(exp_metrics[\"binary64\"]))\n",
    "\n",
    "        formatter = np.vectorize(lambda d, s: f\"{d:.3f} ± {s:.3f}\")\n",
    "        formatted = formatter(delta, std_delta)\n",
    "    else:\n",
    "        formatter = np.vectorize(lambda d: f\"{d:.3f}\")\n",
    "        formatted = formatter(delta)\n",
    "\n",
    "    text_labels = np.where(delta < 1, formatted, f\"⚠ Err: {n_subjects}/{n_subjects}\")\n",
    "\n",
    "    # Define custom colorscale\n",
    "    # colorscale = [\n",
    "    #     [0, \"white\"],\n",
    "    #     [1, \"red\"],\n",
    "    # ]\n",
    "    colorscale = [\n",
    "        [0, \"green\"],\n",
    "        [norm_pivot, \"white\"],\n",
    "        [1, \"red\"],\n",
    "    ]\n",
    "\n",
    "    # Create heatmap\n",
    "    normal_trace = go.Heatmap(\n",
    "        z=delta,\n",
    "        x=x,\n",
    "        y=y,\n",
    "        colorscale=colorscale,\n",
    "        zmin=m,\n",
    "        zmax=M,\n",
    "        colorbar=dict(title=\"Metric\"),\n",
    "        text=text_labels,\n",
    "        texttemplate=\"%{text}\",\n",
    "    )\n",
    "    failed_trace = go.Heatmap(\n",
    "        z=masked_failed,\n",
    "        x=x,\n",
    "        y=y,\n",
    "        colorscale=[[0, \"grey\"], [1, \"grey\"]],\n",
    "        showscale=False,\n",
    "    )\n",
    "    fig = go.Figure(data=[failed_trace, normal_trace])\n",
    "\n",
    "    # Annotate failures\n",
    "    for i in y:\n",
    "        for j in x:\n",
    "            cell_value = failures[i][j]\n",
    "\n",
    "            if cell_value > 0 and cell_value < n_subjects:\n",
    "                fig.add_annotation(\n",
    "                x=j,\n",
    "                y=i - 0.4,         # Place the star at the top edge of the cell\n",
    "                text=f\"⚠ Err: {cell_value}/{n_subjects}\",          # Star symbol\n",
    "                showarrow=False,\n",
    "                font=dict(color=\"black\"),\n",
    "                xanchor=\"center\",\n",
    "                yanchor=\"bottom\"   # Align the bottom of the text with the coordinate\n",
    "            )\n",
    "\n",
    "    # Style & Layout\n",
    "    fig.update_layout(\n",
    "        title=f\"Metric's relative error with binary64 - ({metric_name.capitalize()})\",\n",
    "        xaxis=dict(title=\"Precision\", tickvals=x, ticks=\"outside\"),\n",
    "        yaxis=dict(title=\"Range\", tickvals=y, ticks=\"outside\"),\n",
    "    )\n",
    "\n",
    "    fig.show()"
   ]
  },
  {
   "cell_type": "code",
   "execution_count": 2,
   "metadata": {},
   "outputs": [],
   "source": [
    "from pathlib import Path\n",
    "\n",
    "import plotly.express as px\n",
    "import plotly.graph_objects as go\n",
    "from plotly.subplots import make_subplots\n",
    "\n",
    "\n",
    "# Avoid bokeh dependency, by hardcoding the colorblind8 palette\n",
    "Colorblind8 = (\n",
    "    \"#0072B2\",\n",
    "    \"#E69F00\",\n",
    "    \"#F0E442\",\n",
    "    \"#009E73\",\n",
    "    \"#56B4E9\",\n",
    "    \"#D55E00\",\n",
    "    \"#CC79A7\",\n",
    "    \"#000000\",\n",
    ")\n",
    "\n",
    "\n",
    "def _make_agg_figure(\n",
    "    data,\n",
    "    *,\n",
    "    out_dir: Path,\n",
    "    y_value: str = None,\n",
    "    y_log: bool = False,\n",
    "    show: bool = False,\n",
    "    exp_ids: list[str] = None,\n",
    "):\n",
    "    # Unique values for levels and exp_ids to determine grid size\n",
    "    levels = data[\"level\"].unique()\n",
    "    stages = data[\"stage\"].unique()\n",
    "    if not exp_ids:\n",
    "        exp_ids = data[\"exp_id\"].unique()\n",
    "\n",
    "    # Creating the subplot grid with independent x-axes\n",
    "    fig = make_subplots(\n",
    "        rows=len(stages),\n",
    "        cols=len(levels),\n",
    "        shared_xaxes=False,\n",
    "        shared_yaxes=True,\n",
    "    )\n",
    "\n",
    "    # Loop through each level and exp_id to add traces to the respective subplot\n",
    "    for l, level in enumerate(levels, 1):\n",
    "        for s, stage in enumerate(stages, 1):\n",
    "            for e, exp_id in enumerate(exp_ids):\n",
    "                for i, subject in enumerate(data[\"subject\"].unique()):\n",
    "                    subset = data[\n",
    "                        (data[\"level\"] == level)\n",
    "                        & (data[\"stage\"] == stage)\n",
    "                        & (data[\"exp_id\"] == exp_id)\n",
    "                        & (data[\"subject\"] == subject)\n",
    "                    ]\n",
    "\n",
    "                    # Line color\n",
    "                    color = px.colors.qualitative.Dark24[\n",
    "                        e % len(px.colors.qualitative.Dark24)\n",
    "                    ]\n",
    "\n",
    "                    if exp_id == \"binary64\":\n",
    "                        color = \"black\"\n",
    "                        dash = \"dot\"\n",
    "                    else:\n",
    "                        color = f\"rgba{px.colors.hex_to_rgb(color) + (0.4,)}\"\n",
    "                        dash = \"solid\"\n",
    "\n",
    "\n",
    "                    fig.add_trace(\n",
    "                        go.Scatter(\n",
    "                            x=subset[\"iterations\"],\n",
    "                            y=subset[y_value],\n",
    "                            name=exp_id,\n",
    "                            mode=\"lines\",\n",
    "                            fillcolor=color,\n",
    "                            line=dict(color=color, dash=dash),\n",
    "                            legendgroup=exp_id,\n",
    "                            showlegend=(\n",
    "                                True if (l == 1 and s == 1 and i == 0) else False\n",
    "                            ),\n",
    "                            hovertemplate=f\"Subject: {subject}<br>Iteration: %{{x}}<br>{y_value}: %{{y}}\",\n",
    "                        ),\n",
    "                        row=s,\n",
    "                        col=l,\n",
    "                    )\n",
    "\n",
    "    for i, sigma in enumerate(list(range(len(levels)))[::-1], 1):\n",
    "        fig.add_annotation(\n",
    "            text=f\"Sigma: {sigma}\",\n",
    "            xref=\"x domain\",\n",
    "            yref=\"y domain\",\n",
    "            x=0.5,\n",
    "            y=1.05,\n",
    "            xanchor=\"center\",\n",
    "            yanchor=\"bottom\",\n",
    "            row=1,\n",
    "            col=i,\n",
    "            showarrow=False,\n",
    "            font=dict(size=14, color=\"black\"),\n",
    "        )\n",
    "\n",
    "    for i, stage in enumerate([\"Rigid\", \"Affine\", \"SyN\"], 1):\n",
    "        fig.add_annotation(\n",
    "            text=stage,\n",
    "            xref=\"x domain\",\n",
    "            yref=\"y domain\",\n",
    "            x=1.05,\n",
    "            y=0.4,\n",
    "            xanchor=\"center\",\n",
    "            yanchor=\"bottom\",\n",
    "            textangle=90,\n",
    "            row=i,\n",
    "            col=len(levels),\n",
    "            showarrow=False,\n",
    "            font=dict(size=14, color=\"black\"),\n",
    "        )\n",
    "\n",
    "    fig.update_xaxes(title_text=\"Iterations\", row=3)\n",
    "    fig.update_yaxes(title_text=y_value.replace(\"_\", \" \").capitalize(), col=1)\n",
    "    if y_log:\n",
    "        fig.update_yaxes(type=\"log\", exponentformat=\"e\")\n",
    "    fig.update_layout(\n",
    "        title=f\"All subjects\",\n",
    "        showlegend=True,\n",
    "        legend_title=\"Experiment ID\",\n",
    "        width=1920,\n",
    "        height=1080,\n",
    "    )\n",
    "\n",
    "    if show:\n",
    "        fig.show()\n",
    "    out_dir.joinpath(y_value).mkdir(exist_ok=True)\n",
    "    fig.write_html(out_dir / y_value / f\"all_subjects.html\")\n",
    "    fig.write_image(out_dir / y_value / f\"all_subjects.png\")"
   ]
  },
  {
   "cell_type": "markdown",
   "metadata": {},
   "source": [
    "# Data processing"
   ]
  },
  {
   "cell_type": "code",
   "execution_count": 3,
   "metadata": {},
   "outputs": [],
   "source": [
    "from pathlib import Path\n",
    "import re\n",
    "\n",
    "DEBUG = True\n",
    "N_SUBJECT = 20\n",
    "\n",
    "FILENAME_PATTERN = re.compile(\n",
    "    r\"r(?P<range>\\d+)-p(?P<precision>\\d+)-(?P<task_id>\\d+)-(?P<array_id>\\d+)\\.out\"\n",
    ")"
   ]
  },
  {
   "cell_type": "markdown",
   "metadata": {},
   "source": [
    "## Check failed execution"
   ]
  },
  {
   "cell_type": "code",
   "execution_count": 4,
   "metadata": {},
   "outputs": [],
   "source": [
    "from typing import Iterable\n",
    "\n",
    "\n",
    "def get_failed_exec(logs: Path | Iterable[Path]) -> int:\n",
    "    if isinstance(logs, Path):\n",
    "        logs = [logs]\n",
    "\n",
    "    failed = list()\n",
    "    for log in logs:\n",
    "        with open(log) as f:\n",
    "            if \"ITK ERROR\" in f.read():\n",
    "                failed.append(log)\n",
    "    return failed"
   ]
  },
  {
   "cell_type": "code",
   "execution_count": 5,
   "metadata": {},
   "outputs": [],
   "source": [
    "# Group logs by task_id\n",
    "import re\n",
    "from collections import defaultdict\n",
    "\n",
    "\n",
    "# logs = list(Path(\"log\").glob(f\"r*-p*-*.out\"))\n",
    "logs = list(Path(\"log-all-instrumented\").glob(f\"r*-p*-*.out\"))\n",
    "\n",
    "experiements = defaultdict(list)\n",
    "for log in logs:\n",
    "    m = FILENAME_PATTERN.match(log.name)\n",
    "    if not m:\n",
    "        print(log)\n",
    "        raise ValueError(\"Invalid log file name\")\n",
    "    experiements[m.group(\"task_id\")].append(log)"
   ]
  },
  {
   "cell_type": "code",
   "execution_count": 6,
   "metadata": {},
   "outputs": [
    {
     "data": {
      "text/plain": [
       "defaultdict(dict, {})"
      ]
     },
     "execution_count": 6,
     "metadata": {},
     "output_type": "execute_result"
    }
   ],
   "source": [
    "defaultdict(dict)"
   ]
  },
  {
   "cell_type": "code",
   "execution_count": 7,
   "metadata": {},
   "outputs": [
    {
     "name": "stdout",
     "output_type": "stream",
     "text": [
      "Task 157950: 20 failed\n",
      "Task 157953: 20 failed\n",
      "Task 157954: 20 failed\n",
      "Task 157952: 20 failed\n",
      "Task 157951: 20 failed\n",
      "Task 157955: 0 failed\n",
      "Task 157956: 0 failed\n",
      "Task 157957: 1 failed\n",
      "log-all-instrumented/r7-p14-157957-9.out\n",
      "\n",
      "Task 157958: 1 failed\n",
      "log-all-instrumented/r7-p15-157958-14.out\n",
      "\n",
      "Task 157959: 0 failed\n",
      "Task 157960: 0 failed\n",
      "Task 157961: 0 failed\n",
      "Task 157981: 0 failed\n",
      "Task 157982: 0 failed\n",
      "Task 157983: 0 failed\n",
      "Task 157984: 0 failed\n",
      "Task 157985: 0 failed\n",
      "Task 157986: 20 failed\n",
      "Task 157987: 20 failed\n",
      "Task 157988: 20 failed\n",
      "Task 157989: 20 failed\n",
      "Task 157990: 20 failed\n",
      "Task 157991: 0 failed\n",
      "Task 157992: 0 failed\n",
      "Task 157993: 1 failed\n",
      "log-all-instrumented/r8-p14-157993-9.out\n",
      "\n",
      "Task 157994: 1 failed\n",
      "log-all-instrumented/r8-p15-157994-14.out\n",
      "\n",
      "Task 157995: 0 failed\n",
      "Task 157996: 0 failed\n",
      "Task 157997: 0 failed\n",
      "Task 157998: 0 failed\n",
      "Task 157999: 0 failed\n",
      "Task 158000: 0 failed\n",
      "Task 158001: 0 failed\n",
      "Task 158002: 0 failed\n"
     ]
    }
   ],
   "source": [
    "# Count failed execution for each task_id\n",
    "n_failed = defaultdict(dict)\n",
    "for task_id, logs in experiements.items():\n",
    "    failed = get_failed_exec(logs)\n",
    "\n",
    "    range_ = int(FILENAME_PATTERN.match(logs[0].name).group(\"range\"))\n",
    "    precision_ = int(FILENAME_PATTERN.match(logs[0].name).group(\"precision\"))\n",
    "    n_failed[range_][precision_] = len(failed)\n",
    "\n",
    "    print(f\"Task {task_id}: {len(failed)} failed\")\n",
    "    if DEBUG and len(failed) != len(logs):\n",
    "        for log in failed:\n",
    "            print(log, end=\"\\n\\n\")\n",
    "\n",
    "# Manually add failure for range 6\n",
    "n_failed[6] = {r: N_SUBJECT for r in range(7, 24)}"
   ]
  },
  {
   "cell_type": "code",
   "execution_count": null,
   "metadata": {},
   "outputs": [],
   "source": []
  },
  {
   "cell_type": "markdown",
   "metadata": {},
   "source": [
    "## QA using metric value"
   ]
  },
  {
   "cell_type": "code",
   "execution_count": 8,
   "metadata": {},
   "outputs": [],
   "source": [
    "import pandas as pd\n",
    "\n",
    "\n",
    "p_lvl_header = r\"DIAGNOSTIC,Iteration,metricValue,convergenceValue,ITERATION_TIME_INDEX,SINCE_LAST|  Elapsed time\"\n",
    "\n",
    "logs = Path(\"log-all-instrumented\")\n",
    "\n",
    "dfs = list()\n",
    "for array_id in range(1, N_SUBJECT + 1):\n",
    "    filenames = list(logs.glob(f\"r*-p*-*-{array_id}.out\")) + list(\n",
    "        logs.glob(f\"antsRegistration-*-{array_id}.out\")\n",
    "    )\n",
    "    for filename in filenames:\n",
    "        if filename.name.startswith(\"antsRegistration-\"):\n",
    "            exp_id = \"binary64\"\n",
    "        else:\n",
    "            exp_id = \"-\".join(filename.name.split(\"-\")[:2])\n",
    "\n",
    "        txt = filename.read_text()\n",
    "\n",
    "        # Extract subject_id from log\n",
    "        subject_id = re.search(r\"SUBJECT_ID: (?P<subject_id>.*)\", txt).group(\n",
    "            \"subject_id\"\n",
    "        )\n",
    "\n",
    "        # Filter out the header from the stages\n",
    "        all_data = [x for i, x in enumerate(re.split(p_lvl_header, txt)) if i % 5 != 0]\n",
    "\n",
    "        # 3 stages with 4 levels of resolution each\n",
    "        for stage in range(1, 4):\n",
    "            for i, level in enumerate(all_data[4 * (stage - 1) : 4 * stage]):\n",
    "                table = defaultdict(list)\n",
    "                for row in re.split(r\"\\n\", level.strip(\"XX\").strip()):\n",
    "                    # Skip invalid rows\n",
    "                    if not (\"2DIAGNOSTIC\" in row or \"1DIAGNOSTIC\" in row):\n",
    "                        continue\n",
    "\n",
    "                    # Raise exception if the row is not as expected\n",
    "                    try:\n",
    "                        cols = row.split(\",\")\n",
    "                        table[\"iterations\"].append(cols[1].strip())\n",
    "                        table[\"metric\"].append(cols[2].strip())\n",
    "                        table[\"convergence_value\"].append(cols[3].strip())\n",
    "                        table[\"total_time\"].append(cols[4].strip())\n",
    "                        table[\"since_last\"].append(cols[5].strip())\n",
    "                    except Exception as e:\n",
    "                        print(cols)\n",
    "                        raise e\n",
    "\n",
    "                dfs.append(\n",
    "                    pd.DataFrame(\n",
    "                        data={\n",
    "                            \"subject\": subject_id,\n",
    "                            \"array_id\": array_id,\n",
    "                            \"exp_id\": exp_id,\n",
    "                            \"stage\": stage,\n",
    "                            \"level\": i + 1,\n",
    "                            \"iterations\": table[\"iterations\"],\n",
    "                            \"metric\": table[\"metric\"],\n",
    "                            \"convergence_value\": table[\"convergence_value\"],\n",
    "                            \"total_time\": table[\"total_time\"],\n",
    "                            \"since_last\": table[\"since_last\"],\n",
    "                        }\n",
    "                    )\n",
    "                )\n",
    "\n",
    "df = pd.concat(dfs, ignore_index=True)\n",
    "df = df.astype(\n",
    "    {\n",
    "        \"stage\": int,\n",
    "        \"level\": int,\n",
    "        \"iterations\": int,\n",
    "        \"metric\": float,\n",
    "        \"convergence_value\": float,\n",
    "        \"total_time\": float,\n",
    "        \"since_last\": float,\n",
    "    }\n",
    ")\n",
    "rv = (\n",
    "    df.groupby([\"subject\", \"array_id\", \"exp_id\", \"stage\", \"level\", \"iterations\"])\n",
    "    .agg({\"metric\": \"mean\", \"convergence_value\": \"mean\", \"total_time\": \"mean\"})\n",
    "    .reset_index()\n",
    ")"
   ]
  },
  {
   "cell_type": "code",
   "execution_count": 9,
   "metadata": {},
   "outputs": [],
   "source": [
    "figure_dir = Path(\"figures\", \"VPREC-exploration\")\n",
    "figure_dir.mkdir(exist_ok=True)\n",
    "\n",
    "exp_ids = [\n",
    "    \"r7-p12\",\n",
    "    \"r7-p13\",\n",
    "    \"r7-p14\",\n",
    "    \"r7-p15\",\n",
    "    \"r7-p16\",\n",
    "    \"r7-p17\",\n",
    "    \"r7-p18\",\n",
    "    \"r7-p19\",\n",
    "    \"r7-p20\",\n",
    "    \"r7-p21\",\n",
    "    \"r7-p22\",\n",
    "    \"r7-p23\",\n",
    "    \"r8-p12\",\n",
    "    \"r8-p13\",\n",
    "    \"r8-p14\",\n",
    "    \"r8-p15\",\n",
    "    \"r8-p16\",\n",
    "    \"r8-p17\",\n",
    "    \"r8-p18\",\n",
    "    \"r8-p19\",\n",
    "    \"r8-p20\",\n",
    "    \"r8-p21\",\n",
    "    \"r8-p22\",\n",
    "    \"r8-p23\",\n",
    "    \"binary64\"\n",
    "]\n",
    "# exp_ids = ['r7-p12', 'r7-p16', 'r7-p20', 'r7-p23', 'r8-p12', 'r8-p16', 'r8-p20', 'r8-p23']\n",
    "\n",
    "# _make_agg_figure(rv, out_dir=figure_dir, y_value=\"metric\", show=True, exp_ids=exp_ids)"
   ]
  },
  {
   "cell_type": "code",
   "execution_count": null,
   "metadata": {},
   "outputs": [],
   "source": []
  },
  {
   "cell_type": "markdown",
   "metadata": {},
   "source": [
    "## Refined region plot"
   ]
  },
  {
   "cell_type": "code",
   "execution_count": 10,
   "metadata": {},
   "outputs": [],
   "source": [
    "import numpy as np\n",
    "\n",
    "max_iterations = rv[(rv[\"stage\"]==3) & (rv[\"level\"] == 4)].groupby([\"subject\", \"exp_id\"])[\"iterations\"].max().to_dict()\n",
    "subjects = rv[\"subject\"].unique()\n",
    "exp_ids = rv[\"exp_id\"].unique()\n",
    "exp_metrics = defaultdict(list)\n",
    "for subject in subjects:\n",
    "    for exp_id in exp_ids:\n",
    "        try:\n",
    "            _metric = rv[\n",
    "                (rv[\"subject\"] == subject)\n",
    "                & (rv[\"exp_id\"] == exp_id)\n",
    "                & (rv[\"stage\"] == 3)\n",
    "                & (rv[\"level\"] == 4)\n",
    "                & (rv[\"iterations\"] == max_iterations.get((subject, exp_id), 0))\n",
    "                ][\"metric\"].values[0]\n",
    "        except IndexError as e:\n",
    "            if max_iterations.get((subject, exp_id), 0) == 0:\n",
    "                _metric = np.nan\n",
    "            else:\n",
    "                raise e\n",
    "        finally:\n",
    "            exp_metrics[exp_id].append(_metric)\n"
   ]
  },
  {
   "cell_type": "code",
   "execution_count": null,
   "metadata": {},
   "outputs": [
    {
     "name": "stderr",
     "output_type": "stream",
     "text": [
      "/tmp/ipykernel_3450309/2442978351.py:1: RuntimeWarning: All-NaN axis encountered\n",
      "  worst_metrics = {k: np.nanmax(v) for k, v in exp_metrics.items()}\n",
      "/tmp/ipykernel_3450309/2442978351.py:2: RuntimeWarning: Mean of empty slice\n",
      "  mean_metrics = {k: np.nanmean(v) for k, v in exp_metrics.items()}\n",
      "/home/mathdugre/papers/fast-interpolate/.venv/fast-interpolate/lib/python3.12/site-packages/numpy/lib/_nanfunctions_impl.py:2035: RuntimeWarning: Degrees of freedom <= 0 for slice.\n",
      "  var = nanvar(a, axis=axis, dtype=dtype, out=out, ddof=ddof,\n"
     ]
    }
   ],
   "source": [
    "worst_metrics = {k: np.nanmax(v) for k, v in exp_metrics.items()}\n",
    "mean_metrics = {k: np.nanmean(v) for k, v in exp_metrics.items()}\n",
    "n_subjects = rv[\"subject\"].nunique()"
   ]
  },
  {
   "cell_type": "code",
   "execution_count": 121,
   "metadata": {},
   "outputs": [
    {
     "data": {
      "application/vnd.plotly.v1+json": {
       "config": {
        "plotlyServerURL": "https://plot.ly"
       },
       "data": [
        {
         "colorscale": [
          [
           0,
           "grey"
          ],
          [
           1,
           "grey"
          ]
         ],
         "showscale": false,
         "type": "heatmap",
         "x": [
          7,
          8,
          9,
          10,
          11,
          12,
          13,
          14,
          15,
          16,
          17,
          18,
          19,
          20,
          21,
          22,
          23
         ],
         "y": [
          6,
          7,
          8
         ],
         "z": [
          [
           1,
           1,
           1,
           1,
           1,
           1,
           1,
           1,
           1,
           1,
           1,
           1,
           1,
           1,
           1,
           1,
           1
          ],
          [
           1,
           1,
           1,
           1,
           1,
           null,
           null,
           null,
           null,
           null,
           null,
           null,
           null,
           null,
           null,
           null,
           null
          ],
          [
           1,
           1,
           1,
           1,
           1,
           null,
           null,
           null,
           null,
           null,
           null,
           null,
           null,
           null,
           null,
           null,
           null
          ]
         ]
        },
        {
         "colorbar": {
          "title": {
           "text": "Metric"
          }
         },
         "colorscale": [
          [
           0,
           "green"
          ],
          [
           0.12968468930532356,
           "white"
          ],
          [
           1,
           "red"
          ]
         ],
         "text": [
          [
           "⚠ Err: 20/20",
           "⚠ Err: 20/20",
           "⚠ Err: 20/20",
           "⚠ Err: 20/20",
           "⚠ Err: 20/20",
           "⚠ Err: 20/20",
           "⚠ Err: 20/20",
           "⚠ Err: 20/20",
           "⚠ Err: 20/20",
           "⚠ Err: 20/20",
           "⚠ Err: 20/20",
           "⚠ Err: 20/20",
           "⚠ Err: 20/20",
           "⚠ Err: 20/20",
           "⚠ Err: 20/20",
           "⚠ Err: 20/20",
           "⚠ Err: 20/20"
          ],
          [
           "⚠ Err: 20/20",
           "⚠ Err: 20/20",
           "⚠ Err: 20/20",
           "⚠ Err: 20/20",
           "⚠ Err: 20/20",
           "0.869",
           "0.869",
           "0.867",
           "0.863",
           "0.855",
           "0.840",
           "0.809",
           "0.748",
           "0.625",
           "0.379",
           "-0.113",
           "-0.130"
          ],
          [
           "⚠ Err: 20/20",
           "⚠ Err: 20/20",
           "⚠ Err: 20/20",
           "⚠ Err: 20/20",
           "⚠ Err: 20/20",
           "0.869",
           "0.869",
           "0.867",
           "0.863",
           "0.855",
           "0.840",
           "0.809",
           "0.748",
           "0.625",
           "0.379",
           "-0.016",
           "-0.009"
          ]
         ],
         "texttemplate": "%{text}",
         "type": "heatmap",
         "x": [
          7,
          8,
          9,
          10,
          11,
          12,
          13,
          14,
          15,
          16,
          17,
          18,
          19,
          20,
          21,
          22,
          23
         ],
         "y": [
          6,
          7,
          8
         ],
         "z": [
          [
           null,
           null,
           null,
           null,
           null,
           null,
           null,
           null,
           null,
           null,
           null,
           null,
           null,
           null,
           null,
           null,
           null
          ],
          [
           null,
           null,
           null,
           null,
           null,
           0.8694795033541789,
           0.868519153317558,
           0.866598334035026,
           0.862756814679252,
           0.85507389517699,
           0.83970793696319,
           0.80897602053558,
           0.7475121876804,
           0.6245844027606,
           0.3787289521304,
           -0.11298182992070005,
           -0.1295601466092
          ],
          [
           null,
           null,
           null,
           null,
           null,
           0.8694795033541789,
           0.868519153317558,
           0.866598334035026,
           0.862756814679252,
           0.85507246466552,
           0.83970281096374,
           0.80897363634978,
           0.7475083729831,
           0.6245834490863,
           0.3787284752933,
           -0.016474161425499956,
           -0.009105894843000062
          ]
         ],
         "zmax": 0.8694795033541789,
         "zmin": -0.1295601466092
        }
       ],
       "layout": {
        "annotations": [
         {
          "font": {
           "color": "black"
          },
          "showarrow": false,
          "text": "⚠ Err: 1/20",
          "x": 14,
          "xanchor": "center",
          "y": 6.6,
          "yanchor": "bottom"
         },
         {
          "font": {
           "color": "black"
          },
          "showarrow": false,
          "text": "⚠ Err: 1/20",
          "x": 15,
          "xanchor": "center",
          "y": 6.6,
          "yanchor": "bottom"
         },
         {
          "font": {
           "color": "black"
          },
          "showarrow": false,
          "text": "⚠ Err: 1/20",
          "x": 14,
          "xanchor": "center",
          "y": 7.6,
          "yanchor": "bottom"
         },
         {
          "font": {
           "color": "black"
          },
          "showarrow": false,
          "text": "⚠ Err: 1/20",
          "x": 15,
          "xanchor": "center",
          "y": 7.6,
          "yanchor": "bottom"
         }
        ],
        "template": {
         "data": {
          "bar": [
           {
            "error_x": {
             "color": "#2a3f5f"
            },
            "error_y": {
             "color": "#2a3f5f"
            },
            "marker": {
             "line": {
              "color": "#E5ECF6",
              "width": 0.5
             },
             "pattern": {
              "fillmode": "overlay",
              "size": 10,
              "solidity": 0.2
             }
            },
            "type": "bar"
           }
          ],
          "barpolar": [
           {
            "marker": {
             "line": {
              "color": "#E5ECF6",
              "width": 0.5
             },
             "pattern": {
              "fillmode": "overlay",
              "size": 10,
              "solidity": 0.2
             }
            },
            "type": "barpolar"
           }
          ],
          "carpet": [
           {
            "aaxis": {
             "endlinecolor": "#2a3f5f",
             "gridcolor": "white",
             "linecolor": "white",
             "minorgridcolor": "white",
             "startlinecolor": "#2a3f5f"
            },
            "baxis": {
             "endlinecolor": "#2a3f5f",
             "gridcolor": "white",
             "linecolor": "white",
             "minorgridcolor": "white",
             "startlinecolor": "#2a3f5f"
            },
            "type": "carpet"
           }
          ],
          "choropleth": [
           {
            "colorbar": {
             "outlinewidth": 0,
             "ticks": ""
            },
            "type": "choropleth"
           }
          ],
          "contour": [
           {
            "colorbar": {
             "outlinewidth": 0,
             "ticks": ""
            },
            "colorscale": [
             [
              0,
              "#0d0887"
             ],
             [
              0.1111111111111111,
              "#46039f"
             ],
             [
              0.2222222222222222,
              "#7201a8"
             ],
             [
              0.3333333333333333,
              "#9c179e"
             ],
             [
              0.4444444444444444,
              "#bd3786"
             ],
             [
              0.5555555555555556,
              "#d8576b"
             ],
             [
              0.6666666666666666,
              "#ed7953"
             ],
             [
              0.7777777777777778,
              "#fb9f3a"
             ],
             [
              0.8888888888888888,
              "#fdca26"
             ],
             [
              1,
              "#f0f921"
             ]
            ],
            "type": "contour"
           }
          ],
          "contourcarpet": [
           {
            "colorbar": {
             "outlinewidth": 0,
             "ticks": ""
            },
            "type": "contourcarpet"
           }
          ],
          "heatmap": [
           {
            "colorbar": {
             "outlinewidth": 0,
             "ticks": ""
            },
            "colorscale": [
             [
              0,
              "#0d0887"
             ],
             [
              0.1111111111111111,
              "#46039f"
             ],
             [
              0.2222222222222222,
              "#7201a8"
             ],
             [
              0.3333333333333333,
              "#9c179e"
             ],
             [
              0.4444444444444444,
              "#bd3786"
             ],
             [
              0.5555555555555556,
              "#d8576b"
             ],
             [
              0.6666666666666666,
              "#ed7953"
             ],
             [
              0.7777777777777778,
              "#fb9f3a"
             ],
             [
              0.8888888888888888,
              "#fdca26"
             ],
             [
              1,
              "#f0f921"
             ]
            ],
            "type": "heatmap"
           }
          ],
          "heatmapgl": [
           {
            "colorbar": {
             "outlinewidth": 0,
             "ticks": ""
            },
            "colorscale": [
             [
              0,
              "#0d0887"
             ],
             [
              0.1111111111111111,
              "#46039f"
             ],
             [
              0.2222222222222222,
              "#7201a8"
             ],
             [
              0.3333333333333333,
              "#9c179e"
             ],
             [
              0.4444444444444444,
              "#bd3786"
             ],
             [
              0.5555555555555556,
              "#d8576b"
             ],
             [
              0.6666666666666666,
              "#ed7953"
             ],
             [
              0.7777777777777778,
              "#fb9f3a"
             ],
             [
              0.8888888888888888,
              "#fdca26"
             ],
             [
              1,
              "#f0f921"
             ]
            ],
            "type": "heatmapgl"
           }
          ],
          "histogram": [
           {
            "marker": {
             "pattern": {
              "fillmode": "overlay",
              "size": 10,
              "solidity": 0.2
             }
            },
            "type": "histogram"
           }
          ],
          "histogram2d": [
           {
            "colorbar": {
             "outlinewidth": 0,
             "ticks": ""
            },
            "colorscale": [
             [
              0,
              "#0d0887"
             ],
             [
              0.1111111111111111,
              "#46039f"
             ],
             [
              0.2222222222222222,
              "#7201a8"
             ],
             [
              0.3333333333333333,
              "#9c179e"
             ],
             [
              0.4444444444444444,
              "#bd3786"
             ],
             [
              0.5555555555555556,
              "#d8576b"
             ],
             [
              0.6666666666666666,
              "#ed7953"
             ],
             [
              0.7777777777777778,
              "#fb9f3a"
             ],
             [
              0.8888888888888888,
              "#fdca26"
             ],
             [
              1,
              "#f0f921"
             ]
            ],
            "type": "histogram2d"
           }
          ],
          "histogram2dcontour": [
           {
            "colorbar": {
             "outlinewidth": 0,
             "ticks": ""
            },
            "colorscale": [
             [
              0,
              "#0d0887"
             ],
             [
              0.1111111111111111,
              "#46039f"
             ],
             [
              0.2222222222222222,
              "#7201a8"
             ],
             [
              0.3333333333333333,
              "#9c179e"
             ],
             [
              0.4444444444444444,
              "#bd3786"
             ],
             [
              0.5555555555555556,
              "#d8576b"
             ],
             [
              0.6666666666666666,
              "#ed7953"
             ],
             [
              0.7777777777777778,
              "#fb9f3a"
             ],
             [
              0.8888888888888888,
              "#fdca26"
             ],
             [
              1,
              "#f0f921"
             ]
            ],
            "type": "histogram2dcontour"
           }
          ],
          "mesh3d": [
           {
            "colorbar": {
             "outlinewidth": 0,
             "ticks": ""
            },
            "type": "mesh3d"
           }
          ],
          "parcoords": [
           {
            "line": {
             "colorbar": {
              "outlinewidth": 0,
              "ticks": ""
             }
            },
            "type": "parcoords"
           }
          ],
          "pie": [
           {
            "automargin": true,
            "type": "pie"
           }
          ],
          "scatter": [
           {
            "fillpattern": {
             "fillmode": "overlay",
             "size": 10,
             "solidity": 0.2
            },
            "type": "scatter"
           }
          ],
          "scatter3d": [
           {
            "line": {
             "colorbar": {
              "outlinewidth": 0,
              "ticks": ""
             }
            },
            "marker": {
             "colorbar": {
              "outlinewidth": 0,
              "ticks": ""
             }
            },
            "type": "scatter3d"
           }
          ],
          "scattercarpet": [
           {
            "marker": {
             "colorbar": {
              "outlinewidth": 0,
              "ticks": ""
             }
            },
            "type": "scattercarpet"
           }
          ],
          "scattergeo": [
           {
            "marker": {
             "colorbar": {
              "outlinewidth": 0,
              "ticks": ""
             }
            },
            "type": "scattergeo"
           }
          ],
          "scattergl": [
           {
            "marker": {
             "colorbar": {
              "outlinewidth": 0,
              "ticks": ""
             }
            },
            "type": "scattergl"
           }
          ],
          "scattermapbox": [
           {
            "marker": {
             "colorbar": {
              "outlinewidth": 0,
              "ticks": ""
             }
            },
            "type": "scattermapbox"
           }
          ],
          "scatterpolar": [
           {
            "marker": {
             "colorbar": {
              "outlinewidth": 0,
              "ticks": ""
             }
            },
            "type": "scatterpolar"
           }
          ],
          "scatterpolargl": [
           {
            "marker": {
             "colorbar": {
              "outlinewidth": 0,
              "ticks": ""
             }
            },
            "type": "scatterpolargl"
           }
          ],
          "scatterternary": [
           {
            "marker": {
             "colorbar": {
              "outlinewidth": 0,
              "ticks": ""
             }
            },
            "type": "scatterternary"
           }
          ],
          "surface": [
           {
            "colorbar": {
             "outlinewidth": 0,
             "ticks": ""
            },
            "colorscale": [
             [
              0,
              "#0d0887"
             ],
             [
              0.1111111111111111,
              "#46039f"
             ],
             [
              0.2222222222222222,
              "#7201a8"
             ],
             [
              0.3333333333333333,
              "#9c179e"
             ],
             [
              0.4444444444444444,
              "#bd3786"
             ],
             [
              0.5555555555555556,
              "#d8576b"
             ],
             [
              0.6666666666666666,
              "#ed7953"
             ],
             [
              0.7777777777777778,
              "#fb9f3a"
             ],
             [
              0.8888888888888888,
              "#fdca26"
             ],
             [
              1,
              "#f0f921"
             ]
            ],
            "type": "surface"
           }
          ],
          "table": [
           {
            "cells": {
             "fill": {
              "color": "#EBF0F8"
             },
             "line": {
              "color": "white"
             }
            },
            "header": {
             "fill": {
              "color": "#C8D4E3"
             },
             "line": {
              "color": "white"
             }
            },
            "type": "table"
           }
          ]
         },
         "layout": {
          "annotationdefaults": {
           "arrowcolor": "#2a3f5f",
           "arrowhead": 0,
           "arrowwidth": 1
          },
          "autotypenumbers": "strict",
          "coloraxis": {
           "colorbar": {
            "outlinewidth": 0,
            "ticks": ""
           }
          },
          "colorscale": {
           "diverging": [
            [
             0,
             "#8e0152"
            ],
            [
             0.1,
             "#c51b7d"
            ],
            [
             0.2,
             "#de77ae"
            ],
            [
             0.3,
             "#f1b6da"
            ],
            [
             0.4,
             "#fde0ef"
            ],
            [
             0.5,
             "#f7f7f7"
            ],
            [
             0.6,
             "#e6f5d0"
            ],
            [
             0.7,
             "#b8e186"
            ],
            [
             0.8,
             "#7fbc41"
            ],
            [
             0.9,
             "#4d9221"
            ],
            [
             1,
             "#276419"
            ]
           ],
           "sequential": [
            [
             0,
             "#0d0887"
            ],
            [
             0.1111111111111111,
             "#46039f"
            ],
            [
             0.2222222222222222,
             "#7201a8"
            ],
            [
             0.3333333333333333,
             "#9c179e"
            ],
            [
             0.4444444444444444,
             "#bd3786"
            ],
            [
             0.5555555555555556,
             "#d8576b"
            ],
            [
             0.6666666666666666,
             "#ed7953"
            ],
            [
             0.7777777777777778,
             "#fb9f3a"
            ],
            [
             0.8888888888888888,
             "#fdca26"
            ],
            [
             1,
             "#f0f921"
            ]
           ],
           "sequentialminus": [
            [
             0,
             "#0d0887"
            ],
            [
             0.1111111111111111,
             "#46039f"
            ],
            [
             0.2222222222222222,
             "#7201a8"
            ],
            [
             0.3333333333333333,
             "#9c179e"
            ],
            [
             0.4444444444444444,
             "#bd3786"
            ],
            [
             0.5555555555555556,
             "#d8576b"
            ],
            [
             0.6666666666666666,
             "#ed7953"
            ],
            [
             0.7777777777777778,
             "#fb9f3a"
            ],
            [
             0.8888888888888888,
             "#fdca26"
            ],
            [
             1,
             "#f0f921"
            ]
           ]
          },
          "colorway": [
           "#636efa",
           "#EF553B",
           "#00cc96",
           "#ab63fa",
           "#FFA15A",
           "#19d3f3",
           "#FF6692",
           "#B6E880",
           "#FF97FF",
           "#FECB52"
          ],
          "font": {
           "color": "#2a3f5f"
          },
          "geo": {
           "bgcolor": "white",
           "lakecolor": "white",
           "landcolor": "#E5ECF6",
           "showlakes": true,
           "showland": true,
           "subunitcolor": "white"
          },
          "hoverlabel": {
           "align": "left"
          },
          "hovermode": "closest",
          "mapbox": {
           "style": "light"
          },
          "paper_bgcolor": "white",
          "plot_bgcolor": "#E5ECF6",
          "polar": {
           "angularaxis": {
            "gridcolor": "white",
            "linecolor": "white",
            "ticks": ""
           },
           "bgcolor": "#E5ECF6",
           "radialaxis": {
            "gridcolor": "white",
            "linecolor": "white",
            "ticks": ""
           }
          },
          "scene": {
           "xaxis": {
            "backgroundcolor": "#E5ECF6",
            "gridcolor": "white",
            "gridwidth": 2,
            "linecolor": "white",
            "showbackground": true,
            "ticks": "",
            "zerolinecolor": "white"
           },
           "yaxis": {
            "backgroundcolor": "#E5ECF6",
            "gridcolor": "white",
            "gridwidth": 2,
            "linecolor": "white",
            "showbackground": true,
            "ticks": "",
            "zerolinecolor": "white"
           },
           "zaxis": {
            "backgroundcolor": "#E5ECF6",
            "gridcolor": "white",
            "gridwidth": 2,
            "linecolor": "white",
            "showbackground": true,
            "ticks": "",
            "zerolinecolor": "white"
           }
          },
          "shapedefaults": {
           "line": {
            "color": "#2a3f5f"
           }
          },
          "ternary": {
           "aaxis": {
            "gridcolor": "white",
            "linecolor": "white",
            "ticks": ""
           },
           "baxis": {
            "gridcolor": "white",
            "linecolor": "white",
            "ticks": ""
           },
           "bgcolor": "#E5ECF6",
           "caxis": {
            "gridcolor": "white",
            "linecolor": "white",
            "ticks": ""
           }
          },
          "title": {
           "x": 0.05
          },
          "xaxis": {
           "automargin": true,
           "gridcolor": "white",
           "linecolor": "white",
           "ticks": "",
           "title": {
            "standoff": 15
           },
           "zerolinecolor": "white",
           "zerolinewidth": 2
          },
          "yaxis": {
           "automargin": true,
           "gridcolor": "white",
           "linecolor": "white",
           "ticks": "",
           "title": {
            "standoff": 15
           },
           "zerolinecolor": "white",
           "zerolinewidth": 2
          }
         }
        },
        "title": {
         "text": "Metric's difference with binary64 - (Worst subject)"
        },
        "xaxis": {
         "ticks": "outside",
         "tickvals": [
          7,
          8,
          9,
          10,
          11,
          12,
          13,
          14,
          15,
          16,
          17,
          18,
          19,
          20,
          21,
          22,
          23
         ],
         "title": {
          "text": "Precision"
         }
        },
        "yaxis": {
         "ticks": "outside",
         "tickvals": [
          6,
          7,
          8
         ],
         "title": {
          "text": "Range"
         }
        }
       }
      },
      "text/html": [
       "<div>                            <div id=\"ce7f39da-bf0d-444c-bb9f-2a6d8102d8a0\" class=\"plotly-graph-div\" style=\"height:525px; width:100%;\"></div>            <script type=\"text/javascript\">                require([\"plotly\"], function(Plotly) {                    window.PLOTLYENV=window.PLOTLYENV || {};                                    if (document.getElementById(\"ce7f39da-bf0d-444c-bb9f-2a6d8102d8a0\")) {                    Plotly.newPlot(                        \"ce7f39da-bf0d-444c-bb9f-2a6d8102d8a0\",                        [{\"colorscale\":[[0,\"grey\"],[1,\"grey\"]],\"showscale\":false,\"x\":[7,8,9,10,11,12,13,14,15,16,17,18,19,20,21,22,23],\"y\":[6,7,8],\"z\":[[1.0,1.0,1.0,1.0,1.0,1.0,1.0,1.0,1.0,1.0,1.0,1.0,1.0,1.0,1.0,1.0,1.0],[1.0,1.0,1.0,1.0,1.0,null,null,null,null,null,null,null,null,null,null,null,null],[1.0,1.0,1.0,1.0,1.0,null,null,null,null,null,null,null,null,null,null,null,null]],\"type\":\"heatmap\"},{\"colorbar\":{\"title\":{\"text\":\"Metric\"}},\"colorscale\":[[0,\"green\"],[0.12968468930532356,\"white\"],[1,\"red\"]],\"text\":[[\"\\u26a0 Err: 20\\u002f20\",\"\\u26a0 Err: 20\\u002f20\",\"\\u26a0 Err: 20\\u002f20\",\"\\u26a0 Err: 20\\u002f20\",\"\\u26a0 Err: 20\\u002f20\",\"\\u26a0 Err: 20\\u002f20\",\"\\u26a0 Err: 20\\u002f20\",\"\\u26a0 Err: 20\\u002f20\",\"\\u26a0 Err: 20\\u002f20\",\"\\u26a0 Err: 20\\u002f20\",\"\\u26a0 Err: 20\\u002f20\",\"\\u26a0 Err: 20\\u002f20\",\"\\u26a0 Err: 20\\u002f20\",\"\\u26a0 Err: 20\\u002f20\",\"\\u26a0 Err: 20\\u002f20\",\"\\u26a0 Err: 20\\u002f20\",\"\\u26a0 Err: 20\\u002f20\"],[\"\\u26a0 Err: 20\\u002f20\",\"\\u26a0 Err: 20\\u002f20\",\"\\u26a0 Err: 20\\u002f20\",\"\\u26a0 Err: 20\\u002f20\",\"\\u26a0 Err: 20\\u002f20\",\"0.869\",\"0.869\",\"0.867\",\"0.863\",\"0.855\",\"0.840\",\"0.809\",\"0.748\",\"0.625\",\"0.379\",\"-0.113\",\"-0.130\"],[\"\\u26a0 Err: 20\\u002f20\",\"\\u26a0 Err: 20\\u002f20\",\"\\u26a0 Err: 20\\u002f20\",\"\\u26a0 Err: 20\\u002f20\",\"\\u26a0 Err: 20\\u002f20\",\"0.869\",\"0.869\",\"0.867\",\"0.863\",\"0.855\",\"0.840\",\"0.809\",\"0.748\",\"0.625\",\"0.379\",\"-0.016\",\"-0.009\"]],\"texttemplate\":\"%{text}\",\"x\":[7,8,9,10,11,12,13,14,15,16,17,18,19,20,21,22,23],\"y\":[6,7,8],\"z\":[[null,null,null,null,null,null,null,null,null,null,null,null,null,null,null,null,null],[null,null,null,null,null,0.8694795033541789,0.868519153317558,0.866598334035026,0.862756814679252,0.85507389517699,0.83970793696319,0.80897602053558,0.7475121876804,0.6245844027606,0.3787289521304,-0.11298182992070005,-0.1295601466092],[null,null,null,null,null,0.8694795033541789,0.868519153317558,0.866598334035026,0.862756814679252,0.85507246466552,0.83970281096374,0.80897363634978,0.7475083729831,0.6245834490863,0.3787284752933,-0.016474161425499956,-0.009105894843000062]],\"zmax\":0.8694795033541789,\"zmin\":-0.1295601466092,\"type\":\"heatmap\"}],                        {\"template\":{\"data\":{\"histogram2dcontour\":[{\"type\":\"histogram2dcontour\",\"colorbar\":{\"outlinewidth\":0,\"ticks\":\"\"},\"colorscale\":[[0.0,\"#0d0887\"],[0.1111111111111111,\"#46039f\"],[0.2222222222222222,\"#7201a8\"],[0.3333333333333333,\"#9c179e\"],[0.4444444444444444,\"#bd3786\"],[0.5555555555555556,\"#d8576b\"],[0.6666666666666666,\"#ed7953\"],[0.7777777777777778,\"#fb9f3a\"],[0.8888888888888888,\"#fdca26\"],[1.0,\"#f0f921\"]]}],\"choropleth\":[{\"type\":\"choropleth\",\"colorbar\":{\"outlinewidth\":0,\"ticks\":\"\"}}],\"histogram2d\":[{\"type\":\"histogram2d\",\"colorbar\":{\"outlinewidth\":0,\"ticks\":\"\"},\"colorscale\":[[0.0,\"#0d0887\"],[0.1111111111111111,\"#46039f\"],[0.2222222222222222,\"#7201a8\"],[0.3333333333333333,\"#9c179e\"],[0.4444444444444444,\"#bd3786\"],[0.5555555555555556,\"#d8576b\"],[0.6666666666666666,\"#ed7953\"],[0.7777777777777778,\"#fb9f3a\"],[0.8888888888888888,\"#fdca26\"],[1.0,\"#f0f921\"]]}],\"heatmap\":[{\"type\":\"heatmap\",\"colorbar\":{\"outlinewidth\":0,\"ticks\":\"\"},\"colorscale\":[[0.0,\"#0d0887\"],[0.1111111111111111,\"#46039f\"],[0.2222222222222222,\"#7201a8\"],[0.3333333333333333,\"#9c179e\"],[0.4444444444444444,\"#bd3786\"],[0.5555555555555556,\"#d8576b\"],[0.6666666666666666,\"#ed7953\"],[0.7777777777777778,\"#fb9f3a\"],[0.8888888888888888,\"#fdca26\"],[1.0,\"#f0f921\"]]}],\"heatmapgl\":[{\"type\":\"heatmapgl\",\"colorbar\":{\"outlinewidth\":0,\"ticks\":\"\"},\"colorscale\":[[0.0,\"#0d0887\"],[0.1111111111111111,\"#46039f\"],[0.2222222222222222,\"#7201a8\"],[0.3333333333333333,\"#9c179e\"],[0.4444444444444444,\"#bd3786\"],[0.5555555555555556,\"#d8576b\"],[0.6666666666666666,\"#ed7953\"],[0.7777777777777778,\"#fb9f3a\"],[0.8888888888888888,\"#fdca26\"],[1.0,\"#f0f921\"]]}],\"contourcarpet\":[{\"type\":\"contourcarpet\",\"colorbar\":{\"outlinewidth\":0,\"ticks\":\"\"}}],\"contour\":[{\"type\":\"contour\",\"colorbar\":{\"outlinewidth\":0,\"ticks\":\"\"},\"colorscale\":[[0.0,\"#0d0887\"],[0.1111111111111111,\"#46039f\"],[0.2222222222222222,\"#7201a8\"],[0.3333333333333333,\"#9c179e\"],[0.4444444444444444,\"#bd3786\"],[0.5555555555555556,\"#d8576b\"],[0.6666666666666666,\"#ed7953\"],[0.7777777777777778,\"#fb9f3a\"],[0.8888888888888888,\"#fdca26\"],[1.0,\"#f0f921\"]]}],\"surface\":[{\"type\":\"surface\",\"colorbar\":{\"outlinewidth\":0,\"ticks\":\"\"},\"colorscale\":[[0.0,\"#0d0887\"],[0.1111111111111111,\"#46039f\"],[0.2222222222222222,\"#7201a8\"],[0.3333333333333333,\"#9c179e\"],[0.4444444444444444,\"#bd3786\"],[0.5555555555555556,\"#d8576b\"],[0.6666666666666666,\"#ed7953\"],[0.7777777777777778,\"#fb9f3a\"],[0.8888888888888888,\"#fdca26\"],[1.0,\"#f0f921\"]]}],\"mesh3d\":[{\"type\":\"mesh3d\",\"colorbar\":{\"outlinewidth\":0,\"ticks\":\"\"}}],\"scatter\":[{\"fillpattern\":{\"fillmode\":\"overlay\",\"size\":10,\"solidity\":0.2},\"type\":\"scatter\"}],\"parcoords\":[{\"type\":\"parcoords\",\"line\":{\"colorbar\":{\"outlinewidth\":0,\"ticks\":\"\"}}}],\"scatterpolargl\":[{\"type\":\"scatterpolargl\",\"marker\":{\"colorbar\":{\"outlinewidth\":0,\"ticks\":\"\"}}}],\"bar\":[{\"error_x\":{\"color\":\"#2a3f5f\"},\"error_y\":{\"color\":\"#2a3f5f\"},\"marker\":{\"line\":{\"color\":\"#E5ECF6\",\"width\":0.5},\"pattern\":{\"fillmode\":\"overlay\",\"size\":10,\"solidity\":0.2}},\"type\":\"bar\"}],\"scattergeo\":[{\"type\":\"scattergeo\",\"marker\":{\"colorbar\":{\"outlinewidth\":0,\"ticks\":\"\"}}}],\"scatterpolar\":[{\"type\":\"scatterpolar\",\"marker\":{\"colorbar\":{\"outlinewidth\":0,\"ticks\":\"\"}}}],\"histogram\":[{\"marker\":{\"pattern\":{\"fillmode\":\"overlay\",\"size\":10,\"solidity\":0.2}},\"type\":\"histogram\"}],\"scattergl\":[{\"type\":\"scattergl\",\"marker\":{\"colorbar\":{\"outlinewidth\":0,\"ticks\":\"\"}}}],\"scatter3d\":[{\"type\":\"scatter3d\",\"line\":{\"colorbar\":{\"outlinewidth\":0,\"ticks\":\"\"}},\"marker\":{\"colorbar\":{\"outlinewidth\":0,\"ticks\":\"\"}}}],\"scattermapbox\":[{\"type\":\"scattermapbox\",\"marker\":{\"colorbar\":{\"outlinewidth\":0,\"ticks\":\"\"}}}],\"scatterternary\":[{\"type\":\"scatterternary\",\"marker\":{\"colorbar\":{\"outlinewidth\":0,\"ticks\":\"\"}}}],\"scattercarpet\":[{\"type\":\"scattercarpet\",\"marker\":{\"colorbar\":{\"outlinewidth\":0,\"ticks\":\"\"}}}],\"carpet\":[{\"aaxis\":{\"endlinecolor\":\"#2a3f5f\",\"gridcolor\":\"white\",\"linecolor\":\"white\",\"minorgridcolor\":\"white\",\"startlinecolor\":\"#2a3f5f\"},\"baxis\":{\"endlinecolor\":\"#2a3f5f\",\"gridcolor\":\"white\",\"linecolor\":\"white\",\"minorgridcolor\":\"white\",\"startlinecolor\":\"#2a3f5f\"},\"type\":\"carpet\"}],\"table\":[{\"cells\":{\"fill\":{\"color\":\"#EBF0F8\"},\"line\":{\"color\":\"white\"}},\"header\":{\"fill\":{\"color\":\"#C8D4E3\"},\"line\":{\"color\":\"white\"}},\"type\":\"table\"}],\"barpolar\":[{\"marker\":{\"line\":{\"color\":\"#E5ECF6\",\"width\":0.5},\"pattern\":{\"fillmode\":\"overlay\",\"size\":10,\"solidity\":0.2}},\"type\":\"barpolar\"}],\"pie\":[{\"automargin\":true,\"type\":\"pie\"}]},\"layout\":{\"autotypenumbers\":\"strict\",\"colorway\":[\"#636efa\",\"#EF553B\",\"#00cc96\",\"#ab63fa\",\"#FFA15A\",\"#19d3f3\",\"#FF6692\",\"#B6E880\",\"#FF97FF\",\"#FECB52\"],\"font\":{\"color\":\"#2a3f5f\"},\"hovermode\":\"closest\",\"hoverlabel\":{\"align\":\"left\"},\"paper_bgcolor\":\"white\",\"plot_bgcolor\":\"#E5ECF6\",\"polar\":{\"bgcolor\":\"#E5ECF6\",\"angularaxis\":{\"gridcolor\":\"white\",\"linecolor\":\"white\",\"ticks\":\"\"},\"radialaxis\":{\"gridcolor\":\"white\",\"linecolor\":\"white\",\"ticks\":\"\"}},\"ternary\":{\"bgcolor\":\"#E5ECF6\",\"aaxis\":{\"gridcolor\":\"white\",\"linecolor\":\"white\",\"ticks\":\"\"},\"baxis\":{\"gridcolor\":\"white\",\"linecolor\":\"white\",\"ticks\":\"\"},\"caxis\":{\"gridcolor\":\"white\",\"linecolor\":\"white\",\"ticks\":\"\"}},\"coloraxis\":{\"colorbar\":{\"outlinewidth\":0,\"ticks\":\"\"}},\"colorscale\":{\"sequential\":[[0.0,\"#0d0887\"],[0.1111111111111111,\"#46039f\"],[0.2222222222222222,\"#7201a8\"],[0.3333333333333333,\"#9c179e\"],[0.4444444444444444,\"#bd3786\"],[0.5555555555555556,\"#d8576b\"],[0.6666666666666666,\"#ed7953\"],[0.7777777777777778,\"#fb9f3a\"],[0.8888888888888888,\"#fdca26\"],[1.0,\"#f0f921\"]],\"sequentialminus\":[[0.0,\"#0d0887\"],[0.1111111111111111,\"#46039f\"],[0.2222222222222222,\"#7201a8\"],[0.3333333333333333,\"#9c179e\"],[0.4444444444444444,\"#bd3786\"],[0.5555555555555556,\"#d8576b\"],[0.6666666666666666,\"#ed7953\"],[0.7777777777777778,\"#fb9f3a\"],[0.8888888888888888,\"#fdca26\"],[1.0,\"#f0f921\"]],\"diverging\":[[0,\"#8e0152\"],[0.1,\"#c51b7d\"],[0.2,\"#de77ae\"],[0.3,\"#f1b6da\"],[0.4,\"#fde0ef\"],[0.5,\"#f7f7f7\"],[0.6,\"#e6f5d0\"],[0.7,\"#b8e186\"],[0.8,\"#7fbc41\"],[0.9,\"#4d9221\"],[1,\"#276419\"]]},\"xaxis\":{\"gridcolor\":\"white\",\"linecolor\":\"white\",\"ticks\":\"\",\"title\":{\"standoff\":15},\"zerolinecolor\":\"white\",\"automargin\":true,\"zerolinewidth\":2},\"yaxis\":{\"gridcolor\":\"white\",\"linecolor\":\"white\",\"ticks\":\"\",\"title\":{\"standoff\":15},\"zerolinecolor\":\"white\",\"automargin\":true,\"zerolinewidth\":2},\"scene\":{\"xaxis\":{\"backgroundcolor\":\"#E5ECF6\",\"gridcolor\":\"white\",\"linecolor\":\"white\",\"showbackground\":true,\"ticks\":\"\",\"zerolinecolor\":\"white\",\"gridwidth\":2},\"yaxis\":{\"backgroundcolor\":\"#E5ECF6\",\"gridcolor\":\"white\",\"linecolor\":\"white\",\"showbackground\":true,\"ticks\":\"\",\"zerolinecolor\":\"white\",\"gridwidth\":2},\"zaxis\":{\"backgroundcolor\":\"#E5ECF6\",\"gridcolor\":\"white\",\"linecolor\":\"white\",\"showbackground\":true,\"ticks\":\"\",\"zerolinecolor\":\"white\",\"gridwidth\":2}},\"shapedefaults\":{\"line\":{\"color\":\"#2a3f5f\"}},\"annotationdefaults\":{\"arrowcolor\":\"#2a3f5f\",\"arrowhead\":0,\"arrowwidth\":1},\"geo\":{\"bgcolor\":\"white\",\"landcolor\":\"#E5ECF6\",\"subunitcolor\":\"white\",\"showland\":true,\"showlakes\":true,\"lakecolor\":\"white\"},\"title\":{\"x\":0.05},\"mapbox\":{\"style\":\"light\"}}},\"annotations\":[{\"font\":{\"color\":\"black\"},\"showarrow\":false,\"text\":\"\\u26a0 Err: 1\\u002f20\",\"x\":14,\"xanchor\":\"center\",\"y\":6.6,\"yanchor\":\"bottom\"},{\"font\":{\"color\":\"black\"},\"showarrow\":false,\"text\":\"\\u26a0 Err: 1\\u002f20\",\"x\":15,\"xanchor\":\"center\",\"y\":6.6,\"yanchor\":\"bottom\"},{\"font\":{\"color\":\"black\"},\"showarrow\":false,\"text\":\"\\u26a0 Err: 1\\u002f20\",\"x\":14,\"xanchor\":\"center\",\"y\":7.6,\"yanchor\":\"bottom\"},{\"font\":{\"color\":\"black\"},\"showarrow\":false,\"text\":\"\\u26a0 Err: 1\\u002f20\",\"x\":15,\"xanchor\":\"center\",\"y\":7.6,\"yanchor\":\"bottom\"}],\"xaxis\":{\"title\":{\"text\":\"Precision\"},\"tickvals\":[7,8,9,10,11,12,13,14,15,16,17,18,19,20,21,22,23],\"ticks\":\"outside\"},\"yaxis\":{\"title\":{\"text\":\"Range\"},\"tickvals\":[6,7,8],\"ticks\":\"outside\"},\"title\":{\"text\":\"Metric's difference with binary64 - (Worst subject)\"}},                        {\"responsive\": true}                    ).then(function(){\n",
       "                            \n",
       "var gd = document.getElementById('ce7f39da-bf0d-444c-bb9f-2a6d8102d8a0');\n",
       "var x = new MutationObserver(function (mutations, observer) {{\n",
       "        var display = window.getComputedStyle(gd).display;\n",
       "        if (!display || display === 'none') {{\n",
       "            console.log([gd, 'removed!']);\n",
       "            Plotly.purge(gd);\n",
       "            observer.disconnect();\n",
       "        }}\n",
       "}});\n",
       "\n",
       "// Listen for the removal of the full notebook cells\n",
       "var notebookContainer = gd.closest('#notebook-container');\n",
       "if (notebookContainer) {{\n",
       "    x.observe(notebookContainer, {childList: true});\n",
       "}}\n",
       "\n",
       "// Listen for the clearing of the current output cell\n",
       "var outputEl = gd.closest('.output');\n",
       "if (outputEl) {{\n",
       "    x.observe(outputEl, {childList: true});\n",
       "}}\n",
       "\n",
       "                        })                };                });            </script>        </div>"
      ]
     },
     "metadata": {},
     "output_type": "display_data"
    },
    {
     "data": {
      "application/vnd.plotly.v1+json": {
       "config": {
        "plotlyServerURL": "https://plot.ly"
       },
       "data": [
        {
         "colorscale": [
          [
           0,
           "grey"
          ],
          [
           1,
           "grey"
          ]
         ],
         "showscale": false,
         "type": "heatmap",
         "x": [
          7,
          8,
          9,
          10,
          11,
          12,
          13,
          14,
          15,
          16,
          17,
          18,
          19,
          20,
          21,
          22,
          23
         ],
         "y": [
          6,
          7,
          8
         ],
         "z": [
          [
           1,
           1,
           1,
           1,
           1,
           1,
           1,
           1,
           1,
           1,
           1,
           1,
           1,
           1,
           1,
           1,
           1
          ],
          [
           1,
           1,
           1,
           1,
           1,
           null,
           null,
           null,
           null,
           null,
           null,
           null,
           null,
           null,
           null,
           null,
           null
          ],
          [
           1,
           1,
           1,
           1,
           1,
           null,
           null,
           null,
           null,
           null,
           null,
           null,
           null,
           null,
           null,
           null,
           null
          ]
         ]
        },
        {
         "colorbar": {
          "title": {
           "text": "Metric"
          }
         },
         "colorscale": [
          [
           0,
           "green"
          ],
          [
           0.09769479002652483,
           "white"
          ],
          [
           1,
           "red"
          ]
         ],
         "text": [
          [
           "⚠ Err: 20/20",
           "⚠ Err: 20/20",
           "⚠ Err: 20/20",
           "⚠ Err: 20/20",
           "⚠ Err: 20/20",
           "⚠ Err: 20/20",
           "⚠ Err: 20/20",
           "⚠ Err: 20/20",
           "⚠ Err: 20/20",
           "⚠ Err: 20/20",
           "⚠ Err: 20/20",
           "⚠ Err: 20/20",
           "⚠ Err: 20/20",
           "⚠ Err: 20/20",
           "⚠ Err: 20/20",
           "⚠ Err: 20/20",
           "⚠ Err: 20/20"
          ],
          [
           "⚠ Err: 20/20",
           "⚠ Err: 20/20",
           "⚠ Err: 20/20",
           "⚠ Err: 20/20",
           "⚠ Err: 20/20",
           "0.901 ± 0.016",
           "0.900 ± 0.016",
           "0.899 ± 0.016",
           "0.895 ± 0.017",
           "0.887 ± 0.016",
           "0.872 ± 0.016",
           "0.841 ± 0.016",
           "0.779 ± 0.016",
           "0.657 ± 0.016",
           "0.411 ± 0.016",
           "-0.081 ± 0.016",
           "-0.098 ± 0.016"
          ],
          [
           "⚠ Err: 20/20",
           "⚠ Err: 20/20",
           "⚠ Err: 20/20",
           "⚠ Err: 20/20",
           "⚠ Err: 20/20",
           "0.901 ± 0.016",
           "0.900 ± 0.016",
           "0.899 ± 0.016",
           "0.895 ± 0.017",
           "0.887 ± 0.016",
           "0.872 ± 0.016",
           "0.841 ± 0.016",
           "0.779 ± 0.016",
           "0.657 ± 0.016",
           "0.411 ± 0.016",
           "-0.016 ± 0.004",
           "-0.006 ± 0.004"
          ]
         ],
         "texttemplate": "%{text}",
         "type": "heatmap",
         "x": [
          7,
          8,
          9,
          10,
          11,
          12,
          13,
          14,
          15,
          16,
          17,
          18,
          19,
          20,
          21,
          22,
          23
         ],
         "y": [
          6,
          7,
          8
         ],
         "z": [
          [
           null,
           null,
           null,
           null,
           null,
           null,
           null,
           null,
           null,
           null,
           null,
           null,
           null,
           null,
           null,
           null,
           null
          ],
          [
           null,
           null,
           null,
           null,
           null,
           0.9014386811320337,
           0.9004783310954129,
           0.8985575118128808,
           0.8947159924571069,
           0.8870330729548448,
           0.8716671147410449,
           0.8409351983134349,
           0.7794713654582548,
           0.6565435805384547,
           0.4106881299082547,
           -0.08102265214284543,
           -0.09760096883134517
          ],
          [
           null,
           null,
           null,
           null,
           null,
           0.9014291443888697,
           0.9004739263121638,
           0.8985554664324391,
           0.894687444969346,
           0.8870051958624874,
           0.8716511526171723,
           0.8409182348315263,
           0.7794624068801048,
           0.6565375068251698,
           0.41068491125745477,
           -0.01627167081193015,
           -0.006282093280120193
          ]
         ],
         "zmax": 0.9014386811320337,
         "zmin": -0.09760096883134517
        }
       ],
       "layout": {
        "annotations": [
         {
          "font": {
           "color": "black"
          },
          "showarrow": false,
          "text": "⚠ Err: 1/20",
          "x": 14,
          "xanchor": "center",
          "y": 6.6,
          "yanchor": "bottom"
         },
         {
          "font": {
           "color": "black"
          },
          "showarrow": false,
          "text": "⚠ Err: 1/20",
          "x": 15,
          "xanchor": "center",
          "y": 6.6,
          "yanchor": "bottom"
         },
         {
          "font": {
           "color": "black"
          },
          "showarrow": false,
          "text": "⚠ Err: 1/20",
          "x": 14,
          "xanchor": "center",
          "y": 7.6,
          "yanchor": "bottom"
         },
         {
          "font": {
           "color": "black"
          },
          "showarrow": false,
          "text": "⚠ Err: 1/20",
          "x": 15,
          "xanchor": "center",
          "y": 7.6,
          "yanchor": "bottom"
         }
        ],
        "template": {
         "data": {
          "bar": [
           {
            "error_x": {
             "color": "#2a3f5f"
            },
            "error_y": {
             "color": "#2a3f5f"
            },
            "marker": {
             "line": {
              "color": "#E5ECF6",
              "width": 0.5
             },
             "pattern": {
              "fillmode": "overlay",
              "size": 10,
              "solidity": 0.2
             }
            },
            "type": "bar"
           }
          ],
          "barpolar": [
           {
            "marker": {
             "line": {
              "color": "#E5ECF6",
              "width": 0.5
             },
             "pattern": {
              "fillmode": "overlay",
              "size": 10,
              "solidity": 0.2
             }
            },
            "type": "barpolar"
           }
          ],
          "carpet": [
           {
            "aaxis": {
             "endlinecolor": "#2a3f5f",
             "gridcolor": "white",
             "linecolor": "white",
             "minorgridcolor": "white",
             "startlinecolor": "#2a3f5f"
            },
            "baxis": {
             "endlinecolor": "#2a3f5f",
             "gridcolor": "white",
             "linecolor": "white",
             "minorgridcolor": "white",
             "startlinecolor": "#2a3f5f"
            },
            "type": "carpet"
           }
          ],
          "choropleth": [
           {
            "colorbar": {
             "outlinewidth": 0,
             "ticks": ""
            },
            "type": "choropleth"
           }
          ],
          "contour": [
           {
            "colorbar": {
             "outlinewidth": 0,
             "ticks": ""
            },
            "colorscale": [
             [
              0,
              "#0d0887"
             ],
             [
              0.1111111111111111,
              "#46039f"
             ],
             [
              0.2222222222222222,
              "#7201a8"
             ],
             [
              0.3333333333333333,
              "#9c179e"
             ],
             [
              0.4444444444444444,
              "#bd3786"
             ],
             [
              0.5555555555555556,
              "#d8576b"
             ],
             [
              0.6666666666666666,
              "#ed7953"
             ],
             [
              0.7777777777777778,
              "#fb9f3a"
             ],
             [
              0.8888888888888888,
              "#fdca26"
             ],
             [
              1,
              "#f0f921"
             ]
            ],
            "type": "contour"
           }
          ],
          "contourcarpet": [
           {
            "colorbar": {
             "outlinewidth": 0,
             "ticks": ""
            },
            "type": "contourcarpet"
           }
          ],
          "heatmap": [
           {
            "colorbar": {
             "outlinewidth": 0,
             "ticks": ""
            },
            "colorscale": [
             [
              0,
              "#0d0887"
             ],
             [
              0.1111111111111111,
              "#46039f"
             ],
             [
              0.2222222222222222,
              "#7201a8"
             ],
             [
              0.3333333333333333,
              "#9c179e"
             ],
             [
              0.4444444444444444,
              "#bd3786"
             ],
             [
              0.5555555555555556,
              "#d8576b"
             ],
             [
              0.6666666666666666,
              "#ed7953"
             ],
             [
              0.7777777777777778,
              "#fb9f3a"
             ],
             [
              0.8888888888888888,
              "#fdca26"
             ],
             [
              1,
              "#f0f921"
             ]
            ],
            "type": "heatmap"
           }
          ],
          "heatmapgl": [
           {
            "colorbar": {
             "outlinewidth": 0,
             "ticks": ""
            },
            "colorscale": [
             [
              0,
              "#0d0887"
             ],
             [
              0.1111111111111111,
              "#46039f"
             ],
             [
              0.2222222222222222,
              "#7201a8"
             ],
             [
              0.3333333333333333,
              "#9c179e"
             ],
             [
              0.4444444444444444,
              "#bd3786"
             ],
             [
              0.5555555555555556,
              "#d8576b"
             ],
             [
              0.6666666666666666,
              "#ed7953"
             ],
             [
              0.7777777777777778,
              "#fb9f3a"
             ],
             [
              0.8888888888888888,
              "#fdca26"
             ],
             [
              1,
              "#f0f921"
             ]
            ],
            "type": "heatmapgl"
           }
          ],
          "histogram": [
           {
            "marker": {
             "pattern": {
              "fillmode": "overlay",
              "size": 10,
              "solidity": 0.2
             }
            },
            "type": "histogram"
           }
          ],
          "histogram2d": [
           {
            "colorbar": {
             "outlinewidth": 0,
             "ticks": ""
            },
            "colorscale": [
             [
              0,
              "#0d0887"
             ],
             [
              0.1111111111111111,
              "#46039f"
             ],
             [
              0.2222222222222222,
              "#7201a8"
             ],
             [
              0.3333333333333333,
              "#9c179e"
             ],
             [
              0.4444444444444444,
              "#bd3786"
             ],
             [
              0.5555555555555556,
              "#d8576b"
             ],
             [
              0.6666666666666666,
              "#ed7953"
             ],
             [
              0.7777777777777778,
              "#fb9f3a"
             ],
             [
              0.8888888888888888,
              "#fdca26"
             ],
             [
              1,
              "#f0f921"
             ]
            ],
            "type": "histogram2d"
           }
          ],
          "histogram2dcontour": [
           {
            "colorbar": {
             "outlinewidth": 0,
             "ticks": ""
            },
            "colorscale": [
             [
              0,
              "#0d0887"
             ],
             [
              0.1111111111111111,
              "#46039f"
             ],
             [
              0.2222222222222222,
              "#7201a8"
             ],
             [
              0.3333333333333333,
              "#9c179e"
             ],
             [
              0.4444444444444444,
              "#bd3786"
             ],
             [
              0.5555555555555556,
              "#d8576b"
             ],
             [
              0.6666666666666666,
              "#ed7953"
             ],
             [
              0.7777777777777778,
              "#fb9f3a"
             ],
             [
              0.8888888888888888,
              "#fdca26"
             ],
             [
              1,
              "#f0f921"
             ]
            ],
            "type": "histogram2dcontour"
           }
          ],
          "mesh3d": [
           {
            "colorbar": {
             "outlinewidth": 0,
             "ticks": ""
            },
            "type": "mesh3d"
           }
          ],
          "parcoords": [
           {
            "line": {
             "colorbar": {
              "outlinewidth": 0,
              "ticks": ""
             }
            },
            "type": "parcoords"
           }
          ],
          "pie": [
           {
            "automargin": true,
            "type": "pie"
           }
          ],
          "scatter": [
           {
            "fillpattern": {
             "fillmode": "overlay",
             "size": 10,
             "solidity": 0.2
            },
            "type": "scatter"
           }
          ],
          "scatter3d": [
           {
            "line": {
             "colorbar": {
              "outlinewidth": 0,
              "ticks": ""
             }
            },
            "marker": {
             "colorbar": {
              "outlinewidth": 0,
              "ticks": ""
             }
            },
            "type": "scatter3d"
           }
          ],
          "scattercarpet": [
           {
            "marker": {
             "colorbar": {
              "outlinewidth": 0,
              "ticks": ""
             }
            },
            "type": "scattercarpet"
           }
          ],
          "scattergeo": [
           {
            "marker": {
             "colorbar": {
              "outlinewidth": 0,
              "ticks": ""
             }
            },
            "type": "scattergeo"
           }
          ],
          "scattergl": [
           {
            "marker": {
             "colorbar": {
              "outlinewidth": 0,
              "ticks": ""
             }
            },
            "type": "scattergl"
           }
          ],
          "scattermapbox": [
           {
            "marker": {
             "colorbar": {
              "outlinewidth": 0,
              "ticks": ""
             }
            },
            "type": "scattermapbox"
           }
          ],
          "scatterpolar": [
           {
            "marker": {
             "colorbar": {
              "outlinewidth": 0,
              "ticks": ""
             }
            },
            "type": "scatterpolar"
           }
          ],
          "scatterpolargl": [
           {
            "marker": {
             "colorbar": {
              "outlinewidth": 0,
              "ticks": ""
             }
            },
            "type": "scatterpolargl"
           }
          ],
          "scatterternary": [
           {
            "marker": {
             "colorbar": {
              "outlinewidth": 0,
              "ticks": ""
             }
            },
            "type": "scatterternary"
           }
          ],
          "surface": [
           {
            "colorbar": {
             "outlinewidth": 0,
             "ticks": ""
            },
            "colorscale": [
             [
              0,
              "#0d0887"
             ],
             [
              0.1111111111111111,
              "#46039f"
             ],
             [
              0.2222222222222222,
              "#7201a8"
             ],
             [
              0.3333333333333333,
              "#9c179e"
             ],
             [
              0.4444444444444444,
              "#bd3786"
             ],
             [
              0.5555555555555556,
              "#d8576b"
             ],
             [
              0.6666666666666666,
              "#ed7953"
             ],
             [
              0.7777777777777778,
              "#fb9f3a"
             ],
             [
              0.8888888888888888,
              "#fdca26"
             ],
             [
              1,
              "#f0f921"
             ]
            ],
            "type": "surface"
           }
          ],
          "table": [
           {
            "cells": {
             "fill": {
              "color": "#EBF0F8"
             },
             "line": {
              "color": "white"
             }
            },
            "header": {
             "fill": {
              "color": "#C8D4E3"
             },
             "line": {
              "color": "white"
             }
            },
            "type": "table"
           }
          ]
         },
         "layout": {
          "annotationdefaults": {
           "arrowcolor": "#2a3f5f",
           "arrowhead": 0,
           "arrowwidth": 1
          },
          "autotypenumbers": "strict",
          "coloraxis": {
           "colorbar": {
            "outlinewidth": 0,
            "ticks": ""
           }
          },
          "colorscale": {
           "diverging": [
            [
             0,
             "#8e0152"
            ],
            [
             0.1,
             "#c51b7d"
            ],
            [
             0.2,
             "#de77ae"
            ],
            [
             0.3,
             "#f1b6da"
            ],
            [
             0.4,
             "#fde0ef"
            ],
            [
             0.5,
             "#f7f7f7"
            ],
            [
             0.6,
             "#e6f5d0"
            ],
            [
             0.7,
             "#b8e186"
            ],
            [
             0.8,
             "#7fbc41"
            ],
            [
             0.9,
             "#4d9221"
            ],
            [
             1,
             "#276419"
            ]
           ],
           "sequential": [
            [
             0,
             "#0d0887"
            ],
            [
             0.1111111111111111,
             "#46039f"
            ],
            [
             0.2222222222222222,
             "#7201a8"
            ],
            [
             0.3333333333333333,
             "#9c179e"
            ],
            [
             0.4444444444444444,
             "#bd3786"
            ],
            [
             0.5555555555555556,
             "#d8576b"
            ],
            [
             0.6666666666666666,
             "#ed7953"
            ],
            [
             0.7777777777777778,
             "#fb9f3a"
            ],
            [
             0.8888888888888888,
             "#fdca26"
            ],
            [
             1,
             "#f0f921"
            ]
           ],
           "sequentialminus": [
            [
             0,
             "#0d0887"
            ],
            [
             0.1111111111111111,
             "#46039f"
            ],
            [
             0.2222222222222222,
             "#7201a8"
            ],
            [
             0.3333333333333333,
             "#9c179e"
            ],
            [
             0.4444444444444444,
             "#bd3786"
            ],
            [
             0.5555555555555556,
             "#d8576b"
            ],
            [
             0.6666666666666666,
             "#ed7953"
            ],
            [
             0.7777777777777778,
             "#fb9f3a"
            ],
            [
             0.8888888888888888,
             "#fdca26"
            ],
            [
             1,
             "#f0f921"
            ]
           ]
          },
          "colorway": [
           "#636efa",
           "#EF553B",
           "#00cc96",
           "#ab63fa",
           "#FFA15A",
           "#19d3f3",
           "#FF6692",
           "#B6E880",
           "#FF97FF",
           "#FECB52"
          ],
          "font": {
           "color": "#2a3f5f"
          },
          "geo": {
           "bgcolor": "white",
           "lakecolor": "white",
           "landcolor": "#E5ECF6",
           "showlakes": true,
           "showland": true,
           "subunitcolor": "white"
          },
          "hoverlabel": {
           "align": "left"
          },
          "hovermode": "closest",
          "mapbox": {
           "style": "light"
          },
          "paper_bgcolor": "white",
          "plot_bgcolor": "#E5ECF6",
          "polar": {
           "angularaxis": {
            "gridcolor": "white",
            "linecolor": "white",
            "ticks": ""
           },
           "bgcolor": "#E5ECF6",
           "radialaxis": {
            "gridcolor": "white",
            "linecolor": "white",
            "ticks": ""
           }
          },
          "scene": {
           "xaxis": {
            "backgroundcolor": "#E5ECF6",
            "gridcolor": "white",
            "gridwidth": 2,
            "linecolor": "white",
            "showbackground": true,
            "ticks": "",
            "zerolinecolor": "white"
           },
           "yaxis": {
            "backgroundcolor": "#E5ECF6",
            "gridcolor": "white",
            "gridwidth": 2,
            "linecolor": "white",
            "showbackground": true,
            "ticks": "",
            "zerolinecolor": "white"
           },
           "zaxis": {
            "backgroundcolor": "#E5ECF6",
            "gridcolor": "white",
            "gridwidth": 2,
            "linecolor": "white",
            "showbackground": true,
            "ticks": "",
            "zerolinecolor": "white"
           }
          },
          "shapedefaults": {
           "line": {
            "color": "#2a3f5f"
           }
          },
          "ternary": {
           "aaxis": {
            "gridcolor": "white",
            "linecolor": "white",
            "ticks": ""
           },
           "baxis": {
            "gridcolor": "white",
            "linecolor": "white",
            "ticks": ""
           },
           "bgcolor": "#E5ECF6",
           "caxis": {
            "gridcolor": "white",
            "linecolor": "white",
            "ticks": ""
           }
          },
          "title": {
           "x": 0.05
          },
          "xaxis": {
           "automargin": true,
           "gridcolor": "white",
           "linecolor": "white",
           "ticks": "",
           "title": {
            "standoff": 15
           },
           "zerolinecolor": "white",
           "zerolinewidth": 2
          },
          "yaxis": {
           "automargin": true,
           "gridcolor": "white",
           "linecolor": "white",
           "ticks": "",
           "title": {
            "standoff": 15
           },
           "zerolinecolor": "white",
           "zerolinewidth": 2
          }
         }
        },
        "title": {
         "text": "Metric's difference with binary64 - (Mean across subjects)"
        },
        "xaxis": {
         "ticks": "outside",
         "tickvals": [
          7,
          8,
          9,
          10,
          11,
          12,
          13,
          14,
          15,
          16,
          17,
          18,
          19,
          20,
          21,
          22,
          23
         ],
         "title": {
          "text": "Precision"
         }
        },
        "yaxis": {
         "ticks": "outside",
         "tickvals": [
          6,
          7,
          8
         ],
         "title": {
          "text": "Range"
         }
        }
       }
      },
      "text/html": [
       "<div>                            <div id=\"b7263644-7b40-410b-8586-91f089d7c395\" class=\"plotly-graph-div\" style=\"height:525px; width:100%;\"></div>            <script type=\"text/javascript\">                require([\"plotly\"], function(Plotly) {                    window.PLOTLYENV=window.PLOTLYENV || {};                                    if (document.getElementById(\"b7263644-7b40-410b-8586-91f089d7c395\")) {                    Plotly.newPlot(                        \"b7263644-7b40-410b-8586-91f089d7c395\",                        [{\"colorscale\":[[0,\"grey\"],[1,\"grey\"]],\"showscale\":false,\"x\":[7,8,9,10,11,12,13,14,15,16,17,18,19,20,21,22,23],\"y\":[6,7,8],\"z\":[[1.0,1.0,1.0,1.0,1.0,1.0,1.0,1.0,1.0,1.0,1.0,1.0,1.0,1.0,1.0,1.0,1.0],[1.0,1.0,1.0,1.0,1.0,null,null,null,null,null,null,null,null,null,null,null,null],[1.0,1.0,1.0,1.0,1.0,null,null,null,null,null,null,null,null,null,null,null,null]],\"type\":\"heatmap\"},{\"colorbar\":{\"title\":{\"text\":\"Metric\"}},\"colorscale\":[[0,\"green\"],[0.09769479002652483,\"white\"],[1,\"red\"]],\"text\":[[\"\\u26a0 Err: 20\\u002f20\",\"\\u26a0 Err: 20\\u002f20\",\"\\u26a0 Err: 20\\u002f20\",\"\\u26a0 Err: 20\\u002f20\",\"\\u26a0 Err: 20\\u002f20\",\"\\u26a0 Err: 20\\u002f20\",\"\\u26a0 Err: 20\\u002f20\",\"\\u26a0 Err: 20\\u002f20\",\"\\u26a0 Err: 20\\u002f20\",\"\\u26a0 Err: 20\\u002f20\",\"\\u26a0 Err: 20\\u002f20\",\"\\u26a0 Err: 20\\u002f20\",\"\\u26a0 Err: 20\\u002f20\",\"\\u26a0 Err: 20\\u002f20\",\"\\u26a0 Err: 20\\u002f20\",\"\\u26a0 Err: 20\\u002f20\",\"\\u26a0 Err: 20\\u002f20\"],[\"\\u26a0 Err: 20\\u002f20\",\"\\u26a0 Err: 20\\u002f20\",\"\\u26a0 Err: 20\\u002f20\",\"\\u26a0 Err: 20\\u002f20\",\"\\u26a0 Err: 20\\u002f20\",\"0.901 \\u00b1 0.016\",\"0.900 \\u00b1 0.016\",\"0.899 \\u00b1 0.016\",\"0.895 \\u00b1 0.017\",\"0.887 \\u00b1 0.016\",\"0.872 \\u00b1 0.016\",\"0.841 \\u00b1 0.016\",\"0.779 \\u00b1 0.016\",\"0.657 \\u00b1 0.016\",\"0.411 \\u00b1 0.016\",\"-0.081 \\u00b1 0.016\",\"-0.098 \\u00b1 0.016\"],[\"\\u26a0 Err: 20\\u002f20\",\"\\u26a0 Err: 20\\u002f20\",\"\\u26a0 Err: 20\\u002f20\",\"\\u26a0 Err: 20\\u002f20\",\"\\u26a0 Err: 20\\u002f20\",\"0.901 \\u00b1 0.016\",\"0.900 \\u00b1 0.016\",\"0.899 \\u00b1 0.016\",\"0.895 \\u00b1 0.017\",\"0.887 \\u00b1 0.016\",\"0.872 \\u00b1 0.016\",\"0.841 \\u00b1 0.016\",\"0.779 \\u00b1 0.016\",\"0.657 \\u00b1 0.016\",\"0.411 \\u00b1 0.016\",\"-0.016 \\u00b1 0.004\",\"-0.006 \\u00b1 0.004\"]],\"texttemplate\":\"%{text}\",\"x\":[7,8,9,10,11,12,13,14,15,16,17,18,19,20,21,22,23],\"y\":[6,7,8],\"z\":[[null,null,null,null,null,null,null,null,null,null,null,null,null,null,null,null,null],[null,null,null,null,null,0.9014386811320337,0.9004783310954129,0.8985575118128808,0.8947159924571069,0.8870330729548448,0.8716671147410449,0.8409351983134349,0.7794713654582548,0.6565435805384547,0.4106881299082547,-0.08102265214284543,-0.09760096883134517],[null,null,null,null,null,0.9014291443888697,0.9004739263121638,0.8985554664324391,0.894687444969346,0.8870051958624874,0.8716511526171723,0.8409182348315263,0.7794624068801048,0.6565375068251698,0.41068491125745477,-0.01627167081193015,-0.006282093280120193]],\"zmax\":0.9014386811320337,\"zmin\":-0.09760096883134517,\"type\":\"heatmap\"}],                        {\"template\":{\"data\":{\"histogram2dcontour\":[{\"type\":\"histogram2dcontour\",\"colorbar\":{\"outlinewidth\":0,\"ticks\":\"\"},\"colorscale\":[[0.0,\"#0d0887\"],[0.1111111111111111,\"#46039f\"],[0.2222222222222222,\"#7201a8\"],[0.3333333333333333,\"#9c179e\"],[0.4444444444444444,\"#bd3786\"],[0.5555555555555556,\"#d8576b\"],[0.6666666666666666,\"#ed7953\"],[0.7777777777777778,\"#fb9f3a\"],[0.8888888888888888,\"#fdca26\"],[1.0,\"#f0f921\"]]}],\"choropleth\":[{\"type\":\"choropleth\",\"colorbar\":{\"outlinewidth\":0,\"ticks\":\"\"}}],\"histogram2d\":[{\"type\":\"histogram2d\",\"colorbar\":{\"outlinewidth\":0,\"ticks\":\"\"},\"colorscale\":[[0.0,\"#0d0887\"],[0.1111111111111111,\"#46039f\"],[0.2222222222222222,\"#7201a8\"],[0.3333333333333333,\"#9c179e\"],[0.4444444444444444,\"#bd3786\"],[0.5555555555555556,\"#d8576b\"],[0.6666666666666666,\"#ed7953\"],[0.7777777777777778,\"#fb9f3a\"],[0.8888888888888888,\"#fdca26\"],[1.0,\"#f0f921\"]]}],\"heatmap\":[{\"type\":\"heatmap\",\"colorbar\":{\"outlinewidth\":0,\"ticks\":\"\"},\"colorscale\":[[0.0,\"#0d0887\"],[0.1111111111111111,\"#46039f\"],[0.2222222222222222,\"#7201a8\"],[0.3333333333333333,\"#9c179e\"],[0.4444444444444444,\"#bd3786\"],[0.5555555555555556,\"#d8576b\"],[0.6666666666666666,\"#ed7953\"],[0.7777777777777778,\"#fb9f3a\"],[0.8888888888888888,\"#fdca26\"],[1.0,\"#f0f921\"]]}],\"heatmapgl\":[{\"type\":\"heatmapgl\",\"colorbar\":{\"outlinewidth\":0,\"ticks\":\"\"},\"colorscale\":[[0.0,\"#0d0887\"],[0.1111111111111111,\"#46039f\"],[0.2222222222222222,\"#7201a8\"],[0.3333333333333333,\"#9c179e\"],[0.4444444444444444,\"#bd3786\"],[0.5555555555555556,\"#d8576b\"],[0.6666666666666666,\"#ed7953\"],[0.7777777777777778,\"#fb9f3a\"],[0.8888888888888888,\"#fdca26\"],[1.0,\"#f0f921\"]]}],\"contourcarpet\":[{\"type\":\"contourcarpet\",\"colorbar\":{\"outlinewidth\":0,\"ticks\":\"\"}}],\"contour\":[{\"type\":\"contour\",\"colorbar\":{\"outlinewidth\":0,\"ticks\":\"\"},\"colorscale\":[[0.0,\"#0d0887\"],[0.1111111111111111,\"#46039f\"],[0.2222222222222222,\"#7201a8\"],[0.3333333333333333,\"#9c179e\"],[0.4444444444444444,\"#bd3786\"],[0.5555555555555556,\"#d8576b\"],[0.6666666666666666,\"#ed7953\"],[0.7777777777777778,\"#fb9f3a\"],[0.8888888888888888,\"#fdca26\"],[1.0,\"#f0f921\"]]}],\"surface\":[{\"type\":\"surface\",\"colorbar\":{\"outlinewidth\":0,\"ticks\":\"\"},\"colorscale\":[[0.0,\"#0d0887\"],[0.1111111111111111,\"#46039f\"],[0.2222222222222222,\"#7201a8\"],[0.3333333333333333,\"#9c179e\"],[0.4444444444444444,\"#bd3786\"],[0.5555555555555556,\"#d8576b\"],[0.6666666666666666,\"#ed7953\"],[0.7777777777777778,\"#fb9f3a\"],[0.8888888888888888,\"#fdca26\"],[1.0,\"#f0f921\"]]}],\"mesh3d\":[{\"type\":\"mesh3d\",\"colorbar\":{\"outlinewidth\":0,\"ticks\":\"\"}}],\"scatter\":[{\"fillpattern\":{\"fillmode\":\"overlay\",\"size\":10,\"solidity\":0.2},\"type\":\"scatter\"}],\"parcoords\":[{\"type\":\"parcoords\",\"line\":{\"colorbar\":{\"outlinewidth\":0,\"ticks\":\"\"}}}],\"scatterpolargl\":[{\"type\":\"scatterpolargl\",\"marker\":{\"colorbar\":{\"outlinewidth\":0,\"ticks\":\"\"}}}],\"bar\":[{\"error_x\":{\"color\":\"#2a3f5f\"},\"error_y\":{\"color\":\"#2a3f5f\"},\"marker\":{\"line\":{\"color\":\"#E5ECF6\",\"width\":0.5},\"pattern\":{\"fillmode\":\"overlay\",\"size\":10,\"solidity\":0.2}},\"type\":\"bar\"}],\"scattergeo\":[{\"type\":\"scattergeo\",\"marker\":{\"colorbar\":{\"outlinewidth\":0,\"ticks\":\"\"}}}],\"scatterpolar\":[{\"type\":\"scatterpolar\",\"marker\":{\"colorbar\":{\"outlinewidth\":0,\"ticks\":\"\"}}}],\"histogram\":[{\"marker\":{\"pattern\":{\"fillmode\":\"overlay\",\"size\":10,\"solidity\":0.2}},\"type\":\"histogram\"}],\"scattergl\":[{\"type\":\"scattergl\",\"marker\":{\"colorbar\":{\"outlinewidth\":0,\"ticks\":\"\"}}}],\"scatter3d\":[{\"type\":\"scatter3d\",\"line\":{\"colorbar\":{\"outlinewidth\":0,\"ticks\":\"\"}},\"marker\":{\"colorbar\":{\"outlinewidth\":0,\"ticks\":\"\"}}}],\"scattermapbox\":[{\"type\":\"scattermapbox\",\"marker\":{\"colorbar\":{\"outlinewidth\":0,\"ticks\":\"\"}}}],\"scatterternary\":[{\"type\":\"scatterternary\",\"marker\":{\"colorbar\":{\"outlinewidth\":0,\"ticks\":\"\"}}}],\"scattercarpet\":[{\"type\":\"scattercarpet\",\"marker\":{\"colorbar\":{\"outlinewidth\":0,\"ticks\":\"\"}}}],\"carpet\":[{\"aaxis\":{\"endlinecolor\":\"#2a3f5f\",\"gridcolor\":\"white\",\"linecolor\":\"white\",\"minorgridcolor\":\"white\",\"startlinecolor\":\"#2a3f5f\"},\"baxis\":{\"endlinecolor\":\"#2a3f5f\",\"gridcolor\":\"white\",\"linecolor\":\"white\",\"minorgridcolor\":\"white\",\"startlinecolor\":\"#2a3f5f\"},\"type\":\"carpet\"}],\"table\":[{\"cells\":{\"fill\":{\"color\":\"#EBF0F8\"},\"line\":{\"color\":\"white\"}},\"header\":{\"fill\":{\"color\":\"#C8D4E3\"},\"line\":{\"color\":\"white\"}},\"type\":\"table\"}],\"barpolar\":[{\"marker\":{\"line\":{\"color\":\"#E5ECF6\",\"width\":0.5},\"pattern\":{\"fillmode\":\"overlay\",\"size\":10,\"solidity\":0.2}},\"type\":\"barpolar\"}],\"pie\":[{\"automargin\":true,\"type\":\"pie\"}]},\"layout\":{\"autotypenumbers\":\"strict\",\"colorway\":[\"#636efa\",\"#EF553B\",\"#00cc96\",\"#ab63fa\",\"#FFA15A\",\"#19d3f3\",\"#FF6692\",\"#B6E880\",\"#FF97FF\",\"#FECB52\"],\"font\":{\"color\":\"#2a3f5f\"},\"hovermode\":\"closest\",\"hoverlabel\":{\"align\":\"left\"},\"paper_bgcolor\":\"white\",\"plot_bgcolor\":\"#E5ECF6\",\"polar\":{\"bgcolor\":\"#E5ECF6\",\"angularaxis\":{\"gridcolor\":\"white\",\"linecolor\":\"white\",\"ticks\":\"\"},\"radialaxis\":{\"gridcolor\":\"white\",\"linecolor\":\"white\",\"ticks\":\"\"}},\"ternary\":{\"bgcolor\":\"#E5ECF6\",\"aaxis\":{\"gridcolor\":\"white\",\"linecolor\":\"white\",\"ticks\":\"\"},\"baxis\":{\"gridcolor\":\"white\",\"linecolor\":\"white\",\"ticks\":\"\"},\"caxis\":{\"gridcolor\":\"white\",\"linecolor\":\"white\",\"ticks\":\"\"}},\"coloraxis\":{\"colorbar\":{\"outlinewidth\":0,\"ticks\":\"\"}},\"colorscale\":{\"sequential\":[[0.0,\"#0d0887\"],[0.1111111111111111,\"#46039f\"],[0.2222222222222222,\"#7201a8\"],[0.3333333333333333,\"#9c179e\"],[0.4444444444444444,\"#bd3786\"],[0.5555555555555556,\"#d8576b\"],[0.6666666666666666,\"#ed7953\"],[0.7777777777777778,\"#fb9f3a\"],[0.8888888888888888,\"#fdca26\"],[1.0,\"#f0f921\"]],\"sequentialminus\":[[0.0,\"#0d0887\"],[0.1111111111111111,\"#46039f\"],[0.2222222222222222,\"#7201a8\"],[0.3333333333333333,\"#9c179e\"],[0.4444444444444444,\"#bd3786\"],[0.5555555555555556,\"#d8576b\"],[0.6666666666666666,\"#ed7953\"],[0.7777777777777778,\"#fb9f3a\"],[0.8888888888888888,\"#fdca26\"],[1.0,\"#f0f921\"]],\"diverging\":[[0,\"#8e0152\"],[0.1,\"#c51b7d\"],[0.2,\"#de77ae\"],[0.3,\"#f1b6da\"],[0.4,\"#fde0ef\"],[0.5,\"#f7f7f7\"],[0.6,\"#e6f5d0\"],[0.7,\"#b8e186\"],[0.8,\"#7fbc41\"],[0.9,\"#4d9221\"],[1,\"#276419\"]]},\"xaxis\":{\"gridcolor\":\"white\",\"linecolor\":\"white\",\"ticks\":\"\",\"title\":{\"standoff\":15},\"zerolinecolor\":\"white\",\"automargin\":true,\"zerolinewidth\":2},\"yaxis\":{\"gridcolor\":\"white\",\"linecolor\":\"white\",\"ticks\":\"\",\"title\":{\"standoff\":15},\"zerolinecolor\":\"white\",\"automargin\":true,\"zerolinewidth\":2},\"scene\":{\"xaxis\":{\"backgroundcolor\":\"#E5ECF6\",\"gridcolor\":\"white\",\"linecolor\":\"white\",\"showbackground\":true,\"ticks\":\"\",\"zerolinecolor\":\"white\",\"gridwidth\":2},\"yaxis\":{\"backgroundcolor\":\"#E5ECF6\",\"gridcolor\":\"white\",\"linecolor\":\"white\",\"showbackground\":true,\"ticks\":\"\",\"zerolinecolor\":\"white\",\"gridwidth\":2},\"zaxis\":{\"backgroundcolor\":\"#E5ECF6\",\"gridcolor\":\"white\",\"linecolor\":\"white\",\"showbackground\":true,\"ticks\":\"\",\"zerolinecolor\":\"white\",\"gridwidth\":2}},\"shapedefaults\":{\"line\":{\"color\":\"#2a3f5f\"}},\"annotationdefaults\":{\"arrowcolor\":\"#2a3f5f\",\"arrowhead\":0,\"arrowwidth\":1},\"geo\":{\"bgcolor\":\"white\",\"landcolor\":\"#E5ECF6\",\"subunitcolor\":\"white\",\"showland\":true,\"showlakes\":true,\"lakecolor\":\"white\"},\"title\":{\"x\":0.05},\"mapbox\":{\"style\":\"light\"}}},\"annotations\":[{\"font\":{\"color\":\"black\"},\"showarrow\":false,\"text\":\"\\u26a0 Err: 1\\u002f20\",\"x\":14,\"xanchor\":\"center\",\"y\":6.6,\"yanchor\":\"bottom\"},{\"font\":{\"color\":\"black\"},\"showarrow\":false,\"text\":\"\\u26a0 Err: 1\\u002f20\",\"x\":15,\"xanchor\":\"center\",\"y\":6.6,\"yanchor\":\"bottom\"},{\"font\":{\"color\":\"black\"},\"showarrow\":false,\"text\":\"\\u26a0 Err: 1\\u002f20\",\"x\":14,\"xanchor\":\"center\",\"y\":7.6,\"yanchor\":\"bottom\"},{\"font\":{\"color\":\"black\"},\"showarrow\":false,\"text\":\"\\u26a0 Err: 1\\u002f20\",\"x\":15,\"xanchor\":\"center\",\"y\":7.6,\"yanchor\":\"bottom\"}],\"xaxis\":{\"title\":{\"text\":\"Precision\"},\"tickvals\":[7,8,9,10,11,12,13,14,15,16,17,18,19,20,21,22,23],\"ticks\":\"outside\"},\"yaxis\":{\"title\":{\"text\":\"Range\"},\"tickvals\":[6,7,8],\"ticks\":\"outside\"},\"title\":{\"text\":\"Metric's difference with binary64 - (Mean across subjects)\"}},                        {\"responsive\": true}                    ).then(function(){\n",
       "                            \n",
       "var gd = document.getElementById('b7263644-7b40-410b-8586-91f089d7c395');\n",
       "var x = new MutationObserver(function (mutations, observer) {{\n",
       "        var display = window.getComputedStyle(gd).display;\n",
       "        if (!display || display === 'none') {{\n",
       "            console.log([gd, 'removed!']);\n",
       "            Plotly.purge(gd);\n",
       "            observer.disconnect();\n",
       "        }}\n",
       "}});\n",
       "\n",
       "// Listen for the removal of the full notebook cells\n",
       "var notebookContainer = gd.closest('#notebook-container');\n",
       "if (notebookContainer) {{\n",
       "    x.observe(notebookContainer, {childList: true});\n",
       "}}\n",
       "\n",
       "// Listen for the clearing of the current output cell\n",
       "var outputEl = gd.closest('.output');\n",
       "if (outputEl) {{\n",
       "    x.observe(outputEl, {childList: true});\n",
       "}}\n",
       "\n",
       "                        })                };                });            </script>        </div>"
      ]
     },
     "metadata": {},
     "output_type": "display_data"
    }
   ],
   "source": [
    "plot_metric_diff(n_failed, worst_metrics, n_subjects=n_subjects, metric_name=\"Worst subject\")\n",
    "plot_metric_diff(n_failed, mean_metrics, n_subjects=n_subjects, exp_metrics=exp_metrics, metric_name=\"Mean across subjects\")"
   ]
  },
  {
   "cell_type": "code",
   "execution_count": 128,
   "metadata": {},
   "outputs": [
    {
     "data": {
      "application/vnd.plotly.v1+json": {
       "config": {
        "plotlyServerURL": "https://plot.ly"
       },
       "data": [
        {
         "colorscale": [
          [
           0,
           "grey"
          ],
          [
           1,
           "grey"
          ]
         ],
         "showscale": false,
         "type": "heatmap",
         "x": [
          7,
          8,
          9,
          10,
          11,
          12,
          13,
          14,
          15,
          16,
          17,
          18,
          19,
          20,
          21,
          22,
          23
         ],
         "y": [
          6,
          7,
          8
         ],
         "z": [
          [
           1,
           1,
           1,
           1,
           1,
           1,
           1,
           1,
           1,
           1,
           1,
           1,
           1,
           1,
           1,
           1,
           1
          ],
          [
           1,
           1,
           1,
           1,
           1,
           null,
           null,
           null,
           null,
           null,
           null,
           null,
           null,
           null,
           null,
           null,
           null
          ],
          [
           1,
           1,
           1,
           1,
           1,
           null,
           null,
           null,
           null,
           null,
           null,
           null,
           null,
           null,
           null,
           null,
           null
          ]
         ]
        },
        {
         "colorbar": {
          "title": {
           "text": "Metric"
          }
         },
         "colorscale": [
          [
           0,
           "green"
          ],
          [
           0.1296846893053236,
           "white"
          ],
          [
           1,
           "red"
          ]
         ],
         "text": [
          [
           "⚠ Err: 20/20",
           "⚠ Err: 20/20",
           "⚠ Err: 20/20",
           "⚠ Err: 20/20",
           "⚠ Err: 20/20",
           "⚠ Err: 20/20",
           "⚠ Err: 20/20",
           "⚠ Err: 20/20",
           "⚠ Err: 20/20",
           "⚠ Err: 20/20",
           "⚠ Err: 20/20",
           "⚠ Err: 20/20",
           "⚠ Err: 20/20",
           "⚠ Err: 20/20",
           "⚠ Err: 20/20",
           "⚠ Err: 20/20",
           "⚠ Err: 20/20"
          ],
          [
           "⚠ Err: 20/20",
           "⚠ Err: 20/20",
           "⚠ Err: 20/20",
           "⚠ Err: 20/20",
           "⚠ Err: 20/20",
           "0.999",
           "0.998",
           "0.996",
           "0.991",
           "0.982",
           "0.965",
           "0.929",
           "0.859",
           "0.718",
           "0.435",
           "-0.130",
           "-0.149"
          ],
          [
           "⚠ Err: 20/20",
           "⚠ Err: 20/20",
           "⚠ Err: 20/20",
           "⚠ Err: 20/20",
           "⚠ Err: 20/20",
           "0.999",
           "0.998",
           "0.996",
           "0.991",
           "0.982",
           "0.965",
           "0.929",
           "0.859",
           "0.718",
           "0.435",
           "-0.019",
           "-0.010"
          ]
         ],
         "texttemplate": "%{text}",
         "type": "heatmap",
         "x": [
          7,
          8,
          9,
          10,
          11,
          12,
          13,
          14,
          15,
          16,
          17,
          18,
          19,
          20,
          21,
          22,
          23
         ],
         "y": [
          6,
          7,
          8
         ],
         "z": [
          [
           null,
           null,
           null,
           null,
           null,
           null,
           null,
           null,
           null,
           null,
           null,
           null,
           null,
           null,
           null,
           null,
           null
          ],
          [
           null,
           null,
           null,
           null,
           null,
           0.9988967071844423,
           0.997793414368885,
           0.9955866917848379,
           0.9911733835696761,
           0.9823469040922794,
           0.9646938081845704,
           0.9293876163691409,
           0.8587752327383276,
           0.7175503285235969,
           0.43510065704719364,
           -0.12979854895266932,
           -0.14884445617293168
          ],
          [
           null,
           null,
           null,
           null,
           null,
           0.9988967071844423,
           0.997793414368885,
           0.9955866917848379,
           0.9911733835696761,
           0.9823452606571077,
           0.9646879192085199,
           0.929384877310502,
           0.8587708502444825,
           0.7175492329001644,
           0.4351001092355348,
           -0.018926249023783585,
           -0.01046125680887431
          ]
         ],
         "zmax": 0.9988967071844423,
         "zmin": -0.14884445617293168
        }
       ],
       "layout": {
        "annotations": [
         {
          "font": {
           "color": "black"
          },
          "showarrow": false,
          "text": "⚠ Err: 1/20",
          "x": 14,
          "xanchor": "center",
          "y": 6.6,
          "yanchor": "bottom"
         },
         {
          "font": {
           "color": "black"
          },
          "showarrow": false,
          "text": "⚠ Err: 1/20",
          "x": 15,
          "xanchor": "center",
          "y": 6.6,
          "yanchor": "bottom"
         },
         {
          "font": {
           "color": "black"
          },
          "showarrow": false,
          "text": "⚠ Err: 1/20",
          "x": 14,
          "xanchor": "center",
          "y": 7.6,
          "yanchor": "bottom"
         },
         {
          "font": {
           "color": "black"
          },
          "showarrow": false,
          "text": "⚠ Err: 1/20",
          "x": 15,
          "xanchor": "center",
          "y": 7.6,
          "yanchor": "bottom"
         }
        ],
        "template": {
         "data": {
          "bar": [
           {
            "error_x": {
             "color": "#2a3f5f"
            },
            "error_y": {
             "color": "#2a3f5f"
            },
            "marker": {
             "line": {
              "color": "#E5ECF6",
              "width": 0.5
             },
             "pattern": {
              "fillmode": "overlay",
              "size": 10,
              "solidity": 0.2
             }
            },
            "type": "bar"
           }
          ],
          "barpolar": [
           {
            "marker": {
             "line": {
              "color": "#E5ECF6",
              "width": 0.5
             },
             "pattern": {
              "fillmode": "overlay",
              "size": 10,
              "solidity": 0.2
             }
            },
            "type": "barpolar"
           }
          ],
          "carpet": [
           {
            "aaxis": {
             "endlinecolor": "#2a3f5f",
             "gridcolor": "white",
             "linecolor": "white",
             "minorgridcolor": "white",
             "startlinecolor": "#2a3f5f"
            },
            "baxis": {
             "endlinecolor": "#2a3f5f",
             "gridcolor": "white",
             "linecolor": "white",
             "minorgridcolor": "white",
             "startlinecolor": "#2a3f5f"
            },
            "type": "carpet"
           }
          ],
          "choropleth": [
           {
            "colorbar": {
             "outlinewidth": 0,
             "ticks": ""
            },
            "type": "choropleth"
           }
          ],
          "contour": [
           {
            "colorbar": {
             "outlinewidth": 0,
             "ticks": ""
            },
            "colorscale": [
             [
              0,
              "#0d0887"
             ],
             [
              0.1111111111111111,
              "#46039f"
             ],
             [
              0.2222222222222222,
              "#7201a8"
             ],
             [
              0.3333333333333333,
              "#9c179e"
             ],
             [
              0.4444444444444444,
              "#bd3786"
             ],
             [
              0.5555555555555556,
              "#d8576b"
             ],
             [
              0.6666666666666666,
              "#ed7953"
             ],
             [
              0.7777777777777778,
              "#fb9f3a"
             ],
             [
              0.8888888888888888,
              "#fdca26"
             ],
             [
              1,
              "#f0f921"
             ]
            ],
            "type": "contour"
           }
          ],
          "contourcarpet": [
           {
            "colorbar": {
             "outlinewidth": 0,
             "ticks": ""
            },
            "type": "contourcarpet"
           }
          ],
          "heatmap": [
           {
            "colorbar": {
             "outlinewidth": 0,
             "ticks": ""
            },
            "colorscale": [
             [
              0,
              "#0d0887"
             ],
             [
              0.1111111111111111,
              "#46039f"
             ],
             [
              0.2222222222222222,
              "#7201a8"
             ],
             [
              0.3333333333333333,
              "#9c179e"
             ],
             [
              0.4444444444444444,
              "#bd3786"
             ],
             [
              0.5555555555555556,
              "#d8576b"
             ],
             [
              0.6666666666666666,
              "#ed7953"
             ],
             [
              0.7777777777777778,
              "#fb9f3a"
             ],
             [
              0.8888888888888888,
              "#fdca26"
             ],
             [
              1,
              "#f0f921"
             ]
            ],
            "type": "heatmap"
           }
          ],
          "heatmapgl": [
           {
            "colorbar": {
             "outlinewidth": 0,
             "ticks": ""
            },
            "colorscale": [
             [
              0,
              "#0d0887"
             ],
             [
              0.1111111111111111,
              "#46039f"
             ],
             [
              0.2222222222222222,
              "#7201a8"
             ],
             [
              0.3333333333333333,
              "#9c179e"
             ],
             [
              0.4444444444444444,
              "#bd3786"
             ],
             [
              0.5555555555555556,
              "#d8576b"
             ],
             [
              0.6666666666666666,
              "#ed7953"
             ],
             [
              0.7777777777777778,
              "#fb9f3a"
             ],
             [
              0.8888888888888888,
              "#fdca26"
             ],
             [
              1,
              "#f0f921"
             ]
            ],
            "type": "heatmapgl"
           }
          ],
          "histogram": [
           {
            "marker": {
             "pattern": {
              "fillmode": "overlay",
              "size": 10,
              "solidity": 0.2
             }
            },
            "type": "histogram"
           }
          ],
          "histogram2d": [
           {
            "colorbar": {
             "outlinewidth": 0,
             "ticks": ""
            },
            "colorscale": [
             [
              0,
              "#0d0887"
             ],
             [
              0.1111111111111111,
              "#46039f"
             ],
             [
              0.2222222222222222,
              "#7201a8"
             ],
             [
              0.3333333333333333,
              "#9c179e"
             ],
             [
              0.4444444444444444,
              "#bd3786"
             ],
             [
              0.5555555555555556,
              "#d8576b"
             ],
             [
              0.6666666666666666,
              "#ed7953"
             ],
             [
              0.7777777777777778,
              "#fb9f3a"
             ],
             [
              0.8888888888888888,
              "#fdca26"
             ],
             [
              1,
              "#f0f921"
             ]
            ],
            "type": "histogram2d"
           }
          ],
          "histogram2dcontour": [
           {
            "colorbar": {
             "outlinewidth": 0,
             "ticks": ""
            },
            "colorscale": [
             [
              0,
              "#0d0887"
             ],
             [
              0.1111111111111111,
              "#46039f"
             ],
             [
              0.2222222222222222,
              "#7201a8"
             ],
             [
              0.3333333333333333,
              "#9c179e"
             ],
             [
              0.4444444444444444,
              "#bd3786"
             ],
             [
              0.5555555555555556,
              "#d8576b"
             ],
             [
              0.6666666666666666,
              "#ed7953"
             ],
             [
              0.7777777777777778,
              "#fb9f3a"
             ],
             [
              0.8888888888888888,
              "#fdca26"
             ],
             [
              1,
              "#f0f921"
             ]
            ],
            "type": "histogram2dcontour"
           }
          ],
          "mesh3d": [
           {
            "colorbar": {
             "outlinewidth": 0,
             "ticks": ""
            },
            "type": "mesh3d"
           }
          ],
          "parcoords": [
           {
            "line": {
             "colorbar": {
              "outlinewidth": 0,
              "ticks": ""
             }
            },
            "type": "parcoords"
           }
          ],
          "pie": [
           {
            "automargin": true,
            "type": "pie"
           }
          ],
          "scatter": [
           {
            "fillpattern": {
             "fillmode": "overlay",
             "size": 10,
             "solidity": 0.2
            },
            "type": "scatter"
           }
          ],
          "scatter3d": [
           {
            "line": {
             "colorbar": {
              "outlinewidth": 0,
              "ticks": ""
             }
            },
            "marker": {
             "colorbar": {
              "outlinewidth": 0,
              "ticks": ""
             }
            },
            "type": "scatter3d"
           }
          ],
          "scattercarpet": [
           {
            "marker": {
             "colorbar": {
              "outlinewidth": 0,
              "ticks": ""
             }
            },
            "type": "scattercarpet"
           }
          ],
          "scattergeo": [
           {
            "marker": {
             "colorbar": {
              "outlinewidth": 0,
              "ticks": ""
             }
            },
            "type": "scattergeo"
           }
          ],
          "scattergl": [
           {
            "marker": {
             "colorbar": {
              "outlinewidth": 0,
              "ticks": ""
             }
            },
            "type": "scattergl"
           }
          ],
          "scattermapbox": [
           {
            "marker": {
             "colorbar": {
              "outlinewidth": 0,
              "ticks": ""
             }
            },
            "type": "scattermapbox"
           }
          ],
          "scatterpolar": [
           {
            "marker": {
             "colorbar": {
              "outlinewidth": 0,
              "ticks": ""
             }
            },
            "type": "scatterpolar"
           }
          ],
          "scatterpolargl": [
           {
            "marker": {
             "colorbar": {
              "outlinewidth": 0,
              "ticks": ""
             }
            },
            "type": "scatterpolargl"
           }
          ],
          "scatterternary": [
           {
            "marker": {
             "colorbar": {
              "outlinewidth": 0,
              "ticks": ""
             }
            },
            "type": "scatterternary"
           }
          ],
          "surface": [
           {
            "colorbar": {
             "outlinewidth": 0,
             "ticks": ""
            },
            "colorscale": [
             [
              0,
              "#0d0887"
             ],
             [
              0.1111111111111111,
              "#46039f"
             ],
             [
              0.2222222222222222,
              "#7201a8"
             ],
             [
              0.3333333333333333,
              "#9c179e"
             ],
             [
              0.4444444444444444,
              "#bd3786"
             ],
             [
              0.5555555555555556,
              "#d8576b"
             ],
             [
              0.6666666666666666,
              "#ed7953"
             ],
             [
              0.7777777777777778,
              "#fb9f3a"
             ],
             [
              0.8888888888888888,
              "#fdca26"
             ],
             [
              1,
              "#f0f921"
             ]
            ],
            "type": "surface"
           }
          ],
          "table": [
           {
            "cells": {
             "fill": {
              "color": "#EBF0F8"
             },
             "line": {
              "color": "white"
             }
            },
            "header": {
             "fill": {
              "color": "#C8D4E3"
             },
             "line": {
              "color": "white"
             }
            },
            "type": "table"
           }
          ]
         },
         "layout": {
          "annotationdefaults": {
           "arrowcolor": "#2a3f5f",
           "arrowhead": 0,
           "arrowwidth": 1
          },
          "autotypenumbers": "strict",
          "coloraxis": {
           "colorbar": {
            "outlinewidth": 0,
            "ticks": ""
           }
          },
          "colorscale": {
           "diverging": [
            [
             0,
             "#8e0152"
            ],
            [
             0.1,
             "#c51b7d"
            ],
            [
             0.2,
             "#de77ae"
            ],
            [
             0.3,
             "#f1b6da"
            ],
            [
             0.4,
             "#fde0ef"
            ],
            [
             0.5,
             "#f7f7f7"
            ],
            [
             0.6,
             "#e6f5d0"
            ],
            [
             0.7,
             "#b8e186"
            ],
            [
             0.8,
             "#7fbc41"
            ],
            [
             0.9,
             "#4d9221"
            ],
            [
             1,
             "#276419"
            ]
           ],
           "sequential": [
            [
             0,
             "#0d0887"
            ],
            [
             0.1111111111111111,
             "#46039f"
            ],
            [
             0.2222222222222222,
             "#7201a8"
            ],
            [
             0.3333333333333333,
             "#9c179e"
            ],
            [
             0.4444444444444444,
             "#bd3786"
            ],
            [
             0.5555555555555556,
             "#d8576b"
            ],
            [
             0.6666666666666666,
             "#ed7953"
            ],
            [
             0.7777777777777778,
             "#fb9f3a"
            ],
            [
             0.8888888888888888,
             "#fdca26"
            ],
            [
             1,
             "#f0f921"
            ]
           ],
           "sequentialminus": [
            [
             0,
             "#0d0887"
            ],
            [
             0.1111111111111111,
             "#46039f"
            ],
            [
             0.2222222222222222,
             "#7201a8"
            ],
            [
             0.3333333333333333,
             "#9c179e"
            ],
            [
             0.4444444444444444,
             "#bd3786"
            ],
            [
             0.5555555555555556,
             "#d8576b"
            ],
            [
             0.6666666666666666,
             "#ed7953"
            ],
            [
             0.7777777777777778,
             "#fb9f3a"
            ],
            [
             0.8888888888888888,
             "#fdca26"
            ],
            [
             1,
             "#f0f921"
            ]
           ]
          },
          "colorway": [
           "#636efa",
           "#EF553B",
           "#00cc96",
           "#ab63fa",
           "#FFA15A",
           "#19d3f3",
           "#FF6692",
           "#B6E880",
           "#FF97FF",
           "#FECB52"
          ],
          "font": {
           "color": "#2a3f5f"
          },
          "geo": {
           "bgcolor": "white",
           "lakecolor": "white",
           "landcolor": "#E5ECF6",
           "showlakes": true,
           "showland": true,
           "subunitcolor": "white"
          },
          "hoverlabel": {
           "align": "left"
          },
          "hovermode": "closest",
          "mapbox": {
           "style": "light"
          },
          "paper_bgcolor": "white",
          "plot_bgcolor": "#E5ECF6",
          "polar": {
           "angularaxis": {
            "gridcolor": "white",
            "linecolor": "white",
            "ticks": ""
           },
           "bgcolor": "#E5ECF6",
           "radialaxis": {
            "gridcolor": "white",
            "linecolor": "white",
            "ticks": ""
           }
          },
          "scene": {
           "xaxis": {
            "backgroundcolor": "#E5ECF6",
            "gridcolor": "white",
            "gridwidth": 2,
            "linecolor": "white",
            "showbackground": true,
            "ticks": "",
            "zerolinecolor": "white"
           },
           "yaxis": {
            "backgroundcolor": "#E5ECF6",
            "gridcolor": "white",
            "gridwidth": 2,
            "linecolor": "white",
            "showbackground": true,
            "ticks": "",
            "zerolinecolor": "white"
           },
           "zaxis": {
            "backgroundcolor": "#E5ECF6",
            "gridcolor": "white",
            "gridwidth": 2,
            "linecolor": "white",
            "showbackground": true,
            "ticks": "",
            "zerolinecolor": "white"
           }
          },
          "shapedefaults": {
           "line": {
            "color": "#2a3f5f"
           }
          },
          "ternary": {
           "aaxis": {
            "gridcolor": "white",
            "linecolor": "white",
            "ticks": ""
           },
           "baxis": {
            "gridcolor": "white",
            "linecolor": "white",
            "ticks": ""
           },
           "bgcolor": "#E5ECF6",
           "caxis": {
            "gridcolor": "white",
            "linecolor": "white",
            "ticks": ""
           }
          },
          "title": {
           "x": 0.05
          },
          "xaxis": {
           "automargin": true,
           "gridcolor": "white",
           "linecolor": "white",
           "ticks": "",
           "title": {
            "standoff": 15
           },
           "zerolinecolor": "white",
           "zerolinewidth": 2
          },
          "yaxis": {
           "automargin": true,
           "gridcolor": "white",
           "linecolor": "white",
           "ticks": "",
           "title": {
            "standoff": 15
           },
           "zerolinecolor": "white",
           "zerolinewidth": 2
          }
         }
        },
        "title": {
         "text": "Metric's relative error with binary64 - (Worst subject)"
        },
        "xaxis": {
         "ticks": "outside",
         "tickvals": [
          7,
          8,
          9,
          10,
          11,
          12,
          13,
          14,
          15,
          16,
          17,
          18,
          19,
          20,
          21,
          22,
          23
         ],
         "title": {
          "text": "Precision"
         }
        },
        "yaxis": {
         "ticks": "outside",
         "tickvals": [
          6,
          7,
          8
         ],
         "title": {
          "text": "Range"
         }
        }
       }
      },
      "text/html": [
       "<div>                            <div id=\"bd730552-5c94-4bba-a11a-a591e28fab4b\" class=\"plotly-graph-div\" style=\"height:525px; width:100%;\"></div>            <script type=\"text/javascript\">                require([\"plotly\"], function(Plotly) {                    window.PLOTLYENV=window.PLOTLYENV || {};                                    if (document.getElementById(\"bd730552-5c94-4bba-a11a-a591e28fab4b\")) {                    Plotly.newPlot(                        \"bd730552-5c94-4bba-a11a-a591e28fab4b\",                        [{\"colorscale\":[[0,\"grey\"],[1,\"grey\"]],\"showscale\":false,\"x\":[7,8,9,10,11,12,13,14,15,16,17,18,19,20,21,22,23],\"y\":[6,7,8],\"z\":[[1.0,1.0,1.0,1.0,1.0,1.0,1.0,1.0,1.0,1.0,1.0,1.0,1.0,1.0,1.0,1.0,1.0],[1.0,1.0,1.0,1.0,1.0,null,null,null,null,null,null,null,null,null,null,null,null],[1.0,1.0,1.0,1.0,1.0,null,null,null,null,null,null,null,null,null,null,null,null]],\"type\":\"heatmap\"},{\"colorbar\":{\"title\":{\"text\":\"Metric\"}},\"colorscale\":[[0,\"green\"],[0.1296846893053236,\"white\"],[1,\"red\"]],\"text\":[[\"\\u26a0 Err: 20\\u002f20\",\"\\u26a0 Err: 20\\u002f20\",\"\\u26a0 Err: 20\\u002f20\",\"\\u26a0 Err: 20\\u002f20\",\"\\u26a0 Err: 20\\u002f20\",\"\\u26a0 Err: 20\\u002f20\",\"\\u26a0 Err: 20\\u002f20\",\"\\u26a0 Err: 20\\u002f20\",\"\\u26a0 Err: 20\\u002f20\",\"\\u26a0 Err: 20\\u002f20\",\"\\u26a0 Err: 20\\u002f20\",\"\\u26a0 Err: 20\\u002f20\",\"\\u26a0 Err: 20\\u002f20\",\"\\u26a0 Err: 20\\u002f20\",\"\\u26a0 Err: 20\\u002f20\",\"\\u26a0 Err: 20\\u002f20\",\"\\u26a0 Err: 20\\u002f20\"],[\"\\u26a0 Err: 20\\u002f20\",\"\\u26a0 Err: 20\\u002f20\",\"\\u26a0 Err: 20\\u002f20\",\"\\u26a0 Err: 20\\u002f20\",\"\\u26a0 Err: 20\\u002f20\",\"0.999\",\"0.998\",\"0.996\",\"0.991\",\"0.982\",\"0.965\",\"0.929\",\"0.859\",\"0.718\",\"0.435\",\"-0.130\",\"-0.149\"],[\"\\u26a0 Err: 20\\u002f20\",\"\\u26a0 Err: 20\\u002f20\",\"\\u26a0 Err: 20\\u002f20\",\"\\u26a0 Err: 20\\u002f20\",\"\\u26a0 Err: 20\\u002f20\",\"0.999\",\"0.998\",\"0.996\",\"0.991\",\"0.982\",\"0.965\",\"0.929\",\"0.859\",\"0.718\",\"0.435\",\"-0.019\",\"-0.010\"]],\"texttemplate\":\"%{text}\",\"x\":[7,8,9,10,11,12,13,14,15,16,17,18,19,20,21,22,23],\"y\":[6,7,8],\"z\":[[null,null,null,null,null,null,null,null,null,null,null,null,null,null,null,null,null],[null,null,null,null,null,0.9988967071844423,0.997793414368885,0.9955866917848379,0.9911733835696761,0.9823469040922794,0.9646938081845704,0.9293876163691409,0.8587752327383276,0.7175503285235969,0.43510065704719364,-0.12979854895266932,-0.14884445617293168],[null,null,null,null,null,0.9988967071844423,0.997793414368885,0.9955866917848379,0.9911733835696761,0.9823452606571077,0.9646879192085199,0.929384877310502,0.8587708502444825,0.7175492329001644,0.4351001092355348,-0.018926249023783585,-0.01046125680887431]],\"zmax\":0.9988967071844423,\"zmin\":-0.14884445617293168,\"type\":\"heatmap\"}],                        {\"template\":{\"data\":{\"histogram2dcontour\":[{\"type\":\"histogram2dcontour\",\"colorbar\":{\"outlinewidth\":0,\"ticks\":\"\"},\"colorscale\":[[0.0,\"#0d0887\"],[0.1111111111111111,\"#46039f\"],[0.2222222222222222,\"#7201a8\"],[0.3333333333333333,\"#9c179e\"],[0.4444444444444444,\"#bd3786\"],[0.5555555555555556,\"#d8576b\"],[0.6666666666666666,\"#ed7953\"],[0.7777777777777778,\"#fb9f3a\"],[0.8888888888888888,\"#fdca26\"],[1.0,\"#f0f921\"]]}],\"choropleth\":[{\"type\":\"choropleth\",\"colorbar\":{\"outlinewidth\":0,\"ticks\":\"\"}}],\"histogram2d\":[{\"type\":\"histogram2d\",\"colorbar\":{\"outlinewidth\":0,\"ticks\":\"\"},\"colorscale\":[[0.0,\"#0d0887\"],[0.1111111111111111,\"#46039f\"],[0.2222222222222222,\"#7201a8\"],[0.3333333333333333,\"#9c179e\"],[0.4444444444444444,\"#bd3786\"],[0.5555555555555556,\"#d8576b\"],[0.6666666666666666,\"#ed7953\"],[0.7777777777777778,\"#fb9f3a\"],[0.8888888888888888,\"#fdca26\"],[1.0,\"#f0f921\"]]}],\"heatmap\":[{\"type\":\"heatmap\",\"colorbar\":{\"outlinewidth\":0,\"ticks\":\"\"},\"colorscale\":[[0.0,\"#0d0887\"],[0.1111111111111111,\"#46039f\"],[0.2222222222222222,\"#7201a8\"],[0.3333333333333333,\"#9c179e\"],[0.4444444444444444,\"#bd3786\"],[0.5555555555555556,\"#d8576b\"],[0.6666666666666666,\"#ed7953\"],[0.7777777777777778,\"#fb9f3a\"],[0.8888888888888888,\"#fdca26\"],[1.0,\"#f0f921\"]]}],\"heatmapgl\":[{\"type\":\"heatmapgl\",\"colorbar\":{\"outlinewidth\":0,\"ticks\":\"\"},\"colorscale\":[[0.0,\"#0d0887\"],[0.1111111111111111,\"#46039f\"],[0.2222222222222222,\"#7201a8\"],[0.3333333333333333,\"#9c179e\"],[0.4444444444444444,\"#bd3786\"],[0.5555555555555556,\"#d8576b\"],[0.6666666666666666,\"#ed7953\"],[0.7777777777777778,\"#fb9f3a\"],[0.8888888888888888,\"#fdca26\"],[1.0,\"#f0f921\"]]}],\"contourcarpet\":[{\"type\":\"contourcarpet\",\"colorbar\":{\"outlinewidth\":0,\"ticks\":\"\"}}],\"contour\":[{\"type\":\"contour\",\"colorbar\":{\"outlinewidth\":0,\"ticks\":\"\"},\"colorscale\":[[0.0,\"#0d0887\"],[0.1111111111111111,\"#46039f\"],[0.2222222222222222,\"#7201a8\"],[0.3333333333333333,\"#9c179e\"],[0.4444444444444444,\"#bd3786\"],[0.5555555555555556,\"#d8576b\"],[0.6666666666666666,\"#ed7953\"],[0.7777777777777778,\"#fb9f3a\"],[0.8888888888888888,\"#fdca26\"],[1.0,\"#f0f921\"]]}],\"surface\":[{\"type\":\"surface\",\"colorbar\":{\"outlinewidth\":0,\"ticks\":\"\"},\"colorscale\":[[0.0,\"#0d0887\"],[0.1111111111111111,\"#46039f\"],[0.2222222222222222,\"#7201a8\"],[0.3333333333333333,\"#9c179e\"],[0.4444444444444444,\"#bd3786\"],[0.5555555555555556,\"#d8576b\"],[0.6666666666666666,\"#ed7953\"],[0.7777777777777778,\"#fb9f3a\"],[0.8888888888888888,\"#fdca26\"],[1.0,\"#f0f921\"]]}],\"mesh3d\":[{\"type\":\"mesh3d\",\"colorbar\":{\"outlinewidth\":0,\"ticks\":\"\"}}],\"scatter\":[{\"fillpattern\":{\"fillmode\":\"overlay\",\"size\":10,\"solidity\":0.2},\"type\":\"scatter\"}],\"parcoords\":[{\"type\":\"parcoords\",\"line\":{\"colorbar\":{\"outlinewidth\":0,\"ticks\":\"\"}}}],\"scatterpolargl\":[{\"type\":\"scatterpolargl\",\"marker\":{\"colorbar\":{\"outlinewidth\":0,\"ticks\":\"\"}}}],\"bar\":[{\"error_x\":{\"color\":\"#2a3f5f\"},\"error_y\":{\"color\":\"#2a3f5f\"},\"marker\":{\"line\":{\"color\":\"#E5ECF6\",\"width\":0.5},\"pattern\":{\"fillmode\":\"overlay\",\"size\":10,\"solidity\":0.2}},\"type\":\"bar\"}],\"scattergeo\":[{\"type\":\"scattergeo\",\"marker\":{\"colorbar\":{\"outlinewidth\":0,\"ticks\":\"\"}}}],\"scatterpolar\":[{\"type\":\"scatterpolar\",\"marker\":{\"colorbar\":{\"outlinewidth\":0,\"ticks\":\"\"}}}],\"histogram\":[{\"marker\":{\"pattern\":{\"fillmode\":\"overlay\",\"size\":10,\"solidity\":0.2}},\"type\":\"histogram\"}],\"scattergl\":[{\"type\":\"scattergl\",\"marker\":{\"colorbar\":{\"outlinewidth\":0,\"ticks\":\"\"}}}],\"scatter3d\":[{\"type\":\"scatter3d\",\"line\":{\"colorbar\":{\"outlinewidth\":0,\"ticks\":\"\"}},\"marker\":{\"colorbar\":{\"outlinewidth\":0,\"ticks\":\"\"}}}],\"scattermapbox\":[{\"type\":\"scattermapbox\",\"marker\":{\"colorbar\":{\"outlinewidth\":0,\"ticks\":\"\"}}}],\"scatterternary\":[{\"type\":\"scatterternary\",\"marker\":{\"colorbar\":{\"outlinewidth\":0,\"ticks\":\"\"}}}],\"scattercarpet\":[{\"type\":\"scattercarpet\",\"marker\":{\"colorbar\":{\"outlinewidth\":0,\"ticks\":\"\"}}}],\"carpet\":[{\"aaxis\":{\"endlinecolor\":\"#2a3f5f\",\"gridcolor\":\"white\",\"linecolor\":\"white\",\"minorgridcolor\":\"white\",\"startlinecolor\":\"#2a3f5f\"},\"baxis\":{\"endlinecolor\":\"#2a3f5f\",\"gridcolor\":\"white\",\"linecolor\":\"white\",\"minorgridcolor\":\"white\",\"startlinecolor\":\"#2a3f5f\"},\"type\":\"carpet\"}],\"table\":[{\"cells\":{\"fill\":{\"color\":\"#EBF0F8\"},\"line\":{\"color\":\"white\"}},\"header\":{\"fill\":{\"color\":\"#C8D4E3\"},\"line\":{\"color\":\"white\"}},\"type\":\"table\"}],\"barpolar\":[{\"marker\":{\"line\":{\"color\":\"#E5ECF6\",\"width\":0.5},\"pattern\":{\"fillmode\":\"overlay\",\"size\":10,\"solidity\":0.2}},\"type\":\"barpolar\"}],\"pie\":[{\"automargin\":true,\"type\":\"pie\"}]},\"layout\":{\"autotypenumbers\":\"strict\",\"colorway\":[\"#636efa\",\"#EF553B\",\"#00cc96\",\"#ab63fa\",\"#FFA15A\",\"#19d3f3\",\"#FF6692\",\"#B6E880\",\"#FF97FF\",\"#FECB52\"],\"font\":{\"color\":\"#2a3f5f\"},\"hovermode\":\"closest\",\"hoverlabel\":{\"align\":\"left\"},\"paper_bgcolor\":\"white\",\"plot_bgcolor\":\"#E5ECF6\",\"polar\":{\"bgcolor\":\"#E5ECF6\",\"angularaxis\":{\"gridcolor\":\"white\",\"linecolor\":\"white\",\"ticks\":\"\"},\"radialaxis\":{\"gridcolor\":\"white\",\"linecolor\":\"white\",\"ticks\":\"\"}},\"ternary\":{\"bgcolor\":\"#E5ECF6\",\"aaxis\":{\"gridcolor\":\"white\",\"linecolor\":\"white\",\"ticks\":\"\"},\"baxis\":{\"gridcolor\":\"white\",\"linecolor\":\"white\",\"ticks\":\"\"},\"caxis\":{\"gridcolor\":\"white\",\"linecolor\":\"white\",\"ticks\":\"\"}},\"coloraxis\":{\"colorbar\":{\"outlinewidth\":0,\"ticks\":\"\"}},\"colorscale\":{\"sequential\":[[0.0,\"#0d0887\"],[0.1111111111111111,\"#46039f\"],[0.2222222222222222,\"#7201a8\"],[0.3333333333333333,\"#9c179e\"],[0.4444444444444444,\"#bd3786\"],[0.5555555555555556,\"#d8576b\"],[0.6666666666666666,\"#ed7953\"],[0.7777777777777778,\"#fb9f3a\"],[0.8888888888888888,\"#fdca26\"],[1.0,\"#f0f921\"]],\"sequentialminus\":[[0.0,\"#0d0887\"],[0.1111111111111111,\"#46039f\"],[0.2222222222222222,\"#7201a8\"],[0.3333333333333333,\"#9c179e\"],[0.4444444444444444,\"#bd3786\"],[0.5555555555555556,\"#d8576b\"],[0.6666666666666666,\"#ed7953\"],[0.7777777777777778,\"#fb9f3a\"],[0.8888888888888888,\"#fdca26\"],[1.0,\"#f0f921\"]],\"diverging\":[[0,\"#8e0152\"],[0.1,\"#c51b7d\"],[0.2,\"#de77ae\"],[0.3,\"#f1b6da\"],[0.4,\"#fde0ef\"],[0.5,\"#f7f7f7\"],[0.6,\"#e6f5d0\"],[0.7,\"#b8e186\"],[0.8,\"#7fbc41\"],[0.9,\"#4d9221\"],[1,\"#276419\"]]},\"xaxis\":{\"gridcolor\":\"white\",\"linecolor\":\"white\",\"ticks\":\"\",\"title\":{\"standoff\":15},\"zerolinecolor\":\"white\",\"automargin\":true,\"zerolinewidth\":2},\"yaxis\":{\"gridcolor\":\"white\",\"linecolor\":\"white\",\"ticks\":\"\",\"title\":{\"standoff\":15},\"zerolinecolor\":\"white\",\"automargin\":true,\"zerolinewidth\":2},\"scene\":{\"xaxis\":{\"backgroundcolor\":\"#E5ECF6\",\"gridcolor\":\"white\",\"linecolor\":\"white\",\"showbackground\":true,\"ticks\":\"\",\"zerolinecolor\":\"white\",\"gridwidth\":2},\"yaxis\":{\"backgroundcolor\":\"#E5ECF6\",\"gridcolor\":\"white\",\"linecolor\":\"white\",\"showbackground\":true,\"ticks\":\"\",\"zerolinecolor\":\"white\",\"gridwidth\":2},\"zaxis\":{\"backgroundcolor\":\"#E5ECF6\",\"gridcolor\":\"white\",\"linecolor\":\"white\",\"showbackground\":true,\"ticks\":\"\",\"zerolinecolor\":\"white\",\"gridwidth\":2}},\"shapedefaults\":{\"line\":{\"color\":\"#2a3f5f\"}},\"annotationdefaults\":{\"arrowcolor\":\"#2a3f5f\",\"arrowhead\":0,\"arrowwidth\":1},\"geo\":{\"bgcolor\":\"white\",\"landcolor\":\"#E5ECF6\",\"subunitcolor\":\"white\",\"showland\":true,\"showlakes\":true,\"lakecolor\":\"white\"},\"title\":{\"x\":0.05},\"mapbox\":{\"style\":\"light\"}}},\"annotations\":[{\"font\":{\"color\":\"black\"},\"showarrow\":false,\"text\":\"\\u26a0 Err: 1\\u002f20\",\"x\":14,\"xanchor\":\"center\",\"y\":6.6,\"yanchor\":\"bottom\"},{\"font\":{\"color\":\"black\"},\"showarrow\":false,\"text\":\"\\u26a0 Err: 1\\u002f20\",\"x\":15,\"xanchor\":\"center\",\"y\":6.6,\"yanchor\":\"bottom\"},{\"font\":{\"color\":\"black\"},\"showarrow\":false,\"text\":\"\\u26a0 Err: 1\\u002f20\",\"x\":14,\"xanchor\":\"center\",\"y\":7.6,\"yanchor\":\"bottom\"},{\"font\":{\"color\":\"black\"},\"showarrow\":false,\"text\":\"\\u26a0 Err: 1\\u002f20\",\"x\":15,\"xanchor\":\"center\",\"y\":7.6,\"yanchor\":\"bottom\"}],\"xaxis\":{\"title\":{\"text\":\"Precision\"},\"tickvals\":[7,8,9,10,11,12,13,14,15,16,17,18,19,20,21,22,23],\"ticks\":\"outside\"},\"yaxis\":{\"title\":{\"text\":\"Range\"},\"tickvals\":[6,7,8],\"ticks\":\"outside\"},\"title\":{\"text\":\"Metric's relative error with binary64 - (Worst subject)\"}},                        {\"responsive\": true}                    ).then(function(){\n",
       "                            \n",
       "var gd = document.getElementById('bd730552-5c94-4bba-a11a-a591e28fab4b');\n",
       "var x = new MutationObserver(function (mutations, observer) {{\n",
       "        var display = window.getComputedStyle(gd).display;\n",
       "        if (!display || display === 'none') {{\n",
       "            console.log([gd, 'removed!']);\n",
       "            Plotly.purge(gd);\n",
       "            observer.disconnect();\n",
       "        }}\n",
       "}});\n",
       "\n",
       "// Listen for the removal of the full notebook cells\n",
       "var notebookContainer = gd.closest('#notebook-container');\n",
       "if (notebookContainer) {{\n",
       "    x.observe(notebookContainer, {childList: true});\n",
       "}}\n",
       "\n",
       "// Listen for the clearing of the current output cell\n",
       "var outputEl = gd.closest('.output');\n",
       "if (outputEl) {{\n",
       "    x.observe(outputEl, {childList: true});\n",
       "}}\n",
       "\n",
       "                        })                };                });            </script>        </div>"
      ]
     },
     "metadata": {},
     "output_type": "display_data"
    },
    {
     "data": {
      "application/vnd.plotly.v1+json": {
       "config": {
        "plotlyServerURL": "https://plot.ly"
       },
       "data": [
        {
         "colorscale": [
          [
           0,
           "grey"
          ],
          [
           1,
           "grey"
          ]
         ],
         "showscale": false,
         "type": "heatmap",
         "x": [
          7,
          8,
          9,
          10,
          11,
          12,
          13,
          14,
          15,
          16,
          17,
          18,
          19,
          20,
          21,
          22,
          23
         ],
         "y": [
          6,
          7,
          8
         ],
         "z": [
          [
           1,
           1,
           1,
           1,
           1,
           1,
           1,
           1,
           1,
           1,
           1,
           1,
           1,
           1,
           1,
           1,
           1
          ],
          [
           1,
           1,
           1,
           1,
           1,
           null,
           null,
           null,
           null,
           null,
           null,
           null,
           null,
           null,
           null,
           null,
           null
          ],
          [
           1,
           1,
           1,
           1,
           1,
           null,
           null,
           null,
           null,
           null,
           null,
           null,
           null,
           null,
           null,
           null,
           null
          ]
         ]
        },
        {
         "colorbar": {
          "title": {
           "text": "Metric"
          }
         },
         "colorscale": [
          [
           0,
           "green"
          ],
          [
           0.09769479002652484,
           "white"
          ],
          [
           1,
           "red"
          ]
         ],
         "text": [
          [
           "⚠ Err: 20/20",
           "⚠ Err: 20/20",
           "⚠ Err: 20/20",
           "⚠ Err: 20/20",
           "⚠ Err: 20/20",
           "⚠ Err: 20/20",
           "⚠ Err: 20/20",
           "⚠ Err: 20/20",
           "⚠ Err: 20/20",
           "⚠ Err: 20/20",
           "⚠ Err: 20/20",
           "⚠ Err: 20/20",
           "⚠ Err: 20/20",
           "⚠ Err: 20/20",
           "⚠ Err: 20/20",
           "⚠ Err: 20/20",
           "⚠ Err: 20/20"
          ],
          [
           "⚠ Err: 20/20",
           "⚠ Err: 20/20",
           "⚠ Err: 20/20",
           "⚠ Err: 20/20",
           "⚠ Err: 20/20",
           "0.999 ± 0.000",
           "0.998 ± 0.000",
           "0.996 ± 0.000",
           "0.991 ± 0.000",
           "0.983 ± 0.000",
           "0.966 ± 0.001",
           "0.932 ± 0.001",
           "0.864 ± 0.002",
           "0.728 ± 0.005",
           "0.455 ± 0.010",
           "-0.090 ± 0.020",
           "-0.108 ± 0.020"
          ],
          [
           "⚠ Err: 20/20",
           "⚠ Err: 20/20",
           "⚠ Err: 20/20",
           "⚠ Err: 20/20",
           "⚠ Err: 20/20",
           "0.999 ± 0.000",
           "0.998 ± 0.000",
           "0.996 ± 0.000",
           "0.991 ± 0.000",
           "0.983 ± 0.000",
           "0.966 ± 0.001",
           "0.932 ± 0.001",
           "0.864 ± 0.002",
           "0.728 ± 0.005",
           "0.455 ± 0.010",
           "-0.018 ± 0.005",
           "-0.007 ± 0.005"
          ]
         ],
         "texttemplate": "%{text}",
         "type": "heatmap",
         "x": [
          7,
          8,
          9,
          10,
          11,
          12,
          13,
          14,
          15,
          16,
          17,
          18,
          19,
          20,
          21,
          22,
          23
         ],
         "y": [
          6,
          7,
          8
         ],
         "z": [
          [
           null,
           null,
           null,
           null,
           null,
           null,
           null,
           null,
           null,
           null,
           null,
           null,
           null,
           null,
           null,
           null,
           null
          ],
          [
           null,
           null,
           null,
           null,
           null,
           0.9989357811750115,
           0.9978715623500232,
           0.9957429925974111,
           0.9914859851948222,
           0.9829721024922752,
           0.9659442049845616,
           0.931888409969123,
           0.8637768199382904,
           0.7275535077738235,
           0.45510701554764715,
           -0.08978583680205948,
           -0.10815721810444179
          ],
          [
           null,
           null,
           null,
           null,
           null,
           0.998925212964237,
           0.9978666811576716,
           0.9957407259943108,
           0.9914543500902013,
           0.9829412102911596,
           0.9659265164417759,
           0.9318696117642019,
           0.8637668924252495,
           0.7275467771446061,
           0.45510344877653064,
           -0.018031569460859757,
           -0.006961547013170601
          ]
         ],
         "zmax": 0.9989357811750115,
         "zmin": -0.10815721810444179
        }
       ],
       "layout": {
        "annotations": [
         {
          "font": {
           "color": "black"
          },
          "showarrow": false,
          "text": "⚠ Err: 1/20",
          "x": 14,
          "xanchor": "center",
          "y": 6.6,
          "yanchor": "bottom"
         },
         {
          "font": {
           "color": "black"
          },
          "showarrow": false,
          "text": "⚠ Err: 1/20",
          "x": 15,
          "xanchor": "center",
          "y": 6.6,
          "yanchor": "bottom"
         },
         {
          "font": {
           "color": "black"
          },
          "showarrow": false,
          "text": "⚠ Err: 1/20",
          "x": 14,
          "xanchor": "center",
          "y": 7.6,
          "yanchor": "bottom"
         },
         {
          "font": {
           "color": "black"
          },
          "showarrow": false,
          "text": "⚠ Err: 1/20",
          "x": 15,
          "xanchor": "center",
          "y": 7.6,
          "yanchor": "bottom"
         }
        ],
        "template": {
         "data": {
          "bar": [
           {
            "error_x": {
             "color": "#2a3f5f"
            },
            "error_y": {
             "color": "#2a3f5f"
            },
            "marker": {
             "line": {
              "color": "#E5ECF6",
              "width": 0.5
             },
             "pattern": {
              "fillmode": "overlay",
              "size": 10,
              "solidity": 0.2
             }
            },
            "type": "bar"
           }
          ],
          "barpolar": [
           {
            "marker": {
             "line": {
              "color": "#E5ECF6",
              "width": 0.5
             },
             "pattern": {
              "fillmode": "overlay",
              "size": 10,
              "solidity": 0.2
             }
            },
            "type": "barpolar"
           }
          ],
          "carpet": [
           {
            "aaxis": {
             "endlinecolor": "#2a3f5f",
             "gridcolor": "white",
             "linecolor": "white",
             "minorgridcolor": "white",
             "startlinecolor": "#2a3f5f"
            },
            "baxis": {
             "endlinecolor": "#2a3f5f",
             "gridcolor": "white",
             "linecolor": "white",
             "minorgridcolor": "white",
             "startlinecolor": "#2a3f5f"
            },
            "type": "carpet"
           }
          ],
          "choropleth": [
           {
            "colorbar": {
             "outlinewidth": 0,
             "ticks": ""
            },
            "type": "choropleth"
           }
          ],
          "contour": [
           {
            "colorbar": {
             "outlinewidth": 0,
             "ticks": ""
            },
            "colorscale": [
             [
              0,
              "#0d0887"
             ],
             [
              0.1111111111111111,
              "#46039f"
             ],
             [
              0.2222222222222222,
              "#7201a8"
             ],
             [
              0.3333333333333333,
              "#9c179e"
             ],
             [
              0.4444444444444444,
              "#bd3786"
             ],
             [
              0.5555555555555556,
              "#d8576b"
             ],
             [
              0.6666666666666666,
              "#ed7953"
             ],
             [
              0.7777777777777778,
              "#fb9f3a"
             ],
             [
              0.8888888888888888,
              "#fdca26"
             ],
             [
              1,
              "#f0f921"
             ]
            ],
            "type": "contour"
           }
          ],
          "contourcarpet": [
           {
            "colorbar": {
             "outlinewidth": 0,
             "ticks": ""
            },
            "type": "contourcarpet"
           }
          ],
          "heatmap": [
           {
            "colorbar": {
             "outlinewidth": 0,
             "ticks": ""
            },
            "colorscale": [
             [
              0,
              "#0d0887"
             ],
             [
              0.1111111111111111,
              "#46039f"
             ],
             [
              0.2222222222222222,
              "#7201a8"
             ],
             [
              0.3333333333333333,
              "#9c179e"
             ],
             [
              0.4444444444444444,
              "#bd3786"
             ],
             [
              0.5555555555555556,
              "#d8576b"
             ],
             [
              0.6666666666666666,
              "#ed7953"
             ],
             [
              0.7777777777777778,
              "#fb9f3a"
             ],
             [
              0.8888888888888888,
              "#fdca26"
             ],
             [
              1,
              "#f0f921"
             ]
            ],
            "type": "heatmap"
           }
          ],
          "heatmapgl": [
           {
            "colorbar": {
             "outlinewidth": 0,
             "ticks": ""
            },
            "colorscale": [
             [
              0,
              "#0d0887"
             ],
             [
              0.1111111111111111,
              "#46039f"
             ],
             [
              0.2222222222222222,
              "#7201a8"
             ],
             [
              0.3333333333333333,
              "#9c179e"
             ],
             [
              0.4444444444444444,
              "#bd3786"
             ],
             [
              0.5555555555555556,
              "#d8576b"
             ],
             [
              0.6666666666666666,
              "#ed7953"
             ],
             [
              0.7777777777777778,
              "#fb9f3a"
             ],
             [
              0.8888888888888888,
              "#fdca26"
             ],
             [
              1,
              "#f0f921"
             ]
            ],
            "type": "heatmapgl"
           }
          ],
          "histogram": [
           {
            "marker": {
             "pattern": {
              "fillmode": "overlay",
              "size": 10,
              "solidity": 0.2
             }
            },
            "type": "histogram"
           }
          ],
          "histogram2d": [
           {
            "colorbar": {
             "outlinewidth": 0,
             "ticks": ""
            },
            "colorscale": [
             [
              0,
              "#0d0887"
             ],
             [
              0.1111111111111111,
              "#46039f"
             ],
             [
              0.2222222222222222,
              "#7201a8"
             ],
             [
              0.3333333333333333,
              "#9c179e"
             ],
             [
              0.4444444444444444,
              "#bd3786"
             ],
             [
              0.5555555555555556,
              "#d8576b"
             ],
             [
              0.6666666666666666,
              "#ed7953"
             ],
             [
              0.7777777777777778,
              "#fb9f3a"
             ],
             [
              0.8888888888888888,
              "#fdca26"
             ],
             [
              1,
              "#f0f921"
             ]
            ],
            "type": "histogram2d"
           }
          ],
          "histogram2dcontour": [
           {
            "colorbar": {
             "outlinewidth": 0,
             "ticks": ""
            },
            "colorscale": [
             [
              0,
              "#0d0887"
             ],
             [
              0.1111111111111111,
              "#46039f"
             ],
             [
              0.2222222222222222,
              "#7201a8"
             ],
             [
              0.3333333333333333,
              "#9c179e"
             ],
             [
              0.4444444444444444,
              "#bd3786"
             ],
             [
              0.5555555555555556,
              "#d8576b"
             ],
             [
              0.6666666666666666,
              "#ed7953"
             ],
             [
              0.7777777777777778,
              "#fb9f3a"
             ],
             [
              0.8888888888888888,
              "#fdca26"
             ],
             [
              1,
              "#f0f921"
             ]
            ],
            "type": "histogram2dcontour"
           }
          ],
          "mesh3d": [
           {
            "colorbar": {
             "outlinewidth": 0,
             "ticks": ""
            },
            "type": "mesh3d"
           }
          ],
          "parcoords": [
           {
            "line": {
             "colorbar": {
              "outlinewidth": 0,
              "ticks": ""
             }
            },
            "type": "parcoords"
           }
          ],
          "pie": [
           {
            "automargin": true,
            "type": "pie"
           }
          ],
          "scatter": [
           {
            "fillpattern": {
             "fillmode": "overlay",
             "size": 10,
             "solidity": 0.2
            },
            "type": "scatter"
           }
          ],
          "scatter3d": [
           {
            "line": {
             "colorbar": {
              "outlinewidth": 0,
              "ticks": ""
             }
            },
            "marker": {
             "colorbar": {
              "outlinewidth": 0,
              "ticks": ""
             }
            },
            "type": "scatter3d"
           }
          ],
          "scattercarpet": [
           {
            "marker": {
             "colorbar": {
              "outlinewidth": 0,
              "ticks": ""
             }
            },
            "type": "scattercarpet"
           }
          ],
          "scattergeo": [
           {
            "marker": {
             "colorbar": {
              "outlinewidth": 0,
              "ticks": ""
             }
            },
            "type": "scattergeo"
           }
          ],
          "scattergl": [
           {
            "marker": {
             "colorbar": {
              "outlinewidth": 0,
              "ticks": ""
             }
            },
            "type": "scattergl"
           }
          ],
          "scattermapbox": [
           {
            "marker": {
             "colorbar": {
              "outlinewidth": 0,
              "ticks": ""
             }
            },
            "type": "scattermapbox"
           }
          ],
          "scatterpolar": [
           {
            "marker": {
             "colorbar": {
              "outlinewidth": 0,
              "ticks": ""
             }
            },
            "type": "scatterpolar"
           }
          ],
          "scatterpolargl": [
           {
            "marker": {
             "colorbar": {
              "outlinewidth": 0,
              "ticks": ""
             }
            },
            "type": "scatterpolargl"
           }
          ],
          "scatterternary": [
           {
            "marker": {
             "colorbar": {
              "outlinewidth": 0,
              "ticks": ""
             }
            },
            "type": "scatterternary"
           }
          ],
          "surface": [
           {
            "colorbar": {
             "outlinewidth": 0,
             "ticks": ""
            },
            "colorscale": [
             [
              0,
              "#0d0887"
             ],
             [
              0.1111111111111111,
              "#46039f"
             ],
             [
              0.2222222222222222,
              "#7201a8"
             ],
             [
              0.3333333333333333,
              "#9c179e"
             ],
             [
              0.4444444444444444,
              "#bd3786"
             ],
             [
              0.5555555555555556,
              "#d8576b"
             ],
             [
              0.6666666666666666,
              "#ed7953"
             ],
             [
              0.7777777777777778,
              "#fb9f3a"
             ],
             [
              0.8888888888888888,
              "#fdca26"
             ],
             [
              1,
              "#f0f921"
             ]
            ],
            "type": "surface"
           }
          ],
          "table": [
           {
            "cells": {
             "fill": {
              "color": "#EBF0F8"
             },
             "line": {
              "color": "white"
             }
            },
            "header": {
             "fill": {
              "color": "#C8D4E3"
             },
             "line": {
              "color": "white"
             }
            },
            "type": "table"
           }
          ]
         },
         "layout": {
          "annotationdefaults": {
           "arrowcolor": "#2a3f5f",
           "arrowhead": 0,
           "arrowwidth": 1
          },
          "autotypenumbers": "strict",
          "coloraxis": {
           "colorbar": {
            "outlinewidth": 0,
            "ticks": ""
           }
          },
          "colorscale": {
           "diverging": [
            [
             0,
             "#8e0152"
            ],
            [
             0.1,
             "#c51b7d"
            ],
            [
             0.2,
             "#de77ae"
            ],
            [
             0.3,
             "#f1b6da"
            ],
            [
             0.4,
             "#fde0ef"
            ],
            [
             0.5,
             "#f7f7f7"
            ],
            [
             0.6,
             "#e6f5d0"
            ],
            [
             0.7,
             "#b8e186"
            ],
            [
             0.8,
             "#7fbc41"
            ],
            [
             0.9,
             "#4d9221"
            ],
            [
             1,
             "#276419"
            ]
           ],
           "sequential": [
            [
             0,
             "#0d0887"
            ],
            [
             0.1111111111111111,
             "#46039f"
            ],
            [
             0.2222222222222222,
             "#7201a8"
            ],
            [
             0.3333333333333333,
             "#9c179e"
            ],
            [
             0.4444444444444444,
             "#bd3786"
            ],
            [
             0.5555555555555556,
             "#d8576b"
            ],
            [
             0.6666666666666666,
             "#ed7953"
            ],
            [
             0.7777777777777778,
             "#fb9f3a"
            ],
            [
             0.8888888888888888,
             "#fdca26"
            ],
            [
             1,
             "#f0f921"
            ]
           ],
           "sequentialminus": [
            [
             0,
             "#0d0887"
            ],
            [
             0.1111111111111111,
             "#46039f"
            ],
            [
             0.2222222222222222,
             "#7201a8"
            ],
            [
             0.3333333333333333,
             "#9c179e"
            ],
            [
             0.4444444444444444,
             "#bd3786"
            ],
            [
             0.5555555555555556,
             "#d8576b"
            ],
            [
             0.6666666666666666,
             "#ed7953"
            ],
            [
             0.7777777777777778,
             "#fb9f3a"
            ],
            [
             0.8888888888888888,
             "#fdca26"
            ],
            [
             1,
             "#f0f921"
            ]
           ]
          },
          "colorway": [
           "#636efa",
           "#EF553B",
           "#00cc96",
           "#ab63fa",
           "#FFA15A",
           "#19d3f3",
           "#FF6692",
           "#B6E880",
           "#FF97FF",
           "#FECB52"
          ],
          "font": {
           "color": "#2a3f5f"
          },
          "geo": {
           "bgcolor": "white",
           "lakecolor": "white",
           "landcolor": "#E5ECF6",
           "showlakes": true,
           "showland": true,
           "subunitcolor": "white"
          },
          "hoverlabel": {
           "align": "left"
          },
          "hovermode": "closest",
          "mapbox": {
           "style": "light"
          },
          "paper_bgcolor": "white",
          "plot_bgcolor": "#E5ECF6",
          "polar": {
           "angularaxis": {
            "gridcolor": "white",
            "linecolor": "white",
            "ticks": ""
           },
           "bgcolor": "#E5ECF6",
           "radialaxis": {
            "gridcolor": "white",
            "linecolor": "white",
            "ticks": ""
           }
          },
          "scene": {
           "xaxis": {
            "backgroundcolor": "#E5ECF6",
            "gridcolor": "white",
            "gridwidth": 2,
            "linecolor": "white",
            "showbackground": true,
            "ticks": "",
            "zerolinecolor": "white"
           },
           "yaxis": {
            "backgroundcolor": "#E5ECF6",
            "gridcolor": "white",
            "gridwidth": 2,
            "linecolor": "white",
            "showbackground": true,
            "ticks": "",
            "zerolinecolor": "white"
           },
           "zaxis": {
            "backgroundcolor": "#E5ECF6",
            "gridcolor": "white",
            "gridwidth": 2,
            "linecolor": "white",
            "showbackground": true,
            "ticks": "",
            "zerolinecolor": "white"
           }
          },
          "shapedefaults": {
           "line": {
            "color": "#2a3f5f"
           }
          },
          "ternary": {
           "aaxis": {
            "gridcolor": "white",
            "linecolor": "white",
            "ticks": ""
           },
           "baxis": {
            "gridcolor": "white",
            "linecolor": "white",
            "ticks": ""
           },
           "bgcolor": "#E5ECF6",
           "caxis": {
            "gridcolor": "white",
            "linecolor": "white",
            "ticks": ""
           }
          },
          "title": {
           "x": 0.05
          },
          "xaxis": {
           "automargin": true,
           "gridcolor": "white",
           "linecolor": "white",
           "ticks": "",
           "title": {
            "standoff": 15
           },
           "zerolinecolor": "white",
           "zerolinewidth": 2
          },
          "yaxis": {
           "automargin": true,
           "gridcolor": "white",
           "linecolor": "white",
           "ticks": "",
           "title": {
            "standoff": 15
           },
           "zerolinecolor": "white",
           "zerolinewidth": 2
          }
         }
        },
        "title": {
         "text": "Metric's relative error with binary64 - (Mean across subjects)"
        },
        "xaxis": {
         "ticks": "outside",
         "tickvals": [
          7,
          8,
          9,
          10,
          11,
          12,
          13,
          14,
          15,
          16,
          17,
          18,
          19,
          20,
          21,
          22,
          23
         ],
         "title": {
          "text": "Precision"
         }
        },
        "yaxis": {
         "ticks": "outside",
         "tickvals": [
          6,
          7,
          8
         ],
         "title": {
          "text": "Range"
         }
        }
       }
      },
      "text/html": [
       "<div>                            <div id=\"3f14e3a7-31af-4093-9dcb-e9b028e45547\" class=\"plotly-graph-div\" style=\"height:525px; width:100%;\"></div>            <script type=\"text/javascript\">                require([\"plotly\"], function(Plotly) {                    window.PLOTLYENV=window.PLOTLYENV || {};                                    if (document.getElementById(\"3f14e3a7-31af-4093-9dcb-e9b028e45547\")) {                    Plotly.newPlot(                        \"3f14e3a7-31af-4093-9dcb-e9b028e45547\",                        [{\"colorscale\":[[0,\"grey\"],[1,\"grey\"]],\"showscale\":false,\"x\":[7,8,9,10,11,12,13,14,15,16,17,18,19,20,21,22,23],\"y\":[6,7,8],\"z\":[[1.0,1.0,1.0,1.0,1.0,1.0,1.0,1.0,1.0,1.0,1.0,1.0,1.0,1.0,1.0,1.0,1.0],[1.0,1.0,1.0,1.0,1.0,null,null,null,null,null,null,null,null,null,null,null,null],[1.0,1.0,1.0,1.0,1.0,null,null,null,null,null,null,null,null,null,null,null,null]],\"type\":\"heatmap\"},{\"colorbar\":{\"title\":{\"text\":\"Metric\"}},\"colorscale\":[[0,\"green\"],[0.09769479002652484,\"white\"],[1,\"red\"]],\"text\":[[\"\\u26a0 Err: 20\\u002f20\",\"\\u26a0 Err: 20\\u002f20\",\"\\u26a0 Err: 20\\u002f20\",\"\\u26a0 Err: 20\\u002f20\",\"\\u26a0 Err: 20\\u002f20\",\"\\u26a0 Err: 20\\u002f20\",\"\\u26a0 Err: 20\\u002f20\",\"\\u26a0 Err: 20\\u002f20\",\"\\u26a0 Err: 20\\u002f20\",\"\\u26a0 Err: 20\\u002f20\",\"\\u26a0 Err: 20\\u002f20\",\"\\u26a0 Err: 20\\u002f20\",\"\\u26a0 Err: 20\\u002f20\",\"\\u26a0 Err: 20\\u002f20\",\"\\u26a0 Err: 20\\u002f20\",\"\\u26a0 Err: 20\\u002f20\",\"\\u26a0 Err: 20\\u002f20\"],[\"\\u26a0 Err: 20\\u002f20\",\"\\u26a0 Err: 20\\u002f20\",\"\\u26a0 Err: 20\\u002f20\",\"\\u26a0 Err: 20\\u002f20\",\"\\u26a0 Err: 20\\u002f20\",\"0.999 \\u00b1 0.000\",\"0.998 \\u00b1 0.000\",\"0.996 \\u00b1 0.000\",\"0.991 \\u00b1 0.000\",\"0.983 \\u00b1 0.000\",\"0.966 \\u00b1 0.001\",\"0.932 \\u00b1 0.001\",\"0.864 \\u00b1 0.002\",\"0.728 \\u00b1 0.005\",\"0.455 \\u00b1 0.010\",\"-0.090 \\u00b1 0.020\",\"-0.108 \\u00b1 0.020\"],[\"\\u26a0 Err: 20\\u002f20\",\"\\u26a0 Err: 20\\u002f20\",\"\\u26a0 Err: 20\\u002f20\",\"\\u26a0 Err: 20\\u002f20\",\"\\u26a0 Err: 20\\u002f20\",\"0.999 \\u00b1 0.000\",\"0.998 \\u00b1 0.000\",\"0.996 \\u00b1 0.000\",\"0.991 \\u00b1 0.000\",\"0.983 \\u00b1 0.000\",\"0.966 \\u00b1 0.001\",\"0.932 \\u00b1 0.001\",\"0.864 \\u00b1 0.002\",\"0.728 \\u00b1 0.005\",\"0.455 \\u00b1 0.010\",\"-0.018 \\u00b1 0.005\",\"-0.007 \\u00b1 0.005\"]],\"texttemplate\":\"%{text}\",\"x\":[7,8,9,10,11,12,13,14,15,16,17,18,19,20,21,22,23],\"y\":[6,7,8],\"z\":[[null,null,null,null,null,null,null,null,null,null,null,null,null,null,null,null,null],[null,null,null,null,null,0.9989357811750115,0.9978715623500232,0.9957429925974111,0.9914859851948222,0.9829721024922752,0.9659442049845616,0.931888409969123,0.8637768199382904,0.7275535077738235,0.45510701554764715,-0.08978583680205948,-0.10815721810444179],[null,null,null,null,null,0.998925212964237,0.9978666811576716,0.9957407259943108,0.9914543500902013,0.9829412102911596,0.9659265164417759,0.9318696117642019,0.8637668924252495,0.7275467771446061,0.45510344877653064,-0.018031569460859757,-0.006961547013170601]],\"zmax\":0.9989357811750115,\"zmin\":-0.10815721810444179,\"type\":\"heatmap\"}],                        {\"template\":{\"data\":{\"histogram2dcontour\":[{\"type\":\"histogram2dcontour\",\"colorbar\":{\"outlinewidth\":0,\"ticks\":\"\"},\"colorscale\":[[0.0,\"#0d0887\"],[0.1111111111111111,\"#46039f\"],[0.2222222222222222,\"#7201a8\"],[0.3333333333333333,\"#9c179e\"],[0.4444444444444444,\"#bd3786\"],[0.5555555555555556,\"#d8576b\"],[0.6666666666666666,\"#ed7953\"],[0.7777777777777778,\"#fb9f3a\"],[0.8888888888888888,\"#fdca26\"],[1.0,\"#f0f921\"]]}],\"choropleth\":[{\"type\":\"choropleth\",\"colorbar\":{\"outlinewidth\":0,\"ticks\":\"\"}}],\"histogram2d\":[{\"type\":\"histogram2d\",\"colorbar\":{\"outlinewidth\":0,\"ticks\":\"\"},\"colorscale\":[[0.0,\"#0d0887\"],[0.1111111111111111,\"#46039f\"],[0.2222222222222222,\"#7201a8\"],[0.3333333333333333,\"#9c179e\"],[0.4444444444444444,\"#bd3786\"],[0.5555555555555556,\"#d8576b\"],[0.6666666666666666,\"#ed7953\"],[0.7777777777777778,\"#fb9f3a\"],[0.8888888888888888,\"#fdca26\"],[1.0,\"#f0f921\"]]}],\"heatmap\":[{\"type\":\"heatmap\",\"colorbar\":{\"outlinewidth\":0,\"ticks\":\"\"},\"colorscale\":[[0.0,\"#0d0887\"],[0.1111111111111111,\"#46039f\"],[0.2222222222222222,\"#7201a8\"],[0.3333333333333333,\"#9c179e\"],[0.4444444444444444,\"#bd3786\"],[0.5555555555555556,\"#d8576b\"],[0.6666666666666666,\"#ed7953\"],[0.7777777777777778,\"#fb9f3a\"],[0.8888888888888888,\"#fdca26\"],[1.0,\"#f0f921\"]]}],\"heatmapgl\":[{\"type\":\"heatmapgl\",\"colorbar\":{\"outlinewidth\":0,\"ticks\":\"\"},\"colorscale\":[[0.0,\"#0d0887\"],[0.1111111111111111,\"#46039f\"],[0.2222222222222222,\"#7201a8\"],[0.3333333333333333,\"#9c179e\"],[0.4444444444444444,\"#bd3786\"],[0.5555555555555556,\"#d8576b\"],[0.6666666666666666,\"#ed7953\"],[0.7777777777777778,\"#fb9f3a\"],[0.8888888888888888,\"#fdca26\"],[1.0,\"#f0f921\"]]}],\"contourcarpet\":[{\"type\":\"contourcarpet\",\"colorbar\":{\"outlinewidth\":0,\"ticks\":\"\"}}],\"contour\":[{\"type\":\"contour\",\"colorbar\":{\"outlinewidth\":0,\"ticks\":\"\"},\"colorscale\":[[0.0,\"#0d0887\"],[0.1111111111111111,\"#46039f\"],[0.2222222222222222,\"#7201a8\"],[0.3333333333333333,\"#9c179e\"],[0.4444444444444444,\"#bd3786\"],[0.5555555555555556,\"#d8576b\"],[0.6666666666666666,\"#ed7953\"],[0.7777777777777778,\"#fb9f3a\"],[0.8888888888888888,\"#fdca26\"],[1.0,\"#f0f921\"]]}],\"surface\":[{\"type\":\"surface\",\"colorbar\":{\"outlinewidth\":0,\"ticks\":\"\"},\"colorscale\":[[0.0,\"#0d0887\"],[0.1111111111111111,\"#46039f\"],[0.2222222222222222,\"#7201a8\"],[0.3333333333333333,\"#9c179e\"],[0.4444444444444444,\"#bd3786\"],[0.5555555555555556,\"#d8576b\"],[0.6666666666666666,\"#ed7953\"],[0.7777777777777778,\"#fb9f3a\"],[0.8888888888888888,\"#fdca26\"],[1.0,\"#f0f921\"]]}],\"mesh3d\":[{\"type\":\"mesh3d\",\"colorbar\":{\"outlinewidth\":0,\"ticks\":\"\"}}],\"scatter\":[{\"fillpattern\":{\"fillmode\":\"overlay\",\"size\":10,\"solidity\":0.2},\"type\":\"scatter\"}],\"parcoords\":[{\"type\":\"parcoords\",\"line\":{\"colorbar\":{\"outlinewidth\":0,\"ticks\":\"\"}}}],\"scatterpolargl\":[{\"type\":\"scatterpolargl\",\"marker\":{\"colorbar\":{\"outlinewidth\":0,\"ticks\":\"\"}}}],\"bar\":[{\"error_x\":{\"color\":\"#2a3f5f\"},\"error_y\":{\"color\":\"#2a3f5f\"},\"marker\":{\"line\":{\"color\":\"#E5ECF6\",\"width\":0.5},\"pattern\":{\"fillmode\":\"overlay\",\"size\":10,\"solidity\":0.2}},\"type\":\"bar\"}],\"scattergeo\":[{\"type\":\"scattergeo\",\"marker\":{\"colorbar\":{\"outlinewidth\":0,\"ticks\":\"\"}}}],\"scatterpolar\":[{\"type\":\"scatterpolar\",\"marker\":{\"colorbar\":{\"outlinewidth\":0,\"ticks\":\"\"}}}],\"histogram\":[{\"marker\":{\"pattern\":{\"fillmode\":\"overlay\",\"size\":10,\"solidity\":0.2}},\"type\":\"histogram\"}],\"scattergl\":[{\"type\":\"scattergl\",\"marker\":{\"colorbar\":{\"outlinewidth\":0,\"ticks\":\"\"}}}],\"scatter3d\":[{\"type\":\"scatter3d\",\"line\":{\"colorbar\":{\"outlinewidth\":0,\"ticks\":\"\"}},\"marker\":{\"colorbar\":{\"outlinewidth\":0,\"ticks\":\"\"}}}],\"scattermapbox\":[{\"type\":\"scattermapbox\",\"marker\":{\"colorbar\":{\"outlinewidth\":0,\"ticks\":\"\"}}}],\"scatterternary\":[{\"type\":\"scatterternary\",\"marker\":{\"colorbar\":{\"outlinewidth\":0,\"ticks\":\"\"}}}],\"scattercarpet\":[{\"type\":\"scattercarpet\",\"marker\":{\"colorbar\":{\"outlinewidth\":0,\"ticks\":\"\"}}}],\"carpet\":[{\"aaxis\":{\"endlinecolor\":\"#2a3f5f\",\"gridcolor\":\"white\",\"linecolor\":\"white\",\"minorgridcolor\":\"white\",\"startlinecolor\":\"#2a3f5f\"},\"baxis\":{\"endlinecolor\":\"#2a3f5f\",\"gridcolor\":\"white\",\"linecolor\":\"white\",\"minorgridcolor\":\"white\",\"startlinecolor\":\"#2a3f5f\"},\"type\":\"carpet\"}],\"table\":[{\"cells\":{\"fill\":{\"color\":\"#EBF0F8\"},\"line\":{\"color\":\"white\"}},\"header\":{\"fill\":{\"color\":\"#C8D4E3\"},\"line\":{\"color\":\"white\"}},\"type\":\"table\"}],\"barpolar\":[{\"marker\":{\"line\":{\"color\":\"#E5ECF6\",\"width\":0.5},\"pattern\":{\"fillmode\":\"overlay\",\"size\":10,\"solidity\":0.2}},\"type\":\"barpolar\"}],\"pie\":[{\"automargin\":true,\"type\":\"pie\"}]},\"layout\":{\"autotypenumbers\":\"strict\",\"colorway\":[\"#636efa\",\"#EF553B\",\"#00cc96\",\"#ab63fa\",\"#FFA15A\",\"#19d3f3\",\"#FF6692\",\"#B6E880\",\"#FF97FF\",\"#FECB52\"],\"font\":{\"color\":\"#2a3f5f\"},\"hovermode\":\"closest\",\"hoverlabel\":{\"align\":\"left\"},\"paper_bgcolor\":\"white\",\"plot_bgcolor\":\"#E5ECF6\",\"polar\":{\"bgcolor\":\"#E5ECF6\",\"angularaxis\":{\"gridcolor\":\"white\",\"linecolor\":\"white\",\"ticks\":\"\"},\"radialaxis\":{\"gridcolor\":\"white\",\"linecolor\":\"white\",\"ticks\":\"\"}},\"ternary\":{\"bgcolor\":\"#E5ECF6\",\"aaxis\":{\"gridcolor\":\"white\",\"linecolor\":\"white\",\"ticks\":\"\"},\"baxis\":{\"gridcolor\":\"white\",\"linecolor\":\"white\",\"ticks\":\"\"},\"caxis\":{\"gridcolor\":\"white\",\"linecolor\":\"white\",\"ticks\":\"\"}},\"coloraxis\":{\"colorbar\":{\"outlinewidth\":0,\"ticks\":\"\"}},\"colorscale\":{\"sequential\":[[0.0,\"#0d0887\"],[0.1111111111111111,\"#46039f\"],[0.2222222222222222,\"#7201a8\"],[0.3333333333333333,\"#9c179e\"],[0.4444444444444444,\"#bd3786\"],[0.5555555555555556,\"#d8576b\"],[0.6666666666666666,\"#ed7953\"],[0.7777777777777778,\"#fb9f3a\"],[0.8888888888888888,\"#fdca26\"],[1.0,\"#f0f921\"]],\"sequentialminus\":[[0.0,\"#0d0887\"],[0.1111111111111111,\"#46039f\"],[0.2222222222222222,\"#7201a8\"],[0.3333333333333333,\"#9c179e\"],[0.4444444444444444,\"#bd3786\"],[0.5555555555555556,\"#d8576b\"],[0.6666666666666666,\"#ed7953\"],[0.7777777777777778,\"#fb9f3a\"],[0.8888888888888888,\"#fdca26\"],[1.0,\"#f0f921\"]],\"diverging\":[[0,\"#8e0152\"],[0.1,\"#c51b7d\"],[0.2,\"#de77ae\"],[0.3,\"#f1b6da\"],[0.4,\"#fde0ef\"],[0.5,\"#f7f7f7\"],[0.6,\"#e6f5d0\"],[0.7,\"#b8e186\"],[0.8,\"#7fbc41\"],[0.9,\"#4d9221\"],[1,\"#276419\"]]},\"xaxis\":{\"gridcolor\":\"white\",\"linecolor\":\"white\",\"ticks\":\"\",\"title\":{\"standoff\":15},\"zerolinecolor\":\"white\",\"automargin\":true,\"zerolinewidth\":2},\"yaxis\":{\"gridcolor\":\"white\",\"linecolor\":\"white\",\"ticks\":\"\",\"title\":{\"standoff\":15},\"zerolinecolor\":\"white\",\"automargin\":true,\"zerolinewidth\":2},\"scene\":{\"xaxis\":{\"backgroundcolor\":\"#E5ECF6\",\"gridcolor\":\"white\",\"linecolor\":\"white\",\"showbackground\":true,\"ticks\":\"\",\"zerolinecolor\":\"white\",\"gridwidth\":2},\"yaxis\":{\"backgroundcolor\":\"#E5ECF6\",\"gridcolor\":\"white\",\"linecolor\":\"white\",\"showbackground\":true,\"ticks\":\"\",\"zerolinecolor\":\"white\",\"gridwidth\":2},\"zaxis\":{\"backgroundcolor\":\"#E5ECF6\",\"gridcolor\":\"white\",\"linecolor\":\"white\",\"showbackground\":true,\"ticks\":\"\",\"zerolinecolor\":\"white\",\"gridwidth\":2}},\"shapedefaults\":{\"line\":{\"color\":\"#2a3f5f\"}},\"annotationdefaults\":{\"arrowcolor\":\"#2a3f5f\",\"arrowhead\":0,\"arrowwidth\":1},\"geo\":{\"bgcolor\":\"white\",\"landcolor\":\"#E5ECF6\",\"subunitcolor\":\"white\",\"showland\":true,\"showlakes\":true,\"lakecolor\":\"white\"},\"title\":{\"x\":0.05},\"mapbox\":{\"style\":\"light\"}}},\"annotations\":[{\"font\":{\"color\":\"black\"},\"showarrow\":false,\"text\":\"\\u26a0 Err: 1\\u002f20\",\"x\":14,\"xanchor\":\"center\",\"y\":6.6,\"yanchor\":\"bottom\"},{\"font\":{\"color\":\"black\"},\"showarrow\":false,\"text\":\"\\u26a0 Err: 1\\u002f20\",\"x\":15,\"xanchor\":\"center\",\"y\":6.6,\"yanchor\":\"bottom\"},{\"font\":{\"color\":\"black\"},\"showarrow\":false,\"text\":\"\\u26a0 Err: 1\\u002f20\",\"x\":14,\"xanchor\":\"center\",\"y\":7.6,\"yanchor\":\"bottom\"},{\"font\":{\"color\":\"black\"},\"showarrow\":false,\"text\":\"\\u26a0 Err: 1\\u002f20\",\"x\":15,\"xanchor\":\"center\",\"y\":7.6,\"yanchor\":\"bottom\"}],\"xaxis\":{\"title\":{\"text\":\"Precision\"},\"tickvals\":[7,8,9,10,11,12,13,14,15,16,17,18,19,20,21,22,23],\"ticks\":\"outside\"},\"yaxis\":{\"title\":{\"text\":\"Range\"},\"tickvals\":[6,7,8],\"ticks\":\"outside\"},\"title\":{\"text\":\"Metric's relative error with binary64 - (Mean across subjects)\"}},                        {\"responsive\": true}                    ).then(function(){\n",
       "                            \n",
       "var gd = document.getElementById('3f14e3a7-31af-4093-9dcb-e9b028e45547');\n",
       "var x = new MutationObserver(function (mutations, observer) {{\n",
       "        var display = window.getComputedStyle(gd).display;\n",
       "        if (!display || display === 'none') {{\n",
       "            console.log([gd, 'removed!']);\n",
       "            Plotly.purge(gd);\n",
       "            observer.disconnect();\n",
       "        }}\n",
       "}});\n",
       "\n",
       "// Listen for the removal of the full notebook cells\n",
       "var notebookContainer = gd.closest('#notebook-container');\n",
       "if (notebookContainer) {{\n",
       "    x.observe(notebookContainer, {childList: true});\n",
       "}}\n",
       "\n",
       "// Listen for the clearing of the current output cell\n",
       "var outputEl = gd.closest('.output');\n",
       "if (outputEl) {{\n",
       "    x.observe(outputEl, {childList: true});\n",
       "}}\n",
       "\n",
       "                        })                };                });            </script>        </div>"
      ]
     },
     "metadata": {},
     "output_type": "display_data"
    }
   ],
   "source": [
    "plot_metric_rel(n_failed, worst_metrics, n_subjects=n_subjects, metric_name=\"Worst subject\")\n",
    "plot_metric_rel(n_failed, mean_metrics, n_subjects=n_subjects, exp_metrics=exp_metrics, metric_name=\"Mean across subjects\")"
   ]
  },
  {
   "cell_type": "code",
   "execution_count": null,
   "metadata": {},
   "outputs": [],
   "source": []
  }
 ],
 "metadata": {
  "kernelspec": {
   "display_name": "fast-interpolate",
   "language": "python",
   "name": "python3"
  },
  "language_info": {
   "codemirror_mode": {
    "name": "ipython",
    "version": 3
   },
   "file_extension": ".py",
   "mimetype": "text/x-python",
   "name": "python",
   "nbconvert_exporter": "python",
   "pygments_lexer": "ipython3",
   "version": "3.12.0"
  }
 },
 "nbformat": 4,
 "nbformat_minor": 2
}
